{
 "cells": [
  {
   "cell_type": "markdown",
   "id": "1aee96a2",
   "metadata": {},
   "source": [
    "# Статистический анализ данных"
   ]
  },
  {
   "cell_type": "markdown",
   "id": "fd2ec657",
   "metadata": {},
   "source": [
    "**Цели исследования:** \n",
    "- проанализировать, тратят ли пользователи с подпиской больше времени на поездки? Если да, то пользователи с подпиской могут быть «выгоднее» для компании\n",
    "- проанализировать, можно ли сказать, что среднее расстояние, которое проезжают пользователи с подпиской за одну поездку, не превышает 3130 метров\n",
    "- проверить гипотезу о том, будет ли помесячная выручка от пользователей с подпиской по месяцам выше, чем выручка от пользователей без подписки\n",
    "- ответить на вопрос, какой тест понадобится для проверки гипотезы, что количество обращений в техподдержку снизилось с момента обновления сервера\n",
    "- выяснить, какое количество промокодов нужно разослать для того, чтобы определенное количество клиентов продлило подписку\n",
    "- построить примерный график распределения вероятности открытия уведомлений и оцените вероятность того, что уведомление о откроют не более определенного количества пользователей"
   ]
  },
  {
   "cell_type": "code",
   "execution_count": 1,
   "id": "72576667",
   "metadata": {},
   "outputs": [],
   "source": [
    "import pandas as pd\n",
    "import matplotlib.pyplot as plt\n",
    "import numpy as np\n",
    "from scipy import stats as st\n",
    "from scipy.stats import binom, norm\n",
    "from math import sqrt\n",
    "from math import factorial"
   ]
  },
  {
   "cell_type": "markdown",
   "id": "c42cbe00",
   "metadata": {},
   "source": [
    "# Шаг 1. Загрузка данных"
   ]
  },
  {
   "cell_type": "code",
   "execution_count": 2,
   "id": "eff9f206",
   "metadata": {},
   "outputs": [],
   "source": [
    "#пользователи\n",
    "users_data= pd.read_csv('users_go.csv')\n",
    "#поездки\n",
    "rides_data= pd.read_csv('rides_go.csv')\n",
    "#Подписки \n",
    "subscriptions_data= pd.read_csv('subscriptions_go.csv')"
   ]
  },
  {
   "cell_type": "code",
   "execution_count": 3,
   "id": "061aa59f",
   "metadata": {},
   "outputs": [
    {
     "data": {
      "text/html": [
       "<div>\n",
       "<style scoped>\n",
       "    .dataframe tbody tr th:only-of-type {\n",
       "        vertical-align: middle;\n",
       "    }\n",
       "\n",
       "    .dataframe tbody tr th {\n",
       "        vertical-align: top;\n",
       "    }\n",
       "\n",
       "    .dataframe thead th {\n",
       "        text-align: right;\n",
       "    }\n",
       "</style>\n",
       "<table border=\"1\" class=\"dataframe\">\n",
       "  <thead>\n",
       "    <tr style=\"text-align: right;\">\n",
       "      <th></th>\n",
       "      <th>user_id</th>\n",
       "      <th>name</th>\n",
       "      <th>age</th>\n",
       "      <th>city</th>\n",
       "      <th>subscription_type</th>\n",
       "    </tr>\n",
       "  </thead>\n",
       "  <tbody>\n",
       "    <tr>\n",
       "      <th>0</th>\n",
       "      <td>1</td>\n",
       "      <td>Кира</td>\n",
       "      <td>22</td>\n",
       "      <td>Тюмень</td>\n",
       "      <td>ultra</td>\n",
       "    </tr>\n",
       "    <tr>\n",
       "      <th>1</th>\n",
       "      <td>2</td>\n",
       "      <td>Станислав</td>\n",
       "      <td>31</td>\n",
       "      <td>Омск</td>\n",
       "      <td>ultra</td>\n",
       "    </tr>\n",
       "    <tr>\n",
       "      <th>2</th>\n",
       "      <td>3</td>\n",
       "      <td>Алексей</td>\n",
       "      <td>20</td>\n",
       "      <td>Москва</td>\n",
       "      <td>ultra</td>\n",
       "    </tr>\n",
       "    <tr>\n",
       "      <th>3</th>\n",
       "      <td>4</td>\n",
       "      <td>Константин</td>\n",
       "      <td>26</td>\n",
       "      <td>Ростов-на-Дону</td>\n",
       "      <td>ultra</td>\n",
       "    </tr>\n",
       "    <tr>\n",
       "      <th>4</th>\n",
       "      <td>5</td>\n",
       "      <td>Адель</td>\n",
       "      <td>28</td>\n",
       "      <td>Омск</td>\n",
       "      <td>ultra</td>\n",
       "    </tr>\n",
       "    <tr>\n",
       "      <th>5</th>\n",
       "      <td>6</td>\n",
       "      <td>Регина</td>\n",
       "      <td>25</td>\n",
       "      <td>Краснодар</td>\n",
       "      <td>ultra</td>\n",
       "    </tr>\n",
       "    <tr>\n",
       "      <th>6</th>\n",
       "      <td>7</td>\n",
       "      <td>Игорь</td>\n",
       "      <td>23</td>\n",
       "      <td>Омск</td>\n",
       "      <td>ultra</td>\n",
       "    </tr>\n",
       "    <tr>\n",
       "      <th>7</th>\n",
       "      <td>8</td>\n",
       "      <td>Юрий</td>\n",
       "      <td>23</td>\n",
       "      <td>Краснодар</td>\n",
       "      <td>ultra</td>\n",
       "    </tr>\n",
       "    <tr>\n",
       "      <th>8</th>\n",
       "      <td>9</td>\n",
       "      <td>Ян</td>\n",
       "      <td>21</td>\n",
       "      <td>Пятигорск</td>\n",
       "      <td>ultra</td>\n",
       "    </tr>\n",
       "    <tr>\n",
       "      <th>9</th>\n",
       "      <td>10</td>\n",
       "      <td>Валерий</td>\n",
       "      <td>18</td>\n",
       "      <td>Екатеринбург</td>\n",
       "      <td>ultra</td>\n",
       "    </tr>\n",
       "  </tbody>\n",
       "</table>\n",
       "</div>"
      ],
      "text/plain": [
       "   user_id        name  age            city subscription_type\n",
       "0        1        Кира   22          Тюмень             ultra\n",
       "1        2   Станислав   31            Омск             ultra\n",
       "2        3     Алексей   20          Москва             ultra\n",
       "3        4  Константин   26  Ростов-на-Дону             ultra\n",
       "4        5       Адель   28            Омск             ultra\n",
       "5        6      Регина   25       Краснодар             ultra\n",
       "6        7       Игорь   23            Омск             ultra\n",
       "7        8        Юрий   23       Краснодар             ultra\n",
       "8        9          Ян   21       Пятигорск             ultra\n",
       "9       10     Валерий   18    Екатеринбург             ultra"
      ]
     },
     "execution_count": 3,
     "metadata": {},
     "output_type": "execute_result"
    }
   ],
   "source": [
    "#изучение данных о пользователях\n",
    "users_data.head(10)"
   ]
  },
  {
   "cell_type": "code",
   "execution_count": 4,
   "id": "3e63f854",
   "metadata": {},
   "outputs": [
    {
     "name": "stdout",
     "output_type": "stream",
     "text": [
      "<class 'pandas.core.frame.DataFrame'>\n",
      "RangeIndex: 1565 entries, 0 to 1564\n",
      "Data columns (total 5 columns):\n",
      " #   Column             Non-Null Count  Dtype \n",
      "---  ------             --------------  ----- \n",
      " 0   user_id            1565 non-null   int64 \n",
      " 1   name               1565 non-null   object\n",
      " 2   age                1565 non-null   int64 \n",
      " 3   city               1565 non-null   object\n",
      " 4   subscription_type  1565 non-null   object\n",
      "dtypes: int64(2), object(3)\n",
      "memory usage: 61.3+ KB\n"
     ]
    }
   ],
   "source": [
    "#изучение данных о пользователях -типы\n",
    "users_data.info()"
   ]
  },
  {
   "cell_type": "code",
   "execution_count": 5,
   "id": "a26fcd9b",
   "metadata": {},
   "outputs": [
    {
     "data": {
      "image/png": "[encoded data removed]",
      "text/plain": [
       "<Figure size 640x480 with 1 Axes>"
      ]
     },
     "metadata": {},
     "output_type": "display_data"
    }
   ],
   "source": [
    "# Построим гистограмму для числовых столбцов таблицы, где это оправдано\n",
    "users_data.hist('age')\n",
    "plt.show()"
   ]
  },
  {
   "cell_type": "code",
   "execution_count": 6,
   "id": "a1f99800",
   "metadata": {},
   "outputs": [
    {
     "data": {
      "text/html": [
       "<div>\n",
       "<style scoped>\n",
       "    .dataframe tbody tr th:only-of-type {\n",
       "        vertical-align: middle;\n",
       "    }\n",
       "\n",
       "    .dataframe tbody tr th {\n",
       "        vertical-align: top;\n",
       "    }\n",
       "\n",
       "    .dataframe thead th {\n",
       "        text-align: right;\n",
       "    }\n",
       "</style>\n",
       "<table border=\"1\" class=\"dataframe\">\n",
       "  <thead>\n",
       "    <tr style=\"text-align: right;\">\n",
       "      <th></th>\n",
       "      <th>user_id</th>\n",
       "      <th>distance</th>\n",
       "      <th>duration</th>\n",
       "      <th>date</th>\n",
       "    </tr>\n",
       "  </thead>\n",
       "  <tbody>\n",
       "    <tr>\n",
       "      <th>0</th>\n",
       "      <td>1</td>\n",
       "      <td>4409.919140</td>\n",
       "      <td>25.599769</td>\n",
       "      <td>2021-01-01</td>\n",
       "    </tr>\n",
       "    <tr>\n",
       "      <th>1</th>\n",
       "      <td>1</td>\n",
       "      <td>2617.592153</td>\n",
       "      <td>15.816871</td>\n",
       "      <td>2021-01-18</td>\n",
       "    </tr>\n",
       "    <tr>\n",
       "      <th>2</th>\n",
       "      <td>1</td>\n",
       "      <td>754.159807</td>\n",
       "      <td>6.232113</td>\n",
       "      <td>2021-04-20</td>\n",
       "    </tr>\n",
       "    <tr>\n",
       "      <th>3</th>\n",
       "      <td>1</td>\n",
       "      <td>2694.783254</td>\n",
       "      <td>18.511000</td>\n",
       "      <td>2021-08-11</td>\n",
       "    </tr>\n",
       "    <tr>\n",
       "      <th>4</th>\n",
       "      <td>1</td>\n",
       "      <td>4028.687306</td>\n",
       "      <td>26.265803</td>\n",
       "      <td>2021-08-28</td>\n",
       "    </tr>\n",
       "    <tr>\n",
       "      <th>5</th>\n",
       "      <td>1</td>\n",
       "      <td>2770.890808</td>\n",
       "      <td>16.650138</td>\n",
       "      <td>2021-10-09</td>\n",
       "    </tr>\n",
       "    <tr>\n",
       "      <th>6</th>\n",
       "      <td>1</td>\n",
       "      <td>3039.020292</td>\n",
       "      <td>14.927879</td>\n",
       "      <td>2021-10-19</td>\n",
       "    </tr>\n",
       "    <tr>\n",
       "      <th>7</th>\n",
       "      <td>1</td>\n",
       "      <td>2842.118050</td>\n",
       "      <td>23.117468</td>\n",
       "      <td>2021-11-06</td>\n",
       "    </tr>\n",
       "    <tr>\n",
       "      <th>8</th>\n",
       "      <td>1</td>\n",
       "      <td>3412.690668</td>\n",
       "      <td>15.238072</td>\n",
       "      <td>2021-11-14</td>\n",
       "    </tr>\n",
       "    <tr>\n",
       "      <th>9</th>\n",
       "      <td>1</td>\n",
       "      <td>748.690645</td>\n",
       "      <td>15.041884</td>\n",
       "      <td>2021-11-22</td>\n",
       "    </tr>\n",
       "  </tbody>\n",
       "</table>\n",
       "</div>"
      ],
      "text/plain": [
       "   user_id     distance   duration        date\n",
       "0        1  4409.919140  25.599769  2021-01-01\n",
       "1        1  2617.592153  15.816871  2021-01-18\n",
       "2        1   754.159807   6.232113  2021-04-20\n",
       "3        1  2694.783254  18.511000  2021-08-11\n",
       "4        1  4028.687306  26.265803  2021-08-28\n",
       "5        1  2770.890808  16.650138  2021-10-09\n",
       "6        1  3039.020292  14.927879  2021-10-19\n",
       "7        1  2842.118050  23.117468  2021-11-06\n",
       "8        1  3412.690668  15.238072  2021-11-14\n",
       "9        1   748.690645  15.041884  2021-11-22"
      ]
     },
     "execution_count": 6,
     "metadata": {},
     "output_type": "execute_result"
    }
   ],
   "source": [
    "#изучение данных о поездках\n",
    "rides_data.head(10)"
   ]
  },
  {
   "cell_type": "code",
   "execution_count": 7,
   "id": "d728f711",
   "metadata": {},
   "outputs": [
    {
     "name": "stdout",
     "output_type": "stream",
     "text": [
      "<class 'pandas.core.frame.DataFrame'>\n",
      "RangeIndex: 18068 entries, 0 to 18067\n",
      "Data columns (total 4 columns):\n",
      " #   Column    Non-Null Count  Dtype  \n",
      "---  ------    --------------  -----  \n",
      " 0   user_id   18068 non-null  int64  \n",
      " 1   distance  18068 non-null  float64\n",
      " 2   duration  18068 non-null  float64\n",
      " 3   date      18068 non-null  object \n",
      "dtypes: float64(2), int64(1), object(1)\n",
      "memory usage: 564.8+ KB\n"
     ]
    }
   ],
   "source": [
    "#изучение данных о поездках - типы\n",
    "rides_data.info()"
   ]
  },
  {
   "cell_type": "code",
   "execution_count": 8,
   "id": "c371b1ca",
   "metadata": {},
   "outputs": [
    {
     "data": {
      "image/png": "[encoded data removed]",
      "text/plain": [
       "<Figure size 1000x500 with 2 Axes>"
      ]
     },
     "metadata": {},
     "output_type": "display_data"
    }
   ],
   "source": [
    "# Построим гистограмму для числовых столбцов таблицы, где это оправдано\n",
    "rides_data.hist(['distance', 'duration'], figsize=(10, 5))\n",
    "plt.show()"
   ]
  },
  {
   "cell_type": "code",
   "execution_count": 9,
   "id": "d796fe04",
   "metadata": {},
   "outputs": [
    {
     "data": {
      "text/html": [
       "<div>\n",
       "<style scoped>\n",
       "    .dataframe tbody tr th:only-of-type {\n",
       "        vertical-align: middle;\n",
       "    }\n",
       "\n",
       "    .dataframe tbody tr th {\n",
       "        vertical-align: top;\n",
       "    }\n",
       "\n",
       "    .dataframe thead th {\n",
       "        text-align: right;\n",
       "    }\n",
       "</style>\n",
       "<table border=\"1\" class=\"dataframe\">\n",
       "  <thead>\n",
       "    <tr style=\"text-align: right;\">\n",
       "      <th></th>\n",
       "      <th>subscription_type</th>\n",
       "      <th>minute_price</th>\n",
       "      <th>start_ride_price</th>\n",
       "      <th>subscription_fee</th>\n",
       "    </tr>\n",
       "  </thead>\n",
       "  <tbody>\n",
       "    <tr>\n",
       "      <th>0</th>\n",
       "      <td>free</td>\n",
       "      <td>8</td>\n",
       "      <td>50</td>\n",
       "      <td>0</td>\n",
       "    </tr>\n",
       "    <tr>\n",
       "      <th>1</th>\n",
       "      <td>ultra</td>\n",
       "      <td>6</td>\n",
       "      <td>0</td>\n",
       "      <td>199</td>\n",
       "    </tr>\n",
       "  </tbody>\n",
       "</table>\n",
       "</div>"
      ],
      "text/plain": [
       "  subscription_type  minute_price  start_ride_price  subscription_fee\n",
       "0              free             8                50                 0\n",
       "1             ultra             6                 0               199"
      ]
     },
     "execution_count": 9,
     "metadata": {},
     "output_type": "execute_result"
    }
   ],
   "source": [
    "#изучение данных о подписках\n",
    "subscriptions_data.head(10)"
   ]
  },
  {
   "cell_type": "code",
   "execution_count": 10,
   "id": "d7f7bfd1",
   "metadata": {},
   "outputs": [
    {
     "name": "stdout",
     "output_type": "stream",
     "text": [
      "<class 'pandas.core.frame.DataFrame'>\n",
      "RangeIndex: 2 entries, 0 to 1\n",
      "Data columns (total 4 columns):\n",
      " #   Column             Non-Null Count  Dtype \n",
      "---  ------             --------------  ----- \n",
      " 0   subscription_type  2 non-null      object\n",
      " 1   minute_price       2 non-null      int64 \n",
      " 2   start_ride_price   2 non-null      int64 \n",
      " 3   subscription_fee   2 non-null      int64 \n",
      "dtypes: int64(3), object(1)\n",
      "memory usage: 192.0+ bytes\n"
     ]
    }
   ],
   "source": [
    "#изучение данных о подписках - типы\n",
    "subscriptions_data.info()"
   ]
  },
  {
   "cell_type": "markdown",
   "id": "a326b88b",
   "metadata": {},
   "source": [
    "**Предварительный вывод на данном шаге: данные выглядят \"прилично\" с точки зрения соответствия типам. По предварительной оценке  пропусков не должно быть (на основе данных \"info()\" можно видеть, что количество в каждом столбце одинаково, ниже еще проверим данные на пропуски соответвующими методами). Требуется сконвертировать столбец \"date\" таблицы rides_data к типу даты pandas (что отмечено в задании к проекту).\n",
    "Числовые данные распределены (судя по гистограммам) близко к нормальному распределению**"
   ]
  },
  {
   "cell_type": "markdown",
   "id": "e95ebca7",
   "metadata": {},
   "source": [
    "# Шаг 2. Предобработка данных"
   ]
  },
  {
   "cell_type": "markdown",
   "id": "2a2f0e4d",
   "metadata": {},
   "source": [
    "**2.1 Приведем столбец date к типу даты pandas**"
   ]
  },
  {
   "cell_type": "code",
   "execution_count": 11,
   "id": "0784d4fc",
   "metadata": {},
   "outputs": [
    {
     "name": "stdout",
     "output_type": "stream",
     "text": [
      "<class 'pandas.core.frame.DataFrame'>\n",
      "RangeIndex: 18068 entries, 0 to 18067\n",
      "Data columns (total 4 columns):\n",
      " #   Column    Non-Null Count  Dtype         \n",
      "---  ------    --------------  -----         \n",
      " 0   user_id   18068 non-null  int64         \n",
      " 1   distance  18068 non-null  float64       \n",
      " 2   duration  18068 non-null  float64       \n",
      " 3   date      18068 non-null  datetime64[ns]\n",
      "dtypes: datetime64[ns](1), float64(2), int64(1)\n",
      "memory usage: 564.8 KB\n"
     ]
    }
   ],
   "source": [
    "rides_data['date']= pd.to_datetime(rides_data['date'], errors='coerce')\n",
    "rides_data.info()"
   ]
  },
  {
   "cell_type": "code",
   "execution_count": 12,
   "id": "3822918d",
   "metadata": {},
   "outputs": [
    {
     "data": {
      "text/plain": [
       "count                            18068\n",
       "mean     2021-06-30 19:47:21.266327296\n",
       "min                2021-01-01 00:00:00\n",
       "25%                2021-04-02 00:00:00\n",
       "50%                2021-06-30 00:00:00\n",
       "75%                2021-09-28 00:00:00\n",
       "max                2021-12-30 00:00:00\n",
       "Name: date, dtype: object"
      ]
     },
     "execution_count": 12,
     "metadata": {},
     "output_type": "execute_result"
    }
   ],
   "source": [
    "#проверим, за какое время наши данные\n",
    "rides_data['date'].describe(datetime_is_numeric=True)"
   ]
  },
  {
   "cell_type": "markdown",
   "id": "02cb2967",
   "metadata": {},
   "source": [
    "**Вывод: данные за 1 год, аналитика по месяцам будет корректной**"
   ]
  },
  {
   "cell_type": "markdown",
   "id": "0d4e2d43",
   "metadata": {},
   "source": [
    "**2.2 Создание столбца с номером месяца**"
   ]
  },
  {
   "cell_type": "code",
   "execution_count": 13,
   "id": "d4fd1447",
   "metadata": {},
   "outputs": [
    {
     "data": {
      "text/html": [
       "<div>\n",
       "<style scoped>\n",
       "    .dataframe tbody tr th:only-of-type {\n",
       "        vertical-align: middle;\n",
       "    }\n",
       "\n",
       "    .dataframe tbody tr th {\n",
       "        vertical-align: top;\n",
       "    }\n",
       "\n",
       "    .dataframe thead th {\n",
       "        text-align: right;\n",
       "    }\n",
       "</style>\n",
       "<table border=\"1\" class=\"dataframe\">\n",
       "  <thead>\n",
       "    <tr style=\"text-align: right;\">\n",
       "      <th></th>\n",
       "      <th>user_id</th>\n",
       "      <th>distance</th>\n",
       "      <th>duration</th>\n",
       "      <th>date</th>\n",
       "      <th>month</th>\n",
       "    </tr>\n",
       "  </thead>\n",
       "  <tbody>\n",
       "    <tr>\n",
       "      <th>0</th>\n",
       "      <td>1</td>\n",
       "      <td>4409.919140</td>\n",
       "      <td>25.599769</td>\n",
       "      <td>2021-01-01</td>\n",
       "      <td>1</td>\n",
       "    </tr>\n",
       "    <tr>\n",
       "      <th>1</th>\n",
       "      <td>1</td>\n",
       "      <td>2617.592153</td>\n",
       "      <td>15.816871</td>\n",
       "      <td>2021-01-18</td>\n",
       "      <td>1</td>\n",
       "    </tr>\n",
       "    <tr>\n",
       "      <th>2</th>\n",
       "      <td>1</td>\n",
       "      <td>754.159807</td>\n",
       "      <td>6.232113</td>\n",
       "      <td>2021-04-20</td>\n",
       "      <td>4</td>\n",
       "    </tr>\n",
       "    <tr>\n",
       "      <th>3</th>\n",
       "      <td>1</td>\n",
       "      <td>2694.783254</td>\n",
       "      <td>18.511000</td>\n",
       "      <td>2021-08-11</td>\n",
       "      <td>8</td>\n",
       "    </tr>\n",
       "    <tr>\n",
       "      <th>4</th>\n",
       "      <td>1</td>\n",
       "      <td>4028.687306</td>\n",
       "      <td>26.265803</td>\n",
       "      <td>2021-08-28</td>\n",
       "      <td>8</td>\n",
       "    </tr>\n",
       "  </tbody>\n",
       "</table>\n",
       "</div>"
      ],
      "text/plain": [
       "   user_id     distance   duration       date  month\n",
       "0        1  4409.919140  25.599769 2021-01-01      1\n",
       "1        1  2617.592153  15.816871 2021-01-18      1\n",
       "2        1   754.159807   6.232113 2021-04-20      4\n",
       "3        1  2694.783254  18.511000 2021-08-11      8\n",
       "4        1  4028.687306  26.265803 2021-08-28      8"
      ]
     },
     "execution_count": 13,
     "metadata": {},
     "output_type": "execute_result"
    }
   ],
   "source": [
    "rides_data['month']=rides_data['date'].dt.month\n",
    "rides_data.head()#выведем для проверки результата"
   ]
  },
  {
   "cell_type": "markdown",
   "id": "87622d95",
   "metadata": {},
   "source": [
    "**2.3 Проверка пропусков в данных**"
   ]
  },
  {
   "cell_type": "code",
   "execution_count": 14,
   "id": "af6d202c",
   "metadata": {},
   "outputs": [
    {
     "data": {
      "text/html": [
       "<style  type=\"text/css\" >\n",
       "#T_8740a_row0_col0,#T_8740a_row1_col0,#T_8740a_row2_col0,#T_8740a_row3_col0,#T_8740a_row4_col0{\n",
       "            background-color:  #3b4cc0;\n",
       "            color:  #f1f1f1;\n",
       "        }</style><table id=\"T_8740a_\" ><thead>    <tr>        <th class=\"blank level0\" ></th>        <th class=\"col_heading level0 col0\" >0</th>    </tr></thead><tbody>\n",
       "                <tr>\n",
       "                        <th id=\"T_8740a_level0_row0\" class=\"row_heading level0 row0\" >user_id</th>\n",
       "                        <td id=\"T_8740a_row0_col0\" class=\"data row0 col0\" >0.000000</td>\n",
       "            </tr>\n",
       "            <tr>\n",
       "                        <th id=\"T_8740a_level0_row1\" class=\"row_heading level0 row1\" >name</th>\n",
       "                        <td id=\"T_8740a_row1_col0\" class=\"data row1 col0\" >0.000000</td>\n",
       "            </tr>\n",
       "            <tr>\n",
       "                        <th id=\"T_8740a_level0_row2\" class=\"row_heading level0 row2\" >age</th>\n",
       "                        <td id=\"T_8740a_row2_col0\" class=\"data row2 col0\" >0.000000</td>\n",
       "            </tr>\n",
       "            <tr>\n",
       "                        <th id=\"T_8740a_level0_row3\" class=\"row_heading level0 row3\" >city</th>\n",
       "                        <td id=\"T_8740a_row3_col0\" class=\"data row3 col0\" >0.000000</td>\n",
       "            </tr>\n",
       "            <tr>\n",
       "                        <th id=\"T_8740a_level0_row4\" class=\"row_heading level0 row4\" >subscription_type</th>\n",
       "                        <td id=\"T_8740a_row4_col0\" class=\"data row4 col0\" >0.000000</td>\n",
       "            </tr>\n",
       "    </tbody></table>"
      ],
      "text/plain": [
       "<pandas.io.formats.style.Styler at 0x24167ee31f0>"
      ]
     },
     "execution_count": 14,
     "metadata": {},
     "output_type": "execute_result"
    }
   ],
   "source": [
    "#проверим количество пропусков для данных о пользователях\n",
    "pd.DataFrame(round(users_data.isna().mean()*100,1)).style.background_gradient('coolwarm')"
   ]
  },
  {
   "cell_type": "code",
   "execution_count": 15,
   "id": "92ba6040",
   "metadata": {},
   "outputs": [
    {
     "data": {
      "text/html": [
       "<style  type=\"text/css\" >\n",
       "#T_5b8e6_row0_col0,#T_5b8e6_row1_col0,#T_5b8e6_row2_col0,#T_5b8e6_row3_col0,#T_5b8e6_row4_col0{\n",
       "            background-color:  #3b4cc0;\n",
       "            color:  #f1f1f1;\n",
       "        }</style><table id=\"T_5b8e6_\" ><thead>    <tr>        <th class=\"blank level0\" ></th>        <th class=\"col_heading level0 col0\" >0</th>    </tr></thead><tbody>\n",
       "                <tr>\n",
       "                        <th id=\"T_5b8e6_level0_row0\" class=\"row_heading level0 row0\" >user_id</th>\n",
       "                        <td id=\"T_5b8e6_row0_col0\" class=\"data row0 col0\" >0.000000</td>\n",
       "            </tr>\n",
       "            <tr>\n",
       "                        <th id=\"T_5b8e6_level0_row1\" class=\"row_heading level0 row1\" >distance</th>\n",
       "                        <td id=\"T_5b8e6_row1_col0\" class=\"data row1 col0\" >0.000000</td>\n",
       "            </tr>\n",
       "            <tr>\n",
       "                        <th id=\"T_5b8e6_level0_row2\" class=\"row_heading level0 row2\" >duration</th>\n",
       "                        <td id=\"T_5b8e6_row2_col0\" class=\"data row2 col0\" >0.000000</td>\n",
       "            </tr>\n",
       "            <tr>\n",
       "                        <th id=\"T_5b8e6_level0_row3\" class=\"row_heading level0 row3\" >date</th>\n",
       "                        <td id=\"T_5b8e6_row3_col0\" class=\"data row3 col0\" >0.000000</td>\n",
       "            </tr>\n",
       "            <tr>\n",
       "                        <th id=\"T_5b8e6_level0_row4\" class=\"row_heading level0 row4\" >month</th>\n",
       "                        <td id=\"T_5b8e6_row4_col0\" class=\"data row4 col0\" >0.000000</td>\n",
       "            </tr>\n",
       "    </tbody></table>"
      ],
      "text/plain": [
       "<pandas.io.formats.style.Styler at 0x2417322e7c0>"
      ]
     },
     "execution_count": 15,
     "metadata": {},
     "output_type": "execute_result"
    }
   ],
   "source": [
    "#проверим количество пропусков для данных о поездках\n",
    "pd.DataFrame(round(rides_data.isna().mean()*100,1)).style.background_gradient('coolwarm')"
   ]
  },
  {
   "cell_type": "markdown",
   "id": "5c74479d",
   "metadata": {},
   "source": [
    "<div class=\"alert alert-success\">\n",
    "<b>Комментарий ревьюера:</b>☀️\n",
    "    \n",
    "Отличный метод, вообще `style` обладает огромным функционалом, который рекомендую использовать [тут](https://habr.com/ru/post/521894/) можно почитать \n",
    "\n",
    "\n",
    "</div>"
   ]
  },
  {
   "cell_type": "markdown",
   "id": "4de735f7",
   "metadata": {},
   "source": [
    "**Вывод по наличию пропусков в данных: не обнаружено**"
   ]
  },
  {
   "cell_type": "markdown",
   "id": "47e12077",
   "metadata": {},
   "source": [
    "**2.3 Проверка и обработка дубликатов**"
   ]
  },
  {
   "cell_type": "code",
   "execution_count": 16,
   "id": "b12dd823",
   "metadata": {},
   "outputs": [
    {
     "data": {
      "text/plain": [
       "31"
      ]
     },
     "execution_count": 16,
     "metadata": {},
     "output_type": "execute_result"
    }
   ],
   "source": [
    "#число явных дубликатов для пользователей\n",
    "users_data.duplicated().sum()"
   ]
  },
  {
   "cell_type": "code",
   "execution_count": 17,
   "id": "f204f5b2",
   "metadata": {},
   "outputs": [],
   "source": [
    "#удаляем явные дубликаты для таблицы с пользователями\n",
    "users_data= users_data.drop_duplicates()"
   ]
  },
  {
   "cell_type": "code",
   "execution_count": 18,
   "id": "24ca316a",
   "metadata": {},
   "outputs": [
    {
     "data": {
      "text/plain": [
       "0"
      ]
     },
     "execution_count": 18,
     "metadata": {},
     "output_type": "execute_result"
    }
   ],
   "source": [
    "#контрольная проверка\n",
    "users_data.duplicated().sum()"
   ]
  },
  {
   "cell_type": "code",
   "execution_count": 19,
   "id": "261b463b",
   "metadata": {},
   "outputs": [
    {
     "data": {
      "text/plain": [
       "0"
      ]
     },
     "execution_count": 19,
     "metadata": {},
     "output_type": "execute_result"
    }
   ],
   "source": [
    "#число явных дубликатов для данных о поездках\n",
    "rides_data.duplicated().sum()"
   ]
  },
  {
   "cell_type": "markdown",
   "id": "7108d724",
   "metadata": {},
   "source": [
    "**Вывод по явным дубликатам: явные дубликаты в таблице описания пользователей удалены. В таблицах описаний поездок и подписок явные дубликаты не обнаружены**"
   ]
  },
  {
   "cell_type": "code",
   "execution_count": 20,
   "id": "df25c5e3",
   "metadata": {
    "editable": true,
    "slideshow": {
     "slide_type": ""
    },
    "tags": []
   },
   "outputs": [
    {
     "data": {
      "text/plain": [
       "['Екатеринбург',\n",
       " 'Краснодар',\n",
       " 'Москва',\n",
       " 'Омск',\n",
       " 'Пятигорск',\n",
       " 'Ростов-на-Дону',\n",
       " 'Сочи',\n",
       " 'Тюмень']"
      ]
     },
     "execution_count": 20,
     "metadata": {},
     "output_type": "execute_result"
    }
   ],
   "source": [
    "#сортированный список для поиска неявных дубликатов для наименований городов\n",
    "sorted(users_data.city.unique())"
   ]
  },
  {
   "cell_type": "markdown",
   "id": "46388ec4",
   "metadata": {},
   "source": [
    "**Вывод: неявных дубликатов не обнаружено**"
   ]
  },
  {
   "cell_type": "markdown",
   "id": "212593c7",
   "metadata": {},
   "source": [
    "# Шаг 3. Исследовательский анализ данных"
   ]
  },
  {
   "cell_type": "markdown",
   "id": "92942713",
   "metadata": {},
   "source": [
    "**3.1 Частота встречаемости городов**"
   ]
  },
  {
   "cell_type": "code",
   "execution_count": 21,
   "id": "e3a4274c",
   "metadata": {},
   "outputs": [
    {
     "data": {
      "image/png": "[encoded data removed]",
      "text/plain": [
       "<Figure size 640x480 with 1 Axes>"
      ]
     },
     "metadata": {},
     "output_type": "display_data"
    }
   ],
   "source": [
    "users_data.loc[:,\"city\"].value_counts().plot(\n",
    "kind='bar',\n",
    "xlabel='Город',\n",
    "ylabel='Частота',\n",
    "title='Частота встречаемости городов')\n",
    "plt.show()"
   ]
  },
  {
   "cell_type": "code",
   "execution_count": 22,
   "id": "f06c1c0d",
   "metadata": {},
   "outputs": [
    {
     "data": {
      "text/plain": [
       "Пятигорск         219\n",
       "Екатеринбург      204\n",
       "Ростов-на-Дону    198\n",
       "Краснодар         193\n",
       "Сочи              189\n",
       "Омск              183\n",
       "Тюмень            180\n",
       "Москва            168\n",
       "Name: city, dtype: int64"
      ]
     },
     "execution_count": 22,
     "metadata": {},
     "output_type": "execute_result"
    }
   ],
   "source": [
    "users_data.loc[:,\"city\"].value_counts()"
   ]
  },
  {
   "cell_type": "code",
   "execution_count": 23,
   "id": "799d7951",
   "metadata": {},
   "outputs": [
    {
     "data": {
      "text/plain": [
       "23.28767123287671"
      ]
     },
     "execution_count": 23,
     "metadata": {},
     "output_type": "execute_result"
    }
   ],
   "source": [
    "#оценим размах\n",
    "100*(users_data.loc[:,\"city\"].value_counts().max()- users_data.loc[:,\"city\"].value_counts().min())/users_data.loc[:,\"city\"].value_counts().max()\n"
   ]
  },
  {
   "cell_type": "markdown",
   "id": "bb340dc5",
   "metadata": {},
   "source": [
    "**Вывод: в лидерах Пятигорск, наименее часто встречается как ни странно Москва с отставанием в 23%.** "
   ]
  },
  {
   "cell_type": "markdown",
   "id": "32bb4a0d",
   "metadata": {},
   "source": [
    "**3.2 Соотношение пользователей с подпиской и без**"
   ]
  },
  {
   "cell_type": "code",
   "execution_count": 24,
   "id": "abf7d2cd",
   "metadata": {},
   "outputs": [
    {
     "data": {
      "image/png": "[encoded data removed]",
      "text/plain": [
       "<Figure size 640x480 with 1 Axes>"
      ]
     },
     "metadata": {},
     "output_type": "display_data"
    }
   ],
   "source": [
    "#скорее всего нам интересно именно соотношение в %, а не абсолютная величина\n",
    "(users_data[\"subscription_type\"].value_counts()/len(users_data)*100).plot(\n",
    "kind='bar',\n",
    "xlabel='Тип подписки',\n",
    "ylabel='% пользователей',\n",
    "title='Соотношение пользователей с подпиской и без')\n",
    "plt.show()"
   ]
  },
  {
   "cell_type": "code",
   "execution_count": 25,
   "id": "107d2261",
   "metadata": {},
   "outputs": [
    {
     "data": {
      "image/png": "[encoded data removed]",
      "text/plain": [
       "<Figure size 640x480 with 1 Axes>"
      ]
     },
     "metadata": {},
     "output_type": "display_data"
    }
   ],
   "source": [
    "(users_data[\"subscription_type\"].value_counts()/len(users_data)*100).plot(\n",
    "kind='pie',\n",
    "xlabel='Тип подписки',\n",
    "title='Соотношение пользователей с подпиской и без (free= без подписки)')\n",
    "plt.show()"
   ]
  },
  {
   "cell_type": "markdown",
   "id": "5df22e6f",
   "metadata": {},
   "source": [
    "**Вывод: пользователей без подписки чуть больше (54% и 46% соответственно)**"
   ]
  },
  {
   "cell_type": "markdown",
   "id": "8dcd5391",
   "metadata": {},
   "source": [
    "**3.3 Возраст пользователей**"
   ]
  },
  {
   "cell_type": "code",
   "execution_count": 26,
   "id": "ff903b03",
   "metadata": {
    "editable": true,
    "slideshow": {
     "slide_type": ""
    },
    "tags": []
   },
   "outputs": [
    {
     "data": {
      "image/png": "[encoded data removed]",
      "text/plain": [
       "<Figure size 1500x500 with 1 Axes>"
      ]
     },
     "metadata": {},
     "output_type": "display_data"
    }
   ],
   "source": [
    "users_data.loc[:,\"age\"].value_counts(sort = False).plot(\n",
    "figsize=(15,5),\n",
    "kind='bar',\n",
    "xlabel='Возраст',\n",
    "ylabel='Количество',\n",
    "title='Распределение возраста пользователей')\n",
    "plt.show()"
   ]
  },
  {
   "cell_type": "code",
   "execution_count": 27,
   "id": "60bbe934",
   "metadata": {},
   "outputs": [
    {
     "data": {
      "text/plain": [
       "count    1534.000000\n",
       "mean       24.903520\n",
       "std         4.572367\n",
       "min        12.000000\n",
       "25%        22.000000\n",
       "50%        25.000000\n",
       "75%        28.000000\n",
       "max        43.000000\n",
       "Name: age, dtype: float64"
      ]
     },
     "execution_count": 27,
     "metadata": {},
     "output_type": "execute_result"
    }
   ],
   "source": [
    "#получим статистические данные\n",
    "users_data['age'].describe()"
   ]
  },
  {
   "cell_type": "markdown",
   "id": "efc56ee7",
   "metadata": {},
   "source": [
    "**Вывод: средний возраст пользователей чуть меньше 25 лет, минимальный - 12 лет, максимальный - 43 года. Вид распределения близок к нормальному (значения симметрично распределены вокруг среднего)**"
   ]
  },
  {
   "cell_type": "markdown",
   "id": "b5ba2f44",
   "metadata": {},
   "source": [
    "**3.4 Расстояние, которое пользователь преодолел за одну поездку**"
   ]
  },
  {
   "cell_type": "code",
   "execution_count": 28,
   "id": "20ead348",
   "metadata": {},
   "outputs": [
    {
     "data": {
      "image/png": "[encoded data removed]",
      "text/plain": [
       "<Figure size 1500x500 with 1 Axes>"
      ]
     },
     "metadata": {},
     "output_type": "display_data"
    }
   ],
   "source": [
    "#построим гистограмму\n",
    "rides_data['distance'].hist(bins=100, figsize=(15,5))\n",
    "plt.xlabel('Расстояние за 1 поездку, м')\n",
    "plt.ylabel('Количество поездок')\n",
    "plt.title('Распределение расстояний за 1 поездку пользователя')\n",
    "plt.show()"
   ]
  },
  {
   "cell_type": "code",
   "execution_count": 29,
   "id": "7d243b3a",
   "metadata": {},
   "outputs": [
    {
     "data": {
      "text/plain": [
       "count    18068.000000\n",
       "mean      3070.659976\n",
       "std       1116.831209\n",
       "min          0.855683\n",
       "25%       2543.226360\n",
       "50%       3133.609994\n",
       "75%       3776.222735\n",
       "max       7211.007745\n",
       "Name: distance, dtype: float64"
      ]
     },
     "execution_count": 29,
     "metadata": {},
     "output_type": "execute_result"
    }
   ],
   "source": [
    "#оценим характеристики распределения\n",
    "rides_data['distance'].describe()"
   ]
  },
  {
   "cell_type": "code",
   "execution_count": 30,
   "id": "7b60a1ae",
   "metadata": {},
   "outputs": [
    {
     "data": {
      "image/png": "[encoded data removed]",
      "text/plain": [
       "<Figure size 640x480 with 1 Axes>"
      ]
     },
     "metadata": {},
     "output_type": "display_data"
    }
   ],
   "source": [
    "#ящик с усами на предмет выбросов\n",
    "rides_data.boxplot(column='distance')\n",
    "plt.ylabel('Расстояние за 1 поездку, м')\n",
    "plt.title('Ящик с усами для расстояния за 1 поездку')\n",
    "plt.show()"
   ]
  },
  {
   "cell_type": "code",
   "execution_count": 31,
   "id": "4d7272b4",
   "metadata": {},
   "outputs": [
    {
     "data": {
      "text/plain": [
       "5625.717298360568"
      ]
     },
     "metadata": {},
     "output_type": "display_data"
    },
    {
     "data": {
      "text/plain": [
       "0.6973655080805845"
      ]
     },
     "execution_count": 31,
     "metadata": {},
     "output_type": "execute_result"
    }
   ],
   "source": [
    "#вычислим, сколько аномальных значений за пределами верхней границы усов\n",
    "quartiles = rides_data['distance'].quantile([0.25, 0.75])\n",
    "iqr = quartiles[0.75] - quartiles[0.25]\n",
    "upper_level=quartiles[0.75] + 1.5*iqr\n",
    "display(upper_level)\n",
    "anoma_values_cnt=rides_data[rides_data['distance']>upper_level]['distance'].count()\n",
    "100*anoma_values_cnt/len(rides_data)#значение в % от общего объема выборки"
   ]
  },
  {
   "cell_type": "code",
   "execution_count": 32,
   "id": "8da41d50",
   "metadata": {},
   "outputs": [
    {
     "data": {
      "text/plain": [
       "693.7317969370258"
      ]
     },
     "metadata": {},
     "output_type": "display_data"
    },
    {
     "data": {
      "text/plain": [
       "5.036528669470888"
      ]
     },
     "execution_count": 32,
     "metadata": {},
     "output_type": "execute_result"
    }
   ],
   "source": [
    "#вычислим, сколько аномальных значений за пределами нижней границы усов\n",
    "lower_level=quartiles[0.25] - 1.5*iqr\n",
    "display(lower_level)\n",
    "anoma_values_cnt=rides_data[rides_data['distance']<lower_level]['distance'].count()\n",
    "100*anoma_values_cnt/len(rides_data)#значение в % от общего объема выборки"
   ]
  },
  {
   "cell_type": "markdown",
   "id": "06e393ad",
   "metadata": {},
   "source": [
    "**Вывод: пользователи за одну поездку проезжают в среднем 3 км, при этом распределение 95% расстояний за 1 поездку симметрично распределено относительно среднего, при этом ~5% поездок совершаются на короткие дистанции менее 693 метров и менее 1% поездок на дистанции более 5625 метров**"
   ]
  },
  {
   "cell_type": "markdown",
   "id": "30007680",
   "metadata": {},
   "source": [
    "**3.5 Продолжительность поездок**"
   ]
  },
  {
   "cell_type": "code",
   "execution_count": 33,
   "id": "4cbe0f27",
   "metadata": {},
   "outputs": [
    {
     "data": {
      "image/png": "[encoded data removed]",
      "text/plain": [
       "<Figure size 1500x500 with 1 Axes>"
      ]
     },
     "metadata": {},
     "output_type": "display_data"
    }
   ],
   "source": [
    "#построим гистограмму\n",
    "rides_data['duration'].hist(bins=100, figsize=(15,5))\n",
    "plt.xlabel('Продолжительность поездок, мин')\n",
    "plt.ylabel('Количество поездок')\n",
    "plt.title('Распределение продолжительности поездок')\n",
    "plt.show()"
   ]
  },
  {
   "cell_type": "code",
   "execution_count": 34,
   "id": "c627d22a",
   "metadata": {},
   "outputs": [
    {
     "data": {
      "image/png": "[encoded data removed]",
      "text/plain": [
       "<Figure size 1500x500 with 1 Axes>"
      ]
     },
     "metadata": {},
     "output_type": "display_data"
    }
   ],
   "source": [
    "#построим гистограмму для диапазона с предположительным выбросом\n",
    "rides_data['duration'].hist(bins=100, figsize=(15,5), range=(0,5))\n",
    "plt.xlabel('Продолжительность поездок, мин')\n",
    "plt.ylabel('Количество поездок')\n",
    "plt.title('Распределение продолжительности поездок от 0 до 5 минут')\n",
    "plt.show()"
   ]
  },
  {
   "cell_type": "code",
   "execution_count": 35,
   "id": "25e92838",
   "metadata": {},
   "outputs": [
    {
     "data": {
      "text/plain": [
       "0.5257914545052026"
      ]
     },
     "execution_count": 35,
     "metadata": {},
     "output_type": "execute_result"
    }
   ],
   "source": [
    "#оценим % поездок в районе 30 сек\n",
    "100*rides_data[rides_data['duration']<1]['duration'].count()/rides_data['duration'].count()"
   ]
  },
  {
   "cell_type": "code",
   "execution_count": 36,
   "id": "ccb5f20f",
   "metadata": {},
   "outputs": [
    {
     "data": {
      "text/plain": [
       "count    18068.000000\n",
       "mean        17.805011\n",
       "std          6.091051\n",
       "min          0.500000\n",
       "25%         13.597563\n",
       "50%         17.678395\n",
       "75%         21.724800\n",
       "max         40.823963\n",
       "Name: duration, dtype: float64"
      ]
     },
     "execution_count": 36,
     "metadata": {},
     "output_type": "execute_result"
    }
   ],
   "source": [
    "#оценим характеристики распределения\n",
    "rides_data['duration'].describe()"
   ]
  },
  {
   "cell_type": "code",
   "execution_count": 37,
   "id": "3efaa80a",
   "metadata": {},
   "outputs": [
    {
     "data": {
      "image/png": "[encoded data removed]",
      "text/plain": [
       "<Figure size 640x480 with 1 Axes>"
      ]
     },
     "metadata": {},
     "output_type": "display_data"
    }
   ],
   "source": [
    "#ящик с усами на предмет выбросов\n",
    "rides_data.boxplot(column='duration')\n",
    "plt.ylabel('Продолжительность поездок, мин')\n",
    "plt.title('Ящик с усами для продолжительности поездок')\n",
    "plt.show()"
   ]
  },
  {
   "cell_type": "code",
   "execution_count": 38,
   "id": "03183f62",
   "metadata": {},
   "outputs": [
    {
     "data": {
      "text/plain": [
       "33.91565577561293"
      ]
     },
     "metadata": {},
     "output_type": "display_data"
    },
    {
     "data": {
      "text/plain": [
       "0.45384104494133276"
      ]
     },
     "execution_count": 38,
     "metadata": {},
     "output_type": "execute_result"
    }
   ],
   "source": [
    "#вычислим, сколько аномальных значений за пределами верхней границы усов\n",
    "quartiles = rides_data['duration'].quantile([0.25, 0.75])\n",
    "iqr = quartiles[0.75] - quartiles[0.25]\n",
    "upper_level=quartiles[0.75] + 1.5*iqr\n",
    "display(upper_level)\n",
    "anoma_values_cnt=rides_data[rides_data['duration']>upper_level]['duration'].count()\n",
    "100*anoma_values_cnt/len(rides_data)#значение в % от общего объема выборки"
   ]
  },
  {
   "cell_type": "code",
   "execution_count": 39,
   "id": "0bfa4494",
   "metadata": {},
   "outputs": [
    {
     "data": {
      "text/plain": [
       "1.4067070934272756"
      ]
     },
     "metadata": {},
     "output_type": "display_data"
    },
    {
     "data": {
      "text/plain": [
       "0.5257914545052026"
      ]
     },
     "execution_count": 39,
     "metadata": {},
     "output_type": "execute_result"
    }
   ],
   "source": [
    "#вычислим, сколько аномальных значений за пределами нижней границы усов\n",
    "lower_level=quartiles[0.25] - 1.5*iqr\n",
    "display(lower_level)\n",
    "anoma_values_cnt=rides_data[rides_data['duration']<lower_level]['duration'].count()\n",
    "100*anoma_values_cnt/len(rides_data)#значение в % от общего объема выборки"
   ]
  },
  {
   "cell_type": "markdown",
   "id": "bd54d3ae",
   "metadata": {},
   "source": [
    "**Вывод: поездка в среднем длится примерно 17 минут, длительность при этом распределена симметрично относительно среднего значения. Максиммальное время поездки 40 минут, минимальное 30 секунд. Доля поездок длительностью ровно 30 секунд составляет 0,5% - можно предположить, что это поездки, в которых пользователь передумал ехать, либо эти данные получены в результате сбоя ПО для сбора данных. Доля поездок длительностью более 33 минут составляет менее 0,5%.**"
   ]
  },
  {
   "cell_type": "markdown",
   "id": "4ef51331",
   "metadata": {},
   "source": [
    "# Шаг 4. Объединение данных"
   ]
  },
  {
   "cell_type": "markdown",
   "id": "ec257746",
   "metadata": {},
   "source": [
    "**4.1 Объединение данных о пользователях, поездках и подписках в один датафрейм**"
   ]
  },
  {
   "cell_type": "code",
   "execution_count": 40,
   "id": "fb477e11",
   "metadata": {},
   "outputs": [
    {
     "name": "stdout",
     "output_type": "stream",
     "text": [
      "Размер данных о пользователях до объединения таблиц:1534\n",
      "Размер данных о поездках до объединения таблиц:18068\n"
     ]
    },
    {
     "data": {
      "text/html": [
       "<div>\n",
       "<style scoped>\n",
       "    .dataframe tbody tr th:only-of-type {\n",
       "        vertical-align: middle;\n",
       "    }\n",
       "\n",
       "    .dataframe tbody tr th {\n",
       "        vertical-align: top;\n",
       "    }\n",
       "\n",
       "    .dataframe thead th {\n",
       "        text-align: right;\n",
       "    }\n",
       "</style>\n",
       "<table border=\"1\" class=\"dataframe\">\n",
       "  <thead>\n",
       "    <tr style=\"text-align: right;\">\n",
       "      <th></th>\n",
       "      <th>user_id</th>\n",
       "      <th>name</th>\n",
       "      <th>age</th>\n",
       "      <th>city</th>\n",
       "      <th>subscription_type</th>\n",
       "      <th>distance</th>\n",
       "      <th>duration</th>\n",
       "      <th>date</th>\n",
       "      <th>month</th>\n",
       "    </tr>\n",
       "  </thead>\n",
       "  <tbody>\n",
       "    <tr>\n",
       "      <th>0</th>\n",
       "      <td>1</td>\n",
       "      <td>Кира</td>\n",
       "      <td>22</td>\n",
       "      <td>Тюмень</td>\n",
       "      <td>ultra</td>\n",
       "      <td>4409.919140</td>\n",
       "      <td>25.599769</td>\n",
       "      <td>2021-01-01</td>\n",
       "      <td>1</td>\n",
       "    </tr>\n",
       "    <tr>\n",
       "      <th>1</th>\n",
       "      <td>1</td>\n",
       "      <td>Кира</td>\n",
       "      <td>22</td>\n",
       "      <td>Тюмень</td>\n",
       "      <td>ultra</td>\n",
       "      <td>2617.592153</td>\n",
       "      <td>15.816871</td>\n",
       "      <td>2021-01-18</td>\n",
       "      <td>1</td>\n",
       "    </tr>\n",
       "    <tr>\n",
       "      <th>2</th>\n",
       "      <td>1</td>\n",
       "      <td>Кира</td>\n",
       "      <td>22</td>\n",
       "      <td>Тюмень</td>\n",
       "      <td>ultra</td>\n",
       "      <td>754.159807</td>\n",
       "      <td>6.232113</td>\n",
       "      <td>2021-04-20</td>\n",
       "      <td>4</td>\n",
       "    </tr>\n",
       "    <tr>\n",
       "      <th>3</th>\n",
       "      <td>1</td>\n",
       "      <td>Кира</td>\n",
       "      <td>22</td>\n",
       "      <td>Тюмень</td>\n",
       "      <td>ultra</td>\n",
       "      <td>2694.783254</td>\n",
       "      <td>18.511000</td>\n",
       "      <td>2021-08-11</td>\n",
       "      <td>8</td>\n",
       "    </tr>\n",
       "    <tr>\n",
       "      <th>4</th>\n",
       "      <td>1</td>\n",
       "      <td>Кира</td>\n",
       "      <td>22</td>\n",
       "      <td>Тюмень</td>\n",
       "      <td>ultra</td>\n",
       "      <td>4028.687306</td>\n",
       "      <td>26.265803</td>\n",
       "      <td>2021-08-28</td>\n",
       "      <td>8</td>\n",
       "    </tr>\n",
       "  </tbody>\n",
       "</table>\n",
       "</div>"
      ],
      "text/plain": [
       "   user_id  name  age    city subscription_type     distance   duration  \\\n",
       "0        1  Кира   22  Тюмень             ultra  4409.919140  25.599769   \n",
       "1        1  Кира   22  Тюмень             ultra  2617.592153  15.816871   \n",
       "2        1  Кира   22  Тюмень             ultra   754.159807   6.232113   \n",
       "3        1  Кира   22  Тюмень             ultra  2694.783254  18.511000   \n",
       "4        1  Кира   22  Тюмень             ultra  4028.687306  26.265803   \n",
       "\n",
       "        date  month  \n",
       "0 2021-01-01      1  \n",
       "1 2021-01-18      1  \n",
       "2 2021-04-20      4  \n",
       "3 2021-08-11      8  \n",
       "4 2021-08-28      8  "
      ]
     },
     "execution_count": 40,
     "metadata": {},
     "output_type": "execute_result"
    }
   ],
   "source": [
    "#объединим данные о пользователях и поездках\n",
    "print(f\"Размер данных о пользователях до объединения таблиц:{len(users_data)}\")\n",
    "print(f\"Размер данных о поездках до объединения таблиц:{len(rides_data)}\")\n",
    "user_rides_data= users_data.merge(rides_data, on='user_id')\n",
    "user_rides_data.head()"
   ]
  },
  {
   "cell_type": "code",
   "execution_count": 41,
   "id": "9d02ee3d",
   "metadata": {},
   "outputs": [
    {
     "name": "stdout",
     "output_type": "stream",
     "text": [
      "Размер данных объединенной таблицы:18068\n"
     ]
    }
   ],
   "source": [
    "#проверка, что после соединения таблиц размер объединенной таблице соответствует ожиданиям\n",
    "print(f\"Размер данных объединенной таблицы:{len(user_rides_data)}\")"
   ]
  },
  {
   "cell_type": "code",
   "execution_count": 42,
   "id": "fad32097",
   "metadata": {},
   "outputs": [
    {
     "data": {
      "text/plain": [
       "user_id              0\n",
       "name                 0\n",
       "age                  0\n",
       "city                 0\n",
       "subscription_type    0\n",
       "distance             0\n",
       "duration             0\n",
       "date                 0\n",
       "month                0\n",
       "dtype: int64"
      ]
     },
     "execution_count": 42,
     "metadata": {},
     "output_type": "execute_result"
    }
   ],
   "source": [
    "#контроль пропусков в данных (может есть пользователь без единой поездки?)\n",
    "user_rides_data.isna().sum()"
   ]
  },
  {
   "cell_type": "markdown",
   "id": "f08a78de",
   "metadata": {},
   "source": [
    "**Размер объединенной таблицы не превышает размера большей до объединения, пропусков в данных не появилось**"
   ]
  },
  {
   "cell_type": "code",
   "execution_count": 43,
   "id": "194c054c",
   "metadata": {},
   "outputs": [
    {
     "data": {
      "text/html": [
       "<div>\n",
       "<style scoped>\n",
       "    .dataframe tbody tr th:only-of-type {\n",
       "        vertical-align: middle;\n",
       "    }\n",
       "\n",
       "    .dataframe tbody tr th {\n",
       "        vertical-align: top;\n",
       "    }\n",
       "\n",
       "    .dataframe thead th {\n",
       "        text-align: right;\n",
       "    }\n",
       "</style>\n",
       "<table border=\"1\" class=\"dataframe\">\n",
       "  <thead>\n",
       "    <tr style=\"text-align: right;\">\n",
       "      <th></th>\n",
       "      <th>user_id</th>\n",
       "      <th>name</th>\n",
       "      <th>age</th>\n",
       "      <th>city</th>\n",
       "      <th>subscription_type</th>\n",
       "      <th>distance</th>\n",
       "      <th>duration</th>\n",
       "      <th>date</th>\n",
       "      <th>month</th>\n",
       "      <th>minute_price</th>\n",
       "      <th>start_ride_price</th>\n",
       "      <th>subscription_fee</th>\n",
       "    </tr>\n",
       "  </thead>\n",
       "  <tbody>\n",
       "    <tr>\n",
       "      <th>0</th>\n",
       "      <td>1</td>\n",
       "      <td>Кира</td>\n",
       "      <td>22</td>\n",
       "      <td>Тюмень</td>\n",
       "      <td>ultra</td>\n",
       "      <td>4409.919140</td>\n",
       "      <td>25.599769</td>\n",
       "      <td>2021-01-01</td>\n",
       "      <td>1</td>\n",
       "      <td>6</td>\n",
       "      <td>0</td>\n",
       "      <td>199</td>\n",
       "    </tr>\n",
       "    <tr>\n",
       "      <th>1</th>\n",
       "      <td>1</td>\n",
       "      <td>Кира</td>\n",
       "      <td>22</td>\n",
       "      <td>Тюмень</td>\n",
       "      <td>ultra</td>\n",
       "      <td>2617.592153</td>\n",
       "      <td>15.816871</td>\n",
       "      <td>2021-01-18</td>\n",
       "      <td>1</td>\n",
       "      <td>6</td>\n",
       "      <td>0</td>\n",
       "      <td>199</td>\n",
       "    </tr>\n",
       "    <tr>\n",
       "      <th>2</th>\n",
       "      <td>1</td>\n",
       "      <td>Кира</td>\n",
       "      <td>22</td>\n",
       "      <td>Тюмень</td>\n",
       "      <td>ultra</td>\n",
       "      <td>754.159807</td>\n",
       "      <td>6.232113</td>\n",
       "      <td>2021-04-20</td>\n",
       "      <td>4</td>\n",
       "      <td>6</td>\n",
       "      <td>0</td>\n",
       "      <td>199</td>\n",
       "    </tr>\n",
       "    <tr>\n",
       "      <th>3</th>\n",
       "      <td>1</td>\n",
       "      <td>Кира</td>\n",
       "      <td>22</td>\n",
       "      <td>Тюмень</td>\n",
       "      <td>ultra</td>\n",
       "      <td>2694.783254</td>\n",
       "      <td>18.511000</td>\n",
       "      <td>2021-08-11</td>\n",
       "      <td>8</td>\n",
       "      <td>6</td>\n",
       "      <td>0</td>\n",
       "      <td>199</td>\n",
       "    </tr>\n",
       "    <tr>\n",
       "      <th>4</th>\n",
       "      <td>1</td>\n",
       "      <td>Кира</td>\n",
       "      <td>22</td>\n",
       "      <td>Тюмень</td>\n",
       "      <td>ultra</td>\n",
       "      <td>4028.687306</td>\n",
       "      <td>26.265803</td>\n",
       "      <td>2021-08-28</td>\n",
       "      <td>8</td>\n",
       "      <td>6</td>\n",
       "      <td>0</td>\n",
       "      <td>199</td>\n",
       "    </tr>\n",
       "  </tbody>\n",
       "</table>\n",
       "</div>"
      ],
      "text/plain": [
       "   user_id  name  age    city subscription_type     distance   duration  \\\n",
       "0        1  Кира   22  Тюмень             ultra  4409.919140  25.599769   \n",
       "1        1  Кира   22  Тюмень             ultra  2617.592153  15.816871   \n",
       "2        1  Кира   22  Тюмень             ultra   754.159807   6.232113   \n",
       "3        1  Кира   22  Тюмень             ultra  2694.783254  18.511000   \n",
       "4        1  Кира   22  Тюмень             ultra  4028.687306  26.265803   \n",
       "\n",
       "        date  month  minute_price  start_ride_price  subscription_fee  \n",
       "0 2021-01-01      1             6                 0               199  \n",
       "1 2021-01-18      1             6                 0               199  \n",
       "2 2021-04-20      4             6                 0               199  \n",
       "3 2021-08-11      8             6                 0               199  \n",
       "4 2021-08-28      8             6                 0               199  "
      ]
     },
     "execution_count": 43,
     "metadata": {},
     "output_type": "execute_result"
    }
   ],
   "source": [
    "#объединим данные о пользователях и поездках и о подписках\n",
    "user_rides_data= user_rides_data.merge(subscriptions_data, on='subscription_type')\n",
    "user_rides_data.head(5)"
   ]
  },
  {
   "cell_type": "code",
   "execution_count": 44,
   "id": "bb7836f9",
   "metadata": {},
   "outputs": [
    {
     "data": {
      "text/html": [
       "<div>\n",
       "<style scoped>\n",
       "    .dataframe tbody tr th:only-of-type {\n",
       "        vertical-align: middle;\n",
       "    }\n",
       "\n",
       "    .dataframe tbody tr th {\n",
       "        vertical-align: top;\n",
       "    }\n",
       "\n",
       "    .dataframe thead th {\n",
       "        text-align: right;\n",
       "    }\n",
       "</style>\n",
       "<table border=\"1\" class=\"dataframe\">\n",
       "  <thead>\n",
       "    <tr style=\"text-align: right;\">\n",
       "      <th></th>\n",
       "      <th>user_id</th>\n",
       "      <th>name</th>\n",
       "      <th>age</th>\n",
       "      <th>city</th>\n",
       "      <th>subscription_type</th>\n",
       "      <th>distance</th>\n",
       "      <th>duration</th>\n",
       "      <th>date</th>\n",
       "      <th>month</th>\n",
       "      <th>minute_price</th>\n",
       "      <th>start_ride_price</th>\n",
       "      <th>subscription_fee</th>\n",
       "    </tr>\n",
       "  </thead>\n",
       "  <tbody>\n",
       "    <tr>\n",
       "      <th>18063</th>\n",
       "      <td>1534</td>\n",
       "      <td>Альберт</td>\n",
       "      <td>25</td>\n",
       "      <td>Краснодар</td>\n",
       "      <td>free</td>\n",
       "      <td>3781.098080</td>\n",
       "      <td>19.822962</td>\n",
       "      <td>2021-11-04</td>\n",
       "      <td>11</td>\n",
       "      <td>8</td>\n",
       "      <td>50</td>\n",
       "      <td>0</td>\n",
       "    </tr>\n",
       "    <tr>\n",
       "      <th>18064</th>\n",
       "      <td>1534</td>\n",
       "      <td>Альберт</td>\n",
       "      <td>25</td>\n",
       "      <td>Краснодар</td>\n",
       "      <td>free</td>\n",
       "      <td>2840.423057</td>\n",
       "      <td>21.409799</td>\n",
       "      <td>2021-11-16</td>\n",
       "      <td>11</td>\n",
       "      <td>8</td>\n",
       "      <td>50</td>\n",
       "      <td>0</td>\n",
       "    </tr>\n",
       "    <tr>\n",
       "      <th>18065</th>\n",
       "      <td>1534</td>\n",
       "      <td>Альберт</td>\n",
       "      <td>25</td>\n",
       "      <td>Краснодар</td>\n",
       "      <td>free</td>\n",
       "      <td>3826.185507</td>\n",
       "      <td>18.435051</td>\n",
       "      <td>2021-11-18</td>\n",
       "      <td>11</td>\n",
       "      <td>8</td>\n",
       "      <td>50</td>\n",
       "      <td>0</td>\n",
       "    </tr>\n",
       "    <tr>\n",
       "      <th>18066</th>\n",
       "      <td>1534</td>\n",
       "      <td>Альберт</td>\n",
       "      <td>25</td>\n",
       "      <td>Краснодар</td>\n",
       "      <td>free</td>\n",
       "      <td>2902.308661</td>\n",
       "      <td>16.674362</td>\n",
       "      <td>2021-11-27</td>\n",
       "      <td>11</td>\n",
       "      <td>8</td>\n",
       "      <td>50</td>\n",
       "      <td>0</td>\n",
       "    </tr>\n",
       "    <tr>\n",
       "      <th>18067</th>\n",
       "      <td>1534</td>\n",
       "      <td>Альберт</td>\n",
       "      <td>25</td>\n",
       "      <td>Краснодар</td>\n",
       "      <td>free</td>\n",
       "      <td>2371.711192</td>\n",
       "      <td>15.893917</td>\n",
       "      <td>2021-12-29</td>\n",
       "      <td>12</td>\n",
       "      <td>8</td>\n",
       "      <td>50</td>\n",
       "      <td>0</td>\n",
       "    </tr>\n",
       "  </tbody>\n",
       "</table>\n",
       "</div>"
      ],
      "text/plain": [
       "       user_id     name  age       city subscription_type     distance  \\\n",
       "18063     1534  Альберт   25  Краснодар              free  3781.098080   \n",
       "18064     1534  Альберт   25  Краснодар              free  2840.423057   \n",
       "18065     1534  Альберт   25  Краснодар              free  3826.185507   \n",
       "18066     1534  Альберт   25  Краснодар              free  2902.308661   \n",
       "18067     1534  Альберт   25  Краснодар              free  2371.711192   \n",
       "\n",
       "        duration       date  month  minute_price  start_ride_price  \\\n",
       "18063  19.822962 2021-11-04     11             8                50   \n",
       "18064  21.409799 2021-11-16     11             8                50   \n",
       "18065  18.435051 2021-11-18     11             8                50   \n",
       "18066  16.674362 2021-11-27     11             8                50   \n",
       "18067  15.893917 2021-12-29     12             8                50   \n",
       "\n",
       "       subscription_fee  \n",
       "18063                 0  \n",
       "18064                 0  \n",
       "18065                 0  \n",
       "18066                 0  \n",
       "18067                 0  "
      ]
     },
     "execution_count": 44,
     "metadata": {},
     "output_type": "execute_result"
    }
   ],
   "source": [
    "user_rides_data.tail(5)"
   ]
  },
  {
   "cell_type": "markdown",
   "id": "3cf9acee",
   "metadata": {},
   "source": [
    "**4.2 Создание ещё двух датафреймов из датафрейма, созданного на этапе 4.1**"
   ]
  },
  {
   "cell_type": "code",
   "execution_count": 45,
   "id": "ae116be1",
   "metadata": {},
   "outputs": [
    {
     "data": {
      "text/html": [
       "<div>\n",
       "<style scoped>\n",
       "    .dataframe tbody tr th:only-of-type {\n",
       "        vertical-align: middle;\n",
       "    }\n",
       "\n",
       "    .dataframe tbody tr th {\n",
       "        vertical-align: top;\n",
       "    }\n",
       "\n",
       "    .dataframe thead th {\n",
       "        text-align: right;\n",
       "    }\n",
       "</style>\n",
       "<table border=\"1\" class=\"dataframe\">\n",
       "  <thead>\n",
       "    <tr style=\"text-align: right;\">\n",
       "      <th></th>\n",
       "      <th>user_id</th>\n",
       "      <th>name</th>\n",
       "      <th>age</th>\n",
       "      <th>city</th>\n",
       "      <th>subscription_type</th>\n",
       "      <th>distance</th>\n",
       "      <th>duration</th>\n",
       "      <th>date</th>\n",
       "      <th>month</th>\n",
       "      <th>minute_price</th>\n",
       "      <th>start_ride_price</th>\n",
       "      <th>subscription_fee</th>\n",
       "    </tr>\n",
       "  </thead>\n",
       "  <tbody>\n",
       "    <tr>\n",
       "      <th>6500</th>\n",
       "      <td>700</td>\n",
       "      <td>Айдар</td>\n",
       "      <td>22</td>\n",
       "      <td>Омск</td>\n",
       "      <td>free</td>\n",
       "      <td>2515.690719</td>\n",
       "      <td>14.944286</td>\n",
       "      <td>2021-01-02</td>\n",
       "      <td>1</td>\n",
       "      <td>8</td>\n",
       "      <td>50</td>\n",
       "      <td>0</td>\n",
       "    </tr>\n",
       "    <tr>\n",
       "      <th>6501</th>\n",
       "      <td>700</td>\n",
       "      <td>Айдар</td>\n",
       "      <td>22</td>\n",
       "      <td>Омск</td>\n",
       "      <td>free</td>\n",
       "      <td>846.932642</td>\n",
       "      <td>16.234663</td>\n",
       "      <td>2021-02-01</td>\n",
       "      <td>2</td>\n",
       "      <td>8</td>\n",
       "      <td>50</td>\n",
       "      <td>0</td>\n",
       "    </tr>\n",
       "    <tr>\n",
       "      <th>6502</th>\n",
       "      <td>700</td>\n",
       "      <td>Айдар</td>\n",
       "      <td>22</td>\n",
       "      <td>Омск</td>\n",
       "      <td>free</td>\n",
       "      <td>4004.434142</td>\n",
       "      <td>20.016628</td>\n",
       "      <td>2021-02-04</td>\n",
       "      <td>2</td>\n",
       "      <td>8</td>\n",
       "      <td>50</td>\n",
       "      <td>0</td>\n",
       "    </tr>\n",
       "    <tr>\n",
       "      <th>6503</th>\n",
       "      <td>700</td>\n",
       "      <td>Айдар</td>\n",
       "      <td>22</td>\n",
       "      <td>Омск</td>\n",
       "      <td>free</td>\n",
       "      <td>1205.911290</td>\n",
       "      <td>9.782872</td>\n",
       "      <td>2021-02-10</td>\n",
       "      <td>2</td>\n",
       "      <td>8</td>\n",
       "      <td>50</td>\n",
       "      <td>0</td>\n",
       "    </tr>\n",
       "    <tr>\n",
       "      <th>6504</th>\n",
       "      <td>700</td>\n",
       "      <td>Айдар</td>\n",
       "      <td>22</td>\n",
       "      <td>Омск</td>\n",
       "      <td>free</td>\n",
       "      <td>3047.379435</td>\n",
       "      <td>17.427673</td>\n",
       "      <td>2021-02-14</td>\n",
       "      <td>2</td>\n",
       "      <td>8</td>\n",
       "      <td>50</td>\n",
       "      <td>0</td>\n",
       "    </tr>\n",
       "  </tbody>\n",
       "</table>\n",
       "</div>"
      ],
      "text/plain": [
       "      user_id   name  age  city subscription_type     distance   duration  \\\n",
       "6500      700  Айдар   22  Омск              free  2515.690719  14.944286   \n",
       "6501      700  Айдар   22  Омск              free   846.932642  16.234663   \n",
       "6502      700  Айдар   22  Омск              free  4004.434142  20.016628   \n",
       "6503      700  Айдар   22  Омск              free  1205.911290   9.782872   \n",
       "6504      700  Айдар   22  Омск              free  3047.379435  17.427673   \n",
       "\n",
       "           date  month  minute_price  start_ride_price  subscription_fee  \n",
       "6500 2021-01-02      1             8                50                 0  \n",
       "6501 2021-02-01      2             8                50                 0  \n",
       "6502 2021-02-04      2             8                50                 0  \n",
       "6503 2021-02-10      2             8                50                 0  \n",
       "6504 2021-02-14      2             8                50                 0  "
      ]
     },
     "execution_count": 45,
     "metadata": {},
     "output_type": "execute_result"
    }
   ],
   "source": [
    "#данные о пользователях без подписки\n",
    "user_rides_data_ws= user_rides_data[user_rides_data['subscription_type']=='free']\n",
    "user_rides_data_ws.head()"
   ]
  },
  {
   "cell_type": "code",
   "execution_count": 46,
   "id": "aa5d84ca",
   "metadata": {},
   "outputs": [
    {
     "data": {
      "text/html": [
       "<div>\n",
       "<style scoped>\n",
       "    .dataframe tbody tr th:only-of-type {\n",
       "        vertical-align: middle;\n",
       "    }\n",
       "\n",
       "    .dataframe tbody tr th {\n",
       "        vertical-align: top;\n",
       "    }\n",
       "\n",
       "    .dataframe thead th {\n",
       "        text-align: right;\n",
       "    }\n",
       "</style>\n",
       "<table border=\"1\" class=\"dataframe\">\n",
       "  <thead>\n",
       "    <tr style=\"text-align: right;\">\n",
       "      <th></th>\n",
       "      <th>user_id</th>\n",
       "      <th>name</th>\n",
       "      <th>age</th>\n",
       "      <th>city</th>\n",
       "      <th>subscription_type</th>\n",
       "      <th>distance</th>\n",
       "      <th>duration</th>\n",
       "      <th>date</th>\n",
       "      <th>month</th>\n",
       "      <th>minute_price</th>\n",
       "      <th>start_ride_price</th>\n",
       "      <th>subscription_fee</th>\n",
       "    </tr>\n",
       "  </thead>\n",
       "  <tbody>\n",
       "    <tr>\n",
       "      <th>0</th>\n",
       "      <td>1</td>\n",
       "      <td>Кира</td>\n",
       "      <td>22</td>\n",
       "      <td>Тюмень</td>\n",
       "      <td>ultra</td>\n",
       "      <td>4409.919140</td>\n",
       "      <td>25.599769</td>\n",
       "      <td>2021-01-01</td>\n",
       "      <td>1</td>\n",
       "      <td>6</td>\n",
       "      <td>0</td>\n",
       "      <td>199</td>\n",
       "    </tr>\n",
       "    <tr>\n",
       "      <th>1</th>\n",
       "      <td>1</td>\n",
       "      <td>Кира</td>\n",
       "      <td>22</td>\n",
       "      <td>Тюмень</td>\n",
       "      <td>ultra</td>\n",
       "      <td>2617.592153</td>\n",
       "      <td>15.816871</td>\n",
       "      <td>2021-01-18</td>\n",
       "      <td>1</td>\n",
       "      <td>6</td>\n",
       "      <td>0</td>\n",
       "      <td>199</td>\n",
       "    </tr>\n",
       "    <tr>\n",
       "      <th>2</th>\n",
       "      <td>1</td>\n",
       "      <td>Кира</td>\n",
       "      <td>22</td>\n",
       "      <td>Тюмень</td>\n",
       "      <td>ultra</td>\n",
       "      <td>754.159807</td>\n",
       "      <td>6.232113</td>\n",
       "      <td>2021-04-20</td>\n",
       "      <td>4</td>\n",
       "      <td>6</td>\n",
       "      <td>0</td>\n",
       "      <td>199</td>\n",
       "    </tr>\n",
       "    <tr>\n",
       "      <th>3</th>\n",
       "      <td>1</td>\n",
       "      <td>Кира</td>\n",
       "      <td>22</td>\n",
       "      <td>Тюмень</td>\n",
       "      <td>ultra</td>\n",
       "      <td>2694.783254</td>\n",
       "      <td>18.511000</td>\n",
       "      <td>2021-08-11</td>\n",
       "      <td>8</td>\n",
       "      <td>6</td>\n",
       "      <td>0</td>\n",
       "      <td>199</td>\n",
       "    </tr>\n",
       "    <tr>\n",
       "      <th>4</th>\n",
       "      <td>1</td>\n",
       "      <td>Кира</td>\n",
       "      <td>22</td>\n",
       "      <td>Тюмень</td>\n",
       "      <td>ultra</td>\n",
       "      <td>4028.687306</td>\n",
       "      <td>26.265803</td>\n",
       "      <td>2021-08-28</td>\n",
       "      <td>8</td>\n",
       "      <td>6</td>\n",
       "      <td>0</td>\n",
       "      <td>199</td>\n",
       "    </tr>\n",
       "  </tbody>\n",
       "</table>\n",
       "</div>"
      ],
      "text/plain": [
       "   user_id  name  age    city subscription_type     distance   duration  \\\n",
       "0        1  Кира   22  Тюмень             ultra  4409.919140  25.599769   \n",
       "1        1  Кира   22  Тюмень             ultra  2617.592153  15.816871   \n",
       "2        1  Кира   22  Тюмень             ultra   754.159807   6.232113   \n",
       "3        1  Кира   22  Тюмень             ultra  2694.783254  18.511000   \n",
       "4        1  Кира   22  Тюмень             ultra  4028.687306  26.265803   \n",
       "\n",
       "        date  month  minute_price  start_ride_price  subscription_fee  \n",
       "0 2021-01-01      1             6                 0               199  \n",
       "1 2021-01-18      1             6                 0               199  \n",
       "2 2021-04-20      4             6                 0               199  \n",
       "3 2021-08-11      8             6                 0               199  \n",
       "4 2021-08-28      8             6                 0               199  "
      ]
     },
     "execution_count": 46,
     "metadata": {},
     "output_type": "execute_result"
    }
   ],
   "source": [
    "#данные о пользователях c подпиской\n",
    "user_rides_data_subscr= user_rides_data[user_rides_data['subscription_type']=='ultra']\n",
    "user_rides_data_subscr.head()"
   ]
  },
  {
   "cell_type": "markdown",
   "id": "843482a6",
   "metadata": {},
   "source": [
    "**4.3 Визуализация информации о расстоянии и времени поездок**"
   ]
  },
  {
   "cell_type": "code",
   "execution_count": 47,
   "id": "69fccacd",
   "metadata": {},
   "outputs": [
    {
     "data": {
      "image/png": "[encoded data removed]",
      "text/plain": [
       "<Figure size 1500x500 with 1 Axes>"
      ]
     },
     "metadata": {},
     "output_type": "display_data"
    },
    {
     "data": {
      "image/png": "[encoded data removed]",
      "text/plain": [
       "<Figure size 1500x500 with 1 Axes>"
      ]
     },
     "metadata": {},
     "output_type": "display_data"
    }
   ],
   "source": [
    "#визуализация информации о расстоянии для пользователей без подписки\n",
    "plt.figure(1)\n",
    "user_rides_data_ws['distance'].hist(bins=100, figsize=(15,5))\n",
    "plt.xlim(xmin=0)\n",
    "plt.xlim(xmax=7500)\n",
    "plt.xlabel('Расстояние за поездку, м')\n",
    "plt.ylabel('Количество поездок')\n",
    "plt.title('Распределение расстояний поездок пользователей без подписки')\n",
    "\n",
    "plt.figure(2)\n",
    "user_rides_data_subscr['distance'].hist(bins=100, figsize=(15,5))\n",
    "plt.xlim(xmin=0)\n",
    "plt.xlim(xmax=7500)\n",
    "plt.xlabel('Расстояние за поездку, м')\n",
    "plt.ylabel('Количество поездок')\n",
    "plt.title('Распределение расстояний поездок пользователей с подпиской')\n",
    "plt.show()"
   ]
  },
  {
   "cell_type": "code",
   "execution_count": 48,
   "id": "34b4b4bc",
   "metadata": {},
   "outputs": [
    {
     "data": {
      "image/png": "[encoded data removed]",
      "text/plain": [
       "<Figure size 1500x500 with 1 Axes>"
      ]
     },
     "metadata": {},
     "output_type": "display_data"
    },
    {
     "data": {
      "image/png": "[encoded data removed]",
      "text/plain": [
       "<Figure size 1500x500 with 1 Axes>"
      ]
     },
     "metadata": {},
     "output_type": "display_data"
    }
   ],
   "source": [
    "#визуализация информации о продолжительности для пользователей без подписки\n",
    "plt.figure(1)\n",
    "user_rides_data_ws['duration'].hist(bins=100, figsize=(15,5))\n",
    "plt.xlabel('Продолжительность поездок, мин')\n",
    "plt.ylabel('Количество поездок')\n",
    "plt.xlim(xmin=0)\n",
    "plt.xlim(xmax=45)\n",
    "plt.title('Распределение продолжительности поездок пользователей без подписки')\n",
    "#визуализация информации о продолжительности для пользователей c подпиской\n",
    "plt.figure(2)\n",
    "user_rides_data_subscr['duration'].hist(bins=100, figsize=(15,5))\n",
    "plt.xlabel('Продолжительность поездок, мин')\n",
    "plt.ylabel('Количество поездок')\n",
    "plt.xlim(xmin=0)\n",
    "plt.xlim(xmax=45)\n",
    "plt.title('Распределение продолжительности поездок пользователей с подпиской')\n",
    "\n",
    "plt.show()"
   ]
  },
  {
   "cell_type": "code",
   "execution_count": 49,
   "id": "eb0f4f83",
   "metadata": {},
   "outputs": [
    {
     "data": {
      "text/plain": [
       "count    11568.000000\n",
       "mean      3045.495282\n",
       "std       1246.173806\n",
       "min          0.855683\n",
       "25%       2366.562689\n",
       "50%       3114.648465\n",
       "75%       3905.697894\n",
       "max       7211.007745\n",
       "Name: distance, dtype: float64"
      ]
     },
     "execution_count": 49,
     "metadata": {},
     "output_type": "execute_result"
    }
   ],
   "source": [
    "#показатели распредления расстояния для пользователей с подпиской\n",
    "user_rides_data_ws['distance'].describe()"
   ]
  },
  {
   "cell_type": "code",
   "execution_count": 50,
   "id": "9e7f9f4e",
   "metadata": {},
   "outputs": [
    {
     "data": {
      "text/plain": [
       "count    6500.000000\n",
       "mean     3115.445388\n",
       "std       836.895330\n",
       "min       244.210438\n",
       "25%      2785.444017\n",
       "50%      3148.637229\n",
       "75%      3560.574425\n",
       "max      5699.769662\n",
       "Name: distance, dtype: float64"
      ]
     },
     "execution_count": 50,
     "metadata": {},
     "output_type": "execute_result"
    }
   ],
   "source": [
    "#показатели распредления расстояния для пользователей с подпиской\n",
    "user_rides_data_subscr['distance'].describe()"
   ]
  },
  {
   "cell_type": "code",
   "execution_count": 51,
   "id": "214a547b",
   "metadata": {},
   "outputs": [
    {
     "data": {
      "text/plain": [
       "count    11568.000000\n",
       "mean        17.390909\n",
       "std          6.326803\n",
       "min          0.500000\n",
       "25%         12.958437\n",
       "50%         17.326890\n",
       "75%         21.594071\n",
       "max         34.948498\n",
       "Name: duration, dtype: float64"
      ]
     },
     "execution_count": 51,
     "metadata": {},
     "output_type": "execute_result"
    }
   ],
   "source": [
    "#показатели распредления длительности для пользователей с подпиской\n",
    "user_rides_data_ws['duration'].describe()"
   ]
  },
  {
   "cell_type": "code",
   "execution_count": 52,
   "id": "28ef3841",
   "metadata": {},
   "outputs": [
    {
     "data": {
      "text/plain": [
       "count    6500.000000\n",
       "mean       18.541985\n",
       "std         5.572048\n",
       "min         3.760353\n",
       "25%        14.524654\n",
       "50%        18.178153\n",
       "75%        21.884129\n",
       "max        40.823963\n",
       "Name: duration, dtype: float64"
      ]
     },
     "execution_count": 52,
     "metadata": {},
     "output_type": "execute_result"
    }
   ],
   "source": [
    "#показатели распредления длительности для пользователей с подпиской\n",
    "user_rides_data_subscr['duration'].describe()"
   ]
  },
  {
   "cell_type": "markdown",
   "id": "6c7a6f3a",
   "metadata": {},
   "source": [
    "**Вывод: распределение длительности и расстояния для пользователей с подпиской имеет меньшую дисперсию. Средние значения тоже немного выше у пользователей с подпиской, видимо за счет экономии в стоимости за 1 минуту** "
   ]
  },
  {
   "cell_type": "markdown",
   "id": "402d620f",
   "metadata": {},
   "source": [
    "# Шаг 5. Подсчёт выручки"
   ]
  },
  {
   "cell_type": "markdown",
   "id": "223c86f5",
   "metadata": {},
   "source": [
    "**5.1 Датафрейм с агрегированными данными о поездках**"
   ]
  },
  {
   "cell_type": "code",
   "execution_count": 53,
   "id": "724e06c9",
   "metadata": {},
   "outputs": [
    {
     "data": {
      "text/html": [
       "<div>\n",
       "<style scoped>\n",
       "    .dataframe tbody tr th:only-of-type {\n",
       "        vertical-align: middle;\n",
       "    }\n",
       "\n",
       "    .dataframe tbody tr th {\n",
       "        vertical-align: top;\n",
       "    }\n",
       "\n",
       "    .dataframe thead th {\n",
       "        text-align: right;\n",
       "    }\n",
       "</style>\n",
       "<table border=\"1\" class=\"dataframe\">\n",
       "  <thead>\n",
       "    <tr style=\"text-align: right;\">\n",
       "      <th></th>\n",
       "      <th></th>\n",
       "      <th>distance</th>\n",
       "      <th>duration</th>\n",
       "      <th>count</th>\n",
       "    </tr>\n",
       "    <tr>\n",
       "      <th>user_id</th>\n",
       "      <th>month</th>\n",
       "      <th></th>\n",
       "      <th></th>\n",
       "      <th></th>\n",
       "    </tr>\n",
       "  </thead>\n",
       "  <tbody>\n",
       "    <tr>\n",
       "      <th rowspan=\"6\" valign=\"top\">1</th>\n",
       "      <th>1</th>\n",
       "      <td>7027.511294</td>\n",
       "      <td>41.416640</td>\n",
       "      <td>2</td>\n",
       "    </tr>\n",
       "    <tr>\n",
       "      <th>4</th>\n",
       "      <td>754.159807</td>\n",
       "      <td>6.232113</td>\n",
       "      <td>1</td>\n",
       "    </tr>\n",
       "    <tr>\n",
       "      <th>8</th>\n",
       "      <td>6723.470560</td>\n",
       "      <td>44.776802</td>\n",
       "      <td>2</td>\n",
       "    </tr>\n",
       "    <tr>\n",
       "      <th>10</th>\n",
       "      <td>5809.911100</td>\n",
       "      <td>31.578017</td>\n",
       "      <td>2</td>\n",
       "    </tr>\n",
       "    <tr>\n",
       "      <th>11</th>\n",
       "      <td>7003.499363</td>\n",
       "      <td>53.397424</td>\n",
       "      <td>3</td>\n",
       "    </tr>\n",
       "    <tr>\n",
       "      <th>12</th>\n",
       "      <td>6751.629942</td>\n",
       "      <td>27.203912</td>\n",
       "      <td>2</td>\n",
       "    </tr>\n",
       "    <tr>\n",
       "      <th rowspan=\"4\" valign=\"top\">2</th>\n",
       "      <th>3</th>\n",
       "      <td>10187.723006</td>\n",
       "      <td>60.959959</td>\n",
       "      <td>3</td>\n",
       "    </tr>\n",
       "    <tr>\n",
       "      <th>4</th>\n",
       "      <td>6164.381824</td>\n",
       "      <td>39.048633</td>\n",
       "      <td>2</td>\n",
       "    </tr>\n",
       "    <tr>\n",
       "      <th>6</th>\n",
       "      <td>3255.338202</td>\n",
       "      <td>13.851127</td>\n",
       "      <td>1</td>\n",
       "    </tr>\n",
       "    <tr>\n",
       "      <th>7</th>\n",
       "      <td>6780.722964</td>\n",
       "      <td>46.170157</td>\n",
       "      <td>2</td>\n",
       "    </tr>\n",
       "  </tbody>\n",
       "</table>\n",
       "</div>"
      ],
      "text/plain": [
       "                   distance   duration  count\n",
       "user_id month                                \n",
       "1       1       7027.511294  41.416640      2\n",
       "        4        754.159807   6.232113      1\n",
       "        8       6723.470560  44.776802      2\n",
       "        10      5809.911100  31.578017      2\n",
       "        11      7003.499363  53.397424      3\n",
       "        12      6751.629942  27.203912      2\n",
       "2       3      10187.723006  60.959959      3\n",
       "        4       6164.381824  39.048633      2\n",
       "        6       3255.338202  13.851127      1\n",
       "        7       6780.722964  46.170157      2"
      ]
     },
     "execution_count": 53,
     "metadata": {},
     "output_type": "execute_result"
    }
   ],
   "source": [
    "#Датафрейм с агрегированными данными \n",
    "user_rides_data_aggr=user_rides_data.pivot_table(index=['user_id','month'], values=['distance','duration'], aggfunc=['sum','count'])\n",
    "user_rides_data_aggr.columns=['distance','duration','count', 'count2']\n",
    "user_rides_data_aggr= user_rides_data_aggr.drop(columns='count2')\n",
    "user_rides_data_aggr.head(10)"
   ]
  },
  {
   "cell_type": "code",
   "execution_count": 54,
   "id": "6eb352a0",
   "metadata": {},
   "outputs": [
    {
     "data": {
      "text/html": [
       "<div>\n",
       "<style scoped>\n",
       "    .dataframe tbody tr th:only-of-type {\n",
       "        vertical-align: middle;\n",
       "    }\n",
       "\n",
       "    .dataframe tbody tr th {\n",
       "        vertical-align: top;\n",
       "    }\n",
       "\n",
       "    .dataframe thead th {\n",
       "        text-align: right;\n",
       "    }\n",
       "</style>\n",
       "<table border=\"1\" class=\"dataframe\">\n",
       "  <thead>\n",
       "    <tr style=\"text-align: right;\">\n",
       "      <th></th>\n",
       "      <th></th>\n",
       "      <th>minute_price</th>\n",
       "      <th>start_ride_price</th>\n",
       "      <th>subscription_fee</th>\n",
       "    </tr>\n",
       "    <tr>\n",
       "      <th>user_id</th>\n",
       "      <th>month</th>\n",
       "      <th></th>\n",
       "      <th></th>\n",
       "      <th></th>\n",
       "    </tr>\n",
       "  </thead>\n",
       "  <tbody>\n",
       "    <tr>\n",
       "      <th rowspan=\"5\" valign=\"top\">1</th>\n",
       "      <th>1</th>\n",
       "      <td>6</td>\n",
       "      <td>0</td>\n",
       "      <td>199</td>\n",
       "    </tr>\n",
       "    <tr>\n",
       "      <th>4</th>\n",
       "      <td>6</td>\n",
       "      <td>0</td>\n",
       "      <td>199</td>\n",
       "    </tr>\n",
       "    <tr>\n",
       "      <th>8</th>\n",
       "      <td>6</td>\n",
       "      <td>0</td>\n",
       "      <td>199</td>\n",
       "    </tr>\n",
       "    <tr>\n",
       "      <th>10</th>\n",
       "      <td>6</td>\n",
       "      <td>0</td>\n",
       "      <td>199</td>\n",
       "    </tr>\n",
       "    <tr>\n",
       "      <th>11</th>\n",
       "      <td>6</td>\n",
       "      <td>0</td>\n",
       "      <td>199</td>\n",
       "    </tr>\n",
       "  </tbody>\n",
       "</table>\n",
       "</div>"
      ],
      "text/plain": [
       "               minute_price  start_ride_price  subscription_fee\n",
       "user_id month                                                  \n",
       "1       1                 6                 0               199\n",
       "        4                 6                 0               199\n",
       "        8                 6                 0               199\n",
       "        10                6                 0               199\n",
       "        11                6                 0               199"
      ]
     },
     "execution_count": 54,
     "metadata": {},
     "output_type": "execute_result"
    }
   ],
   "source": [
    "#подготовим часть данных по ценам\n",
    "price_df=user_rides_data.pivot_table(index=['user_id','month'], values=['start_ride_price','minute_price','subscription_fee'], aggfunc='median')\n",
    "price_df.head()"
   ]
  },
  {
   "cell_type": "code",
   "execution_count": 55,
   "id": "85c7a791",
   "metadata": {},
   "outputs": [
    {
     "data": {
      "text/html": [
       "<div>\n",
       "<style scoped>\n",
       "    .dataframe tbody tr th:only-of-type {\n",
       "        vertical-align: middle;\n",
       "    }\n",
       "\n",
       "    .dataframe tbody tr th {\n",
       "        vertical-align: top;\n",
       "    }\n",
       "\n",
       "    .dataframe thead th {\n",
       "        text-align: right;\n",
       "    }\n",
       "</style>\n",
       "<table border=\"1\" class=\"dataframe\">\n",
       "  <thead>\n",
       "    <tr style=\"text-align: right;\">\n",
       "      <th></th>\n",
       "      <th></th>\n",
       "      <th>distance</th>\n",
       "      <th>duration</th>\n",
       "      <th>count</th>\n",
       "      <th>minute_price</th>\n",
       "      <th>start_ride_price</th>\n",
       "      <th>subscription_fee</th>\n",
       "    </tr>\n",
       "    <tr>\n",
       "      <th>user_id</th>\n",
       "      <th>month</th>\n",
       "      <th></th>\n",
       "      <th></th>\n",
       "      <th></th>\n",
       "      <th></th>\n",
       "      <th></th>\n",
       "      <th></th>\n",
       "    </tr>\n",
       "  </thead>\n",
       "  <tbody>\n",
       "    <tr>\n",
       "      <th rowspan=\"6\" valign=\"top\">1</th>\n",
       "      <th>1</th>\n",
       "      <td>7027.511294</td>\n",
       "      <td>41.416640</td>\n",
       "      <td>2</td>\n",
       "      <td>6</td>\n",
       "      <td>0</td>\n",
       "      <td>199</td>\n",
       "    </tr>\n",
       "    <tr>\n",
       "      <th>4</th>\n",
       "      <td>754.159807</td>\n",
       "      <td>6.232113</td>\n",
       "      <td>1</td>\n",
       "      <td>6</td>\n",
       "      <td>0</td>\n",
       "      <td>199</td>\n",
       "    </tr>\n",
       "    <tr>\n",
       "      <th>8</th>\n",
       "      <td>6723.470560</td>\n",
       "      <td>44.776802</td>\n",
       "      <td>2</td>\n",
       "      <td>6</td>\n",
       "      <td>0</td>\n",
       "      <td>199</td>\n",
       "    </tr>\n",
       "    <tr>\n",
       "      <th>10</th>\n",
       "      <td>5809.911100</td>\n",
       "      <td>31.578017</td>\n",
       "      <td>2</td>\n",
       "      <td>6</td>\n",
       "      <td>0</td>\n",
       "      <td>199</td>\n",
       "    </tr>\n",
       "    <tr>\n",
       "      <th>11</th>\n",
       "      <td>7003.499363</td>\n",
       "      <td>53.397424</td>\n",
       "      <td>3</td>\n",
       "      <td>6</td>\n",
       "      <td>0</td>\n",
       "      <td>199</td>\n",
       "    </tr>\n",
       "    <tr>\n",
       "      <th>12</th>\n",
       "      <td>6751.629942</td>\n",
       "      <td>27.203912</td>\n",
       "      <td>2</td>\n",
       "      <td>6</td>\n",
       "      <td>0</td>\n",
       "      <td>199</td>\n",
       "    </tr>\n",
       "    <tr>\n",
       "      <th rowspan=\"4\" valign=\"top\">2</th>\n",
       "      <th>3</th>\n",
       "      <td>10187.723006</td>\n",
       "      <td>60.959959</td>\n",
       "      <td>3</td>\n",
       "      <td>6</td>\n",
       "      <td>0</td>\n",
       "      <td>199</td>\n",
       "    </tr>\n",
       "    <tr>\n",
       "      <th>4</th>\n",
       "      <td>6164.381824</td>\n",
       "      <td>39.048633</td>\n",
       "      <td>2</td>\n",
       "      <td>6</td>\n",
       "      <td>0</td>\n",
       "      <td>199</td>\n",
       "    </tr>\n",
       "    <tr>\n",
       "      <th>6</th>\n",
       "      <td>3255.338202</td>\n",
       "      <td>13.851127</td>\n",
       "      <td>1</td>\n",
       "      <td>6</td>\n",
       "      <td>0</td>\n",
       "      <td>199</td>\n",
       "    </tr>\n",
       "    <tr>\n",
       "      <th>7</th>\n",
       "      <td>6780.722964</td>\n",
       "      <td>46.170157</td>\n",
       "      <td>2</td>\n",
       "      <td>6</td>\n",
       "      <td>0</td>\n",
       "      <td>199</td>\n",
       "    </tr>\n",
       "  </tbody>\n",
       "</table>\n",
       "</div>"
      ],
      "text/plain": [
       "                   distance   duration  count  minute_price  start_ride_price  \\\n",
       "user_id month                                                                   \n",
       "1       1       7027.511294  41.416640      2             6                 0   \n",
       "        4        754.159807   6.232113      1             6                 0   \n",
       "        8       6723.470560  44.776802      2             6                 0   \n",
       "        10      5809.911100  31.578017      2             6                 0   \n",
       "        11      7003.499363  53.397424      3             6                 0   \n",
       "        12      6751.629942  27.203912      2             6                 0   \n",
       "2       3      10187.723006  60.959959      3             6                 0   \n",
       "        4       6164.381824  39.048633      2             6                 0   \n",
       "        6       3255.338202  13.851127      1             6                 0   \n",
       "        7       6780.722964  46.170157      2             6                 0   \n",
       "\n",
       "               subscription_fee  \n",
       "user_id month                    \n",
       "1       1                   199  \n",
       "        4                   199  \n",
       "        8                   199  \n",
       "        10                  199  \n",
       "        11                  199  \n",
       "        12                  199  \n",
       "2       3                   199  \n",
       "        4                   199  \n",
       "        6                   199  \n",
       "        7                   199  "
      ]
     },
     "execution_count": 55,
     "metadata": {},
     "output_type": "execute_result"
    }
   ],
   "source": [
    "#добавляем данные о ценах в агрегированную таблицу\n",
    "user_rides_data_aggr['minute_price']=price_df['minute_price']\n",
    "user_rides_data_aggr['start_ride_price']=price_df['start_ride_price']\n",
    "user_rides_data_aggr['subscription_fee']=price_df['subscription_fee']\n",
    "user_rides_data_aggr.head(10)"
   ]
  },
  {
   "cell_type": "markdown",
   "id": "88edb064",
   "metadata": {},
   "source": [
    "**5.2 Подсчет выручки**"
   ]
  },
  {
   "cell_type": "code",
   "execution_count": 56,
   "id": "420ff9bc",
   "metadata": {},
   "outputs": [
    {
     "data": {
      "text/html": [
       "<div>\n",
       "<style scoped>\n",
       "    .dataframe tbody tr th:only-of-type {\n",
       "        vertical-align: middle;\n",
       "    }\n",
       "\n",
       "    .dataframe tbody tr th {\n",
       "        vertical-align: top;\n",
       "    }\n",
       "\n",
       "    .dataframe thead th {\n",
       "        text-align: right;\n",
       "    }\n",
       "</style>\n",
       "<table border=\"1\" class=\"dataframe\">\n",
       "  <thead>\n",
       "    <tr style=\"text-align: right;\">\n",
       "      <th></th>\n",
       "      <th></th>\n",
       "      <th>distance</th>\n",
       "      <th>duration</th>\n",
       "      <th>count</th>\n",
       "      <th>minute_price</th>\n",
       "      <th>start_ride_price</th>\n",
       "      <th>subscription_fee</th>\n",
       "    </tr>\n",
       "    <tr>\n",
       "      <th>user_id</th>\n",
       "      <th>month</th>\n",
       "      <th></th>\n",
       "      <th></th>\n",
       "      <th></th>\n",
       "      <th></th>\n",
       "      <th></th>\n",
       "      <th></th>\n",
       "    </tr>\n",
       "  </thead>\n",
       "  <tbody>\n",
       "    <tr>\n",
       "      <th rowspan=\"6\" valign=\"top\">1</th>\n",
       "      <th>1</th>\n",
       "      <td>7027.511294</td>\n",
       "      <td>42.0</td>\n",
       "      <td>2</td>\n",
       "      <td>6</td>\n",
       "      <td>0</td>\n",
       "      <td>199</td>\n",
       "    </tr>\n",
       "    <tr>\n",
       "      <th>4</th>\n",
       "      <td>754.159807</td>\n",
       "      <td>7.0</td>\n",
       "      <td>1</td>\n",
       "      <td>6</td>\n",
       "      <td>0</td>\n",
       "      <td>199</td>\n",
       "    </tr>\n",
       "    <tr>\n",
       "      <th>8</th>\n",
       "      <td>6723.470560</td>\n",
       "      <td>45.0</td>\n",
       "      <td>2</td>\n",
       "      <td>6</td>\n",
       "      <td>0</td>\n",
       "      <td>199</td>\n",
       "    </tr>\n",
       "    <tr>\n",
       "      <th>10</th>\n",
       "      <td>5809.911100</td>\n",
       "      <td>32.0</td>\n",
       "      <td>2</td>\n",
       "      <td>6</td>\n",
       "      <td>0</td>\n",
       "      <td>199</td>\n",
       "    </tr>\n",
       "    <tr>\n",
       "      <th>11</th>\n",
       "      <td>7003.499363</td>\n",
       "      <td>54.0</td>\n",
       "      <td>3</td>\n",
       "      <td>6</td>\n",
       "      <td>0</td>\n",
       "      <td>199</td>\n",
       "    </tr>\n",
       "    <tr>\n",
       "      <th>12</th>\n",
       "      <td>6751.629942</td>\n",
       "      <td>28.0</td>\n",
       "      <td>2</td>\n",
       "      <td>6</td>\n",
       "      <td>0</td>\n",
       "      <td>199</td>\n",
       "    </tr>\n",
       "    <tr>\n",
       "      <th rowspan=\"4\" valign=\"top\">2</th>\n",
       "      <th>3</th>\n",
       "      <td>10187.723006</td>\n",
       "      <td>61.0</td>\n",
       "      <td>3</td>\n",
       "      <td>6</td>\n",
       "      <td>0</td>\n",
       "      <td>199</td>\n",
       "    </tr>\n",
       "    <tr>\n",
       "      <th>4</th>\n",
       "      <td>6164.381824</td>\n",
       "      <td>40.0</td>\n",
       "      <td>2</td>\n",
       "      <td>6</td>\n",
       "      <td>0</td>\n",
       "      <td>199</td>\n",
       "    </tr>\n",
       "    <tr>\n",
       "      <th>6</th>\n",
       "      <td>3255.338202</td>\n",
       "      <td>14.0</td>\n",
       "      <td>1</td>\n",
       "      <td>6</td>\n",
       "      <td>0</td>\n",
       "      <td>199</td>\n",
       "    </tr>\n",
       "    <tr>\n",
       "      <th>7</th>\n",
       "      <td>6780.722964</td>\n",
       "      <td>47.0</td>\n",
       "      <td>2</td>\n",
       "      <td>6</td>\n",
       "      <td>0</td>\n",
       "      <td>199</td>\n",
       "    </tr>\n",
       "  </tbody>\n",
       "</table>\n",
       "</div>"
      ],
      "text/plain": [
       "                   distance  duration  count  minute_price  start_ride_price  \\\n",
       "user_id month                                                                  \n",
       "1       1       7027.511294      42.0      2             6                 0   \n",
       "        4        754.159807       7.0      1             6                 0   \n",
       "        8       6723.470560      45.0      2             6                 0   \n",
       "        10      5809.911100      32.0      2             6                 0   \n",
       "        11      7003.499363      54.0      3             6                 0   \n",
       "        12      6751.629942      28.0      2             6                 0   \n",
       "2       3      10187.723006      61.0      3             6                 0   \n",
       "        4       6164.381824      40.0      2             6                 0   \n",
       "        6       3255.338202      14.0      1             6                 0   \n",
       "        7       6780.722964      47.0      2             6                 0   \n",
       "\n",
       "               subscription_fee  \n",
       "user_id month                    \n",
       "1       1                   199  \n",
       "        4                   199  \n",
       "        8                   199  \n",
       "        10                  199  \n",
       "        11                  199  \n",
       "        12                  199  \n",
       "2       3                   199  \n",
       "        4                   199  \n",
       "        6                   199  \n",
       "        7                   199  "
      ]
     },
     "execution_count": 56,
     "metadata": {},
     "output_type": "execute_result"
    }
   ],
   "source": [
    "#округлим продолжительность каждой поездки до целого числа (вверх)\n",
    "user_rides_data_aggr['duration'] = np.ceil(user_rides_data_aggr['duration']) \n",
    "user_rides_data_aggr.head(10)"
   ]
  },
  {
   "cell_type": "code",
   "execution_count": 57,
   "id": "ed3393bf",
   "metadata": {},
   "outputs": [
    {
     "data": {
      "text/html": [
       "<div>\n",
       "<style scoped>\n",
       "    .dataframe tbody tr th:only-of-type {\n",
       "        vertical-align: middle;\n",
       "    }\n",
       "\n",
       "    .dataframe tbody tr th {\n",
       "        vertical-align: top;\n",
       "    }\n",
       "\n",
       "    .dataframe thead th {\n",
       "        text-align: right;\n",
       "    }\n",
       "</style>\n",
       "<table border=\"1\" class=\"dataframe\">\n",
       "  <thead>\n",
       "    <tr style=\"text-align: right;\">\n",
       "      <th></th>\n",
       "      <th></th>\n",
       "      <th>distance</th>\n",
       "      <th>duration</th>\n",
       "      <th>count</th>\n",
       "      <th>minute_price</th>\n",
       "      <th>start_ride_price</th>\n",
       "      <th>subscription_fee</th>\n",
       "    </tr>\n",
       "    <tr>\n",
       "      <th>user_id</th>\n",
       "      <th>month</th>\n",
       "      <th></th>\n",
       "      <th></th>\n",
       "      <th></th>\n",
       "      <th></th>\n",
       "      <th></th>\n",
       "      <th></th>\n",
       "    </tr>\n",
       "  </thead>\n",
       "  <tbody>\n",
       "    <tr>\n",
       "      <th rowspan=\"2\" valign=\"top\">1533</th>\n",
       "      <th>8</th>\n",
       "      <td>4581.943632</td>\n",
       "      <td>22.0</td>\n",
       "      <td>1</td>\n",
       "      <td>8</td>\n",
       "      <td>50</td>\n",
       "      <td>0</td>\n",
       "    </tr>\n",
       "    <tr>\n",
       "      <th>11</th>\n",
       "      <td>3414.448028</td>\n",
       "      <td>26.0</td>\n",
       "      <td>1</td>\n",
       "      <td>8</td>\n",
       "      <td>50</td>\n",
       "      <td>0</td>\n",
       "    </tr>\n",
       "    <tr>\n",
       "      <th rowspan=\"8\" valign=\"top\">1534</th>\n",
       "      <th>1</th>\n",
       "      <td>4678.415899</td>\n",
       "      <td>16.0</td>\n",
       "      <td>1</td>\n",
       "      <td>8</td>\n",
       "      <td>50</td>\n",
       "      <td>0</td>\n",
       "    </tr>\n",
       "    <tr>\n",
       "      <th>2</th>\n",
       "      <td>2103.914120</td>\n",
       "      <td>14.0</td>\n",
       "      <td>1</td>\n",
       "      <td>8</td>\n",
       "      <td>50</td>\n",
       "      <td>0</td>\n",
       "    </tr>\n",
       "    <tr>\n",
       "      <th>4</th>\n",
       "      <td>3434.290912</td>\n",
       "      <td>15.0</td>\n",
       "      <td>1</td>\n",
       "      <td>8</td>\n",
       "      <td>50</td>\n",
       "      <td>0</td>\n",
       "    </tr>\n",
       "    <tr>\n",
       "      <th>6</th>\n",
       "      <td>3409.468534</td>\n",
       "      <td>25.0</td>\n",
       "      <td>2</td>\n",
       "      <td>8</td>\n",
       "      <td>50</td>\n",
       "      <td>0</td>\n",
       "    </tr>\n",
       "    <tr>\n",
       "      <th>8</th>\n",
       "      <td>7622.453034</td>\n",
       "      <td>48.0</td>\n",
       "      <td>2</td>\n",
       "      <td>8</td>\n",
       "      <td>50</td>\n",
       "      <td>0</td>\n",
       "    </tr>\n",
       "    <tr>\n",
       "      <th>9</th>\n",
       "      <td>4928.173852</td>\n",
       "      <td>23.0</td>\n",
       "      <td>1</td>\n",
       "      <td>8</td>\n",
       "      <td>50</td>\n",
       "      <td>0</td>\n",
       "    </tr>\n",
       "    <tr>\n",
       "      <th>11</th>\n",
       "      <td>13350.015305</td>\n",
       "      <td>77.0</td>\n",
       "      <td>4</td>\n",
       "      <td>8</td>\n",
       "      <td>50</td>\n",
       "      <td>0</td>\n",
       "    </tr>\n",
       "    <tr>\n",
       "      <th>12</th>\n",
       "      <td>2371.711192</td>\n",
       "      <td>16.0</td>\n",
       "      <td>1</td>\n",
       "      <td>8</td>\n",
       "      <td>50</td>\n",
       "      <td>0</td>\n",
       "    </tr>\n",
       "  </tbody>\n",
       "</table>\n",
       "</div>"
      ],
      "text/plain": [
       "                   distance  duration  count  minute_price  start_ride_price  \\\n",
       "user_id month                                                                  \n",
       "1533    8       4581.943632      22.0      1             8                50   \n",
       "        11      3414.448028      26.0      1             8                50   \n",
       "1534    1       4678.415899      16.0      1             8                50   \n",
       "        2       2103.914120      14.0      1             8                50   \n",
       "        4       3434.290912      15.0      1             8                50   \n",
       "        6       3409.468534      25.0      2             8                50   \n",
       "        8       7622.453034      48.0      2             8                50   \n",
       "        9       4928.173852      23.0      1             8                50   \n",
       "        11     13350.015305      77.0      4             8                50   \n",
       "        12      2371.711192      16.0      1             8                50   \n",
       "\n",
       "               subscription_fee  \n",
       "user_id month                    \n",
       "1533    8                     0  \n",
       "        11                    0  \n",
       "1534    1                     0  \n",
       "        2                     0  \n",
       "        4                     0  \n",
       "        6                     0  \n",
       "        8                     0  \n",
       "        9                     0  \n",
       "        11                    0  \n",
       "        12                    0  "
      ]
     },
     "execution_count": 57,
     "metadata": {},
     "output_type": "execute_result"
    }
   ],
   "source": [
    "#проверка значений для пользователей без подписки (в конце таблицы)\n",
    "user_rides_data_aggr.tail(10)"
   ]
  },
  {
   "cell_type": "code",
   "execution_count": 58,
   "id": "2e2c711e",
   "metadata": {},
   "outputs": [
    {
     "data": {
      "text/html": [
       "<div>\n",
       "<style scoped>\n",
       "    .dataframe tbody tr th:only-of-type {\n",
       "        vertical-align: middle;\n",
       "    }\n",
       "\n",
       "    .dataframe tbody tr th {\n",
       "        vertical-align: top;\n",
       "    }\n",
       "\n",
       "    .dataframe thead th {\n",
       "        text-align: right;\n",
       "    }\n",
       "</style>\n",
       "<table border=\"1\" class=\"dataframe\">\n",
       "  <thead>\n",
       "    <tr style=\"text-align: right;\">\n",
       "      <th></th>\n",
       "      <th></th>\n",
       "      <th>distance</th>\n",
       "      <th>duration</th>\n",
       "      <th>count</th>\n",
       "      <th>minute_price</th>\n",
       "      <th>start_ride_price</th>\n",
       "      <th>subscription_fee</th>\n",
       "      <th>income</th>\n",
       "    </tr>\n",
       "    <tr>\n",
       "      <th>user_id</th>\n",
       "      <th>month</th>\n",
       "      <th></th>\n",
       "      <th></th>\n",
       "      <th></th>\n",
       "      <th></th>\n",
       "      <th></th>\n",
       "      <th></th>\n",
       "      <th></th>\n",
       "    </tr>\n",
       "  </thead>\n",
       "  <tbody>\n",
       "    <tr>\n",
       "      <th rowspan=\"6\" valign=\"top\">1</th>\n",
       "      <th>1</th>\n",
       "      <td>7027.511294</td>\n",
       "      <td>42.0</td>\n",
       "      <td>2</td>\n",
       "      <td>6</td>\n",
       "      <td>0</td>\n",
       "      <td>199</td>\n",
       "      <td>451.0</td>\n",
       "    </tr>\n",
       "    <tr>\n",
       "      <th>4</th>\n",
       "      <td>754.159807</td>\n",
       "      <td>7.0</td>\n",
       "      <td>1</td>\n",
       "      <td>6</td>\n",
       "      <td>0</td>\n",
       "      <td>199</td>\n",
       "      <td>241.0</td>\n",
       "    </tr>\n",
       "    <tr>\n",
       "      <th>8</th>\n",
       "      <td>6723.470560</td>\n",
       "      <td>45.0</td>\n",
       "      <td>2</td>\n",
       "      <td>6</td>\n",
       "      <td>0</td>\n",
       "      <td>199</td>\n",
       "      <td>469.0</td>\n",
       "    </tr>\n",
       "    <tr>\n",
       "      <th>10</th>\n",
       "      <td>5809.911100</td>\n",
       "      <td>32.0</td>\n",
       "      <td>2</td>\n",
       "      <td>6</td>\n",
       "      <td>0</td>\n",
       "      <td>199</td>\n",
       "      <td>391.0</td>\n",
       "    </tr>\n",
       "    <tr>\n",
       "      <th>11</th>\n",
       "      <td>7003.499363</td>\n",
       "      <td>54.0</td>\n",
       "      <td>3</td>\n",
       "      <td>6</td>\n",
       "      <td>0</td>\n",
       "      <td>199</td>\n",
       "      <td>523.0</td>\n",
       "    </tr>\n",
       "    <tr>\n",
       "      <th>12</th>\n",
       "      <td>6751.629942</td>\n",
       "      <td>28.0</td>\n",
       "      <td>2</td>\n",
       "      <td>6</td>\n",
       "      <td>0</td>\n",
       "      <td>199</td>\n",
       "      <td>367.0</td>\n",
       "    </tr>\n",
       "    <tr>\n",
       "      <th rowspan=\"4\" valign=\"top\">2</th>\n",
       "      <th>3</th>\n",
       "      <td>10187.723006</td>\n",
       "      <td>61.0</td>\n",
       "      <td>3</td>\n",
       "      <td>6</td>\n",
       "      <td>0</td>\n",
       "      <td>199</td>\n",
       "      <td>565.0</td>\n",
       "    </tr>\n",
       "    <tr>\n",
       "      <th>4</th>\n",
       "      <td>6164.381824</td>\n",
       "      <td>40.0</td>\n",
       "      <td>2</td>\n",
       "      <td>6</td>\n",
       "      <td>0</td>\n",
       "      <td>199</td>\n",
       "      <td>439.0</td>\n",
       "    </tr>\n",
       "    <tr>\n",
       "      <th>6</th>\n",
       "      <td>3255.338202</td>\n",
       "      <td>14.0</td>\n",
       "      <td>1</td>\n",
       "      <td>6</td>\n",
       "      <td>0</td>\n",
       "      <td>199</td>\n",
       "      <td>283.0</td>\n",
       "    </tr>\n",
       "    <tr>\n",
       "      <th>7</th>\n",
       "      <td>6780.722964</td>\n",
       "      <td>47.0</td>\n",
       "      <td>2</td>\n",
       "      <td>6</td>\n",
       "      <td>0</td>\n",
       "      <td>199</td>\n",
       "      <td>481.0</td>\n",
       "    </tr>\n",
       "  </tbody>\n",
       "</table>\n",
       "</div>"
      ],
      "text/plain": [
       "                   distance  duration  count  minute_price  start_ride_price  \\\n",
       "user_id month                                                                  \n",
       "1       1       7027.511294      42.0      2             6                 0   \n",
       "        4        754.159807       7.0      1             6                 0   \n",
       "        8       6723.470560      45.0      2             6                 0   \n",
       "        10      5809.911100      32.0      2             6                 0   \n",
       "        11      7003.499363      54.0      3             6                 0   \n",
       "        12      6751.629942      28.0      2             6                 0   \n",
       "2       3      10187.723006      61.0      3             6                 0   \n",
       "        4       6164.381824      40.0      2             6                 0   \n",
       "        6       3255.338202      14.0      1             6                 0   \n",
       "        7       6780.722964      47.0      2             6                 0   \n",
       "\n",
       "               subscription_fee  income  \n",
       "user_id month                            \n",
       "1       1                   199   451.0  \n",
       "        4                   199   241.0  \n",
       "        8                   199   469.0  \n",
       "        10                  199   391.0  \n",
       "        11                  199   523.0  \n",
       "        12                  199   367.0  \n",
       "2       3                   199   565.0  \n",
       "        4                   199   439.0  \n",
       "        6                   199   283.0  \n",
       "        7                   199   481.0  "
      ]
     },
     "execution_count": 58,
     "metadata": {},
     "output_type": "execute_result"
    }
   ],
   "source": [
    "#подсчет выручки\n",
    "user_rides_data_aggr['income']= (\n",
    "   user_rides_data_aggr['start_ride_price']*user_rides_data_aggr['count']+\n",
    "   user_rides_data_aggr['minute_price']*user_rides_data_aggr['duration']+\n",
    "   user_rides_data_aggr['subscription_fee']\n",
    ")\n",
    "user_rides_data_aggr.head(10)"
   ]
  },
  {
   "cell_type": "markdown",
   "id": "2c4b5784",
   "metadata": {},
   "source": [
    "**Вывод: подсчитанная помесячная выручка на каждого пользователя в столбце \"income\" таблицы \"user_rides_data_aggr\"**"
   ]
  },
  {
   "cell_type": "markdown",
   "id": "41545ac0",
   "metadata": {},
   "source": [
    "# Шаг 6. Проверка гипотез"
   ]
  },
  {
   "cell_type": "markdown",
   "id": "cc6f83fc",
   "metadata": {},
   "source": [
    "**6.1 Проверка гипотезы, тратят ли пользователи с подпиской больше времени на поездки**"
   ]
  },
  {
   "cell_type": "code",
   "execution_count": 59,
   "id": "23ea867b",
   "metadata": {},
   "outputs": [
    {
     "data": {
      "image/png": "[encoded data removed]",
      "text/plain": [
       "<Figure size 1500x500 with 1 Axes>"
      ]
     },
     "metadata": {},
     "output_type": "display_data"
    }
   ],
   "source": [
    "#проверим гипотезу H0, что средние двух генеральных совокупностей (длительности поездок без подписки и с подпиской) равны\n",
    "#альтернативная гипотеза H1 - что среднее генеральной совокупности длительности без подписки меньше среднего с подпиской\n",
    "#(проведем левосторонний t-test)\n",
    "#для этого отсечем выбросы (поездки равные 30 секунд) для распределения продолжительности для пользователей без подписки \n",
    "#(тк есть подозрение, что они неоправданно увеличивают дисперсию)\n",
    "#отсекаемых данных менее 1%, так что можно сделать это безболезненно\n",
    "user_rides_data_ws=user_rides_data_ws[user_rides_data_ws['duration']>0.5]\n",
    "user_rides_data_ws['duration'].hist(bins=100, figsize=(15,5))\n",
    "plt.xlabel('Продолжительность поездок, мин')\n",
    "plt.ylabel('Количество поездок')\n",
    "plt.title('Распределение продолжительности поездок пользователей без подписки')\n",
    "plt.show()#визуализируем распределение продолжительности без подписки чтобы убедиться"
   ]
  },
  {
   "cell_type": "code",
   "execution_count": 60,
   "id": "ee383a84",
   "metadata": {},
   "outputs": [
    {
     "name": "stdout",
     "output_type": "stream",
     "text": [
      "p-значение: 1.6162210195310587e-29\n",
      "Отвергаем нулевую гипотезу о равенстве средних\n"
     ]
    }
   ],
   "source": [
    "#проведем левосторонний t-test о равенстве средних для выборок длительности поездок без подписки и с подпиской\n",
    "alpha = 0.05 # уровень статистической значимости\n",
    "\n",
    "results = st.ttest_ind(user_rides_data_ws['duration'], user_rides_data_subscr['duration'], alternative='less', equal_var=False )\n",
    "\n",
    "print('p-значение:', results.pvalue)\n",
    "\n",
    "if results.pvalue < alpha:\n",
    "    print('Отвергаем нулевую гипотезу о равенстве средних')\n",
    "else:\n",
    "    print('Не получилось отвергнуть нулевую гипотезу')"
   ]
  },
  {
   "cell_type": "markdown",
   "id": "aa3aca61",
   "metadata": {},
   "source": [
    "**Вывод: гипотеза о равенстве средних отвергнута в пользу альтернативной гипотезы, что длительность поездок без подписки меньше, чем длительность поездок с подпиской. Значит можем сделать вывод, что пользователи с подпиской \"выгоднее\" пользователей без подписки**"
   ]
  },
  {
   "cell_type": "markdown",
   "id": "0e69afeb",
   "metadata": {},
   "source": [
    "**6.2 Проверка гипотезы об оптимальности среднего расстояния поездки для пользователей с подпиской**"
   ]
  },
  {
   "cell_type": "code",
   "execution_count": 61,
   "id": "8e4e33c9",
   "metadata": {},
   "outputs": [
    {
     "name": "stdout",
     "output_type": "stream",
     "text": [
      "p-значение: 0.9195368847849785\n",
      "Не получилось отвергнуть нулевую гипотезу\n"
     ]
    }
   ],
   "source": [
    "#проведем правосторонний t-test для проверки гипотезы, \n",
    "#что среднее расстояние за поездку для пользователей с подпиской не превышает 3130 метров\n",
    "#гипотеза H0 -среднее расстояние за поездку составляет 3130 метров\n",
    "#гипотеза H1 - среднее расстояние за поездку превышает 3130 метров\n",
    "distance_value = 3130\n",
    "alpha = 0.05 # уровень статистической значимости\n",
    "\n",
    "results = st.ttest_1samp(user_rides_data_subscr['distance'], distance_value, alternative='greater')\n",
    "\n",
    "print('p-значение:', results.pvalue)\n",
    "\n",
    "if results.pvalue < alpha:\n",
    "    print('Отвергаем нулевую гипотезу')\n",
    "else:\n",
    "    print('Не получилось отвергнуть нулевую гипотезу')"
   ]
  },
  {
   "cell_type": "markdown",
   "id": "21dfc37e",
   "metadata": {},
   "source": [
    "**Вывод: гипотеза о среднем расстоянии за поездку, не превышающем 3130 метров, не отвергнута**"
   ]
  },
  {
   "cell_type": "markdown",
   "id": "316f1304",
   "metadata": {},
   "source": [
    "**6.3 Проверка гипотезы, что помесячная выручка от пользователей с подпиской по месяцам выше, чем выручка от пользователей без подписки**"
   ]
  },
  {
   "cell_type": "code",
   "execution_count": 62,
   "id": "3f18bee7",
   "metadata": {},
   "outputs": [
    {
     "data": {
      "image/png": "[encoded data removed]",
      "text/plain": [
       "<Figure size 1500x500 with 1 Axes>"
      ]
     },
     "metadata": {},
     "output_type": "display_data"
    }
   ],
   "source": [
    "#выделим помесячную выручку от пользователей без подписки \n",
    "user_rides_income_ws= user_rides_data_aggr[user_rides_data_aggr['subscription_fee']==0]['income']\n",
    "user_rides_income_ws.hist(figsize=(15,5), bins=100)\n",
    "plt.xlabel('Помесячная выручка, руб')\n",
    "plt.title('Распределение помесячной выручки пользователей без подписки')\n",
    "plt.show()#визуализируем распределение"
   ]
  },
  {
   "cell_type": "code",
   "execution_count": 63,
   "id": "18e3ca7e",
   "metadata": {},
   "outputs": [
    {
     "data": {
      "text/plain": [
       "count    6798.000000\n",
       "mean      325.842895\n",
       "std       180.515646\n",
       "min        58.000000\n",
       "25%       194.000000\n",
       "50%       268.000000\n",
       "75%       420.000000\n",
       "max      1428.000000\n",
       "Name: income, dtype: float64"
      ]
     },
     "execution_count": 63,
     "metadata": {},
     "output_type": "execute_result"
    }
   ],
   "source": [
    "#статистика распределения помесячной выручки без подписки\n",
    "user_rides_income_ws.describe()"
   ]
  },
  {
   "cell_type": "code",
   "execution_count": 64,
   "id": "332d3dbe",
   "metadata": {},
   "outputs": [
    {
     "data": {
      "image/png": "[encoded data removed]",
      "text/plain": [
       "<Figure size 1500x500 with 1 Axes>"
      ]
     },
     "metadata": {},
     "output_type": "display_data"
    }
   ],
   "source": [
    "#выделим суммарную помесячную выручку от пользователей с подпиской \n",
    "user_rides_income_subscr= user_rides_data_aggr[user_rides_data_aggr['subscription_fee']>0]['income']\n",
    "user_rides_income_subscr.hist(figsize=(15,5), bins=100)\n",
    "plt.xlabel('Помесячная выручка, руб')\n",
    "plt.title('Распределение помесячной выручки пользователей c подпиской')\n",
    "plt.show()#визуализируем распределение"
   ]
  },
  {
   "cell_type": "code",
   "execution_count": 65,
   "id": "f8704c40",
   "metadata": {},
   "outputs": [
    {
     "data": {
      "text/plain": [
       "count    4533.000000\n",
       "mean      361.481800\n",
       "std        86.399966\n",
       "min       223.000000\n",
       "25%       301.000000\n",
       "50%       331.000000\n",
       "75%       403.000000\n",
       "max       943.000000\n",
       "Name: income, dtype: float64"
      ]
     },
     "execution_count": 65,
     "metadata": {},
     "output_type": "execute_result"
    }
   ],
   "source": [
    "#статистика распределения помесячной выручки с подпиской\n",
    "user_rides_income_subscr.describe()"
   ]
  },
  {
   "cell_type": "code",
   "execution_count": 66,
   "id": "60d9bd3f",
   "metadata": {},
   "outputs": [
    {
     "name": "stdout",
     "output_type": "stream",
     "text": [
      "p-значение: 1.0718729651261336e-44\n",
      "Отвергаем нулевую гипотезу о равенстве средних\n"
     ]
    }
   ],
   "source": [
    "#проверим гипотезу H0, что средние двух генеральных совокупностей (выручка пользователей без подписки и с подпиской) равны\n",
    "#альтернативная гипотеза H1 - что среднее генеральной совокупности выручки без подписки меньше среднего с подпиской\n",
    "#(проведем левосторонний t-test)\n",
    "alpha = 0.05 # уровень статистической значимости\n",
    "\n",
    "results = st.ttest_ind(user_rides_income_ws, user_rides_income_subscr, alternative='less', equal_var=False)\n",
    "\n",
    "print('p-значение:', results.pvalue)\n",
    "\n",
    "if results.pvalue < alpha:\n",
    "    print('Отвергаем нулевую гипотезу о равенстве средних')\n",
    "else:\n",
    "    print('Не получилось отвергнуть нулевую гипотезу')"
   ]
  },
  {
   "cell_type": "markdown",
   "id": "affb7021",
   "metadata": {},
   "source": [
    "**Вывод: гипотеза о равенстве средней помесячной выручки отвергнута в пользу гипотезы о том, что средняя помесячная выручка от пользователей с подпиской выше.**"
   ]
  },
  {
   "cell_type": "markdown",
   "id": "948ea6ea",
   "metadata": {},
   "source": [
    "**6.4 Ответ на вопрос:\"Представьте такую ситуацию: техническая команда сервиса обновила сервера, с которыми взаимодействует мобильное приложение. Она надеется, что из-за этого количество обращений в техподдержку значимо снизилось. Некоторый файл содержит для каждого пользователя данные о количестве обращений до обновления и после него. Какой тест вам понадобился бы для проверки этой гипотезы?\"**"
   ]
  },
  {
   "cell_type": "markdown",
   "id": "8e85c0e6",
   "metadata": {},
   "source": [
    "**Ответ:понадобится тест для проверки гипотезы о равенстве среднего генеральной совокупности для зависимых (парных) выборок. В Python реализуется методом scipy.stats.ttest_rel(). Проверять потребуется для двух массивов одинаковой длины. В каждом массиве должны быть заданы с неизменным порядком пары \"идентификатор пользователя- количество обращений в техподдержку\", в первом массиве до обновления, во втором - после. Гипотеза H0 - что среднее количество обращений осталось неизменным, гипотеза H1 - что оно снизилось (левосторонний тест)** "
   ]
  },
  {
   "cell_type": "markdown",
   "id": "61213c5e",
   "metadata": {},
   "source": [
    "# Шаг 7. Распределения"
   ]
  },
  {
   "cell_type": "markdown",
   "id": "f614368e",
   "metadata": {},
   "source": [
    "**7.1 Определение минимального количества промокодов**"
   ]
  },
  {
   "cell_type": "code",
   "execution_count": 67,
   "id": "95cd1d51",
   "metadata": {},
   "outputs": [
    {
     "name": "stdout",
     "output_type": "stream",
     "text": [
      "Вероятность, что будет менее 100 продливших подписку клиентов из получивших 860 промокодов равна 0.05\n"
     ]
    },
    {
     "data": {
      "image/png": "[encoded data removed]",
      "text/plain": [
       "<Figure size 1500x500 with 1 Axes>"
      ]
     },
     "metadata": {},
     "output_type": "display_data"
    }
   ],
   "source": [
    "p = 0.1 # вероятность продления подписки\n",
    "n = 860 # количество промокодов\n",
    "distr = []\n",
    "\n",
    "for k in range(0, n + 1):\n",
    "    choose = factorial(n) / (factorial(k) * factorial(n - k))\n",
    "    prob = choose * p**k * (1-p)**(n-k) \n",
    "    distr.append(prob)\n",
    "plt.figure(figsize=(15,5))    \n",
    "plt.bar(range(0, n + 1), distr)\n",
    "\n",
    "k=100 #клиентов, которые должны продлить подписку для выполнения плана с заданной вероятностью\n",
    "print(f\"Вероятность, что будет менее {k} продливших подписку клиентов из получивших {n} промокодов равна {round(1-binom(n, p).cdf(k),2)}\")\n"
   ]
  },
  {
   "cell_type": "markdown",
   "id": "c854a381",
   "metadata": {},
   "source": [
    "**Вывод: требуется как минимум 860 промокодов**"
   ]
  },
  {
   "cell_type": "markdown",
   "id": "da51634f",
   "metadata": {},
   "source": [
    "**7.2 Определение оцените вероятность того, что уведомление откроют не более определенного количества пользователей**"
   ]
  },
  {
   "cell_type": "code",
   "execution_count": 68,
   "id": "62dd714a",
   "metadata": {},
   "outputs": [
    {
     "data": {
      "image/png": "[encoded data removed]",
      "text/plain": [
       "<Figure size 1500x500 with 1 Axes>"
      ]
     },
     "metadata": {},
     "output_type": "display_data"
    },
    {
     "name": "stdout",
     "output_type": "stream",
     "text": [
      "Условие аппроксимации выполняется\n"
     ]
    }
   ],
   "source": [
    "# задаём параметры биномиального распределения\n",
    "n = 1000000\n",
    "p = 0.4\n",
    "\n",
    "# зададим параметры нормального распределения равными\n",
    "# мат.ожиданию и дисперсии биномиального распределения\n",
    "mu = n * p\n",
    "sigma = sqrt(n * p * (1 - p))\n",
    "distr = st.norm(mu, sigma) \n",
    " \n",
    "# рисуем график нормального распределения:\n",
    "x = np.linspace(mu - 3*sigma, mu + 3*sigma, 100)\n",
    "plt.figure(figsize=(15,5))\n",
    "plt.grid(True)\n",
    "plt.ylabel('Вероятность')\n",
    "plt.xlabel('Количество пользователей, получивших уведомление')\n",
    "plt.title('Примерный график плотности вероятности открытия уведомлений')\n",
    "plt.plot(x, norm.pdf(x, mu, sigma))\n",
    "plt.show()\n",
    "\n",
    "# выводим, выполняется ли наше условие аппроксимации:\n",
    "# лежит ли mu ± 3 sigma в промежутке от 0 до n:\n",
    "if (mu - (3 * sigma) >= 0) and ((mu + (3 * sigma) <= n)):\n",
    "    print('Условие аппроксимации выполняется')\n",
    "else:\n",
    "    print('Условие аппроксимации не выполняется')"
   ]
  },
  {
   "cell_type": "code",
   "execution_count": 69,
   "id": "c4011986",
   "metadata": {},
   "outputs": [
    {
     "data": {
      "text/plain": [
       "0.15371708296369768"
      ]
     },
     "execution_count": 69,
     "metadata": {},
     "output_type": "execute_result"
    }
   ],
   "source": [
    "#оценка вероятности того, что уведомление откроют не более 399,5 тыс. пользователей\n",
    "distr.cdf(399500)"
   ]
  },
  {
   "cell_type": "markdown",
   "id": "efdf2c1b",
   "metadata": {},
   "source": [
    "**Вывод: вероятность того, что уведомление откроют не более 399,5 тыс. пользователей составляет примерно 0,15**"
   ]
  },
  {
   "cell_type": "markdown",
   "id": "0e65f2fb",
   "metadata": {},
   "source": [
    "<b><u>Итоговые выводы:</u></b>\n",
    "    <b>\n",
    "    <li>\n",
    "    Пользователи с подпиской тратят больше времени на поездки и проезжают большее расстояние.При этом среднее расстояние, \n",
    "    которое проезжают пользователи с подпиской за одну поездку, не превышает 3130 метров, что близко к оптимальному\n",
    "    с точки зрения износа самоката. А помесячная выручка от пользователей с подпиской по месяцам выше, чем выручка от \n",
    "    пользователей без подписки. Учитывая перечисленное, пользователи с подпиской являются выгодными клиентами, \n",
    "    более выгодными, чем пользователи без подписки.\n",
    "    </li>\n",
    "    <li>\n",
    "    Для проверки гипотезы, что количество обращений в техподдержку снизилось с момента обновления сервера, понадобится \n",
    "    тест для проверки гипотезы о равенстве среднего генеральной совокупности для зависимых (парных) выборок\n",
    "    </li>\n",
    "    <li>\n",
    "    Для того, чтобы как минимум 100 клиентов продлило подписку с 5% вероятностью не выполнить план, нужно минимум 860 промокодов\n",
    "    </li>\n",
    "    <li>\n",
    "    Вероятность того, что уведомление откроют не более 399,5 тыс. пользователей, составляет примерно 0,15\n",
    "    </li>\n",
    "    </b>"
   ]
  }
 ],
 "metadata": {
  "ExecuteTimeLog": [
   {
    "duration": 45,
    "start_time": "2023-11-06T13:02:08.325Z"
   },
   {
    "duration": 438,
    "start_time": "2023-11-06T13:02:12.232Z"
   },
   {
    "duration": 206,
    "start_time": "2023-11-06T13:02:13.471Z"
   },
   {
    "duration": 16,
    "start_time": "2023-11-07T10:36:00.360Z"
   },
   {
    "duration": 8,
    "start_time": "2023-11-07T10:37:07.948Z"
   },
   {
    "duration": 7,
    "start_time": "2023-11-07T10:37:59.571Z"
   },
   {
    "duration": 957,
    "start_time": "2023-11-07T10:39:08.373Z"
   },
   {
    "duration": 3,
    "start_time": "2023-11-07T10:39:31.922Z"
   },
   {
    "duration": 66,
    "start_time": "2023-11-07T10:39:32.560Z"
   },
   {
    "duration": 8,
    "start_time": "2023-11-07T10:39:32.765Z"
   },
   {
    "duration": 524,
    "start_time": "2023-11-07T10:39:35.780Z"
   },
   {
    "duration": 224,
    "start_time": "2023-11-07T10:39:56.197Z"
   },
   {
    "duration": 123,
    "start_time": "2023-11-07T10:41:22.601Z"
   },
   {
    "duration": 242,
    "start_time": "2023-11-07T11:24:40.835Z"
   },
   {
    "duration": 419,
    "start_time": "2023-11-07T11:24:58.298Z"
   },
   {
    "duration": 344,
    "start_time": "2023-11-07T11:25:15.514Z"
   },
   {
    "duration": 283,
    "start_time": "2023-11-07T11:25:26.415Z"
   },
   {
    "duration": 347,
    "start_time": "2023-11-07T11:25:36.172Z"
   },
   {
    "duration": 225,
    "start_time": "2023-11-07T11:26:50.602Z"
   },
   {
    "duration": 166,
    "start_time": "2023-11-07T11:27:02.747Z"
   },
   {
    "duration": 208,
    "start_time": "2023-11-07T11:27:24.823Z"
   },
   {
    "duration": 190,
    "start_time": "2023-11-07T11:28:32.137Z"
   },
   {
    "duration": 211,
    "start_time": "2023-11-07T11:28:39.688Z"
   },
   {
    "duration": 9,
    "start_time": "2023-11-07T11:30:14.175Z"
   },
   {
    "duration": 11,
    "start_time": "2023-11-07T11:31:17.949Z"
   },
   {
    "duration": 9,
    "start_time": "2023-11-07T11:32:11.850Z"
   },
   {
    "duration": 106,
    "start_time": "2023-11-07T11:45:49.830Z"
   },
   {
    "duration": 10,
    "start_time": "2023-11-07T11:46:16.454Z"
   },
   {
    "duration": 12,
    "start_time": "2023-11-07T11:46:43.623Z"
   },
   {
    "duration": 12,
    "start_time": "2023-11-07T12:00:20.782Z"
   },
   {
    "duration": 16,
    "start_time": "2023-11-07T12:00:43.834Z"
   },
   {
    "duration": 16,
    "start_time": "2023-11-07T12:01:25.516Z"
   },
   {
    "duration": 5,
    "start_time": "2023-11-07T12:34:17.738Z"
   },
   {
    "duration": 13,
    "start_time": "2023-11-07T12:35:45.608Z"
   },
   {
    "duration": 12,
    "start_time": "2023-11-07T12:36:37.499Z"
   },
   {
    "duration": 5,
    "start_time": "2023-11-07T13:02:12.327Z"
   },
   {
    "duration": 5,
    "start_time": "2023-11-07T13:02:19.614Z"
   },
   {
    "duration": 12,
    "start_time": "2023-11-07T13:02:20.237Z"
   },
   {
    "duration": 5,
    "start_time": "2023-11-07T13:02:20.938Z"
   },
   {
    "duration": 5,
    "start_time": "2023-11-07T13:03:01.459Z"
   },
   {
    "duration": 7,
    "start_time": "2023-11-07T13:03:04.445Z"
   },
   {
    "duration": 5,
    "start_time": "2023-11-07T13:03:27.738Z"
   },
   {
    "duration": 8,
    "start_time": "2023-11-07T13:04:30.969Z"
   },
   {
    "duration": 5,
    "start_time": "2023-11-07T13:31:04.252Z"
   },
   {
    "duration": 45,
    "start_time": "2023-11-08T07:15:23.242Z"
   },
   {
    "duration": 752,
    "start_time": "2023-11-08T07:15:39.374Z"
   },
   {
    "duration": 291,
    "start_time": "2023-11-08T07:15:40.128Z"
   },
   {
    "duration": 13,
    "start_time": "2023-11-08T07:15:40.421Z"
   },
   {
    "duration": 39,
    "start_time": "2023-11-08T07:15:40.435Z"
   },
   {
    "duration": 171,
    "start_time": "2023-11-08T07:15:40.476Z"
   },
   {
    "duration": 9,
    "start_time": "2023-11-08T07:15:40.649Z"
   },
   {
    "duration": 57,
    "start_time": "2023-11-08T07:15:40.660Z"
   },
   {
    "duration": 249,
    "start_time": "2023-11-08T07:15:40.718Z"
   },
   {
    "duration": 8,
    "start_time": "2023-11-08T07:15:40.968Z"
   },
   {
    "duration": 16,
    "start_time": "2023-11-08T07:15:40.978Z"
   },
   {
    "duration": 63,
    "start_time": "2023-11-08T07:15:40.996Z"
   },
   {
    "duration": 11,
    "start_time": "2023-11-08T07:15:41.061Z"
   },
   {
    "duration": 53,
    "start_time": "2023-11-08T07:15:41.074Z"
   },
   {
    "duration": 23,
    "start_time": "2023-11-08T07:15:41.129Z"
   },
   {
    "duration": 6,
    "start_time": "2023-11-08T07:15:41.154Z"
   },
   {
    "duration": 23,
    "start_time": "2023-11-08T07:15:41.162Z"
   },
   {
    "duration": 26,
    "start_time": "2023-11-08T07:15:41.187Z"
   },
   {
    "duration": 26,
    "start_time": "2023-11-08T07:15:41.214Z"
   },
   {
    "duration": 17,
    "start_time": "2023-11-08T07:15:41.242Z"
   },
   {
    "duration": 11,
    "start_time": "2023-11-08T07:16:44.859Z"
   },
   {
    "duration": 304,
    "start_time": "2023-11-08T07:20:35.042Z"
   },
   {
    "duration": 36,
    "start_time": "2023-11-08T07:23:16.460Z"
   },
   {
    "duration": 12,
    "start_time": "2023-11-08T07:24:25.395Z"
   },
   {
    "duration": 20965,
    "start_time": "2023-11-08T07:26:42.894Z"
   },
   {
    "duration": 24654,
    "start_time": "2023-11-08T07:29:03.227Z"
   },
   {
    "duration": 267,
    "start_time": "2023-11-08T07:29:44.132Z"
   },
   {
    "duration": 264,
    "start_time": "2023-11-08T07:31:35.054Z"
   },
   {
    "duration": 505,
    "start_time": "2023-11-08T07:37:30.562Z"
   },
   {
    "duration": 247,
    "start_time": "2023-11-08T07:37:49.722Z"
   },
   {
    "duration": 565,
    "start_time": "2023-11-08T07:38:23.699Z"
   },
   {
    "duration": 237,
    "start_time": "2023-11-08T07:38:47.827Z"
   },
   {
    "duration": 22,
    "start_time": "2023-11-08T07:39:38.579Z"
   },
   {
    "duration": 150,
    "start_time": "2023-11-08T07:41:38.637Z"
   },
   {
    "duration": 59,
    "start_time": "2023-11-08T07:42:30.178Z"
   },
   {
    "duration": 595,
    "start_time": "2023-11-08T07:42:44.802Z"
   },
   {
    "duration": 139,
    "start_time": "2023-11-08T07:42:57.363Z"
   },
   {
    "duration": 124,
    "start_time": "2023-11-08T07:45:46.780Z"
   },
   {
    "duration": 161,
    "start_time": "2023-11-08T07:46:04.155Z"
   },
   {
    "duration": 171,
    "start_time": "2023-11-08T07:46:59.938Z"
   },
   {
    "duration": 1267,
    "start_time": "2023-11-08T07:47:35.115Z"
   },
   {
    "duration": 175,
    "start_time": "2023-11-08T07:47:50.997Z"
   },
   {
    "duration": 58,
    "start_time": "2023-11-08T08:08:23.331Z"
   },
   {
    "duration": 8,
    "start_time": "2023-11-08T08:08:34.198Z"
   },
   {
    "duration": 928,
    "start_time": "2023-11-08T08:08:47.011Z"
   },
   {
    "duration": 210,
    "start_time": "2023-11-08T08:08:47.941Z"
   },
   {
    "duration": 20,
    "start_time": "2023-11-08T08:08:48.154Z"
   },
   {
    "duration": 27,
    "start_time": "2023-11-08T08:08:48.176Z"
   },
   {
    "duration": 176,
    "start_time": "2023-11-08T08:08:48.207Z"
   },
   {
    "duration": 10,
    "start_time": "2023-11-08T08:08:48.384Z"
   },
   {
    "duration": 18,
    "start_time": "2023-11-08T08:08:48.406Z"
   },
   {
    "duration": 307,
    "start_time": "2023-11-08T08:08:48.426Z"
   },
   {
    "duration": 8,
    "start_time": "2023-11-08T08:08:48.734Z"
   },
   {
    "duration": 97,
    "start_time": "2023-11-08T08:08:48.743Z"
   },
   {
    "duration": 42,
    "start_time": "2023-11-08T08:08:48.842Z"
   },
   {
    "duration": 11,
    "start_time": "2023-11-08T08:08:48.886Z"
   },
   {
    "duration": 55,
    "start_time": "2023-11-08T08:08:48.899Z"
   },
   {
    "duration": 11,
    "start_time": "2023-11-08T08:08:48.957Z"
   },
   {
    "duration": 23,
    "start_time": "2023-11-08T08:08:48.970Z"
   },
   {
    "duration": 54,
    "start_time": "2023-11-08T08:08:48.994Z"
   },
   {
    "duration": 22,
    "start_time": "2023-11-08T08:08:49.050Z"
   },
   {
    "duration": 10,
    "start_time": "2023-11-08T08:08:49.074Z"
   },
   {
    "duration": 6,
    "start_time": "2023-11-08T08:08:49.085Z"
   },
   {
    "duration": 2078,
    "start_time": "2023-11-08T08:08:49.093Z"
   },
   {
    "duration": 287,
    "start_time": "2023-11-08T08:09:00.671Z"
   },
   {
    "duration": 26584,
    "start_time": "2023-11-08T08:10:51.319Z"
   },
   {
    "duration": 325,
    "start_time": "2023-11-08T08:11:23.822Z"
   },
   {
    "duration": 283,
    "start_time": "2023-11-08T08:11:53.345Z"
   },
   {
    "duration": 22736,
    "start_time": "2023-11-08T08:13:14.575Z"
   },
   {
    "duration": 135,
    "start_time": "2023-11-08T08:13:52.591Z"
   },
   {
    "duration": 139,
    "start_time": "2023-11-08T08:14:08.726Z"
   },
   {
    "duration": 250,
    "start_time": "2023-11-08T08:14:37.238Z"
   },
   {
    "duration": 196,
    "start_time": "2023-11-08T08:14:45.078Z"
   },
   {
    "duration": 184,
    "start_time": "2023-11-08T08:15:09.494Z"
   },
   {
    "duration": 166,
    "start_time": "2023-11-08T08:15:18.837Z"
   },
   {
    "duration": 215,
    "start_time": "2023-11-08T08:16:20.608Z"
   },
   {
    "duration": 145,
    "start_time": "2023-11-08T08:18:41.574Z"
   },
   {
    "duration": 139,
    "start_time": "2023-11-08T08:20:21.038Z"
   },
   {
    "duration": 75,
    "start_time": "2023-11-08T08:21:21.510Z"
   },
   {
    "duration": 14,
    "start_time": "2023-11-08T08:24:42.669Z"
   },
   {
    "duration": 16,
    "start_time": "2023-11-08T08:24:53.748Z"
   },
   {
    "duration": 143,
    "start_time": "2023-11-08T08:25:30.430Z"
   },
   {
    "duration": 177,
    "start_time": "2023-11-08T08:28:16.091Z"
   },
   {
    "duration": 134,
    "start_time": "2023-11-08T08:28:30.838Z"
   },
   {
    "duration": 122,
    "start_time": "2023-11-08T08:29:27.558Z"
   },
   {
    "duration": 8,
    "start_time": "2023-11-08T08:36:29.805Z"
   },
   {
    "duration": 8,
    "start_time": "2023-11-08T08:37:05.118Z"
   },
   {
    "duration": 8,
    "start_time": "2023-11-08T08:37:25.222Z"
   },
   {
    "duration": 146,
    "start_time": "2023-11-08T08:38:49.044Z"
   },
   {
    "duration": 118,
    "start_time": "2023-11-08T08:39:05.069Z"
   },
   {
    "duration": 117,
    "start_time": "2023-11-08T08:39:24.549Z"
   },
   {
    "duration": 114,
    "start_time": "2023-11-08T08:40:15.252Z"
   },
   {
    "duration": 225,
    "start_time": "2023-11-08T08:59:44.564Z"
   },
   {
    "duration": 17567,
    "start_time": "2023-11-08T09:00:15.734Z"
   },
   {
    "duration": 226,
    "start_time": "2023-11-08T09:01:02.766Z"
   },
   {
    "duration": 6,
    "start_time": "2023-11-08T09:02:59.269Z"
   },
   {
    "duration": 11,
    "start_time": "2023-11-08T09:04:29.108Z"
   },
   {
    "duration": 7,
    "start_time": "2023-11-08T09:09:32.699Z"
   },
   {
    "duration": 8,
    "start_time": "2023-11-08T09:12:08.891Z"
   },
   {
    "duration": 7,
    "start_time": "2023-11-08T09:13:24.635Z"
   },
   {
    "duration": 7,
    "start_time": "2023-11-08T09:15:08.291Z"
   },
   {
    "duration": 133,
    "start_time": "2023-11-08T09:15:26.355Z"
   },
   {
    "duration": 280,
    "start_time": "2023-11-08T09:17:02.467Z"
   },
   {
    "duration": 8,
    "start_time": "2023-11-08T09:18:06.732Z"
   },
   {
    "duration": 18573,
    "start_time": "2023-11-08T09:34:31.891Z"
   },
   {
    "duration": 19,
    "start_time": "2023-11-08T09:36:22.699Z"
   },
   {
    "duration": 8,
    "start_time": "2023-11-08T09:37:27.834Z"
   },
   {
    "duration": 240,
    "start_time": "2023-11-08T09:37:49.314Z"
   },
   {
    "duration": 18282,
    "start_time": "2023-11-08T09:47:17.644Z"
   },
   {
    "duration": 779,
    "start_time": "2023-11-08T09:56:25.254Z"
   },
   {
    "duration": 59,
    "start_time": "2023-11-08T09:56:39.569Z"
   },
   {
    "duration": 273,
    "start_time": "2023-11-08T09:57:22.505Z"
   },
   {
    "duration": 368,
    "start_time": "2023-11-08T09:57:41.570Z"
   },
   {
    "duration": 367,
    "start_time": "2023-11-08T09:59:23.123Z"
   },
   {
    "duration": 239,
    "start_time": "2023-11-08T09:59:40.874Z"
   },
   {
    "duration": 294,
    "start_time": "2023-11-08T09:59:59.674Z"
   },
   {
    "duration": 280,
    "start_time": "2023-11-08T10:00:31.331Z"
   },
   {
    "duration": 9,
    "start_time": "2023-11-08T10:03:40.889Z"
   },
   {
    "duration": 10,
    "start_time": "2023-11-08T10:10:32.834Z"
   },
   {
    "duration": 121,
    "start_time": "2023-11-08T10:11:43.075Z"
   },
   {
    "duration": 260,
    "start_time": "2023-11-08T10:12:10.498Z"
   },
   {
    "duration": 12,
    "start_time": "2023-11-08T10:13:26.834Z"
   },
   {
    "duration": 8,
    "start_time": "2023-11-08T10:13:38.635Z"
   },
   {
    "duration": 7,
    "start_time": "2023-11-08T10:16:36.809Z"
   },
   {
    "duration": 10,
    "start_time": "2023-11-08T10:17:29.802Z"
   },
   {
    "duration": 10,
    "start_time": "2023-11-08T10:17:30.642Z"
   },
   {
    "duration": 9,
    "start_time": "2023-11-08T10:19:28.217Z"
   },
   {
    "duration": 7,
    "start_time": "2023-11-08T10:19:28.929Z"
   },
   {
    "duration": 83,
    "start_time": "2023-11-08T11:01:05.098Z"
   },
   {
    "duration": 401,
    "start_time": "2023-11-08T11:30:30.320Z"
   },
   {
    "duration": 277,
    "start_time": "2023-11-08T11:32:11.496Z"
   },
   {
    "duration": 10,
    "start_time": "2023-11-08T11:34:44.206Z"
   },
   {
    "duration": 7,
    "start_time": "2023-11-08T11:35:05.734Z"
   },
   {
    "duration": 7,
    "start_time": "2023-11-08T11:35:19.519Z"
   },
   {
    "duration": 9,
    "start_time": "2023-11-08T11:36:59.038Z"
   },
   {
    "duration": 124,
    "start_time": "2023-11-08T11:38:14.566Z"
   },
   {
    "duration": 11,
    "start_time": "2023-11-08T11:39:12.709Z"
   },
   {
    "duration": 7,
    "start_time": "2023-11-08T11:40:25.494Z"
   },
   {
    "duration": 22,
    "start_time": "2023-11-08T11:58:55.430Z"
   },
   {
    "duration": 3,
    "start_time": "2023-11-08T11:59:37.426Z"
   },
   {
    "duration": 144,
    "start_time": "2023-11-08T11:59:37.430Z"
   },
   {
    "duration": 8,
    "start_time": "2023-11-08T11:59:37.576Z"
   },
   {
    "duration": 18,
    "start_time": "2023-11-08T11:59:37.586Z"
   },
   {
    "duration": 167,
    "start_time": "2023-11-08T11:59:37.606Z"
   },
   {
    "duration": 9,
    "start_time": "2023-11-08T11:59:37.774Z"
   },
   {
    "duration": 38,
    "start_time": "2023-11-08T11:59:37.784Z"
   },
   {
    "duration": 226,
    "start_time": "2023-11-08T11:59:37.824Z"
   },
   {
    "duration": 8,
    "start_time": "2023-11-08T11:59:38.052Z"
   },
   {
    "duration": 31,
    "start_time": "2023-11-08T11:59:38.061Z"
   },
   {
    "duration": 31,
    "start_time": "2023-11-08T11:59:38.094Z"
   },
   {
    "duration": 11,
    "start_time": "2023-11-08T11:59:38.127Z"
   },
   {
    "duration": 19,
    "start_time": "2023-11-08T11:59:38.139Z"
   },
   {
    "duration": 25,
    "start_time": "2023-11-08T11:59:38.160Z"
   },
   {
    "duration": 13,
    "start_time": "2023-11-08T11:59:38.187Z"
   },
   {
    "duration": 10,
    "start_time": "2023-11-08T11:59:38.202Z"
   },
   {
    "duration": 22,
    "start_time": "2023-11-08T11:59:38.213Z"
   },
   {
    "duration": 35,
    "start_time": "2023-11-08T11:59:38.237Z"
   },
   {
    "duration": 10,
    "start_time": "2023-11-08T11:59:38.274Z"
   },
   {
    "duration": 141,
    "start_time": "2023-11-08T11:59:38.285Z"
   },
   {
    "duration": 7,
    "start_time": "2023-11-08T11:59:38.428Z"
   },
   {
    "duration": 111,
    "start_time": "2023-11-08T11:59:38.437Z"
   },
   {
    "duration": 276,
    "start_time": "2023-11-08T11:59:38.550Z"
   },
   {
    "duration": 8,
    "start_time": "2023-11-08T11:59:38.831Z"
   },
   {
    "duration": 361,
    "start_time": "2023-11-08T11:59:38.841Z"
   },
   {
    "duration": 11,
    "start_time": "2023-11-08T11:59:39.204Z"
   },
   {
    "duration": 141,
    "start_time": "2023-11-08T11:59:39.217Z"
   },
   {
    "duration": 11,
    "start_time": "2023-11-08T11:59:39.360Z"
   },
   {
    "duration": 20,
    "start_time": "2023-11-08T11:59:39.373Z"
   },
   {
    "duration": 280,
    "start_time": "2023-11-08T11:59:39.407Z"
   },
   {
    "duration": 266,
    "start_time": "2023-11-08T11:59:39.688Z"
   },
   {
    "duration": 6,
    "start_time": "2023-11-08T11:59:39.955Z"
   },
   {
    "duration": 48,
    "start_time": "2023-11-08T11:59:39.962Z"
   },
   {
    "duration": 148,
    "start_time": "2023-11-08T11:59:40.012Z"
   },
   {
    "duration": 9,
    "start_time": "2023-11-08T11:59:40.162Z"
   },
   {
    "duration": 22,
    "start_time": "2023-11-08T11:59:40.173Z"
   },
   {
    "duration": 44,
    "start_time": "2023-11-08T11:59:40.197Z"
   },
   {
    "duration": 18,
    "start_time": "2023-11-08T12:00:23.599Z"
   },
   {
    "duration": 25,
    "start_time": "2023-11-08T12:02:02.573Z"
   },
   {
    "duration": 25,
    "start_time": "2023-11-08T12:02:43.492Z"
   },
   {
    "duration": 3,
    "start_time": "2023-11-08T12:02:55.103Z"
   },
   {
    "duration": 83,
    "start_time": "2023-11-08T12:02:55.108Z"
   },
   {
    "duration": 8,
    "start_time": "2023-11-08T12:02:55.193Z"
   },
   {
    "duration": 25,
    "start_time": "2023-11-08T12:02:55.202Z"
   },
   {
    "duration": 138,
    "start_time": "2023-11-08T12:02:55.229Z"
   },
   {
    "duration": 9,
    "start_time": "2023-11-08T12:02:55.368Z"
   },
   {
    "duration": 26,
    "start_time": "2023-11-08T12:02:55.378Z"
   },
   {
    "duration": 232,
    "start_time": "2023-11-08T12:02:55.405Z"
   },
   {
    "duration": 6,
    "start_time": "2023-11-08T12:02:55.639Z"
   },
   {
    "duration": 42,
    "start_time": "2023-11-08T12:02:55.647Z"
   },
   {
    "duration": 22,
    "start_time": "2023-11-08T12:02:55.691Z"
   },
   {
    "duration": 23,
    "start_time": "2023-11-08T12:02:55.715Z"
   },
   {
    "duration": 11,
    "start_time": "2023-11-08T12:02:55.739Z"
   },
   {
    "duration": 25,
    "start_time": "2023-11-08T12:02:55.752Z"
   },
   {
    "duration": 16,
    "start_time": "2023-11-08T12:02:55.779Z"
   },
   {
    "duration": 48,
    "start_time": "2023-11-08T12:02:55.797Z"
   },
   {
    "duration": 9,
    "start_time": "2023-11-08T12:02:55.847Z"
   },
   {
    "duration": 8,
    "start_time": "2023-11-08T12:02:55.858Z"
   },
   {
    "duration": 6,
    "start_time": "2023-11-08T12:02:55.867Z"
   },
   {
    "duration": 194,
    "start_time": "2023-11-08T12:02:55.875Z"
   },
   {
    "duration": 9,
    "start_time": "2023-11-08T12:02:56.071Z"
   },
   {
    "duration": 213,
    "start_time": "2023-11-08T12:02:56.082Z"
   },
   {
    "duration": 263,
    "start_time": "2023-11-08T12:02:56.297Z"
   },
   {
    "duration": 7,
    "start_time": "2023-11-08T12:02:56.562Z"
   },
   {
    "duration": 286,
    "start_time": "2023-11-08T12:02:56.571Z"
   },
   {
    "duration": 7,
    "start_time": "2023-11-08T12:02:56.859Z"
   },
   {
    "duration": 133,
    "start_time": "2023-11-08T12:02:56.868Z"
   },
   {
    "duration": 10,
    "start_time": "2023-11-08T12:02:57.006Z"
   },
   {
    "duration": 12,
    "start_time": "2023-11-08T12:02:57.019Z"
   },
   {
    "duration": 292,
    "start_time": "2023-11-08T12:02:57.033Z"
   },
   {
    "duration": 280,
    "start_time": "2023-11-08T12:02:57.327Z"
   },
   {
    "duration": 7,
    "start_time": "2023-11-08T12:02:57.609Z"
   },
   {
    "duration": 14,
    "start_time": "2023-11-08T12:02:57.618Z"
   },
   {
    "duration": 143,
    "start_time": "2023-11-08T12:02:57.634Z"
   },
   {
    "duration": 9,
    "start_time": "2023-11-08T12:02:57.779Z"
   },
   {
    "duration": 22,
    "start_time": "2023-11-08T12:02:57.789Z"
   },
   {
    "duration": 16,
    "start_time": "2023-11-08T12:02:57.812Z"
   },
   {
    "duration": 27,
    "start_time": "2023-11-08T12:04:23.015Z"
   },
   {
    "duration": 2,
    "start_time": "2023-11-08T12:04:37.167Z"
   },
   {
    "duration": 78,
    "start_time": "2023-11-08T12:04:37.171Z"
   },
   {
    "duration": 9,
    "start_time": "2023-11-08T12:04:37.251Z"
   },
   {
    "duration": 12,
    "start_time": "2023-11-08T12:04:37.262Z"
   },
   {
    "duration": 237,
    "start_time": "2023-11-08T12:04:37.276Z"
   },
   {
    "duration": 8,
    "start_time": "2023-11-08T12:04:37.515Z"
   },
   {
    "duration": 23,
    "start_time": "2023-11-08T12:04:37.525Z"
   },
   {
    "duration": 244,
    "start_time": "2023-11-08T12:04:37.550Z"
   },
   {
    "duration": 11,
    "start_time": "2023-11-08T12:04:37.796Z"
   },
   {
    "duration": 37,
    "start_time": "2023-11-08T12:04:37.808Z"
   },
   {
    "duration": 27,
    "start_time": "2023-11-08T12:04:37.847Z"
   },
   {
    "duration": 10,
    "start_time": "2023-11-08T12:04:37.875Z"
   },
   {
    "duration": 16,
    "start_time": "2023-11-08T12:04:37.887Z"
   },
   {
    "duration": 26,
    "start_time": "2023-11-08T12:04:37.905Z"
   },
   {
    "duration": 6,
    "start_time": "2023-11-08T12:04:37.932Z"
   },
   {
    "duration": 11,
    "start_time": "2023-11-08T12:04:37.940Z"
   },
   {
    "duration": 7,
    "start_time": "2023-11-08T12:04:37.953Z"
   },
   {
    "duration": 32,
    "start_time": "2023-11-08T12:04:37.962Z"
   },
   {
    "duration": 5,
    "start_time": "2023-11-08T12:04:37.997Z"
   },
   {
    "duration": 142,
    "start_time": "2023-11-08T12:04:38.004Z"
   },
   {
    "duration": 7,
    "start_time": "2023-11-08T12:04:38.147Z"
   },
   {
    "duration": 116,
    "start_time": "2023-11-08T12:04:38.155Z"
   },
   {
    "duration": 252,
    "start_time": "2023-11-08T12:04:38.273Z"
   },
   {
    "duration": 8,
    "start_time": "2023-11-08T12:04:38.526Z"
   },
   {
    "duration": 293,
    "start_time": "2023-11-08T12:04:38.535Z"
   },
   {
    "duration": 8,
    "start_time": "2023-11-08T12:04:38.829Z"
   },
   {
    "duration": 129,
    "start_time": "2023-11-08T12:04:38.838Z"
   },
   {
    "duration": 10,
    "start_time": "2023-11-08T12:04:38.968Z"
   },
   {
    "duration": 26,
    "start_time": "2023-11-08T12:04:38.981Z"
   },
   {
    "duration": 339,
    "start_time": "2023-11-08T12:04:39.009Z"
   },
   {
    "duration": 250,
    "start_time": "2023-11-08T12:04:39.350Z"
   },
   {
    "duration": 9,
    "start_time": "2023-11-08T12:04:39.601Z"
   },
   {
    "duration": 22,
    "start_time": "2023-11-08T12:04:39.611Z"
   },
   {
    "duration": 131,
    "start_time": "2023-11-08T12:04:39.634Z"
   },
   {
    "duration": 13,
    "start_time": "2023-11-08T12:04:39.766Z"
   },
   {
    "duration": 17,
    "start_time": "2023-11-08T12:04:39.781Z"
   },
   {
    "duration": 17,
    "start_time": "2023-11-08T12:04:39.806Z"
   },
   {
    "duration": 26,
    "start_time": "2023-11-08T13:07:15.803Z"
   },
   {
    "duration": 22,
    "start_time": "2023-11-08T13:07:43.634Z"
   },
   {
    "duration": 2,
    "start_time": "2023-11-08T13:11:01.610Z"
   },
   {
    "duration": 151,
    "start_time": "2023-11-08T13:11:01.615Z"
   },
   {
    "duration": 9,
    "start_time": "2023-11-08T13:11:01.768Z"
   },
   {
    "duration": 175,
    "start_time": "2023-11-08T13:11:01.779Z"
   },
   {
    "duration": 270,
    "start_time": "2023-11-08T13:11:01.955Z"
   },
   {
    "duration": 8,
    "start_time": "2023-11-08T13:11:02.226Z"
   },
   {
    "duration": 49,
    "start_time": "2023-11-08T13:11:02.236Z"
   },
   {
    "duration": 263,
    "start_time": "2023-11-08T13:11:02.287Z"
   },
   {
    "duration": 8,
    "start_time": "2023-11-08T13:11:02.553Z"
   },
   {
    "duration": 62,
    "start_time": "2023-11-08T13:11:02.562Z"
   },
   {
    "duration": 71,
    "start_time": "2023-11-08T13:11:02.626Z"
   },
   {
    "duration": 29,
    "start_time": "2023-11-08T13:11:02.699Z"
   },
   {
    "duration": 35,
    "start_time": "2023-11-08T13:11:02.729Z"
   },
   {
    "duration": 44,
    "start_time": "2023-11-08T13:11:02.767Z"
   },
   {
    "duration": 69,
    "start_time": "2023-11-08T13:11:02.813Z"
   },
   {
    "duration": 28,
    "start_time": "2023-11-08T13:11:02.884Z"
   },
   {
    "duration": 31,
    "start_time": "2023-11-08T13:11:02.913Z"
   },
   {
    "duration": 32,
    "start_time": "2023-11-08T13:11:02.946Z"
   },
   {
    "duration": 26,
    "start_time": "2023-11-08T13:11:02.980Z"
   },
   {
    "duration": 179,
    "start_time": "2023-11-08T13:11:03.008Z"
   },
   {
    "duration": 7,
    "start_time": "2023-11-08T13:11:03.189Z"
   },
   {
    "duration": 136,
    "start_time": "2023-11-08T13:11:03.198Z"
   },
   {
    "duration": 262,
    "start_time": "2023-11-08T13:11:03.336Z"
   },
   {
    "duration": 8,
    "start_time": "2023-11-08T13:11:03.607Z"
   },
   {
    "duration": 424,
    "start_time": "2023-11-08T13:11:03.616Z"
   },
   {
    "duration": 10,
    "start_time": "2023-11-08T13:11:04.041Z"
   },
   {
    "duration": 138,
    "start_time": "2023-11-08T13:11:04.053Z"
   },
   {
    "duration": 9,
    "start_time": "2023-11-08T13:11:04.193Z"
   },
   {
    "duration": 48,
    "start_time": "2023-11-08T13:11:04.207Z"
   },
   {
    "duration": 287,
    "start_time": "2023-11-08T13:11:04.257Z"
   },
   {
    "duration": 248,
    "start_time": "2023-11-08T13:11:04.546Z"
   },
   {
    "duration": 13,
    "start_time": "2023-11-08T13:11:04.796Z"
   },
   {
    "duration": 34,
    "start_time": "2023-11-08T13:11:04.811Z"
   },
   {
    "duration": 152,
    "start_time": "2023-11-08T13:11:04.847Z"
   },
   {
    "duration": 9,
    "start_time": "2023-11-08T13:11:05.007Z"
   },
   {
    "duration": 32,
    "start_time": "2023-11-08T13:11:05.017Z"
   },
   {
    "duration": 78,
    "start_time": "2023-11-08T13:11:05.051Z"
   },
   {
    "duration": 59,
    "start_time": "2023-11-08T13:11:05.131Z"
   },
   {
    "duration": 13,
    "start_time": "2023-11-08T13:12:00.904Z"
   },
   {
    "duration": 4,
    "start_time": "2023-11-08T13:12:10.170Z"
   },
   {
    "duration": 79,
    "start_time": "2023-11-08T13:12:10.175Z"
   },
   {
    "duration": 11,
    "start_time": "2023-11-08T13:12:10.256Z"
   },
   {
    "duration": 25,
    "start_time": "2023-11-08T13:12:10.269Z"
   },
   {
    "duration": 145,
    "start_time": "2023-11-08T13:12:10.296Z"
   },
   {
    "duration": 8,
    "start_time": "2023-11-08T13:12:10.443Z"
   },
   {
    "duration": 42,
    "start_time": "2023-11-08T13:12:10.453Z"
   },
   {
    "duration": 237,
    "start_time": "2023-11-08T13:12:10.496Z"
   },
   {
    "duration": 7,
    "start_time": "2023-11-08T13:12:10.735Z"
   },
   {
    "duration": 33,
    "start_time": "2023-11-08T13:12:10.744Z"
   },
   {
    "duration": 34,
    "start_time": "2023-11-08T13:12:10.779Z"
   },
   {
    "duration": 17,
    "start_time": "2023-11-08T13:12:10.815Z"
   },
   {
    "duration": 22,
    "start_time": "2023-11-08T13:12:10.834Z"
   },
   {
    "duration": 38,
    "start_time": "2023-11-08T13:12:10.858Z"
   },
   {
    "duration": 29,
    "start_time": "2023-11-08T13:12:10.898Z"
   },
   {
    "duration": 24,
    "start_time": "2023-11-08T13:12:10.928Z"
   },
   {
    "duration": 30,
    "start_time": "2023-11-08T13:12:10.954Z"
   },
   {
    "duration": 17,
    "start_time": "2023-11-08T13:12:10.986Z"
   },
   {
    "duration": 16,
    "start_time": "2023-11-08T13:12:11.004Z"
   },
   {
    "duration": 152,
    "start_time": "2023-11-08T13:12:11.022Z"
   },
   {
    "duration": 7,
    "start_time": "2023-11-08T13:12:11.176Z"
   },
   {
    "duration": 121,
    "start_time": "2023-11-08T13:12:11.184Z"
   },
   {
    "duration": 350,
    "start_time": "2023-11-08T13:12:11.306Z"
   },
   {
    "duration": 8,
    "start_time": "2023-11-08T13:12:11.658Z"
   },
   {
    "duration": 286,
    "start_time": "2023-11-08T13:12:11.667Z"
   },
   {
    "duration": 8,
    "start_time": "2023-11-08T13:12:11.954Z"
   },
   {
    "duration": 158,
    "start_time": "2023-11-08T13:12:11.964Z"
   },
   {
    "duration": 11,
    "start_time": "2023-11-08T13:12:12.123Z"
   },
   {
    "duration": 15,
    "start_time": "2023-11-08T13:12:12.137Z"
   },
   {
    "duration": 276,
    "start_time": "2023-11-08T13:12:12.154Z"
   },
   {
    "duration": 290,
    "start_time": "2023-11-08T13:12:12.432Z"
   },
   {
    "duration": 5,
    "start_time": "2023-11-08T13:12:12.724Z"
   },
   {
    "duration": 21,
    "start_time": "2023-11-08T13:12:12.731Z"
   },
   {
    "duration": 125,
    "start_time": "2023-11-08T13:12:12.753Z"
   },
   {
    "duration": 10,
    "start_time": "2023-11-08T13:12:12.880Z"
   },
   {
    "duration": 22,
    "start_time": "2023-11-08T13:12:12.892Z"
   },
   {
    "duration": 20,
    "start_time": "2023-11-08T13:12:12.915Z"
   },
   {
    "duration": 19,
    "start_time": "2023-11-08T13:12:12.937Z"
   },
   {
    "duration": 13,
    "start_time": "2023-11-08T13:12:12.957Z"
   },
   {
    "duration": 21,
    "start_time": "2023-11-08T13:56:13.502Z"
   },
   {
    "duration": 15,
    "start_time": "2023-11-08T13:57:21.941Z"
   },
   {
    "duration": 280,
    "start_time": "2023-11-08T13:59:33.974Z"
   },
   {
    "duration": 382,
    "start_time": "2023-11-08T13:59:47.092Z"
   },
   {
    "duration": 259,
    "start_time": "2023-11-08T14:00:24.316Z"
   },
   {
    "duration": 305,
    "start_time": "2023-11-08T14:00:36.718Z"
   },
   {
    "duration": 353,
    "start_time": "2023-11-08T14:01:45.956Z"
   },
   {
    "duration": 272,
    "start_time": "2023-11-08T14:01:49.859Z"
   },
   {
    "duration": 379,
    "start_time": "2023-11-08T14:03:34.397Z"
   },
   {
    "duration": 280,
    "start_time": "2023-11-08T14:04:13.476Z"
   },
   {
    "duration": 9,
    "start_time": "2023-11-08T14:08:39.443Z"
   },
   {
    "duration": 13,
    "start_time": "2023-11-08T14:09:25.949Z"
   },
   {
    "duration": 9,
    "start_time": "2023-11-08T14:10:22.131Z"
   },
   {
    "duration": 9,
    "start_time": "2023-11-08T14:10:23.075Z"
   },
   {
    "duration": 9,
    "start_time": "2023-11-08T14:10:25.435Z"
   },
   {
    "duration": 8,
    "start_time": "2023-11-08T14:10:26.275Z"
   },
   {
    "duration": 9,
    "start_time": "2023-11-08T14:20:04.478Z"
   },
   {
    "duration": 3,
    "start_time": "2023-11-08T14:20:08.905Z"
   },
   {
    "duration": 89,
    "start_time": "2023-11-08T14:20:08.910Z"
   },
   {
    "duration": 9,
    "start_time": "2023-11-08T14:20:09.001Z"
   },
   {
    "duration": 17,
    "start_time": "2023-11-08T14:20:09.012Z"
   },
   {
    "duration": 137,
    "start_time": "2023-11-08T14:20:09.031Z"
   },
   {
    "duration": 8,
    "start_time": "2023-11-08T14:20:09.170Z"
   },
   {
    "duration": 30,
    "start_time": "2023-11-08T14:20:09.180Z"
   },
   {
    "duration": 233,
    "start_time": "2023-11-08T14:20:09.212Z"
   },
   {
    "duration": 7,
    "start_time": "2023-11-08T14:20:09.446Z"
   },
   {
    "duration": 40,
    "start_time": "2023-11-08T14:20:09.455Z"
   },
   {
    "duration": 40,
    "start_time": "2023-11-08T14:20:09.498Z"
   },
   {
    "duration": 18,
    "start_time": "2023-11-08T14:20:09.539Z"
   },
   {
    "duration": 15,
    "start_time": "2023-11-08T14:20:09.559Z"
   },
   {
    "duration": 43,
    "start_time": "2023-11-08T14:20:09.576Z"
   },
   {
    "duration": 6,
    "start_time": "2023-11-08T14:20:09.621Z"
   },
   {
    "duration": 12,
    "start_time": "2023-11-08T14:20:09.628Z"
   },
   {
    "duration": 12,
    "start_time": "2023-11-08T14:20:09.642Z"
   },
   {
    "duration": 31,
    "start_time": "2023-11-08T14:20:09.656Z"
   },
   {
    "duration": 32,
    "start_time": "2023-11-08T14:20:09.689Z"
   },
   {
    "duration": 151,
    "start_time": "2023-11-08T14:20:09.723Z"
   },
   {
    "duration": 7,
    "start_time": "2023-11-08T14:20:09.876Z"
   },
   {
    "duration": 125,
    "start_time": "2023-11-08T14:20:09.885Z"
   },
   {
    "duration": 253,
    "start_time": "2023-11-08T14:20:10.011Z"
   },
   {
    "duration": 8,
    "start_time": "2023-11-08T14:20:10.265Z"
   },
   {
    "duration": 398,
    "start_time": "2023-11-08T14:20:10.275Z"
   },
   {
    "duration": 9,
    "start_time": "2023-11-08T14:20:10.675Z"
   },
   {
    "duration": 147,
    "start_time": "2023-11-08T14:20:10.685Z"
   },
   {
    "duration": 9,
    "start_time": "2023-11-08T14:20:10.834Z"
   },
   {
    "duration": 64,
    "start_time": "2023-11-08T14:20:10.846Z"
   },
   {
    "duration": 293,
    "start_time": "2023-11-08T14:20:10.911Z"
   },
   {
    "duration": 270,
    "start_time": "2023-11-08T14:20:11.205Z"
   },
   {
    "duration": 7,
    "start_time": "2023-11-08T14:20:11.476Z"
   },
   {
    "duration": 35,
    "start_time": "2023-11-08T14:20:11.484Z"
   },
   {
    "duration": 182,
    "start_time": "2023-11-08T14:20:11.522Z"
   },
   {
    "duration": 10,
    "start_time": "2023-11-08T14:20:11.706Z"
   },
   {
    "duration": 54,
    "start_time": "2023-11-08T14:20:11.718Z"
   },
   {
    "duration": 52,
    "start_time": "2023-11-08T14:20:11.774Z"
   },
   {
    "duration": 37,
    "start_time": "2023-11-08T14:20:11.827Z"
   },
   {
    "duration": 19,
    "start_time": "2023-11-08T14:20:11.866Z"
   },
   {
    "duration": 65,
    "start_time": "2023-11-08T14:20:11.887Z"
   },
   {
    "duration": 41,
    "start_time": "2023-11-08T14:20:11.954Z"
   },
   {
    "duration": 327,
    "start_time": "2023-11-08T14:20:11.997Z"
   },
   {
    "duration": 296,
    "start_time": "2023-11-08T14:20:12.326Z"
   },
   {
    "duration": 381,
    "start_time": "2023-11-08T14:20:12.624Z"
   },
   {
    "duration": 276,
    "start_time": "2023-11-08T14:20:13.007Z"
   },
   {
    "duration": 7,
    "start_time": "2023-11-08T14:20:13.285Z"
   },
   {
    "duration": 39,
    "start_time": "2023-11-08T14:20:13.294Z"
   },
   {
    "duration": 24,
    "start_time": "2023-11-08T14:20:13.334Z"
   },
   {
    "duration": 22,
    "start_time": "2023-11-08T14:20:13.359Z"
   },
   {
    "duration": 13,
    "start_time": "2023-11-08T14:20:13.382Z"
   },
   {
    "duration": 10,
    "start_time": "2023-11-08T14:24:46.348Z"
   },
   {
    "duration": 9,
    "start_time": "2023-11-08T14:24:55.443Z"
   },
   {
    "duration": 8,
    "start_time": "2023-11-08T14:28:13.740Z"
   },
   {
    "duration": 7,
    "start_time": "2023-11-08T14:28:19.923Z"
   },
   {
    "duration": 9,
    "start_time": "2023-11-08T14:29:50.805Z"
   },
   {
    "duration": 8,
    "start_time": "2023-11-08T14:30:00.515Z"
   },
   {
    "duration": 11,
    "start_time": "2023-11-08T14:30:29.850Z"
   },
   {
    "duration": 12,
    "start_time": "2023-11-08T14:38:34.971Z"
   },
   {
    "duration": 14,
    "start_time": "2023-11-08T14:39:05.915Z"
   },
   {
    "duration": 21,
    "start_time": "2023-11-08T14:43:47.724Z"
   },
   {
    "duration": 27,
    "start_time": "2023-11-08T14:48:49.907Z"
   },
   {
    "duration": 13,
    "start_time": "2023-11-08T14:49:37.674Z"
   },
   {
    "duration": 26,
    "start_time": "2023-11-08T14:52:38.386Z"
   },
   {
    "duration": 27,
    "start_time": "2023-11-08T14:58:21.474Z"
   },
   {
    "duration": 26,
    "start_time": "2023-11-08T15:01:15.731Z"
   },
   {
    "duration": 28,
    "start_time": "2023-11-08T15:01:41.756Z"
   },
   {
    "duration": 28,
    "start_time": "2023-11-08T15:03:25.484Z"
   },
   {
    "duration": 25,
    "start_time": "2023-11-08T15:03:57.705Z"
   },
   {
    "duration": 25,
    "start_time": "2023-11-08T15:09:34.553Z"
   },
   {
    "duration": 36,
    "start_time": "2023-11-08T15:10:16.130Z"
   },
   {
    "duration": 28,
    "start_time": "2023-11-08T15:12:33.753Z"
   },
   {
    "duration": 378,
    "start_time": "2023-11-08T15:13:50.665Z"
   },
   {
    "duration": 45,
    "start_time": "2023-11-08T15:14:47.593Z"
   },
   {
    "duration": 48,
    "start_time": "2023-11-08T15:15:10.498Z"
   },
   {
    "duration": 31,
    "start_time": "2023-11-08T15:15:32.784Z"
   },
   {
    "duration": 36,
    "start_time": "2023-11-08T15:15:43.522Z"
   },
   {
    "duration": 38,
    "start_time": "2023-11-08T15:16:03.858Z"
   },
   {
    "duration": 12,
    "start_time": "2023-11-08T15:16:16.681Z"
   },
   {
    "duration": 13,
    "start_time": "2023-11-08T15:16:59.235Z"
   },
   {
    "duration": 21,
    "start_time": "2023-11-08T15:17:16.621Z"
   },
   {
    "duration": 12,
    "start_time": "2023-11-08T15:17:17.271Z"
   },
   {
    "duration": 36,
    "start_time": "2023-11-08T15:17:44.010Z"
   },
   {
    "duration": 23,
    "start_time": "2023-11-08T15:18:06.434Z"
   },
   {
    "duration": 21,
    "start_time": "2023-11-08T15:18:17.050Z"
   },
   {
    "duration": 1301,
    "start_time": "2023-11-08T15:22:50.003Z"
   },
   {
    "duration": 167,
    "start_time": "2023-11-08T15:25:15.185Z"
   },
   {
    "duration": 49,
    "start_time": "2023-11-08T15:28:29.666Z"
   },
   {
    "duration": 48,
    "start_time": "2023-11-08T15:31:07.457Z"
   },
   {
    "duration": 12,
    "start_time": "2023-11-08T15:33:33.747Z"
   },
   {
    "duration": 2,
    "start_time": "2023-11-08T15:33:45.035Z"
   },
   {
    "duration": 8,
    "start_time": "2023-11-08T15:33:47.961Z"
   },
   {
    "duration": 17,
    "start_time": "2023-11-08T15:34:05.378Z"
   },
   {
    "duration": 58,
    "start_time": "2023-11-08T15:34:57.305Z"
   },
   {
    "duration": 17,
    "start_time": "2023-11-08T15:46:52.520Z"
   },
   {
    "duration": 3,
    "start_time": "2023-11-08T15:46:57.242Z"
   },
   {
    "duration": 93,
    "start_time": "2023-11-08T15:46:57.247Z"
   },
   {
    "duration": 8,
    "start_time": "2023-11-08T15:46:57.342Z"
   },
   {
    "duration": 40,
    "start_time": "2023-11-08T15:46:57.351Z"
   },
   {
    "duration": 167,
    "start_time": "2023-11-08T15:46:57.394Z"
   },
   {
    "duration": 10,
    "start_time": "2023-11-08T15:46:57.562Z"
   },
   {
    "duration": 28,
    "start_time": "2023-11-08T15:46:57.573Z"
   },
   {
    "duration": 234,
    "start_time": "2023-11-08T15:46:57.603Z"
   },
   {
    "duration": 8,
    "start_time": "2023-11-08T15:46:57.839Z"
   },
   {
    "duration": 19,
    "start_time": "2023-11-08T15:46:57.849Z"
   },
   {
    "duration": 38,
    "start_time": "2023-11-08T15:46:57.871Z"
   },
   {
    "duration": 10,
    "start_time": "2023-11-08T15:46:57.911Z"
   },
   {
    "duration": 15,
    "start_time": "2023-11-08T15:46:57.922Z"
   },
   {
    "duration": 24,
    "start_time": "2023-11-08T15:46:57.938Z"
   },
   {
    "duration": 16,
    "start_time": "2023-11-08T15:46:57.964Z"
   },
   {
    "duration": 16,
    "start_time": "2023-11-08T15:46:57.982Z"
   },
   {
    "duration": 24,
    "start_time": "2023-11-08T15:46:58.000Z"
   },
   {
    "duration": 35,
    "start_time": "2023-11-08T15:46:58.026Z"
   },
   {
    "duration": 17,
    "start_time": "2023-11-08T15:46:58.062Z"
   },
   {
    "duration": 144,
    "start_time": "2023-11-08T15:46:58.081Z"
   },
   {
    "duration": 7,
    "start_time": "2023-11-08T15:46:58.226Z"
   },
   {
    "duration": 119,
    "start_time": "2023-11-08T15:46:58.234Z"
   },
   {
    "duration": 265,
    "start_time": "2023-11-08T15:46:58.355Z"
   },
   {
    "duration": 8,
    "start_time": "2023-11-08T15:46:58.622Z"
   },
   {
    "duration": 409,
    "start_time": "2023-11-08T15:46:58.631Z"
   },
   {
    "duration": 11,
    "start_time": "2023-11-08T15:46:59.042Z"
   },
   {
    "duration": 140,
    "start_time": "2023-11-08T15:46:59.055Z"
   },
   {
    "duration": 17,
    "start_time": "2023-11-08T15:46:59.197Z"
   },
   {
    "duration": 7,
    "start_time": "2023-11-08T15:46:59.218Z"
   },
   {
    "duration": 292,
    "start_time": "2023-11-08T15:46:59.227Z"
   },
   {
    "duration": 263,
    "start_time": "2023-11-08T15:46:59.521Z"
   },
   {
    "duration": 6,
    "start_time": "2023-11-08T15:46:59.786Z"
   },
   {
    "duration": 45,
    "start_time": "2023-11-08T15:46:59.793Z"
   },
   {
    "duration": 150,
    "start_time": "2023-11-08T15:46:59.839Z"
   },
   {
    "duration": 10,
    "start_time": "2023-11-08T15:46:59.990Z"
   },
   {
    "duration": 8,
    "start_time": "2023-11-08T15:47:00.007Z"
   },
   {
    "duration": 60,
    "start_time": "2023-11-08T15:47:00.016Z"
   },
   {
    "duration": 28,
    "start_time": "2023-11-08T15:47:00.078Z"
   },
   {
    "duration": 39,
    "start_time": "2023-11-08T15:47:00.108Z"
   },
   {
    "duration": 38,
    "start_time": "2023-11-08T15:47:00.148Z"
   },
   {
    "duration": 48,
    "start_time": "2023-11-08T15:47:00.188Z"
   },
   {
    "duration": 337,
    "start_time": "2023-11-08T15:47:00.238Z"
   },
   {
    "duration": 406,
    "start_time": "2023-11-08T15:47:00.576Z"
   },
   {
    "duration": 303,
    "start_time": "2023-11-08T15:47:00.984Z"
   },
   {
    "duration": 318,
    "start_time": "2023-11-08T15:47:01.289Z"
   },
   {
    "duration": 9,
    "start_time": "2023-11-08T15:47:01.609Z"
   },
   {
    "duration": 30,
    "start_time": "2023-11-08T15:47:01.619Z"
   },
   {
    "duration": 42,
    "start_time": "2023-11-08T15:47:01.651Z"
   },
   {
    "duration": 39,
    "start_time": "2023-11-08T15:47:01.695Z"
   },
   {
    "duration": 47,
    "start_time": "2023-11-08T15:47:01.736Z"
   },
   {
    "duration": 28,
    "start_time": "2023-11-08T15:47:01.785Z"
   },
   {
    "duration": 58,
    "start_time": "2023-11-08T15:47:01.815Z"
   },
   {
    "duration": 0,
    "start_time": "2023-11-08T15:47:01.875Z"
   },
   {
    "duration": 31,
    "start_time": "2023-11-08T15:55:54.949Z"
   },
   {
    "duration": 34,
    "start_time": "2023-11-08T15:56:59.312Z"
   },
   {
    "duration": 30,
    "start_time": "2023-11-08T15:57:46.798Z"
   },
   {
    "duration": 14,
    "start_time": "2023-11-08T16:06:51.838Z"
   },
   {
    "duration": 32,
    "start_time": "2023-11-08T16:06:57.302Z"
   },
   {
    "duration": 16,
    "start_time": "2023-11-08T16:06:59.494Z"
   },
   {
    "duration": 27,
    "start_time": "2023-11-08T16:07:11.623Z"
   },
   {
    "duration": 31,
    "start_time": "2023-11-08T16:11:48.038Z"
   },
   {
    "duration": 23,
    "start_time": "2023-11-08T16:13:46.922Z"
   },
   {
    "duration": 29,
    "start_time": "2023-11-08T16:16:03.246Z"
   },
   {
    "duration": 667,
    "start_time": "2023-11-08T16:16:56.520Z"
   },
   {
    "duration": 13,
    "start_time": "2023-11-08T16:18:32.230Z"
   },
   {
    "duration": 19,
    "start_time": "2023-11-08T16:21:43.150Z"
   },
   {
    "duration": 12,
    "start_time": "2023-11-08T16:21:51.655Z"
   },
   {
    "duration": 16,
    "start_time": "2023-11-08T16:22:01.520Z"
   },
   {
    "duration": 463,
    "start_time": "2023-11-08T18:40:38.550Z"
   },
   {
    "duration": 302,
    "start_time": "2023-11-08T18:42:55.676Z"
   },
   {
    "duration": 11,
    "start_time": "2023-11-08T18:44:13.592Z"
   },
   {
    "duration": 336,
    "start_time": "2023-11-08T18:44:23.480Z"
   },
   {
    "duration": 3,
    "start_time": "2023-11-08T18:44:37.722Z"
   },
   {
    "duration": 73,
    "start_time": "2023-11-08T18:44:37.727Z"
   },
   {
    "duration": 13,
    "start_time": "2023-11-08T18:44:37.802Z"
   },
   {
    "duration": 27,
    "start_time": "2023-11-08T18:44:37.818Z"
   },
   {
    "duration": 193,
    "start_time": "2023-11-08T18:44:37.847Z"
   },
   {
    "duration": 11,
    "start_time": "2023-11-08T18:44:38.043Z"
   },
   {
    "duration": 16,
    "start_time": "2023-11-08T18:44:38.055Z"
   },
   {
    "duration": 295,
    "start_time": "2023-11-08T18:44:38.073Z"
   },
   {
    "duration": 7,
    "start_time": "2023-11-08T18:44:38.371Z"
   },
   {
    "duration": 12,
    "start_time": "2023-11-08T18:44:38.380Z"
   },
   {
    "duration": 36,
    "start_time": "2023-11-08T18:44:38.393Z"
   },
   {
    "duration": 16,
    "start_time": "2023-11-08T18:44:38.434Z"
   },
   {
    "duration": 17,
    "start_time": "2023-11-08T18:44:38.452Z"
   },
   {
    "duration": 43,
    "start_time": "2023-11-08T18:44:38.471Z"
   },
   {
    "duration": 8,
    "start_time": "2023-11-08T18:44:38.518Z"
   },
   {
    "duration": 7,
    "start_time": "2023-11-08T18:44:38.528Z"
   },
   {
    "duration": 16,
    "start_time": "2023-11-08T18:44:38.540Z"
   },
   {
    "duration": 18,
    "start_time": "2023-11-08T18:44:38.559Z"
   },
   {
    "duration": 6,
    "start_time": "2023-11-08T18:44:38.579Z"
   },
   {
    "duration": 198,
    "start_time": "2023-11-08T18:44:38.587Z"
   },
   {
    "duration": 7,
    "start_time": "2023-11-08T18:44:38.787Z"
   },
   {
    "duration": 167,
    "start_time": "2023-11-08T18:44:38.796Z"
   },
   {
    "duration": 329,
    "start_time": "2023-11-08T18:44:38.966Z"
   },
   {
    "duration": 29,
    "start_time": "2023-11-08T18:44:39.299Z"
   },
   {
    "duration": 363,
    "start_time": "2023-11-08T18:44:39.330Z"
   },
   {
    "duration": 20,
    "start_time": "2023-11-08T18:44:39.695Z"
   },
   {
    "duration": 162,
    "start_time": "2023-11-08T18:44:39.717Z"
   },
   {
    "duration": 12,
    "start_time": "2023-11-08T18:44:39.881Z"
   },
   {
    "duration": 42,
    "start_time": "2023-11-08T18:44:39.894Z"
   },
   {
    "duration": 334,
    "start_time": "2023-11-08T18:44:39.949Z"
   },
   {
    "duration": 500,
    "start_time": "2023-11-08T18:44:40.285Z"
   },
   {
    "duration": 6,
    "start_time": "2023-11-08T18:44:40.787Z"
   },
   {
    "duration": 27,
    "start_time": "2023-11-08T18:44:40.818Z"
   },
   {
    "duration": 187,
    "start_time": "2023-11-08T18:44:40.853Z"
   },
   {
    "duration": 12,
    "start_time": "2023-11-08T18:44:41.042Z"
   },
   {
    "duration": 7,
    "start_time": "2023-11-08T18:44:41.056Z"
   },
   {
    "duration": 18,
    "start_time": "2023-11-08T18:44:41.065Z"
   },
   {
    "duration": 38,
    "start_time": "2023-11-08T18:44:41.085Z"
   },
   {
    "duration": 19,
    "start_time": "2023-11-08T18:44:41.124Z"
   },
   {
    "duration": 25,
    "start_time": "2023-11-08T18:44:41.145Z"
   },
   {
    "duration": 14,
    "start_time": "2023-11-08T18:44:41.172Z"
   },
   {
    "duration": 392,
    "start_time": "2023-11-08T18:44:41.187Z"
   },
   {
    "duration": 365,
    "start_time": "2023-11-08T18:44:41.581Z"
   },
   {
    "duration": 324,
    "start_time": "2023-11-08T18:44:41.949Z"
   },
   {
    "duration": 329,
    "start_time": "2023-11-08T18:44:42.274Z"
   },
   {
    "duration": 12,
    "start_time": "2023-11-08T18:44:42.609Z"
   },
   {
    "duration": 11,
    "start_time": "2023-11-08T18:44:42.623Z"
   },
   {
    "duration": 11,
    "start_time": "2023-11-08T18:44:42.636Z"
   },
   {
    "duration": 12,
    "start_time": "2023-11-08T18:44:42.649Z"
   },
   {
    "duration": 62,
    "start_time": "2023-11-08T18:44:42.664Z"
   },
   {
    "duration": 25,
    "start_time": "2023-11-08T18:44:42.730Z"
   },
   {
    "duration": 13,
    "start_time": "2023-11-08T18:44:42.757Z"
   },
   {
    "duration": 18,
    "start_time": "2023-11-08T18:44:42.772Z"
   },
   {
    "duration": 15,
    "start_time": "2023-11-08T18:45:07.207Z"
   },
   {
    "duration": 13,
    "start_time": "2023-11-08T18:45:42.417Z"
   },
   {
    "duration": 2,
    "start_time": "2023-11-08T18:45:47.673Z"
   },
   {
    "duration": 77,
    "start_time": "2023-11-08T18:45:47.678Z"
   },
   {
    "duration": 9,
    "start_time": "2023-11-08T18:45:47.757Z"
   },
   {
    "duration": 29,
    "start_time": "2023-11-08T18:45:47.767Z"
   },
   {
    "duration": 153,
    "start_time": "2023-11-08T18:45:47.798Z"
   },
   {
    "duration": 9,
    "start_time": "2023-11-08T18:45:47.952Z"
   },
   {
    "duration": 11,
    "start_time": "2023-11-08T18:45:47.963Z"
   },
   {
    "duration": 268,
    "start_time": "2023-11-08T18:45:47.976Z"
   },
   {
    "duration": 7,
    "start_time": "2023-11-08T18:45:48.246Z"
   },
   {
    "duration": 41,
    "start_time": "2023-11-08T18:45:48.255Z"
   },
   {
    "duration": 32,
    "start_time": "2023-11-08T18:45:48.298Z"
   },
   {
    "duration": 15,
    "start_time": "2023-11-08T18:45:48.331Z"
   },
   {
    "duration": 13,
    "start_time": "2023-11-08T18:45:48.347Z"
   },
   {
    "duration": 41,
    "start_time": "2023-11-08T18:45:48.363Z"
   },
   {
    "duration": 9,
    "start_time": "2023-11-08T18:45:48.405Z"
   },
   {
    "duration": 23,
    "start_time": "2023-11-08T18:45:48.416Z"
   },
   {
    "duration": 12,
    "start_time": "2023-11-08T18:45:48.440Z"
   },
   {
    "duration": 26,
    "start_time": "2023-11-08T18:45:48.453Z"
   },
   {
    "duration": 14,
    "start_time": "2023-11-08T18:45:48.480Z"
   },
   {
    "duration": 171,
    "start_time": "2023-11-08T18:45:48.495Z"
   },
   {
    "duration": 7,
    "start_time": "2023-11-08T18:45:48.667Z"
   },
   {
    "duration": 308,
    "start_time": "2023-11-08T18:45:48.675Z"
   },
   {
    "duration": 288,
    "start_time": "2023-11-08T18:45:48.985Z"
   },
   {
    "duration": 8,
    "start_time": "2023-11-08T18:45:49.275Z"
   },
   {
    "duration": 334,
    "start_time": "2023-11-08T18:45:49.284Z"
   },
   {
    "duration": 12,
    "start_time": "2023-11-08T18:45:49.620Z"
   },
   {
    "duration": 160,
    "start_time": "2023-11-08T18:45:49.634Z"
   },
   {
    "duration": 20,
    "start_time": "2023-11-08T18:45:49.796Z"
   },
   {
    "duration": 10,
    "start_time": "2023-11-08T18:45:49.817Z"
   },
   {
    "duration": 320,
    "start_time": "2023-11-08T18:45:49.828Z"
   },
   {
    "duration": 305,
    "start_time": "2023-11-08T18:45:50.150Z"
   },
   {
    "duration": 6,
    "start_time": "2023-11-08T18:45:50.457Z"
   },
   {
    "duration": 29,
    "start_time": "2023-11-08T18:45:50.465Z"
   },
   {
    "duration": 172,
    "start_time": "2023-11-08T18:45:50.496Z"
   },
   {
    "duration": 10,
    "start_time": "2023-11-08T18:45:50.670Z"
   },
   {
    "duration": 49,
    "start_time": "2023-11-08T18:45:50.682Z"
   },
   {
    "duration": 27,
    "start_time": "2023-11-08T18:45:50.733Z"
   },
   {
    "duration": 28,
    "start_time": "2023-11-08T18:45:50.761Z"
   },
   {
    "duration": 12,
    "start_time": "2023-11-08T18:45:50.791Z"
   },
   {
    "duration": 78,
    "start_time": "2023-11-08T18:45:50.805Z"
   },
   {
    "duration": 47,
    "start_time": "2023-11-08T18:45:50.888Z"
   },
   {
    "duration": 348,
    "start_time": "2023-11-08T18:45:50.937Z"
   },
   {
    "duration": 466,
    "start_time": "2023-11-08T18:45:51.287Z"
   },
   {
    "duration": 344,
    "start_time": "2023-11-08T18:45:51.755Z"
   },
   {
    "duration": 331,
    "start_time": "2023-11-08T18:45:52.106Z"
   },
   {
    "duration": 10,
    "start_time": "2023-11-08T18:45:52.440Z"
   },
   {
    "duration": 22,
    "start_time": "2023-11-08T18:45:52.451Z"
   },
   {
    "duration": 28,
    "start_time": "2023-11-08T18:45:52.475Z"
   },
   {
    "duration": 34,
    "start_time": "2023-11-08T18:45:52.505Z"
   },
   {
    "duration": 31,
    "start_time": "2023-11-08T18:45:52.541Z"
   },
   {
    "duration": 19,
    "start_time": "2023-11-08T18:45:52.574Z"
   },
   {
    "duration": 24,
    "start_time": "2023-11-08T18:45:52.595Z"
   },
   {
    "duration": 25,
    "start_time": "2023-11-08T18:45:52.624Z"
   },
   {
    "duration": 18,
    "start_time": "2023-11-08T18:46:28.119Z"
   },
   {
    "duration": 2,
    "start_time": "2023-11-08T18:46:33.381Z"
   },
   {
    "duration": 82,
    "start_time": "2023-11-08T18:46:33.385Z"
   },
   {
    "duration": 11,
    "start_time": "2023-11-08T18:46:33.469Z"
   },
   {
    "duration": 15,
    "start_time": "2023-11-08T18:46:33.482Z"
   },
   {
    "duration": 169,
    "start_time": "2023-11-08T18:46:33.499Z"
   },
   {
    "duration": 8,
    "start_time": "2023-11-08T18:46:33.670Z"
   },
   {
    "duration": 11,
    "start_time": "2023-11-08T18:46:33.680Z"
   },
   {
    "duration": 263,
    "start_time": "2023-11-08T18:46:33.692Z"
   },
   {
    "duration": 7,
    "start_time": "2023-11-08T18:46:33.956Z"
   },
   {
    "duration": 11,
    "start_time": "2023-11-08T18:46:33.965Z"
   },
   {
    "duration": 43,
    "start_time": "2023-11-08T18:46:33.979Z"
   },
   {
    "duration": 15,
    "start_time": "2023-11-08T18:46:34.026Z"
   },
   {
    "duration": 16,
    "start_time": "2023-11-08T18:46:34.043Z"
   },
   {
    "duration": 13,
    "start_time": "2023-11-08T18:46:34.061Z"
   },
   {
    "duration": 5,
    "start_time": "2023-11-08T18:46:34.076Z"
   },
   {
    "duration": 34,
    "start_time": "2023-11-08T18:46:34.082Z"
   },
   {
    "duration": 9,
    "start_time": "2023-11-08T18:46:34.118Z"
   },
   {
    "duration": 16,
    "start_time": "2023-11-08T18:46:34.129Z"
   },
   {
    "duration": 4,
    "start_time": "2023-11-08T18:46:34.146Z"
   },
   {
    "duration": 162,
    "start_time": "2023-11-08T18:46:34.152Z"
   },
   {
    "duration": 11,
    "start_time": "2023-11-08T18:46:34.316Z"
   },
   {
    "duration": 141,
    "start_time": "2023-11-08T18:46:34.330Z"
   },
   {
    "duration": 298,
    "start_time": "2023-11-08T18:46:34.473Z"
   },
   {
    "duration": 8,
    "start_time": "2023-11-08T18:46:34.773Z"
   },
   {
    "duration": 316,
    "start_time": "2023-11-08T18:46:34.783Z"
   },
   {
    "duration": 21,
    "start_time": "2023-11-08T18:46:35.101Z"
   },
   {
    "duration": 157,
    "start_time": "2023-11-08T18:46:35.124Z"
   },
   {
    "duration": 13,
    "start_time": "2023-11-08T18:46:35.283Z"
   },
   {
    "duration": 10,
    "start_time": "2023-11-08T18:46:35.310Z"
   },
   {
    "duration": 449,
    "start_time": "2023-11-08T18:46:35.322Z"
   },
   {
    "duration": 329,
    "start_time": "2023-11-08T18:46:35.773Z"
   },
   {
    "duration": 9,
    "start_time": "2023-11-08T18:46:36.107Z"
   },
   {
    "duration": 18,
    "start_time": "2023-11-08T18:46:36.122Z"
   },
   {
    "duration": 189,
    "start_time": "2023-11-08T18:46:36.142Z"
   },
   {
    "duration": 12,
    "start_time": "2023-11-08T18:46:36.336Z"
   },
   {
    "duration": 10,
    "start_time": "2023-11-08T18:46:36.350Z"
   },
   {
    "duration": 15,
    "start_time": "2023-11-08T18:46:36.362Z"
   },
   {
    "duration": 51,
    "start_time": "2023-11-08T18:46:36.379Z"
   },
   {
    "duration": 14,
    "start_time": "2023-11-08T18:46:36.431Z"
   },
   {
    "duration": 21,
    "start_time": "2023-11-08T18:46:36.447Z"
   },
   {
    "duration": 16,
    "start_time": "2023-11-08T18:46:36.470Z"
   },
   {
    "duration": 319,
    "start_time": "2023-11-08T18:46:36.488Z"
   },
   {
    "duration": 316,
    "start_time": "2023-11-08T18:46:36.809Z"
   },
   {
    "duration": 327,
    "start_time": "2023-11-08T18:46:37.127Z"
   },
   {
    "duration": 468,
    "start_time": "2023-11-08T18:46:37.456Z"
   },
   {
    "duration": 13,
    "start_time": "2023-11-08T18:46:37.928Z"
   },
   {
    "duration": 12,
    "start_time": "2023-11-08T18:46:37.942Z"
   },
   {
    "duration": 11,
    "start_time": "2023-11-08T18:46:37.956Z"
   },
   {
    "duration": 8,
    "start_time": "2023-11-08T18:46:37.969Z"
   },
   {
    "duration": 57,
    "start_time": "2023-11-08T18:46:37.979Z"
   },
   {
    "duration": 12,
    "start_time": "2023-11-08T18:46:38.038Z"
   },
   {
    "duration": 14,
    "start_time": "2023-11-08T18:46:38.052Z"
   },
   {
    "duration": 10,
    "start_time": "2023-11-08T18:46:38.067Z"
   },
   {
    "duration": 37,
    "start_time": "2023-11-08T18:46:38.078Z"
   },
   {
    "duration": 10,
    "start_time": "2023-11-08T18:48:10.847Z"
   },
   {
    "duration": 12,
    "start_time": "2023-11-08T18:48:27.912Z"
   },
   {
    "duration": 9,
    "start_time": "2023-11-08T18:48:45.219Z"
   },
   {
    "duration": 6,
    "start_time": "2023-11-08T18:49:20.481Z"
   },
   {
    "duration": 9,
    "start_time": "2023-11-08T18:49:55.530Z"
   },
   {
    "duration": 105,
    "start_time": "2023-11-08T18:51:42.779Z"
   },
   {
    "duration": 59,
    "start_time": "2023-11-08T18:52:37.987Z"
   },
   {
    "duration": 4,
    "start_time": "2023-11-08T18:52:47.707Z"
   },
   {
    "duration": 88,
    "start_time": "2023-11-08T18:52:47.715Z"
   },
   {
    "duration": 21,
    "start_time": "2023-11-08T18:52:47.804Z"
   },
   {
    "duration": 18,
    "start_time": "2023-11-08T18:52:47.831Z"
   },
   {
    "duration": 195,
    "start_time": "2023-11-08T18:52:47.851Z"
   },
   {
    "duration": 9,
    "start_time": "2023-11-08T18:52:48.047Z"
   },
   {
    "duration": 29,
    "start_time": "2023-11-08T18:52:48.058Z"
   },
   {
    "duration": 267,
    "start_time": "2023-11-08T18:52:48.089Z"
   },
   {
    "duration": 7,
    "start_time": "2023-11-08T18:52:48.358Z"
   },
   {
    "duration": 19,
    "start_time": "2023-11-08T18:52:48.367Z"
   },
   {
    "duration": 51,
    "start_time": "2023-11-08T18:52:48.387Z"
   },
   {
    "duration": 10,
    "start_time": "2023-11-08T18:52:48.440Z"
   },
   {
    "duration": 17,
    "start_time": "2023-11-08T18:52:48.452Z"
   },
   {
    "duration": 27,
    "start_time": "2023-11-08T18:52:48.470Z"
   },
   {
    "duration": 20,
    "start_time": "2023-11-08T18:52:48.498Z"
   },
   {
    "duration": 16,
    "start_time": "2023-11-08T18:52:48.519Z"
   },
   {
    "duration": 16,
    "start_time": "2023-11-08T18:52:48.539Z"
   },
   {
    "duration": 17,
    "start_time": "2023-11-08T18:52:48.557Z"
   },
   {
    "duration": 11,
    "start_time": "2023-11-08T18:52:48.575Z"
   },
   {
    "duration": 169,
    "start_time": "2023-11-08T18:52:48.587Z"
   },
   {
    "duration": 7,
    "start_time": "2023-11-08T18:52:48.758Z"
   },
   {
    "duration": 173,
    "start_time": "2023-11-08T18:52:48.766Z"
   },
   {
    "duration": 298,
    "start_time": "2023-11-08T18:52:48.941Z"
   },
   {
    "duration": 8,
    "start_time": "2023-11-08T18:52:49.244Z"
   },
   {
    "duration": 325,
    "start_time": "2023-11-08T18:52:49.254Z"
   },
   {
    "duration": 11,
    "start_time": "2023-11-08T18:52:49.582Z"
   },
   {
    "duration": 156,
    "start_time": "2023-11-08T18:52:49.595Z"
   },
   {
    "duration": 10,
    "start_time": "2023-11-08T18:52:49.753Z"
   },
   {
    "duration": 23,
    "start_time": "2023-11-08T18:52:49.765Z"
   },
   {
    "duration": 306,
    "start_time": "2023-11-08T18:52:49.790Z"
   },
   {
    "duration": 448,
    "start_time": "2023-11-08T18:52:50.098Z"
   },
   {
    "duration": 6,
    "start_time": "2023-11-08T18:52:50.548Z"
   },
   {
    "duration": 25,
    "start_time": "2023-11-08T18:52:50.555Z"
   },
   {
    "duration": 188,
    "start_time": "2023-11-08T18:52:50.581Z"
   },
   {
    "duration": 11,
    "start_time": "2023-11-08T18:52:50.771Z"
   },
   {
    "duration": 56,
    "start_time": "2023-11-08T18:52:50.783Z"
   },
   {
    "duration": 18,
    "start_time": "2023-11-08T18:52:50.841Z"
   },
   {
    "duration": 24,
    "start_time": "2023-11-08T18:52:50.861Z"
   },
   {
    "duration": 24,
    "start_time": "2023-11-08T18:52:50.887Z"
   },
   {
    "duration": 42,
    "start_time": "2023-11-08T18:52:50.913Z"
   },
   {
    "duration": 30,
    "start_time": "2023-11-08T18:52:50.957Z"
   },
   {
    "duration": 349,
    "start_time": "2023-11-08T18:52:50.988Z"
   },
   {
    "duration": 311,
    "start_time": "2023-11-08T18:52:51.339Z"
   },
   {
    "duration": 324,
    "start_time": "2023-11-08T18:52:51.652Z"
   },
   {
    "duration": 328,
    "start_time": "2023-11-08T18:52:51.977Z"
   },
   {
    "duration": 31,
    "start_time": "2023-11-08T18:52:52.309Z"
   },
   {
    "duration": 8,
    "start_time": "2023-11-08T18:52:52.342Z"
   },
   {
    "duration": 15,
    "start_time": "2023-11-08T18:52:52.352Z"
   },
   {
    "duration": 20,
    "start_time": "2023-11-08T18:52:52.369Z"
   },
   {
    "duration": 41,
    "start_time": "2023-11-08T18:52:52.390Z"
   },
   {
    "duration": 8,
    "start_time": "2023-11-08T18:52:52.434Z"
   },
   {
    "duration": 1383,
    "start_time": "2023-11-08T18:52:52.444Z"
   },
   {
    "duration": 0,
    "start_time": "2023-11-08T18:52:53.833Z"
   },
   {
    "duration": 0,
    "start_time": "2023-11-08T18:52:53.834Z"
   },
   {
    "duration": 26,
    "start_time": "2023-11-08T18:55:26.007Z"
   },
   {
    "duration": 3,
    "start_time": "2023-11-08T18:55:40.490Z"
   },
   {
    "duration": 92,
    "start_time": "2023-11-08T18:55:40.495Z"
   },
   {
    "duration": 9,
    "start_time": "2023-11-08T18:55:40.589Z"
   },
   {
    "duration": 40,
    "start_time": "2023-11-08T18:55:40.599Z"
   },
   {
    "duration": 157,
    "start_time": "2023-11-08T18:55:40.642Z"
   },
   {
    "duration": 20,
    "start_time": "2023-11-08T18:55:40.801Z"
   },
   {
    "duration": 22,
    "start_time": "2023-11-08T18:55:40.828Z"
   },
   {
    "duration": 407,
    "start_time": "2023-11-08T18:55:40.851Z"
   },
   {
    "duration": 7,
    "start_time": "2023-11-08T18:55:41.260Z"
   },
   {
    "duration": 32,
    "start_time": "2023-11-08T18:55:41.271Z"
   },
   {
    "duration": 45,
    "start_time": "2023-11-08T18:55:41.305Z"
   },
   {
    "duration": 54,
    "start_time": "2023-11-08T18:55:41.351Z"
   },
   {
    "duration": 38,
    "start_time": "2023-11-08T18:55:41.407Z"
   },
   {
    "duration": 30,
    "start_time": "2023-11-08T18:55:41.447Z"
   },
   {
    "duration": 17,
    "start_time": "2023-11-08T18:55:41.479Z"
   },
   {
    "duration": 38,
    "start_time": "2023-11-08T18:55:41.497Z"
   },
   {
    "duration": 18,
    "start_time": "2023-11-08T18:55:41.538Z"
   },
   {
    "duration": 26,
    "start_time": "2023-11-08T18:55:41.557Z"
   },
   {
    "duration": 39,
    "start_time": "2023-11-08T18:55:41.585Z"
   },
   {
    "duration": 157,
    "start_time": "2023-11-08T18:55:41.630Z"
   },
   {
    "duration": 7,
    "start_time": "2023-11-08T18:55:41.788Z"
   },
   {
    "duration": 146,
    "start_time": "2023-11-08T18:55:41.797Z"
   },
   {
    "duration": 306,
    "start_time": "2023-11-08T18:55:41.944Z"
   },
   {
    "duration": 8,
    "start_time": "2023-11-08T18:55:42.252Z"
   },
   {
    "duration": 318,
    "start_time": "2023-11-08T18:55:42.261Z"
   },
   {
    "duration": 11,
    "start_time": "2023-11-08T18:55:42.582Z"
   },
   {
    "duration": 195,
    "start_time": "2023-11-08T18:55:42.594Z"
   },
   {
    "duration": 23,
    "start_time": "2023-11-08T18:55:42.791Z"
   },
   {
    "duration": 23,
    "start_time": "2023-11-08T18:55:42.819Z"
   },
   {
    "duration": 316,
    "start_time": "2023-11-08T18:55:42.843Z"
   },
   {
    "duration": 310,
    "start_time": "2023-11-08T18:55:43.161Z"
   },
   {
    "duration": 6,
    "start_time": "2023-11-08T18:55:43.473Z"
   },
   {
    "duration": 15,
    "start_time": "2023-11-08T18:55:43.480Z"
   },
   {
    "duration": 160,
    "start_time": "2023-11-08T18:55:43.496Z"
   },
   {
    "duration": 10,
    "start_time": "2023-11-08T18:55:43.658Z"
   },
   {
    "duration": 7,
    "start_time": "2023-11-08T18:55:43.669Z"
   },
   {
    "duration": 40,
    "start_time": "2023-11-08T18:55:43.678Z"
   },
   {
    "duration": 23,
    "start_time": "2023-11-08T18:55:43.720Z"
   },
   {
    "duration": 11,
    "start_time": "2023-11-08T18:55:43.744Z"
   },
   {
    "duration": 23,
    "start_time": "2023-11-08T18:55:43.756Z"
   },
   {
    "duration": 42,
    "start_time": "2023-11-08T18:55:43.781Z"
   },
   {
    "duration": 428,
    "start_time": "2023-11-08T18:55:43.825Z"
   },
   {
    "duration": 296,
    "start_time": "2023-11-08T18:55:44.255Z"
   },
   {
    "duration": 309,
    "start_time": "2023-11-08T18:55:44.553Z"
   },
   {
    "duration": 314,
    "start_time": "2023-11-08T18:55:44.864Z"
   },
   {
    "duration": 8,
    "start_time": "2023-11-08T18:55:45.180Z"
   },
   {
    "duration": 58,
    "start_time": "2023-11-08T18:55:45.190Z"
   },
   {
    "duration": 72,
    "start_time": "2023-11-08T18:55:45.250Z"
   },
   {
    "duration": 10,
    "start_time": "2023-11-08T18:55:45.329Z"
   },
   {
    "duration": 37,
    "start_time": "2023-11-08T18:55:45.341Z"
   },
   {
    "duration": 15,
    "start_time": "2023-11-08T18:55:45.380Z"
   },
   {
    "duration": 20,
    "start_time": "2023-11-08T18:55:45.396Z"
   },
   {
    "duration": 32,
    "start_time": "2023-11-08T18:55:45.418Z"
   },
   {
    "duration": 16,
    "start_time": "2023-11-08T18:57:49.688Z"
   },
   {
    "duration": 20,
    "start_time": "2023-11-08T18:58:06.282Z"
   },
   {
    "duration": 12,
    "start_time": "2023-11-08T18:59:58.080Z"
   },
   {
    "duration": 22,
    "start_time": "2023-11-08T19:00:06.647Z"
   },
   {
    "duration": 3,
    "start_time": "2023-11-08T19:01:47.108Z"
   },
   {
    "duration": 71,
    "start_time": "2023-11-08T19:01:47.112Z"
   },
   {
    "duration": 9,
    "start_time": "2023-11-08T19:01:47.185Z"
   },
   {
    "duration": 17,
    "start_time": "2023-11-08T19:01:47.195Z"
   },
   {
    "duration": 154,
    "start_time": "2023-11-08T19:01:47.214Z"
   },
   {
    "duration": 9,
    "start_time": "2023-11-08T19:01:47.370Z"
   },
   {
    "duration": 27,
    "start_time": "2023-11-08T19:01:47.380Z"
   },
   {
    "duration": 222,
    "start_time": "2023-11-08T19:01:47.409Z"
   },
   {
    "duration": 7,
    "start_time": "2023-11-08T19:01:47.633Z"
   },
   {
    "duration": 27,
    "start_time": "2023-11-08T19:01:47.642Z"
   },
   {
    "duration": 18,
    "start_time": "2023-11-08T19:01:47.671Z"
   },
   {
    "duration": 10,
    "start_time": "2023-11-08T19:01:47.691Z"
   },
   {
    "duration": 32,
    "start_time": "2023-11-08T19:01:47.703Z"
   },
   {
    "duration": 20,
    "start_time": "2023-11-08T19:01:47.736Z"
   },
   {
    "duration": 5,
    "start_time": "2023-11-08T19:01:47.757Z"
   },
   {
    "duration": 11,
    "start_time": "2023-11-08T19:01:47.764Z"
   },
   {
    "duration": 6,
    "start_time": "2023-11-08T19:01:47.777Z"
   },
   {
    "duration": 23,
    "start_time": "2023-11-08T19:01:47.784Z"
   },
   {
    "duration": 7,
    "start_time": "2023-11-08T19:01:47.808Z"
   },
   {
    "duration": 137,
    "start_time": "2023-11-08T19:01:47.817Z"
   },
   {
    "duration": 7,
    "start_time": "2023-11-08T19:01:47.956Z"
   },
   {
    "duration": 122,
    "start_time": "2023-11-08T19:01:47.964Z"
   },
   {
    "duration": 252,
    "start_time": "2023-11-08T19:01:48.088Z"
   },
   {
    "duration": 8,
    "start_time": "2023-11-08T19:01:48.341Z"
   },
   {
    "duration": 418,
    "start_time": "2023-11-08T19:01:48.350Z"
   },
   {
    "duration": 8,
    "start_time": "2023-11-08T19:01:48.770Z"
   },
   {
    "duration": 140,
    "start_time": "2023-11-08T19:01:48.779Z"
   },
   {
    "duration": 12,
    "start_time": "2023-11-08T19:01:48.921Z"
   },
   {
    "duration": 23,
    "start_time": "2023-11-08T19:01:48.937Z"
   },
   {
    "duration": 307,
    "start_time": "2023-11-08T19:01:48.962Z"
   },
   {
    "duration": 265,
    "start_time": "2023-11-08T19:01:49.271Z"
   },
   {
    "duration": 6,
    "start_time": "2023-11-08T19:01:49.537Z"
   },
   {
    "duration": 28,
    "start_time": "2023-11-08T19:01:49.545Z"
   },
   {
    "duration": 158,
    "start_time": "2023-11-08T19:01:49.575Z"
   },
   {
    "duration": 12,
    "start_time": "2023-11-08T19:01:49.735Z"
   },
   {
    "duration": 32,
    "start_time": "2023-11-08T19:01:49.748Z"
   },
   {
    "duration": 58,
    "start_time": "2023-11-08T19:01:49.783Z"
   },
   {
    "duration": 50,
    "start_time": "2023-11-08T19:01:49.842Z"
   },
   {
    "duration": 27,
    "start_time": "2023-11-08T19:01:49.893Z"
   },
   {
    "duration": 49,
    "start_time": "2023-11-08T19:01:49.922Z"
   },
   {
    "duration": 32,
    "start_time": "2023-11-08T19:01:49.972Z"
   },
   {
    "duration": 322,
    "start_time": "2023-11-08T19:01:50.006Z"
   },
   {
    "duration": 291,
    "start_time": "2023-11-08T19:01:50.330Z"
   },
   {
    "duration": 333,
    "start_time": "2023-11-08T19:01:50.623Z"
   },
   {
    "duration": 435,
    "start_time": "2023-11-08T19:01:50.957Z"
   },
   {
    "duration": 16,
    "start_time": "2023-11-08T19:01:51.394Z"
   },
   {
    "duration": 118,
    "start_time": "2023-11-08T19:01:51.412Z"
   },
   {
    "duration": 21,
    "start_time": "2023-11-08T19:01:51.531Z"
   },
   {
    "duration": 22,
    "start_time": "2023-11-08T19:01:51.554Z"
   },
   {
    "duration": 38,
    "start_time": "2023-11-08T19:01:51.578Z"
   },
   {
    "duration": 28,
    "start_time": "2023-11-08T19:01:51.618Z"
   },
   {
    "duration": 29,
    "start_time": "2023-11-08T19:01:51.648Z"
   },
   {
    "duration": 471,
    "start_time": "2023-11-08T19:01:51.678Z"
   },
   {
    "duration": 0,
    "start_time": "2023-11-08T19:01:52.151Z"
   },
   {
    "duration": 0,
    "start_time": "2023-11-08T19:01:52.153Z"
   },
   {
    "duration": 29,
    "start_time": "2023-11-08T19:04:33.622Z"
   },
   {
    "duration": 21,
    "start_time": "2023-11-08T19:04:34.588Z"
   },
   {
    "duration": 18,
    "start_time": "2023-11-08T19:05:55.792Z"
   },
   {
    "duration": 14,
    "start_time": "2023-11-08T19:06:02.777Z"
   },
   {
    "duration": 3,
    "start_time": "2023-11-08T19:06:42.294Z"
   },
   {
    "duration": 85,
    "start_time": "2023-11-08T19:06:42.298Z"
   },
   {
    "duration": 9,
    "start_time": "2023-11-08T19:06:42.385Z"
   },
   {
    "duration": 11,
    "start_time": "2023-11-08T19:06:42.396Z"
   },
   {
    "duration": 184,
    "start_time": "2023-11-08T19:06:42.408Z"
   },
   {
    "duration": 15,
    "start_time": "2023-11-08T19:06:42.594Z"
   },
   {
    "duration": 45,
    "start_time": "2023-11-08T19:06:42.611Z"
   },
   {
    "duration": 232,
    "start_time": "2023-11-08T19:06:42.658Z"
   },
   {
    "duration": 14,
    "start_time": "2023-11-08T19:06:42.893Z"
   },
   {
    "duration": 12,
    "start_time": "2023-11-08T19:06:42.908Z"
   },
   {
    "duration": 15,
    "start_time": "2023-11-08T19:06:42.921Z"
   },
   {
    "duration": 10,
    "start_time": "2023-11-08T19:06:42.937Z"
   },
   {
    "duration": 31,
    "start_time": "2023-11-08T19:06:42.949Z"
   },
   {
    "duration": 16,
    "start_time": "2023-11-08T19:06:42.982Z"
   },
   {
    "duration": 18,
    "start_time": "2023-11-08T19:06:43.000Z"
   },
   {
    "duration": 7,
    "start_time": "2023-11-08T19:06:43.020Z"
   },
   {
    "duration": 12,
    "start_time": "2023-11-08T19:06:43.029Z"
   },
   {
    "duration": 18,
    "start_time": "2023-11-08T19:06:43.043Z"
   },
   {
    "duration": 4,
    "start_time": "2023-11-08T19:06:43.063Z"
   },
   {
    "duration": 140,
    "start_time": "2023-11-08T19:06:43.069Z"
   },
   {
    "duration": 8,
    "start_time": "2023-11-08T19:06:43.211Z"
   },
   {
    "duration": 120,
    "start_time": "2023-11-08T19:06:43.221Z"
   },
   {
    "duration": 261,
    "start_time": "2023-11-08T19:06:43.343Z"
   },
   {
    "duration": 9,
    "start_time": "2023-11-08T19:06:43.609Z"
   },
   {
    "duration": 276,
    "start_time": "2023-11-08T19:06:43.620Z"
   },
   {
    "duration": 11,
    "start_time": "2023-11-08T19:06:43.899Z"
   },
   {
    "duration": 136,
    "start_time": "2023-11-08T19:06:43.911Z"
   },
   {
    "duration": 11,
    "start_time": "2023-11-08T19:06:44.049Z"
   },
   {
    "duration": 17,
    "start_time": "2023-11-08T19:06:44.061Z"
   },
   {
    "duration": 263,
    "start_time": "2023-11-08T19:06:44.079Z"
   },
   {
    "duration": 372,
    "start_time": "2023-11-08T19:06:44.344Z"
   },
   {
    "duration": 6,
    "start_time": "2023-11-08T19:06:44.717Z"
   },
   {
    "duration": 9,
    "start_time": "2023-11-08T19:06:44.724Z"
   },
   {
    "duration": 144,
    "start_time": "2023-11-08T19:06:44.734Z"
   },
   {
    "duration": 9,
    "start_time": "2023-11-08T19:06:44.879Z"
   },
   {
    "duration": 22,
    "start_time": "2023-11-08T19:06:44.890Z"
   },
   {
    "duration": 30,
    "start_time": "2023-11-08T19:06:44.913Z"
   },
   {
    "duration": 19,
    "start_time": "2023-11-08T19:06:44.945Z"
   },
   {
    "duration": 11,
    "start_time": "2023-11-08T19:06:44.965Z"
   },
   {
    "duration": 35,
    "start_time": "2023-11-08T19:06:44.978Z"
   },
   {
    "duration": 15,
    "start_time": "2023-11-08T19:06:45.015Z"
   },
   {
    "duration": 311,
    "start_time": "2023-11-08T19:06:45.032Z"
   },
   {
    "duration": 252,
    "start_time": "2023-11-08T19:06:45.344Z"
   },
   {
    "duration": 271,
    "start_time": "2023-11-08T19:06:45.597Z"
   },
   {
    "duration": 349,
    "start_time": "2023-11-08T19:06:45.870Z"
   },
   {
    "duration": 8,
    "start_time": "2023-11-08T19:06:46.221Z"
   },
   {
    "duration": 7,
    "start_time": "2023-11-08T19:06:46.231Z"
   },
   {
    "duration": 35,
    "start_time": "2023-11-08T19:06:46.240Z"
   },
   {
    "duration": 8,
    "start_time": "2023-11-08T19:06:46.277Z"
   },
   {
    "duration": 33,
    "start_time": "2023-11-08T19:06:46.287Z"
   },
   {
    "duration": 18,
    "start_time": "2023-11-08T19:06:46.322Z"
   },
   {
    "duration": 12,
    "start_time": "2023-11-08T19:06:46.342Z"
   },
   {
    "duration": 10,
    "start_time": "2023-11-08T19:06:46.356Z"
   },
   {
    "duration": 41,
    "start_time": "2023-11-08T19:06:46.367Z"
   },
   {
    "duration": 15,
    "start_time": "2023-11-08T19:06:46.410Z"
   },
   {
    "duration": 3,
    "start_time": "2023-11-08T19:07:27.097Z"
   },
   {
    "duration": 80,
    "start_time": "2023-11-08T19:07:27.102Z"
   },
   {
    "duration": 11,
    "start_time": "2023-11-08T19:07:27.184Z"
   },
   {
    "duration": 23,
    "start_time": "2023-11-08T19:07:27.197Z"
   },
   {
    "duration": 135,
    "start_time": "2023-11-08T19:07:27.222Z"
   },
   {
    "duration": 9,
    "start_time": "2023-11-08T19:07:27.359Z"
   },
   {
    "duration": 27,
    "start_time": "2023-11-08T19:07:27.369Z"
   },
   {
    "duration": 248,
    "start_time": "2023-11-08T19:07:27.398Z"
   },
   {
    "duration": 7,
    "start_time": "2023-11-08T19:07:27.647Z"
   },
   {
    "duration": 43,
    "start_time": "2023-11-08T19:07:27.655Z"
   },
   {
    "duration": 26,
    "start_time": "2023-11-08T19:07:27.700Z"
   },
   {
    "duration": 17,
    "start_time": "2023-11-08T19:07:27.728Z"
   },
   {
    "duration": 11,
    "start_time": "2023-11-08T19:07:27.746Z"
   },
   {
    "duration": 38,
    "start_time": "2023-11-08T19:07:27.759Z"
   },
   {
    "duration": 24,
    "start_time": "2023-11-08T19:07:27.799Z"
   },
   {
    "duration": 18,
    "start_time": "2023-11-08T19:07:27.824Z"
   },
   {
    "duration": 37,
    "start_time": "2023-11-08T19:07:27.843Z"
   },
   {
    "duration": 19,
    "start_time": "2023-11-08T19:07:27.881Z"
   },
   {
    "duration": 36,
    "start_time": "2023-11-08T19:07:27.902Z"
   },
   {
    "duration": 145,
    "start_time": "2023-11-08T19:07:27.939Z"
   },
   {
    "duration": 6,
    "start_time": "2023-11-08T19:07:28.086Z"
   },
   {
    "duration": 266,
    "start_time": "2023-11-08T19:07:28.094Z"
   },
   {
    "duration": 272,
    "start_time": "2023-11-08T19:07:28.361Z"
   },
   {
    "duration": 7,
    "start_time": "2023-11-08T19:07:28.634Z"
   },
   {
    "duration": 298,
    "start_time": "2023-11-08T19:07:28.642Z"
   },
   {
    "duration": 10,
    "start_time": "2023-11-08T19:07:28.941Z"
   },
   {
    "duration": 156,
    "start_time": "2023-11-08T19:07:28.953Z"
   },
   {
    "duration": 15,
    "start_time": "2023-11-08T19:07:29.111Z"
   },
   {
    "duration": 8,
    "start_time": "2023-11-08T19:07:29.128Z"
   },
   {
    "duration": 320,
    "start_time": "2023-11-08T19:07:29.138Z"
   },
   {
    "duration": 277,
    "start_time": "2023-11-08T19:07:29.460Z"
   },
   {
    "duration": 7,
    "start_time": "2023-11-08T19:07:29.739Z"
   },
   {
    "duration": 10,
    "start_time": "2023-11-08T19:07:29.747Z"
   },
   {
    "duration": 148,
    "start_time": "2023-11-08T19:07:29.759Z"
   },
   {
    "duration": 15,
    "start_time": "2023-11-08T19:07:29.909Z"
   },
   {
    "duration": 15,
    "start_time": "2023-11-08T19:07:29.926Z"
   },
   {
    "duration": 17,
    "start_time": "2023-11-08T19:07:29.943Z"
   },
   {
    "duration": 16,
    "start_time": "2023-11-08T19:07:29.962Z"
   },
   {
    "duration": 44,
    "start_time": "2023-11-08T19:07:29.979Z"
   },
   {
    "duration": 61,
    "start_time": "2023-11-08T19:07:30.025Z"
   },
   {
    "duration": 16,
    "start_time": "2023-11-08T19:07:30.090Z"
   },
   {
    "duration": 353,
    "start_time": "2023-11-08T19:07:30.108Z"
   },
   {
    "duration": 448,
    "start_time": "2023-11-08T19:07:30.463Z"
   },
   {
    "duration": 309,
    "start_time": "2023-11-08T19:07:30.913Z"
   },
   {
    "duration": 323,
    "start_time": "2023-11-08T19:07:31.225Z"
   },
   {
    "duration": 8,
    "start_time": "2023-11-08T19:07:31.550Z"
   },
   {
    "duration": 25,
    "start_time": "2023-11-08T19:07:31.559Z"
   },
   {
    "duration": 39,
    "start_time": "2023-11-08T19:07:31.586Z"
   },
   {
    "duration": 33,
    "start_time": "2023-11-08T19:07:31.627Z"
   },
   {
    "duration": 64,
    "start_time": "2023-11-08T19:07:31.662Z"
   },
   {
    "duration": 44,
    "start_time": "2023-11-08T19:07:31.727Z"
   },
   {
    "duration": 62,
    "start_time": "2023-11-08T19:07:31.772Z"
   },
   {
    "duration": 25,
    "start_time": "2023-11-08T19:07:31.835Z"
   },
   {
    "duration": 69,
    "start_time": "2023-11-08T19:07:31.863Z"
   },
   {
    "duration": 315,
    "start_time": "2023-11-09T07:47:34.645Z"
   },
   {
    "duration": 15,
    "start_time": "2023-11-09T07:49:35.146Z"
   },
   {
    "duration": 466,
    "start_time": "2023-11-09T07:49:40.158Z"
   },
   {
    "duration": 67,
    "start_time": "2023-11-09T07:49:40.626Z"
   },
   {
    "duration": 9,
    "start_time": "2023-11-09T07:49:40.694Z"
   },
   {
    "duration": 26,
    "start_time": "2023-11-09T07:49:40.705Z"
   },
   {
    "duration": 151,
    "start_time": "2023-11-09T07:49:40.733Z"
   },
   {
    "duration": 8,
    "start_time": "2023-11-09T07:49:40.885Z"
   },
   {
    "duration": 19,
    "start_time": "2023-11-09T07:49:40.895Z"
   },
   {
    "duration": 219,
    "start_time": "2023-11-09T07:49:40.916Z"
   },
   {
    "duration": 7,
    "start_time": "2023-11-09T07:49:41.137Z"
   },
   {
    "duration": 11,
    "start_time": "2023-11-09T07:49:41.147Z"
   },
   {
    "duration": 17,
    "start_time": "2023-11-09T07:49:41.159Z"
   },
   {
    "duration": 31,
    "start_time": "2023-11-09T07:49:41.177Z"
   },
   {
    "duration": 176,
    "start_time": "2023-11-09T07:49:41.209Z"
   },
   {
    "duration": 33,
    "start_time": "2023-11-09T07:49:41.386Z"
   },
   {
    "duration": 16,
    "start_time": "2023-11-09T07:49:41.421Z"
   },
   {
    "duration": 8,
    "start_time": "2023-11-09T07:49:41.439Z"
   },
   {
    "duration": 22,
    "start_time": "2023-11-09T07:49:41.449Z"
   },
   {
    "duration": 14,
    "start_time": "2023-11-09T07:49:41.473Z"
   },
   {
    "duration": 13,
    "start_time": "2023-11-09T07:49:41.489Z"
   },
   {
    "duration": 138,
    "start_time": "2023-11-09T07:49:41.503Z"
   },
   {
    "duration": 8,
    "start_time": "2023-11-09T07:49:41.643Z"
   },
   {
    "duration": 125,
    "start_time": "2023-11-09T07:49:41.653Z"
   },
   {
    "duration": 260,
    "start_time": "2023-11-09T07:49:41.780Z"
   },
   {
    "duration": 7,
    "start_time": "2023-11-09T07:49:42.042Z"
   },
   {
    "duration": 278,
    "start_time": "2023-11-09T07:49:42.050Z"
   },
   {
    "duration": 8,
    "start_time": "2023-11-09T07:49:42.330Z"
   },
   {
    "duration": 128,
    "start_time": "2023-11-09T07:49:42.340Z"
   },
   {
    "duration": 10,
    "start_time": "2023-11-09T07:49:42.472Z"
   },
   {
    "duration": 23,
    "start_time": "2023-11-09T07:49:42.484Z"
   },
   {
    "duration": 307,
    "start_time": "2023-11-09T07:49:42.509Z"
   },
   {
    "duration": 261,
    "start_time": "2023-11-09T07:49:42.818Z"
   },
   {
    "duration": 5,
    "start_time": "2023-11-09T07:49:43.081Z"
   },
   {
    "duration": 21,
    "start_time": "2023-11-09T07:49:43.088Z"
   },
   {
    "duration": 138,
    "start_time": "2023-11-09T07:49:43.111Z"
   },
   {
    "duration": 10,
    "start_time": "2023-11-09T07:49:43.250Z"
   },
   {
    "duration": 21,
    "start_time": "2023-11-09T07:49:43.262Z"
   },
   {
    "duration": 57,
    "start_time": "2023-11-09T07:49:43.285Z"
   },
   {
    "duration": 46,
    "start_time": "2023-11-09T07:49:43.343Z"
   },
   {
    "duration": 32,
    "start_time": "2023-11-09T07:49:43.390Z"
   },
   {
    "duration": 46,
    "start_time": "2023-11-09T07:49:43.424Z"
   },
   {
    "duration": 40,
    "start_time": "2023-11-09T07:49:43.472Z"
   },
   {
    "duration": 290,
    "start_time": "2023-11-09T07:49:43.514Z"
   },
   {
    "duration": 403,
    "start_time": "2023-11-09T07:49:43.805Z"
   },
   {
    "duration": 275,
    "start_time": "2023-11-09T07:49:44.210Z"
   },
   {
    "duration": 282,
    "start_time": "2023-11-09T07:49:44.486Z"
   },
   {
    "duration": 9,
    "start_time": "2023-11-09T07:49:44.770Z"
   },
   {
    "duration": 14,
    "start_time": "2023-11-09T07:49:44.780Z"
   },
   {
    "duration": 14,
    "start_time": "2023-11-09T07:49:44.796Z"
   },
   {
    "duration": 18,
    "start_time": "2023-11-09T07:49:44.812Z"
   },
   {
    "duration": 35,
    "start_time": "2023-11-09T07:49:44.832Z"
   },
   {
    "duration": 16,
    "start_time": "2023-11-09T07:49:44.869Z"
   },
   {
    "duration": 23,
    "start_time": "2023-11-09T07:49:44.887Z"
   },
   {
    "duration": 11,
    "start_time": "2023-11-09T07:49:44.911Z"
   },
   {
    "duration": 53,
    "start_time": "2023-11-09T07:49:44.923Z"
   },
   {
    "duration": 301,
    "start_time": "2023-11-09T07:49:44.978Z"
   },
   {
    "duration": 171,
    "start_time": "2023-11-09T07:49:45.281Z"
   },
   {
    "duration": 6,
    "start_time": "2023-11-09T07:50:36.201Z"
   },
   {
    "duration": 7,
    "start_time": "2023-11-09T08:04:50.936Z"
   },
   {
    "duration": 293,
    "start_time": "2023-11-09T08:05:36.040Z"
   },
   {
    "duration": 6,
    "start_time": "2023-11-09T08:06:06.784Z"
   },
   {
    "duration": 431,
    "start_time": "2023-11-09T08:07:12.527Z"
   },
   {
    "duration": 6,
    "start_time": "2023-11-09T08:07:23.927Z"
   },
   {
    "duration": 4,
    "start_time": "2023-11-09T08:07:52.953Z"
   },
   {
    "duration": 17,
    "start_time": "2023-11-09T08:32:32.251Z"
   },
   {
    "duration": 7,
    "start_time": "2023-11-09T08:32:47.287Z"
   },
   {
    "duration": 5,
    "start_time": "2023-11-09T08:43:11.454Z"
   },
   {
    "duration": 7,
    "start_time": "2023-11-09T08:58:34.179Z"
   },
   {
    "duration": 6,
    "start_time": "2023-11-09T08:58:49.780Z"
   },
   {
    "duration": 6,
    "start_time": "2023-11-09T08:58:59.309Z"
   },
   {
    "duration": 110,
    "start_time": "2023-11-09T09:00:48.138Z"
   },
   {
    "duration": 10,
    "start_time": "2023-11-09T09:11:37.724Z"
   },
   {
    "duration": 7,
    "start_time": "2023-11-09T09:12:37.260Z"
   },
   {
    "duration": 7,
    "start_time": "2023-11-09T09:12:57.292Z"
   },
   {
    "duration": 9,
    "start_time": "2023-11-09T09:13:45.678Z"
   },
   {
    "duration": 9,
    "start_time": "2023-11-09T09:14:03.267Z"
   },
   {
    "duration": 7,
    "start_time": "2023-11-09T09:14:26.916Z"
   },
   {
    "duration": 8,
    "start_time": "2023-11-09T09:15:19.049Z"
   },
   {
    "duration": 7,
    "start_time": "2023-11-09T09:15:59.673Z"
   },
   {
    "duration": 6,
    "start_time": "2023-11-09T09:19:28.026Z"
   },
   {
    "duration": 5,
    "start_time": "2023-11-09T09:19:41.195Z"
   },
   {
    "duration": 6,
    "start_time": "2023-11-09T09:19:55.012Z"
   },
   {
    "duration": 1891,
    "start_time": "2023-11-09T09:20:25.995Z"
   },
   {
    "duration": 6,
    "start_time": "2023-11-09T09:21:12.398Z"
   },
   {
    "duration": 5,
    "start_time": "2023-11-09T09:21:20.373Z"
   },
   {
    "duration": 7,
    "start_time": "2023-11-09T09:21:24.068Z"
   },
   {
    "duration": 7,
    "start_time": "2023-11-09T09:21:24.746Z"
   },
   {
    "duration": 5,
    "start_time": "2023-11-09T09:21:25.387Z"
   },
   {
    "duration": 6,
    "start_time": "2023-11-09T09:24:15.246Z"
   },
   {
    "duration": 4,
    "start_time": "2023-11-09T09:24:38.930Z"
   },
   {
    "duration": 4,
    "start_time": "2023-11-09T09:24:54.212Z"
   },
   {
    "duration": 6,
    "start_time": "2023-11-09T09:28:40.682Z"
   },
   {
    "duration": 7,
    "start_time": "2023-11-09T09:29:20.093Z"
   },
   {
    "duration": 268,
    "start_time": "2023-11-09T09:31:42.226Z"
   },
   {
    "duration": 9,
    "start_time": "2023-11-09T09:37:59.985Z"
   },
   {
    "duration": 8,
    "start_time": "2023-11-09T09:38:54.410Z"
   },
   {
    "duration": 2,
    "start_time": "2023-11-09T09:39:03.376Z"
   },
   {
    "duration": 75,
    "start_time": "2023-11-09T09:39:03.382Z"
   },
   {
    "duration": 8,
    "start_time": "2023-11-09T09:39:03.459Z"
   },
   {
    "duration": 16,
    "start_time": "2023-11-09T09:39:03.469Z"
   },
   {
    "duration": 142,
    "start_time": "2023-11-09T09:39:03.487Z"
   },
   {
    "duration": 8,
    "start_time": "2023-11-09T09:39:03.631Z"
   },
   {
    "duration": 21,
    "start_time": "2023-11-09T09:39:03.641Z"
   },
   {
    "duration": 231,
    "start_time": "2023-11-09T09:39:03.664Z"
   },
   {
    "duration": 12,
    "start_time": "2023-11-09T09:39:03.896Z"
   },
   {
    "duration": 18,
    "start_time": "2023-11-09T09:39:03.909Z"
   },
   {
    "duration": 21,
    "start_time": "2023-11-09T09:39:03.928Z"
   },
   {
    "duration": 29,
    "start_time": "2023-11-09T09:39:03.950Z"
   },
   {
    "duration": 42,
    "start_time": "2023-11-09T09:39:03.980Z"
   },
   {
    "duration": 17,
    "start_time": "2023-11-09T09:39:04.023Z"
   },
   {
    "duration": 16,
    "start_time": "2023-11-09T09:39:04.044Z"
   },
   {
    "duration": 7,
    "start_time": "2023-11-09T09:39:04.061Z"
   },
   {
    "duration": 10,
    "start_time": "2023-11-09T09:39:04.069Z"
   },
   {
    "duration": 8,
    "start_time": "2023-11-09T09:39:04.081Z"
   },
   {
    "duration": 82,
    "start_time": "2023-11-09T09:39:04.090Z"
   },
   {
    "duration": 11,
    "start_time": "2023-11-09T09:39:04.173Z"
   },
   {
    "duration": 148,
    "start_time": "2023-11-09T09:39:04.186Z"
   },
   {
    "duration": 8,
    "start_time": "2023-11-09T09:39:04.335Z"
   },
   {
    "duration": 119,
    "start_time": "2023-11-09T09:39:04.344Z"
   },
   {
    "duration": 265,
    "start_time": "2023-11-09T09:39:04.465Z"
   },
   {
    "duration": 8,
    "start_time": "2023-11-09T09:39:04.732Z"
   },
   {
    "duration": 306,
    "start_time": "2023-11-09T09:39:04.742Z"
   },
   {
    "duration": 9,
    "start_time": "2023-11-09T09:39:05.050Z"
   },
   {
    "duration": 146,
    "start_time": "2023-11-09T09:39:05.060Z"
   },
   {
    "duration": 11,
    "start_time": "2023-11-09T09:39:05.208Z"
   },
   {
    "duration": 16,
    "start_time": "2023-11-09T09:39:05.221Z"
   },
   {
    "duration": 304,
    "start_time": "2023-11-09T09:39:05.239Z"
   },
   {
    "duration": 258,
    "start_time": "2023-11-09T09:39:05.545Z"
   },
   {
    "duration": 5,
    "start_time": "2023-11-09T09:39:05.806Z"
   },
   {
    "duration": 59,
    "start_time": "2023-11-09T09:39:05.813Z"
   },
   {
    "duration": 374,
    "start_time": "2023-11-09T09:39:05.873Z"
   },
   {
    "duration": 9,
    "start_time": "2023-11-09T09:39:06.249Z"
   },
   {
    "duration": 7,
    "start_time": "2023-11-09T09:39:06.259Z"
   },
   {
    "duration": 23,
    "start_time": "2023-11-09T09:39:06.267Z"
   },
   {
    "duration": 17,
    "start_time": "2023-11-09T09:39:06.307Z"
   },
   {
    "duration": 11,
    "start_time": "2023-11-09T09:39:06.325Z"
   },
   {
    "duration": 19,
    "start_time": "2023-11-09T09:39:06.337Z"
   },
   {
    "duration": 13,
    "start_time": "2023-11-09T09:39:06.362Z"
   },
   {
    "duration": 293,
    "start_time": "2023-11-09T09:39:06.377Z"
   },
   {
    "duration": 269,
    "start_time": "2023-11-09T09:39:06.673Z"
   },
   {
    "duration": 272,
    "start_time": "2023-11-09T09:39:06.943Z"
   },
   {
    "duration": 280,
    "start_time": "2023-11-09T09:39:07.217Z"
   },
   {
    "duration": 15,
    "start_time": "2023-11-09T09:39:07.499Z"
   },
   {
    "duration": 8,
    "start_time": "2023-11-09T09:39:07.515Z"
   },
   {
    "duration": 8,
    "start_time": "2023-11-09T09:39:07.524Z"
   },
   {
    "duration": 12,
    "start_time": "2023-11-09T09:39:07.534Z"
   },
   {
    "duration": 56,
    "start_time": "2023-11-09T09:39:07.548Z"
   },
   {
    "duration": 18,
    "start_time": "2023-11-09T09:39:07.606Z"
   },
   {
    "duration": 15,
    "start_time": "2023-11-09T09:39:07.625Z"
   },
   {
    "duration": 12,
    "start_time": "2023-11-09T09:39:07.642Z"
   },
   {
    "duration": 16,
    "start_time": "2023-11-09T09:39:07.656Z"
   },
   {
    "duration": 282,
    "start_time": "2023-11-09T09:39:07.674Z"
   },
   {
    "duration": 5,
    "start_time": "2023-11-09T09:39:07.958Z"
   },
   {
    "duration": 8,
    "start_time": "2023-11-09T09:39:07.964Z"
   },
   {
    "duration": 8,
    "start_time": "2023-11-09T09:39:07.974Z"
   },
   {
    "duration": 27,
    "start_time": "2023-11-09T09:39:07.983Z"
   },
   {
    "duration": 263,
    "start_time": "2023-11-09T09:39:08.012Z"
   },
   {
    "duration": 4,
    "start_time": "2023-11-09T09:39:08.277Z"
   },
   {
    "duration": 14,
    "start_time": "2023-11-09T09:39:08.283Z"
   },
   {
    "duration": 3,
    "start_time": "2023-11-09T09:39:55.592Z"
   },
   {
    "duration": 72,
    "start_time": "2023-11-09T09:39:55.597Z"
   },
   {
    "duration": 9,
    "start_time": "2023-11-09T09:39:55.670Z"
   },
   {
    "duration": 16,
    "start_time": "2023-11-09T09:39:55.681Z"
   },
   {
    "duration": 145,
    "start_time": "2023-11-09T09:39:55.699Z"
   },
   {
    "duration": 8,
    "start_time": "2023-11-09T09:39:55.845Z"
   },
   {
    "duration": 12,
    "start_time": "2023-11-09T09:39:55.855Z"
   },
   {
    "duration": 431,
    "start_time": "2023-11-09T09:39:55.869Z"
   },
   {
    "duration": 7,
    "start_time": "2023-11-09T09:39:56.306Z"
   },
   {
    "duration": 12,
    "start_time": "2023-11-09T09:39:56.315Z"
   },
   {
    "duration": 41,
    "start_time": "2023-11-09T09:39:56.328Z"
   },
   {
    "duration": 7,
    "start_time": "2023-11-09T09:39:56.371Z"
   },
   {
    "duration": 16,
    "start_time": "2023-11-09T09:39:56.380Z"
   },
   {
    "duration": 12,
    "start_time": "2023-11-09T09:39:56.398Z"
   },
   {
    "duration": 19,
    "start_time": "2023-11-09T09:39:56.411Z"
   },
   {
    "duration": 5,
    "start_time": "2023-11-09T09:39:56.432Z"
   },
   {
    "duration": 11,
    "start_time": "2023-11-09T09:39:56.438Z"
   },
   {
    "duration": 26,
    "start_time": "2023-11-09T09:39:56.451Z"
   },
   {
    "duration": 7,
    "start_time": "2023-11-09T09:39:56.479Z"
   },
   {
    "duration": 4,
    "start_time": "2023-11-09T09:39:56.488Z"
   },
   {
    "duration": 160,
    "start_time": "2023-11-09T09:39:56.493Z"
   },
   {
    "duration": 9,
    "start_time": "2023-11-09T09:39:56.655Z"
   },
   {
    "duration": 133,
    "start_time": "2023-11-09T09:39:56.665Z"
   },
   {
    "duration": 259,
    "start_time": "2023-11-09T09:39:56.802Z"
   },
   {
    "duration": 8,
    "start_time": "2023-11-09T09:39:57.063Z"
   },
   {
    "duration": 285,
    "start_time": "2023-11-09T09:39:57.073Z"
   },
   {
    "duration": 9,
    "start_time": "2023-11-09T09:39:57.359Z"
   },
   {
    "duration": 147,
    "start_time": "2023-11-09T09:39:57.369Z"
   },
   {
    "duration": 11,
    "start_time": "2023-11-09T09:39:57.518Z"
   },
   {
    "duration": 31,
    "start_time": "2023-11-09T09:39:57.530Z"
   },
   {
    "duration": 256,
    "start_time": "2023-11-09T09:39:57.563Z"
   },
   {
    "duration": 247,
    "start_time": "2023-11-09T09:39:57.820Z"
   },
   {
    "duration": 5,
    "start_time": "2023-11-09T09:39:58.069Z"
   },
   {
    "duration": 12,
    "start_time": "2023-11-09T09:39:58.076Z"
   },
   {
    "duration": 139,
    "start_time": "2023-11-09T09:39:58.089Z"
   },
   {
    "duration": 8,
    "start_time": "2023-11-09T09:39:58.230Z"
   },
   {
    "duration": 6,
    "start_time": "2023-11-09T09:39:58.240Z"
   },
   {
    "duration": 15,
    "start_time": "2023-11-09T09:39:58.248Z"
   },
   {
    "duration": 43,
    "start_time": "2023-11-09T09:39:58.265Z"
   },
   {
    "duration": 11,
    "start_time": "2023-11-09T09:39:58.309Z"
   },
   {
    "duration": 20,
    "start_time": "2023-11-09T09:39:58.322Z"
   },
   {
    "duration": 28,
    "start_time": "2023-11-09T09:39:58.344Z"
   },
   {
    "duration": 273,
    "start_time": "2023-11-09T09:39:58.374Z"
   },
   {
    "duration": 404,
    "start_time": "2023-11-09T09:39:58.649Z"
   },
   {
    "duration": 280,
    "start_time": "2023-11-09T09:39:59.055Z"
   },
   {
    "duration": 287,
    "start_time": "2023-11-09T09:39:59.337Z"
   },
   {
    "duration": 8,
    "start_time": "2023-11-09T09:39:59.626Z"
   },
   {
    "duration": 12,
    "start_time": "2023-11-09T09:39:59.636Z"
   },
   {
    "duration": 7,
    "start_time": "2023-11-09T09:39:59.650Z"
   },
   {
    "duration": 6,
    "start_time": "2023-11-09T09:39:59.659Z"
   },
   {
    "duration": 48,
    "start_time": "2023-11-09T09:39:59.667Z"
   },
   {
    "duration": 19,
    "start_time": "2023-11-09T09:39:59.717Z"
   },
   {
    "duration": 14,
    "start_time": "2023-11-09T09:39:59.737Z"
   },
   {
    "duration": 18,
    "start_time": "2023-11-09T09:39:59.752Z"
   },
   {
    "duration": 36,
    "start_time": "2023-11-09T09:39:59.772Z"
   },
   {
    "duration": 271,
    "start_time": "2023-11-09T09:39:59.809Z"
   },
   {
    "duration": 4,
    "start_time": "2023-11-09T09:40:00.082Z"
   },
   {
    "duration": 49,
    "start_time": "2023-11-09T09:40:00.088Z"
   },
   {
    "duration": 66,
    "start_time": "2023-11-09T09:40:00.138Z"
   },
   {
    "duration": 115,
    "start_time": "2023-11-09T09:40:00.206Z"
   },
   {
    "duration": 271,
    "start_time": "2023-11-09T09:40:00.322Z"
   },
   {
    "duration": 3,
    "start_time": "2023-11-09T09:40:00.595Z"
   },
   {
    "duration": 27,
    "start_time": "2023-11-09T09:40:00.600Z"
   },
   {
    "duration": 8,
    "start_time": "2023-11-09T09:40:15.153Z"
   },
   {
    "duration": 13,
    "start_time": "2023-11-09T09:44:46.642Z"
   },
   {
    "duration": 18,
    "start_time": "2023-11-09T09:45:24.609Z"
   },
   {
    "duration": 116,
    "start_time": "2023-11-09T09:47:11.538Z"
   },
   {
    "duration": 12,
    "start_time": "2023-11-09T09:47:22.873Z"
   },
   {
    "duration": 11,
    "start_time": "2023-11-09T09:47:35.785Z"
   },
   {
    "duration": 13,
    "start_time": "2023-11-09T09:48:09.866Z"
   },
   {
    "duration": 16,
    "start_time": "2023-11-09T09:49:07.394Z"
   },
   {
    "duration": 14,
    "start_time": "2023-11-09T09:49:15.074Z"
   },
   {
    "duration": 84,
    "start_time": "2023-11-09T09:50:30.970Z"
   },
   {
    "duration": 14,
    "start_time": "2023-11-09T09:52:15.559Z"
   },
   {
    "duration": 14,
    "start_time": "2023-11-09T09:54:14.177Z"
   },
   {
    "duration": 311,
    "start_time": "2023-11-09T09:56:07.945Z"
   },
   {
    "duration": 159,
    "start_time": "2023-11-09T09:57:10.522Z"
   },
   {
    "duration": 93,
    "start_time": "2023-11-09T09:57:36.505Z"
   },
   {
    "duration": 354,
    "start_time": "2023-11-09T09:57:58.681Z"
   },
   {
    "duration": 199,
    "start_time": "2023-11-09T09:58:24.111Z"
   },
   {
    "duration": 211,
    "start_time": "2023-11-09T10:03:53.706Z"
   },
   {
    "duration": 144,
    "start_time": "2023-11-09T10:07:21.657Z"
   },
   {
    "duration": 149,
    "start_time": "2023-11-09T10:09:23.970Z"
   },
   {
    "duration": 280,
    "start_time": "2023-11-09T10:10:01.976Z"
   },
   {
    "duration": 259,
    "start_time": "2023-11-09T10:12:49.137Z"
   },
   {
    "duration": 318,
    "start_time": "2023-11-09T10:14:25.130Z"
   },
   {
    "duration": 6,
    "start_time": "2023-11-09T10:16:34.457Z"
   },
   {
    "duration": 3,
    "start_time": "2023-11-09T10:16:50.816Z"
   },
   {
    "duration": 85,
    "start_time": "2023-11-09T10:16:50.822Z"
   },
   {
    "duration": 10,
    "start_time": "2023-11-09T10:16:50.908Z"
   },
   {
    "duration": 32,
    "start_time": "2023-11-09T10:16:50.919Z"
   },
   {
    "duration": 147,
    "start_time": "2023-11-09T10:16:50.953Z"
   },
   {
    "duration": 12,
    "start_time": "2023-11-09T10:16:51.101Z"
   },
   {
    "duration": 24,
    "start_time": "2023-11-09T10:16:51.115Z"
   },
   {
    "duration": 236,
    "start_time": "2023-11-09T10:16:51.141Z"
   },
   {
    "duration": 8,
    "start_time": "2023-11-09T10:16:51.379Z"
   },
   {
    "duration": 38,
    "start_time": "2023-11-09T10:16:51.388Z"
   },
   {
    "duration": 41,
    "start_time": "2023-11-09T10:16:51.427Z"
   },
   {
    "duration": 44,
    "start_time": "2023-11-09T10:16:51.470Z"
   },
   {
    "duration": 28,
    "start_time": "2023-11-09T10:16:51.516Z"
   },
   {
    "duration": 29,
    "start_time": "2023-11-09T10:16:51.546Z"
   },
   {
    "duration": 25,
    "start_time": "2023-11-09T10:16:51.577Z"
   },
   {
    "duration": 14,
    "start_time": "2023-11-09T10:16:51.604Z"
   },
   {
    "duration": 18,
    "start_time": "2023-11-09T10:16:51.619Z"
   },
   {
    "duration": 42,
    "start_time": "2023-11-09T10:16:51.639Z"
   },
   {
    "duration": 30,
    "start_time": "2023-11-09T10:16:51.682Z"
   },
   {
    "duration": 18,
    "start_time": "2023-11-09T10:16:51.713Z"
   },
   {
    "duration": 155,
    "start_time": "2023-11-09T10:16:51.733Z"
   },
   {
    "duration": 7,
    "start_time": "2023-11-09T10:16:51.890Z"
   },
   {
    "duration": 142,
    "start_time": "2023-11-09T10:16:51.898Z"
   },
   {
    "duration": 268,
    "start_time": "2023-11-09T10:16:52.043Z"
   },
   {
    "duration": 8,
    "start_time": "2023-11-09T10:16:52.313Z"
   },
   {
    "duration": 509,
    "start_time": "2023-11-09T10:16:52.322Z"
   },
   {
    "duration": 9,
    "start_time": "2023-11-09T10:16:52.833Z"
   },
   {
    "duration": 143,
    "start_time": "2023-11-09T10:16:52.843Z"
   },
   {
    "duration": 19,
    "start_time": "2023-11-09T10:16:52.988Z"
   },
   {
    "duration": 38,
    "start_time": "2023-11-09T10:16:53.009Z"
   },
   {
    "duration": 278,
    "start_time": "2023-11-09T10:16:53.048Z"
   },
   {
    "duration": 262,
    "start_time": "2023-11-09T10:16:53.327Z"
   },
   {
    "duration": 6,
    "start_time": "2023-11-09T10:16:53.590Z"
   },
   {
    "duration": 23,
    "start_time": "2023-11-09T10:16:53.607Z"
   },
   {
    "duration": 150,
    "start_time": "2023-11-09T10:16:53.632Z"
   },
   {
    "duration": 10,
    "start_time": "2023-11-09T10:16:53.783Z"
   },
   {
    "duration": 18,
    "start_time": "2023-11-09T10:16:53.794Z"
   },
   {
    "duration": 44,
    "start_time": "2023-11-09T10:16:53.813Z"
   },
   {
    "duration": 35,
    "start_time": "2023-11-09T10:16:53.859Z"
   },
   {
    "duration": 28,
    "start_time": "2023-11-09T10:16:53.897Z"
   },
   {
    "duration": 25,
    "start_time": "2023-11-09T10:16:53.927Z"
   },
   {
    "duration": 25,
    "start_time": "2023-11-09T10:16:53.954Z"
   },
   {
    "duration": 272,
    "start_time": "2023-11-09T10:16:53.981Z"
   },
   {
    "duration": 305,
    "start_time": "2023-11-09T10:16:54.255Z"
   },
   {
    "duration": 273,
    "start_time": "2023-11-09T10:16:54.562Z"
   },
   {
    "duration": 447,
    "start_time": "2023-11-09T10:16:54.837Z"
   },
   {
    "duration": 9,
    "start_time": "2023-11-09T10:16:55.285Z"
   },
   {
    "duration": 24,
    "start_time": "2023-11-09T10:16:55.295Z"
   },
   {
    "duration": 56,
    "start_time": "2023-11-09T10:16:55.321Z"
   },
   {
    "duration": 44,
    "start_time": "2023-11-09T10:16:55.379Z"
   },
   {
    "duration": 71,
    "start_time": "2023-11-09T10:16:55.426Z"
   },
   {
    "duration": 22,
    "start_time": "2023-11-09T10:16:55.499Z"
   },
   {
    "duration": 36,
    "start_time": "2023-11-09T10:16:55.523Z"
   },
   {
    "duration": 17,
    "start_time": "2023-11-09T10:16:55.561Z"
   },
   {
    "duration": 33,
    "start_time": "2023-11-09T10:16:55.579Z"
   },
   {
    "duration": 271,
    "start_time": "2023-11-09T10:16:55.614Z"
   },
   {
    "duration": 8,
    "start_time": "2023-11-09T10:16:55.887Z"
   },
   {
    "duration": 38,
    "start_time": "2023-11-09T10:16:55.907Z"
   },
   {
    "duration": 326,
    "start_time": "2023-11-09T10:16:55.947Z"
   },
   {
    "duration": 275,
    "start_time": "2023-11-09T10:16:56.275Z"
   },
   {
    "duration": 5,
    "start_time": "2023-11-09T10:16:56.553Z"
   },
   {
    "duration": 9,
    "start_time": "2023-11-09T10:17:49.559Z"
   },
   {
    "duration": 8,
    "start_time": "2023-11-09T10:18:26.694Z"
   },
   {
    "duration": 10,
    "start_time": "2023-11-09T10:20:51.848Z"
   },
   {
    "duration": 261,
    "start_time": "2023-11-09T10:38:06.167Z"
   },
   {
    "duration": 9,
    "start_time": "2023-11-09T10:38:18.317Z"
   },
   {
    "duration": 3,
    "start_time": "2023-11-09T10:41:35.463Z"
   },
   {
    "duration": 103,
    "start_time": "2023-11-09T10:41:35.468Z"
   },
   {
    "duration": 9,
    "start_time": "2023-11-09T10:41:35.573Z"
   },
   {
    "duration": 35,
    "start_time": "2023-11-09T10:41:35.584Z"
   },
   {
    "duration": 176,
    "start_time": "2023-11-09T10:41:35.621Z"
   },
   {
    "duration": 11,
    "start_time": "2023-11-09T10:41:35.799Z"
   },
   {
    "duration": 32,
    "start_time": "2023-11-09T10:41:35.812Z"
   },
   {
    "duration": 331,
    "start_time": "2023-11-09T10:41:35.846Z"
   },
   {
    "duration": 7,
    "start_time": "2023-11-09T10:41:36.179Z"
   },
   {
    "duration": 22,
    "start_time": "2023-11-09T10:41:36.188Z"
   },
   {
    "duration": 39,
    "start_time": "2023-11-09T10:41:36.212Z"
   },
   {
    "duration": 10,
    "start_time": "2023-11-09T10:41:36.253Z"
   },
   {
    "duration": 22,
    "start_time": "2023-11-09T10:41:36.265Z"
   },
   {
    "duration": 14,
    "start_time": "2023-11-09T10:41:36.290Z"
   },
   {
    "duration": 24,
    "start_time": "2023-11-09T10:41:36.307Z"
   },
   {
    "duration": 7,
    "start_time": "2023-11-09T10:41:36.333Z"
   },
   {
    "duration": 6,
    "start_time": "2023-11-09T10:41:36.342Z"
   },
   {
    "duration": 21,
    "start_time": "2023-11-09T10:41:36.349Z"
   },
   {
    "duration": 9,
    "start_time": "2023-11-09T10:41:36.372Z"
   },
   {
    "duration": 4,
    "start_time": "2023-11-09T10:41:36.383Z"
   },
   {
    "duration": 158,
    "start_time": "2023-11-09T10:41:36.389Z"
   },
   {
    "duration": 7,
    "start_time": "2023-11-09T10:41:36.548Z"
   },
   {
    "duration": 320,
    "start_time": "2023-11-09T10:41:36.556Z"
   },
   {
    "duration": 267,
    "start_time": "2023-11-09T10:41:36.878Z"
   },
   {
    "duration": 8,
    "start_time": "2023-11-09T10:41:37.147Z"
   },
   {
    "duration": 352,
    "start_time": "2023-11-09T10:41:37.156Z"
   },
   {
    "duration": 9,
    "start_time": "2023-11-09T10:41:37.509Z"
   },
   {
    "duration": 134,
    "start_time": "2023-11-09T10:41:37.519Z"
   },
   {
    "duration": 9,
    "start_time": "2023-11-09T10:41:37.655Z"
   },
   {
    "duration": 18,
    "start_time": "2023-11-09T10:41:37.665Z"
   },
   {
    "duration": 275,
    "start_time": "2023-11-09T10:41:37.685Z"
   },
   {
    "duration": 259,
    "start_time": "2023-11-09T10:41:37.962Z"
   },
   {
    "duration": 6,
    "start_time": "2023-11-09T10:41:38.222Z"
   },
   {
    "duration": 15,
    "start_time": "2023-11-09T10:41:38.229Z"
   },
   {
    "duration": 144,
    "start_time": "2023-11-09T10:41:38.246Z"
   },
   {
    "duration": 16,
    "start_time": "2023-11-09T10:41:38.392Z"
   },
   {
    "duration": 29,
    "start_time": "2023-11-09T10:41:38.409Z"
   },
   {
    "duration": 34,
    "start_time": "2023-11-09T10:41:38.440Z"
   },
   {
    "duration": 18,
    "start_time": "2023-11-09T10:41:38.475Z"
   },
   {
    "duration": 23,
    "start_time": "2023-11-09T10:41:38.494Z"
   },
   {
    "duration": 62,
    "start_time": "2023-11-09T10:41:38.521Z"
   },
   {
    "duration": 19,
    "start_time": "2023-11-09T10:41:38.584Z"
   },
   {
    "duration": 298,
    "start_time": "2023-11-09T10:41:38.605Z"
   },
   {
    "duration": 263,
    "start_time": "2023-11-09T10:41:38.906Z"
   },
   {
    "duration": 453,
    "start_time": "2023-11-09T10:41:39.170Z"
   },
   {
    "duration": 275,
    "start_time": "2023-11-09T10:41:39.625Z"
   },
   {
    "duration": 11,
    "start_time": "2023-11-09T10:41:39.902Z"
   },
   {
    "duration": 16,
    "start_time": "2023-11-09T10:41:39.914Z"
   },
   {
    "duration": 53,
    "start_time": "2023-11-09T10:41:39.931Z"
   },
   {
    "duration": 44,
    "start_time": "2023-11-09T10:41:39.986Z"
   },
   {
    "duration": 59,
    "start_time": "2023-11-09T10:41:40.032Z"
   },
   {
    "duration": 22,
    "start_time": "2023-11-09T10:41:40.093Z"
   },
   {
    "duration": 14,
    "start_time": "2023-11-09T10:41:40.116Z"
   },
   {
    "duration": 52,
    "start_time": "2023-11-09T10:41:40.132Z"
   },
   {
    "duration": 35,
    "start_time": "2023-11-09T10:41:40.186Z"
   },
   {
    "duration": 282,
    "start_time": "2023-11-09T10:41:40.222Z"
   },
   {
    "duration": 5,
    "start_time": "2023-11-09T10:41:40.507Z"
   },
   {
    "duration": 36,
    "start_time": "2023-11-09T10:41:40.514Z"
   },
   {
    "duration": 305,
    "start_time": "2023-11-09T10:41:40.552Z"
   },
   {
    "duration": 13,
    "start_time": "2023-11-09T10:41:40.858Z"
   },
   {
    "duration": 257,
    "start_time": "2023-11-09T10:41:40.873Z"
   },
   {
    "duration": 8,
    "start_time": "2023-11-09T10:41:41.132Z"
   },
   {
    "duration": 6,
    "start_time": "2023-11-09T10:41:41.141Z"
   },
   {
    "duration": 7,
    "start_time": "2023-11-09T10:41:56.030Z"
   },
   {
    "duration": 6,
    "start_time": "2023-11-09T10:43:26.837Z"
   },
   {
    "duration": 72,
    "start_time": "2023-11-09T11:49:28.922Z"
   },
   {
    "duration": 20,
    "start_time": "2023-11-09T11:52:44.121Z"
   },
   {
    "duration": 3,
    "start_time": "2023-11-09T11:53:15.926Z"
   },
   {
    "duration": 75,
    "start_time": "2023-11-09T11:53:15.931Z"
   },
   {
    "duration": 10,
    "start_time": "2023-11-09T11:53:16.008Z"
   },
   {
    "duration": 14,
    "start_time": "2023-11-09T11:53:16.020Z"
   },
   {
    "duration": 217,
    "start_time": "2023-11-09T11:53:16.036Z"
   },
   {
    "duration": 11,
    "start_time": "2023-11-09T11:53:16.255Z"
   },
   {
    "duration": 19,
    "start_time": "2023-11-09T11:53:16.268Z"
   },
   {
    "duration": 303,
    "start_time": "2023-11-09T11:53:16.289Z"
   },
   {
    "duration": 14,
    "start_time": "2023-11-09T11:53:16.594Z"
   },
   {
    "duration": 11,
    "start_time": "2023-11-09T11:53:16.610Z"
   },
   {
    "duration": 15,
    "start_time": "2023-11-09T11:53:16.625Z"
   },
   {
    "duration": 7,
    "start_time": "2023-11-09T11:53:16.642Z"
   },
   {
    "duration": 20,
    "start_time": "2023-11-09T11:53:16.651Z"
   },
   {
    "duration": 39,
    "start_time": "2023-11-09T11:53:16.673Z"
   },
   {
    "duration": 37,
    "start_time": "2023-11-09T11:53:16.714Z"
   },
   {
    "duration": 5,
    "start_time": "2023-11-09T11:53:16.753Z"
   },
   {
    "duration": 5,
    "start_time": "2023-11-09T11:53:16.759Z"
   },
   {
    "duration": 8,
    "start_time": "2023-11-09T11:53:16.765Z"
   },
   {
    "duration": 15,
    "start_time": "2023-11-09T11:53:16.774Z"
   },
   {
    "duration": 12,
    "start_time": "2023-11-09T11:53:16.791Z"
   },
   {
    "duration": 140,
    "start_time": "2023-11-09T11:53:16.805Z"
   },
   {
    "duration": 7,
    "start_time": "2023-11-09T11:53:16.946Z"
   },
   {
    "duration": 319,
    "start_time": "2023-11-09T11:53:16.955Z"
   },
   {
    "duration": 275,
    "start_time": "2023-11-09T11:53:17.276Z"
   },
   {
    "duration": 8,
    "start_time": "2023-11-09T11:53:17.553Z"
   },
   {
    "duration": 291,
    "start_time": "2023-11-09T11:53:17.563Z"
   },
   {
    "duration": 8,
    "start_time": "2023-11-09T11:53:17.856Z"
   },
   {
    "duration": 134,
    "start_time": "2023-11-09T11:53:17.866Z"
   },
   {
    "duration": 11,
    "start_time": "2023-11-09T11:53:18.007Z"
   },
   {
    "duration": 7,
    "start_time": "2023-11-09T11:53:18.020Z"
   },
   {
    "duration": 282,
    "start_time": "2023-11-09T11:53:18.029Z"
   },
   {
    "duration": 261,
    "start_time": "2023-11-09T11:53:18.313Z"
   },
   {
    "duration": 6,
    "start_time": "2023-11-09T11:53:18.575Z"
   },
   {
    "duration": 23,
    "start_time": "2023-11-09T11:53:18.583Z"
   },
   {
    "duration": 143,
    "start_time": "2023-11-09T11:53:18.607Z"
   },
   {
    "duration": 10,
    "start_time": "2023-11-09T11:53:18.751Z"
   },
   {
    "duration": 17,
    "start_time": "2023-11-09T11:53:18.762Z"
   },
   {
    "duration": 30,
    "start_time": "2023-11-09T11:53:18.781Z"
   },
   {
    "duration": 17,
    "start_time": "2023-11-09T11:53:18.813Z"
   },
   {
    "duration": 10,
    "start_time": "2023-11-09T11:53:18.832Z"
   },
   {
    "duration": 31,
    "start_time": "2023-11-09T11:53:18.844Z"
   },
   {
    "duration": 14,
    "start_time": "2023-11-09T11:53:18.876Z"
   },
   {
    "duration": 267,
    "start_time": "2023-11-09T11:53:18.907Z"
   },
   {
    "duration": 275,
    "start_time": "2023-11-09T11:53:19.176Z"
   },
   {
    "duration": 444,
    "start_time": "2023-11-09T11:53:19.453Z"
   },
   {
    "duration": 277,
    "start_time": "2023-11-09T11:53:19.899Z"
   },
   {
    "duration": 9,
    "start_time": "2023-11-09T11:53:20.177Z"
   },
   {
    "duration": 23,
    "start_time": "2023-11-09T11:53:20.187Z"
   },
   {
    "duration": 16,
    "start_time": "2023-11-09T11:53:20.211Z"
   },
   {
    "duration": 14,
    "start_time": "2023-11-09T11:53:20.229Z"
   },
   {
    "duration": 57,
    "start_time": "2023-11-09T11:53:20.244Z"
   },
   {
    "duration": 18,
    "start_time": "2023-11-09T11:53:20.303Z"
   },
   {
    "duration": 13,
    "start_time": "2023-11-09T11:53:20.322Z"
   },
   {
    "duration": 21,
    "start_time": "2023-11-09T11:53:20.336Z"
   },
   {
    "duration": 43,
    "start_time": "2023-11-09T11:53:20.358Z"
   },
   {
    "duration": 320,
    "start_time": "2023-11-09T11:53:20.403Z"
   },
   {
    "duration": 6,
    "start_time": "2023-11-09T11:53:20.725Z"
   },
   {
    "duration": 21,
    "start_time": "2023-11-09T11:53:20.732Z"
   },
   {
    "duration": 267,
    "start_time": "2023-11-09T11:53:20.755Z"
   },
   {
    "duration": 10,
    "start_time": "2023-11-09T11:53:21.024Z"
   },
   {
    "duration": 274,
    "start_time": "2023-11-09T11:53:21.036Z"
   },
   {
    "duration": 8,
    "start_time": "2023-11-09T11:53:21.313Z"
   },
   {
    "duration": 14,
    "start_time": "2023-11-09T11:53:21.323Z"
   },
   {
    "duration": 162,
    "start_time": "2023-11-09T11:53:21.338Z"
   },
   {
    "duration": 138,
    "start_time": "2023-11-09T11:53:52.232Z"
   },
   {
    "duration": 395,
    "start_time": "2023-11-09T12:01:34.368Z"
   },
   {
    "duration": 117,
    "start_time": "2023-11-09T12:16:18.212Z"
   },
   {
    "duration": 4,
    "start_time": "2023-11-09T12:17:35.686Z"
   },
   {
    "duration": 5,
    "start_time": "2023-11-09T12:18:20.807Z"
   },
   {
    "duration": 204,
    "start_time": "2023-11-09T12:22:17.718Z"
   },
   {
    "duration": 25369,
    "start_time": "2023-11-09T12:23:37.950Z"
   },
   {
    "duration": 5,
    "start_time": "2023-11-09T12:25:36.630Z"
   },
   {
    "duration": 6,
    "start_time": "2023-11-09T12:25:47.877Z"
   },
   {
    "duration": 5,
    "start_time": "2023-11-09T12:28:51.550Z"
   },
   {
    "duration": 8,
    "start_time": "2023-11-09T12:29:39.109Z"
   },
   {
    "duration": 5,
    "start_time": "2023-11-09T12:30:00.814Z"
   },
   {
    "duration": 6,
    "start_time": "2023-11-09T12:30:17.245Z"
   },
   {
    "duration": 7,
    "start_time": "2023-11-09T12:33:17.244Z"
   },
   {
    "duration": 6,
    "start_time": "2023-11-09T12:35:39.965Z"
   },
   {
    "duration": 8,
    "start_time": "2023-11-09T12:36:16.314Z"
   },
   {
    "duration": 6,
    "start_time": "2023-11-09T12:36:31.581Z"
   },
   {
    "duration": 6,
    "start_time": "2023-11-09T12:36:51.182Z"
   },
   {
    "duration": 5,
    "start_time": "2023-11-09T12:37:03.829Z"
   },
   {
    "duration": 5,
    "start_time": "2023-11-09T12:37:18.382Z"
   },
   {
    "duration": 7,
    "start_time": "2023-11-09T12:37:34.318Z"
   },
   {
    "duration": 6,
    "start_time": "2023-11-09T12:37:42.252Z"
   },
   {
    "duration": 6,
    "start_time": "2023-11-09T12:37:48.414Z"
   },
   {
    "duration": 6,
    "start_time": "2023-11-09T12:38:00.358Z"
   },
   {
    "duration": 6,
    "start_time": "2023-11-09T12:41:28.055Z"
   },
   {
    "duration": 6,
    "start_time": "2023-11-09T12:41:40.181Z"
   },
   {
    "duration": 6,
    "start_time": "2023-11-09T12:41:46.885Z"
   },
   {
    "duration": 5,
    "start_time": "2023-11-09T12:41:56.269Z"
   },
   {
    "duration": 6,
    "start_time": "2023-11-09T12:43:18.766Z"
   },
   {
    "duration": 6,
    "start_time": "2023-11-09T12:43:30.205Z"
   },
   {
    "duration": 6,
    "start_time": "2023-11-09T12:43:37.325Z"
   },
   {
    "duration": 6,
    "start_time": "2023-11-09T12:44:51.204Z"
   },
   {
    "duration": 13,
    "start_time": "2023-11-09T12:45:18.085Z"
   },
   {
    "duration": 108,
    "start_time": "2023-11-09T12:45:46.845Z"
   },
   {
    "duration": 1314,
    "start_time": "2023-11-09T12:46:18.293Z"
   },
   {
    "duration": 10,
    "start_time": "2023-11-09T12:48:54.948Z"
   },
   {
    "duration": 129,
    "start_time": "2023-11-09T12:49:56.214Z"
   },
   {
    "duration": 1161,
    "start_time": "2023-11-09T12:50:44.237Z"
   },
   {
    "duration": 1466,
    "start_time": "2023-11-09T12:52:55.869Z"
   },
   {
    "duration": 1423,
    "start_time": "2023-11-09T12:54:18.108Z"
   },
   {
    "duration": 379,
    "start_time": "2023-11-09T12:54:59.196Z"
   },
   {
    "duration": 355,
    "start_time": "2023-11-09T12:55:28.549Z"
   },
   {
    "duration": 1413,
    "start_time": "2023-11-09T12:55:41.542Z"
   },
   {
    "duration": 359,
    "start_time": "2023-11-09T12:56:13.380Z"
   },
   {
    "duration": 565,
    "start_time": "2023-11-09T12:56:20.044Z"
   },
   {
    "duration": 345,
    "start_time": "2023-11-09T12:56:32.509Z"
   },
   {
    "duration": 1281,
    "start_time": "2023-11-09T12:57:12.256Z"
   },
   {
    "duration": 118,
    "start_time": "2023-11-09T12:57:58.292Z"
   },
   {
    "duration": 98,
    "start_time": "2023-11-09T12:58:07.572Z"
   },
   {
    "duration": 300,
    "start_time": "2023-11-09T12:58:20.988Z"
   },
   {
    "duration": 275,
    "start_time": "2023-11-09T12:58:53.444Z"
   },
   {
    "duration": 136,
    "start_time": "2023-11-09T12:59:07.813Z"
   },
   {
    "duration": 138,
    "start_time": "2023-11-09T12:59:38.772Z"
   },
   {
    "duration": 176,
    "start_time": "2023-11-09T13:01:16.054Z"
   },
   {
    "duration": 115,
    "start_time": "2023-11-09T13:01:41.372Z"
   },
   {
    "duration": 105,
    "start_time": "2023-11-09T13:02:31.909Z"
   },
   {
    "duration": 1213,
    "start_time": "2023-11-09T13:02:47.876Z"
   },
   {
    "duration": 1414,
    "start_time": "2023-11-09T13:03:01.548Z"
   },
   {
    "duration": 1421,
    "start_time": "2023-11-09T13:15:32.164Z"
   },
   {
    "duration": 1439,
    "start_time": "2023-11-09T13:17:04.779Z"
   },
   {
    "duration": 1345,
    "start_time": "2023-11-09T13:17:19.668Z"
   },
   {
    "duration": 1384,
    "start_time": "2023-11-09T13:17:46.554Z"
   },
   {
    "duration": 1578,
    "start_time": "2023-11-09T13:21:02.115Z"
   },
   {
    "duration": 264,
    "start_time": "2023-11-09T13:23:32.322Z"
   },
   {
    "duration": 1594,
    "start_time": "2023-11-09T13:24:21.418Z"
   },
   {
    "duration": 1650,
    "start_time": "2023-11-09T13:25:22.802Z"
   },
   {
    "duration": 1600,
    "start_time": "2023-11-09T13:26:48.619Z"
   },
   {
    "duration": 1392,
    "start_time": "2023-11-09T13:30:27.426Z"
   },
   {
    "duration": 1368,
    "start_time": "2023-11-09T13:30:42.018Z"
   },
   {
    "duration": 1321,
    "start_time": "2023-11-09T13:32:07.792Z"
   },
   {
    "duration": 1425,
    "start_time": "2023-11-09T13:32:21.826Z"
   },
   {
    "duration": 1363,
    "start_time": "2023-11-09T13:32:38.938Z"
   },
   {
    "duration": 1353,
    "start_time": "2023-11-09T13:33:41.834Z"
   },
   {
    "duration": 256,
    "start_time": "2023-11-09T13:35:12.194Z"
   },
   {
    "duration": 369,
    "start_time": "2023-11-09T13:44:36.331Z"
   },
   {
    "duration": 1743,
    "start_time": "2023-11-09T13:51:35.039Z"
   },
   {
    "duration": 147,
    "start_time": "2023-11-09T14:03:04.087Z"
   },
   {
    "duration": 117,
    "start_time": "2023-11-09T14:04:52.322Z"
   },
   {
    "duration": 113,
    "start_time": "2023-11-09T14:05:27.950Z"
   },
   {
    "duration": 111,
    "start_time": "2023-11-09T14:06:05.487Z"
   },
   {
    "duration": 151,
    "start_time": "2023-11-09T14:11:25.815Z"
   },
   {
    "duration": 140,
    "start_time": "2023-11-09T14:13:33.791Z"
   },
   {
    "duration": 127,
    "start_time": "2023-11-09T14:14:48.447Z"
   },
   {
    "duration": 420,
    "start_time": "2023-11-09T14:37:10.251Z"
   },
   {
    "duration": 167,
    "start_time": "2023-11-09T14:37:38.510Z"
   },
   {
    "duration": 147,
    "start_time": "2023-11-09T14:38:15.535Z"
   },
   {
    "duration": 139,
    "start_time": "2023-11-09T14:39:55.165Z"
   },
   {
    "duration": 126,
    "start_time": "2023-11-09T14:40:04.765Z"
   },
   {
    "duration": 122,
    "start_time": "2023-11-09T14:40:33.173Z"
   },
   {
    "duration": 153,
    "start_time": "2023-11-09T14:45:06.053Z"
   },
   {
    "duration": 127,
    "start_time": "2023-11-09T14:46:11.084Z"
   },
   {
    "duration": 140,
    "start_time": "2023-11-09T14:46:42.894Z"
   },
   {
    "duration": 117,
    "start_time": "2023-11-09T14:47:14.244Z"
   },
   {
    "duration": 135,
    "start_time": "2023-11-09T14:47:33.349Z"
   },
   {
    "duration": 121,
    "start_time": "2023-11-09T14:48:42.058Z"
   },
   {
    "duration": 142,
    "start_time": "2023-11-09T14:49:19.181Z"
   },
   {
    "duration": 121,
    "start_time": "2023-11-09T14:49:51.525Z"
   },
   {
    "duration": 113,
    "start_time": "2023-11-09T14:51:44.948Z"
   },
   {
    "duration": 128,
    "start_time": "2023-11-09T14:52:35.436Z"
   },
   {
    "duration": 155,
    "start_time": "2023-11-09T14:53:07.684Z"
   },
   {
    "duration": 117,
    "start_time": "2023-11-09T14:53:57.885Z"
   },
   {
    "duration": 133,
    "start_time": "2023-11-09T14:54:16.605Z"
   },
   {
    "duration": 127,
    "start_time": "2023-11-09T14:54:52.164Z"
   },
   {
    "duration": 120,
    "start_time": "2023-11-09T14:55:03.478Z"
   },
   {
    "duration": 135,
    "start_time": "2023-11-09T14:56:28.156Z"
   },
   {
    "duration": 155,
    "start_time": "2023-11-09T14:56:43.293Z"
   },
   {
    "duration": 128,
    "start_time": "2023-11-09T14:57:27.853Z"
   },
   {
    "duration": 16,
    "start_time": "2023-11-09T14:59:11.764Z"
   },
   {
    "duration": 125,
    "start_time": "2023-11-09T15:00:14.716Z"
   },
   {
    "duration": 127,
    "start_time": "2023-11-09T15:01:57.611Z"
   },
   {
    "duration": 124,
    "start_time": "2023-11-09T15:03:37.827Z"
   },
   {
    "duration": 136,
    "start_time": "2023-11-09T15:03:46.314Z"
   },
   {
    "duration": 138,
    "start_time": "2023-11-09T15:05:59.765Z"
   },
   {
    "duration": 332,
    "start_time": "2023-11-09T15:07:00.130Z"
   },
   {
    "duration": 144,
    "start_time": "2023-11-09T15:10:03.075Z"
   },
   {
    "duration": 157,
    "start_time": "2023-11-09T15:10:07.324Z"
   },
   {
    "duration": 130,
    "start_time": "2023-11-09T15:10:34.643Z"
   },
   {
    "duration": 140,
    "start_time": "2023-11-09T15:11:16.971Z"
   },
   {
    "duration": 139,
    "start_time": "2023-11-09T15:12:55.707Z"
   },
   {
    "duration": 151,
    "start_time": "2023-11-09T15:14:27.786Z"
   },
   {
    "duration": 139,
    "start_time": "2023-11-09T15:15:04.634Z"
   },
   {
    "duration": 146,
    "start_time": "2023-11-09T15:15:38.643Z"
   },
   {
    "duration": 135,
    "start_time": "2023-11-09T15:16:38.385Z"
   },
   {
    "duration": 132,
    "start_time": "2023-11-09T15:17:39.267Z"
   },
   {
    "duration": 149,
    "start_time": "2023-11-09T15:18:37.923Z"
   },
   {
    "duration": 136,
    "start_time": "2023-11-09T15:19:47.042Z"
   },
   {
    "duration": 126,
    "start_time": "2023-11-09T15:20:39.066Z"
   },
   {
    "duration": 139,
    "start_time": "2023-11-09T15:21:03.762Z"
   },
   {
    "duration": 156,
    "start_time": "2023-11-09T16:42:09.413Z"
   },
   {
    "duration": 130,
    "start_time": "2023-11-09T16:42:34.071Z"
   },
   {
    "duration": 147,
    "start_time": "2023-11-09T16:43:13.462Z"
   },
   {
    "duration": 147,
    "start_time": "2023-11-09T16:43:25.486Z"
   },
   {
    "duration": 152,
    "start_time": "2023-11-09T16:43:31.709Z"
   },
   {
    "duration": 156,
    "start_time": "2023-11-09T16:43:45.843Z"
   },
   {
    "duration": 132,
    "start_time": "2023-11-09T16:44:04.596Z"
   },
   {
    "duration": 134,
    "start_time": "2023-11-09T16:44:17.044Z"
   },
   {
    "duration": 127,
    "start_time": "2023-11-09T16:44:32.683Z"
   },
   {
    "duration": 155,
    "start_time": "2023-11-09T16:47:06.998Z"
   },
   {
    "duration": 362,
    "start_time": "2023-11-09T16:49:41.255Z"
   },
   {
    "duration": 183,
    "start_time": "2023-11-09T16:49:57.363Z"
   },
   {
    "duration": 165,
    "start_time": "2023-11-09T16:50:09.411Z"
   },
   {
    "duration": 141,
    "start_time": "2023-11-09T16:51:07.044Z"
   },
   {
    "duration": 205,
    "start_time": "2023-11-09T16:52:59.451Z"
   },
   {
    "duration": 174,
    "start_time": "2023-11-09T16:54:12.340Z"
   },
   {
    "duration": 145,
    "start_time": "2023-11-09T16:54:38.236Z"
   },
   {
    "duration": 154,
    "start_time": "2023-11-09T16:55:16.571Z"
   },
   {
    "duration": 178,
    "start_time": "2023-11-09T16:55:53.627Z"
   },
   {
    "duration": 158,
    "start_time": "2023-11-09T16:56:20.623Z"
   },
   {
    "duration": 142,
    "start_time": "2023-11-09T16:58:53.068Z"
   },
   {
    "duration": 159,
    "start_time": "2023-11-09T16:59:10.594Z"
   },
   {
    "duration": 149,
    "start_time": "2023-11-09T16:59:45.708Z"
   },
   {
    "duration": 150,
    "start_time": "2023-11-09T17:00:25.242Z"
   },
   {
    "duration": 137,
    "start_time": "2023-11-09T17:00:44.614Z"
   },
   {
    "duration": 178,
    "start_time": "2023-11-09T17:02:26.250Z"
   },
   {
    "duration": 156,
    "start_time": "2023-11-09T17:04:51.889Z"
   },
   {
    "duration": 136,
    "start_time": "2023-11-09T17:05:43.290Z"
   },
   {
    "duration": 149,
    "start_time": "2023-11-09T17:06:31.330Z"
   },
   {
    "duration": 23,
    "start_time": "2023-11-09T17:14:32.260Z"
   },
   {
    "duration": 142,
    "start_time": "2023-11-09T17:14:44.577Z"
   },
   {
    "duration": 151,
    "start_time": "2023-11-09T17:15:23.058Z"
   },
   {
    "duration": 154,
    "start_time": "2023-11-09T17:15:45.850Z"
   },
   {
    "duration": 169,
    "start_time": "2023-11-09T17:16:17.498Z"
   },
   {
    "duration": 125,
    "start_time": "2023-11-09T17:16:38.337Z"
   },
   {
    "duration": 313,
    "start_time": "2023-11-09T17:18:40.658Z"
   },
   {
    "duration": 2681,
    "start_time": "2023-11-09T17:18:55.073Z"
   },
   {
    "duration": 214,
    "start_time": "2023-11-09T17:19:44.065Z"
   },
   {
    "duration": 131,
    "start_time": "2023-11-09T17:20:14.945Z"
   },
   {
    "duration": 137,
    "start_time": "2023-11-09T17:21:44.713Z"
   },
   {
    "duration": 174,
    "start_time": "2023-11-09T17:22:40.256Z"
   },
   {
    "duration": 138,
    "start_time": "2023-11-09T17:23:00.445Z"
   },
   {
    "duration": 153,
    "start_time": "2023-11-10T09:01:20.866Z"
   },
   {
    "duration": 129,
    "start_time": "2023-11-10T09:01:42.237Z"
   },
   {
    "duration": 1412,
    "start_time": "2023-11-10T09:05:12.262Z"
   },
   {
    "duration": 1389,
    "start_time": "2023-11-10T09:06:09.246Z"
   },
   {
    "duration": 1458,
    "start_time": "2023-11-10T09:06:14.828Z"
   },
   {
    "duration": 1196,
    "start_time": "2023-11-10T09:07:29.796Z"
   },
   {
    "duration": 448,
    "start_time": "2023-11-10T09:08:56.397Z"
   },
   {
    "duration": 261,
    "start_time": "2023-11-10T09:09:44.829Z"
   },
   {
    "duration": 1256,
    "start_time": "2023-11-10T09:10:03.589Z"
   },
   {
    "duration": 1325,
    "start_time": "2023-11-10T09:10:26.420Z"
   },
   {
    "duration": 12163,
    "start_time": "2023-11-10T09:10:44.106Z"
   },
   {
    "duration": 2333,
    "start_time": "2023-11-10T09:10:57.525Z"
   },
   {
    "duration": 1508,
    "start_time": "2023-11-10T09:11:26.382Z"
   },
   {
    "duration": 1302,
    "start_time": "2023-11-10T09:11:58.999Z"
   },
   {
    "duration": 1605,
    "start_time": "2023-11-10T09:12:17.004Z"
   },
   {
    "duration": 496,
    "start_time": "2023-11-10T09:13:46.940Z"
   },
   {
    "duration": 308,
    "start_time": "2023-11-10T09:14:39.118Z"
   },
   {
    "duration": 3,
    "start_time": "2023-11-10T09:15:11.122Z"
   },
   {
    "duration": 98,
    "start_time": "2023-11-10T09:15:11.127Z"
   },
   {
    "duration": 9,
    "start_time": "2023-11-10T09:15:11.227Z"
   },
   {
    "duration": 59,
    "start_time": "2023-11-10T09:15:11.238Z"
   },
   {
    "duration": 168,
    "start_time": "2023-11-10T09:15:11.299Z"
   },
   {
    "duration": 8,
    "start_time": "2023-11-10T09:15:11.469Z"
   },
   {
    "duration": 26,
    "start_time": "2023-11-10T09:15:11.479Z"
   },
   {
    "duration": 227,
    "start_time": "2023-11-10T09:15:11.506Z"
   },
   {
    "duration": 8,
    "start_time": "2023-11-10T09:15:11.734Z"
   },
   {
    "duration": 26,
    "start_time": "2023-11-10T09:15:11.743Z"
   },
   {
    "duration": 36,
    "start_time": "2023-11-10T09:15:11.772Z"
   },
   {
    "duration": 21,
    "start_time": "2023-11-10T09:15:11.810Z"
   },
   {
    "duration": 21,
    "start_time": "2023-11-10T09:15:11.833Z"
   },
   {
    "duration": 33,
    "start_time": "2023-11-10T09:15:11.856Z"
   },
   {
    "duration": 29,
    "start_time": "2023-11-10T09:15:11.890Z"
   },
   {
    "duration": 33,
    "start_time": "2023-11-10T09:15:11.921Z"
   },
   {
    "duration": 20,
    "start_time": "2023-11-10T09:15:11.955Z"
   },
   {
    "duration": 32,
    "start_time": "2023-11-10T09:15:11.977Z"
   },
   {
    "duration": 41,
    "start_time": "2023-11-10T09:15:12.010Z"
   },
   {
    "duration": 19,
    "start_time": "2023-11-10T09:15:12.053Z"
   },
   {
    "duration": 185,
    "start_time": "2023-11-10T09:15:12.074Z"
   },
   {
    "duration": 8,
    "start_time": "2023-11-10T09:15:12.261Z"
   },
   {
    "duration": 129,
    "start_time": "2023-11-10T09:15:12.270Z"
   },
   {
    "duration": 277,
    "start_time": "2023-11-10T09:15:12.401Z"
   },
   {
    "duration": 8,
    "start_time": "2023-11-10T09:15:12.679Z"
   },
   {
    "duration": 276,
    "start_time": "2023-11-10T09:15:12.688Z"
   },
   {
    "duration": 8,
    "start_time": "2023-11-10T09:15:12.965Z"
   },
   {
    "duration": 123,
    "start_time": "2023-11-10T09:15:12.975Z"
   },
   {
    "duration": 9,
    "start_time": "2023-11-10T09:15:13.108Z"
   },
   {
    "duration": 35,
    "start_time": "2023-11-10T09:15:13.119Z"
   },
   {
    "duration": 274,
    "start_time": "2023-11-10T09:15:13.155Z"
   },
   {
    "duration": 245,
    "start_time": "2023-11-10T09:15:13.431Z"
   },
   {
    "duration": 5,
    "start_time": "2023-11-10T09:15:13.678Z"
   },
   {
    "duration": 45,
    "start_time": "2023-11-10T09:15:13.684Z"
   },
   {
    "duration": 155,
    "start_time": "2023-11-10T09:15:13.730Z"
   },
   {
    "duration": 20,
    "start_time": "2023-11-10T09:15:13.887Z"
   },
   {
    "duration": 8,
    "start_time": "2023-11-10T09:15:13.909Z"
   },
   {
    "duration": 17,
    "start_time": "2023-11-10T09:15:13.918Z"
   },
   {
    "duration": 15,
    "start_time": "2023-11-10T09:15:13.937Z"
   },
   {
    "duration": 13,
    "start_time": "2023-11-10T09:15:13.953Z"
   },
   {
    "duration": 43,
    "start_time": "2023-11-10T09:15:13.967Z"
   },
   {
    "duration": 12,
    "start_time": "2023-11-10T09:15:14.012Z"
   },
   {
    "duration": 433,
    "start_time": "2023-11-10T09:15:14.026Z"
   },
   {
    "duration": 267,
    "start_time": "2023-11-10T09:15:14.461Z"
   },
   {
    "duration": 260,
    "start_time": "2023-11-10T09:15:14.730Z"
   },
   {
    "duration": 268,
    "start_time": "2023-11-10T09:15:14.991Z"
   },
   {
    "duration": 8,
    "start_time": "2023-11-10T09:15:15.261Z"
   },
   {
    "duration": 22,
    "start_time": "2023-11-10T09:15:15.271Z"
   },
   {
    "duration": 26,
    "start_time": "2023-11-10T09:15:15.295Z"
   },
   {
    "duration": 9,
    "start_time": "2023-11-10T09:15:15.323Z"
   },
   {
    "duration": 59,
    "start_time": "2023-11-10T09:15:15.333Z"
   },
   {
    "duration": 18,
    "start_time": "2023-11-10T09:15:15.394Z"
   },
   {
    "duration": 15,
    "start_time": "2023-11-10T09:15:15.414Z"
   },
   {
    "duration": 12,
    "start_time": "2023-11-10T09:15:15.432Z"
   },
   {
    "duration": 32,
    "start_time": "2023-11-10T09:15:15.445Z"
   },
   {
    "duration": 260,
    "start_time": "2023-11-10T09:15:15.479Z"
   },
   {
    "duration": 6,
    "start_time": "2023-11-10T09:15:15.740Z"
   },
   {
    "duration": 28,
    "start_time": "2023-11-10T09:15:15.747Z"
   },
   {
    "duration": 251,
    "start_time": "2023-11-10T09:15:15.777Z"
   },
   {
    "duration": 11,
    "start_time": "2023-11-10T09:15:16.030Z"
   },
   {
    "duration": 286,
    "start_time": "2023-11-10T09:15:16.043Z"
   },
   {
    "duration": 8,
    "start_time": "2023-11-10T09:15:16.331Z"
   },
   {
    "duration": 41,
    "start_time": "2023-11-10T09:15:16.341Z"
   },
   {
    "duration": 376,
    "start_time": "2023-11-10T09:15:16.383Z"
   },
   {
    "duration": 1430,
    "start_time": "2023-11-10T09:16:30.820Z"
   },
   {
    "duration": 380,
    "start_time": "2023-11-10T09:17:06.709Z"
   },
   {
    "duration": 156,
    "start_time": "2023-11-10T09:18:31.204Z"
   },
   {
    "duration": 118,
    "start_time": "2023-11-10T09:19:11.556Z"
   },
   {
    "duration": 104,
    "start_time": "2023-11-10T09:24:47.692Z"
   },
   {
    "duration": 122,
    "start_time": "2023-11-10T09:25:28.995Z"
   },
   {
    "duration": 133,
    "start_time": "2023-11-10T09:25:50.789Z"
   },
   {
    "duration": 125,
    "start_time": "2023-11-10T09:26:30.731Z"
   },
   {
    "duration": 127,
    "start_time": "2023-11-10T09:34:23.219Z"
   },
   {
    "duration": 124,
    "start_time": "2023-11-10T09:34:37.675Z"
   },
   {
    "duration": 138,
    "start_time": "2023-11-10T09:34:50.282Z"
   },
   {
    "duration": 133,
    "start_time": "2023-11-10T09:36:02.123Z"
   },
   {
    "duration": 159,
    "start_time": "2023-11-10T09:36:14.275Z"
   },
   {
    "duration": 22,
    "start_time": "2023-11-10T09:36:54.492Z"
   },
   {
    "duration": 15,
    "start_time": "2023-11-10T09:37:40.572Z"
   },
   {
    "duration": 141,
    "start_time": "2023-11-10T09:38:05.083Z"
   },
   {
    "duration": 131,
    "start_time": "2023-11-10T09:38:41.752Z"
   },
   {
    "duration": 129,
    "start_time": "2023-11-10T09:39:02.317Z"
   },
   {
    "duration": 122,
    "start_time": "2023-11-10T09:39:27.226Z"
   },
   {
    "duration": 130,
    "start_time": "2023-11-10T09:39:32.269Z"
   },
   {
    "duration": 133,
    "start_time": "2023-11-10T09:40:52.819Z"
   },
   {
    "duration": 134,
    "start_time": "2023-11-10T09:41:43.355Z"
   },
   {
    "duration": 141,
    "start_time": "2023-11-10T09:42:01.683Z"
   },
   {
    "duration": 181,
    "start_time": "2023-11-10T09:43:10.050Z"
   },
   {
    "duration": 125,
    "start_time": "2023-11-10T09:44:06.986Z"
   },
   {
    "duration": 125,
    "start_time": "2023-11-10T09:44:26.954Z"
   },
   {
    "duration": 101,
    "start_time": "2023-11-10T09:44:30.162Z"
   },
   {
    "duration": 5,
    "start_time": "2023-11-10T09:44:57.009Z"
   },
   {
    "duration": 5,
    "start_time": "2023-11-10T09:45:59.778Z"
   },
   {
    "duration": 113,
    "start_time": "2023-11-10T09:47:58.217Z"
   },
   {
    "duration": 5,
    "start_time": "2023-11-10T09:48:15.409Z"
   },
   {
    "duration": 5,
    "start_time": "2023-11-10T09:48:18.545Z"
   },
   {
    "duration": 121,
    "start_time": "2023-11-10T09:48:53.113Z"
   },
   {
    "duration": 5,
    "start_time": "2023-11-10T09:48:53.657Z"
   },
   {
    "duration": 5,
    "start_time": "2023-11-10T09:48:54.601Z"
   },
   {
    "duration": 5,
    "start_time": "2023-11-10T09:49:15.121Z"
   },
   {
    "duration": 118,
    "start_time": "2023-11-10T09:51:22.265Z"
   },
   {
    "duration": 399,
    "start_time": "2023-11-10T10:05:08.664Z"
   },
   {
    "duration": 195,
    "start_time": "2023-11-10T13:54:19.330Z"
   },
   {
    "duration": 231,
    "start_time": "2023-11-10T13:54:45.868Z"
   },
   {
    "duration": 3,
    "start_time": "2023-11-10T13:55:14.127Z"
   },
   {
    "duration": 378,
    "start_time": "2023-11-10T13:55:40.434Z"
   },
   {
    "duration": 3,
    "start_time": "2023-11-10T13:57:22.188Z"
   },
   {
    "duration": 97,
    "start_time": "2023-11-10T13:57:22.193Z"
   },
   {
    "duration": 9,
    "start_time": "2023-11-10T13:57:22.292Z"
   },
   {
    "duration": 47,
    "start_time": "2023-11-10T13:57:22.302Z"
   },
   {
    "duration": 160,
    "start_time": "2023-11-10T13:57:22.351Z"
   },
   {
    "duration": 10,
    "start_time": "2023-11-10T13:57:22.513Z"
   },
   {
    "duration": 18,
    "start_time": "2023-11-10T13:57:22.525Z"
   },
   {
    "duration": 253,
    "start_time": "2023-11-10T13:57:22.547Z"
   },
   {
    "duration": 9,
    "start_time": "2023-11-10T13:57:22.801Z"
   },
   {
    "duration": 18,
    "start_time": "2023-11-10T13:57:22.812Z"
   },
   {
    "duration": 24,
    "start_time": "2023-11-10T13:57:22.831Z"
   },
   {
    "duration": 13,
    "start_time": "2023-11-10T13:57:22.857Z"
   },
   {
    "duration": 21,
    "start_time": "2023-11-10T13:57:22.871Z"
   },
   {
    "duration": 14,
    "start_time": "2023-11-10T13:57:22.894Z"
   },
   {
    "duration": 30,
    "start_time": "2023-11-10T13:57:22.909Z"
   },
   {
    "duration": 27,
    "start_time": "2023-11-10T13:57:22.941Z"
   },
   {
    "duration": 13,
    "start_time": "2023-11-10T13:57:22.970Z"
   },
   {
    "duration": 28,
    "start_time": "2023-11-10T13:57:22.984Z"
   },
   {
    "duration": 21,
    "start_time": "2023-11-10T13:57:23.014Z"
   },
   {
    "duration": 14,
    "start_time": "2023-11-10T13:57:23.037Z"
   },
   {
    "duration": 170,
    "start_time": "2023-11-10T13:57:23.052Z"
   },
   {
    "duration": 7,
    "start_time": "2023-11-10T13:57:23.224Z"
   },
   {
    "duration": 133,
    "start_time": "2023-11-10T13:57:23.232Z"
   },
   {
    "duration": 251,
    "start_time": "2023-11-10T13:57:23.367Z"
   },
   {
    "duration": 7,
    "start_time": "2023-11-10T13:57:23.620Z"
   },
   {
    "duration": 285,
    "start_time": "2023-11-10T13:57:23.631Z"
   },
   {
    "duration": 8,
    "start_time": "2023-11-10T13:57:23.918Z"
   },
   {
    "duration": 128,
    "start_time": "2023-11-10T13:57:23.927Z"
   },
   {
    "duration": 11,
    "start_time": "2023-11-10T13:57:24.057Z"
   },
   {
    "duration": 8,
    "start_time": "2023-11-10T13:57:24.070Z"
   },
   {
    "duration": 285,
    "start_time": "2023-11-10T13:57:24.079Z"
   },
   {
    "duration": 253,
    "start_time": "2023-11-10T13:57:24.365Z"
   },
   {
    "duration": 6,
    "start_time": "2023-11-10T13:57:24.620Z"
   },
   {
    "duration": 36,
    "start_time": "2023-11-10T13:57:24.627Z"
   },
   {
    "duration": 131,
    "start_time": "2023-11-10T13:57:24.665Z"
   },
   {
    "duration": 12,
    "start_time": "2023-11-10T13:57:24.798Z"
   },
   {
    "duration": 55,
    "start_time": "2023-11-10T13:57:24.812Z"
   },
   {
    "duration": 37,
    "start_time": "2023-11-10T13:57:24.869Z"
   },
   {
    "duration": 37,
    "start_time": "2023-11-10T13:57:24.907Z"
   },
   {
    "duration": 12,
    "start_time": "2023-11-10T13:57:24.945Z"
   },
   {
    "duration": 33,
    "start_time": "2023-11-10T13:57:24.959Z"
   },
   {
    "duration": 16,
    "start_time": "2023-11-10T13:57:24.994Z"
   },
   {
    "duration": 3,
    "start_time": "2023-11-10T14:39:11.109Z"
   },
   {
    "duration": 81,
    "start_time": "2023-11-10T14:39:11.114Z"
   },
   {
    "duration": 8,
    "start_time": "2023-11-10T14:39:11.198Z"
   },
   {
    "duration": 18,
    "start_time": "2023-11-10T14:39:11.207Z"
   },
   {
    "duration": 149,
    "start_time": "2023-11-10T14:39:11.228Z"
   },
   {
    "duration": 8,
    "start_time": "2023-11-10T14:39:11.378Z"
   },
   {
    "duration": 13,
    "start_time": "2023-11-10T14:39:11.406Z"
   },
   {
    "duration": 220,
    "start_time": "2023-11-10T14:39:11.421Z"
   },
   {
    "duration": 7,
    "start_time": "2023-11-10T14:39:11.642Z"
   },
   {
    "duration": 23,
    "start_time": "2023-11-10T14:39:11.651Z"
   },
   {
    "duration": 23,
    "start_time": "2023-11-10T14:39:11.677Z"
   },
   {
    "duration": 7,
    "start_time": "2023-11-10T14:39:11.702Z"
   },
   {
    "duration": 17,
    "start_time": "2023-11-10T14:39:11.711Z"
   },
   {
    "duration": 11,
    "start_time": "2023-11-10T14:39:11.729Z"
   },
   {
    "duration": 11,
    "start_time": "2023-11-10T14:39:11.741Z"
   },
   {
    "duration": 9,
    "start_time": "2023-11-10T14:39:11.753Z"
   },
   {
    "duration": 5,
    "start_time": "2023-11-10T14:39:11.763Z"
   },
   {
    "duration": 6,
    "start_time": "2023-11-10T14:39:11.769Z"
   },
   {
    "duration": 32,
    "start_time": "2023-11-10T14:39:11.777Z"
   },
   {
    "duration": 3,
    "start_time": "2023-11-10T14:39:11.811Z"
   },
   {
    "duration": 152,
    "start_time": "2023-11-10T14:39:11.816Z"
   },
   {
    "duration": 7,
    "start_time": "2023-11-10T14:39:11.969Z"
   },
   {
    "duration": 107,
    "start_time": "2023-11-10T14:39:11.977Z"
   },
   {
    "duration": 268,
    "start_time": "2023-11-10T14:39:12.085Z"
   },
   {
    "duration": 8,
    "start_time": "2023-11-10T14:39:12.354Z"
   },
   {
    "duration": 291,
    "start_time": "2023-11-10T14:39:12.363Z"
   },
   {
    "duration": 9,
    "start_time": "2023-11-10T14:39:12.655Z"
   },
   {
    "duration": 134,
    "start_time": "2023-11-10T14:39:12.666Z"
   },
   {
    "duration": 9,
    "start_time": "2023-11-10T14:39:12.806Z"
   },
   {
    "duration": 9,
    "start_time": "2023-11-10T14:39:12.816Z"
   },
   {
    "duration": 264,
    "start_time": "2023-11-10T14:39:12.826Z"
   },
   {
    "duration": 235,
    "start_time": "2023-11-10T14:39:13.092Z"
   },
   {
    "duration": 5,
    "start_time": "2023-11-10T14:39:13.329Z"
   },
   {
    "duration": 25,
    "start_time": "2023-11-10T14:39:13.335Z"
   },
   {
    "duration": 122,
    "start_time": "2023-11-10T14:39:13.361Z"
   },
   {
    "duration": 10,
    "start_time": "2023-11-10T14:39:13.485Z"
   },
   {
    "duration": 12,
    "start_time": "2023-11-10T14:39:13.507Z"
   },
   {
    "duration": 36,
    "start_time": "2023-11-10T14:39:13.521Z"
   },
   {
    "duration": 17,
    "start_time": "2023-11-10T14:39:13.559Z"
   },
   {
    "duration": 11,
    "start_time": "2023-11-10T14:39:13.577Z"
   },
   {
    "duration": 25,
    "start_time": "2023-11-10T14:39:13.589Z"
   },
   {
    "duration": 14,
    "start_time": "2023-11-10T14:39:13.615Z"
   },
   {
    "duration": 538,
    "start_time": "2023-11-10T14:39:13.630Z"
   },
   {
    "duration": 258,
    "start_time": "2023-11-10T14:39:14.170Z"
   },
   {
    "duration": 269,
    "start_time": "2023-11-10T14:39:14.430Z"
   },
   {
    "duration": 289,
    "start_time": "2023-11-10T14:39:14.701Z"
   },
   {
    "duration": 20,
    "start_time": "2023-11-10T14:39:14.992Z"
   },
   {
    "duration": 44,
    "start_time": "2023-11-10T14:39:15.014Z"
   },
   {
    "duration": 52,
    "start_time": "2023-11-10T14:39:15.060Z"
   },
   {
    "duration": 37,
    "start_time": "2023-11-10T14:39:15.113Z"
   },
   {
    "duration": 27,
    "start_time": "2023-11-10T14:39:15.151Z"
   },
   {
    "duration": 23,
    "start_time": "2023-11-10T14:39:15.180Z"
   },
   {
    "duration": 12,
    "start_time": "2023-11-10T14:39:15.205Z"
   },
   {
    "duration": 11,
    "start_time": "2023-11-10T14:39:15.218Z"
   },
   {
    "duration": 13,
    "start_time": "2023-11-10T14:39:15.231Z"
   },
   {
    "duration": 282,
    "start_time": "2023-11-10T14:39:15.245Z"
   },
   {
    "duration": 6,
    "start_time": "2023-11-10T14:39:15.529Z"
   },
   {
    "duration": 41,
    "start_time": "2023-11-10T14:39:15.537Z"
   },
   {
    "duration": 254,
    "start_time": "2023-11-10T14:39:15.580Z"
   },
   {
    "duration": 8,
    "start_time": "2023-11-10T14:39:15.835Z"
   },
   {
    "duration": 311,
    "start_time": "2023-11-10T14:39:15.844Z"
   },
   {
    "duration": 10,
    "start_time": "2023-11-10T14:39:16.156Z"
   },
   {
    "duration": 9,
    "start_time": "2023-11-10T14:39:16.168Z"
   },
   {
    "duration": 140,
    "start_time": "2023-11-10T14:39:16.179Z"
   },
   {
    "duration": 5,
    "start_time": "2023-11-10T14:39:16.321Z"
   },
   {
    "duration": 19,
    "start_time": "2023-11-10T14:39:16.328Z"
   },
   {
    "duration": 31860,
    "start_time": "2023-11-10T14:39:16.349Z"
   },
   {
    "duration": 149,
    "start_time": "2023-11-10T14:40:42.350Z"
   },
   {
    "duration": 134,
    "start_time": "2023-11-10T14:42:47.095Z"
   },
   {
    "duration": 159,
    "start_time": "2023-11-10T14:42:55.823Z"
   },
   {
    "duration": 17,
    "start_time": "2023-11-10T14:44:22.568Z"
   },
   {
    "duration": 123,
    "start_time": "2023-11-10T14:44:28.006Z"
   },
   {
    "duration": 174,
    "start_time": "2023-11-10T14:46:31.063Z"
   },
   {
    "duration": 9,
    "start_time": "2023-11-10T14:48:47.998Z"
   },
   {
    "duration": 10,
    "start_time": "2023-11-10T14:50:26.965Z"
   },
   {
    "duration": 382,
    "start_time": "2023-11-10T14:50:30.509Z"
   },
   {
    "duration": 4,
    "start_time": "2023-11-10T14:50:33.651Z"
   },
   {
    "duration": 69,
    "start_time": "2023-11-10T17:02:23.476Z"
   },
   {
    "duration": 41,
    "start_time": "2023-11-10T17:08:35.355Z"
   },
   {
    "duration": 6,
    "start_time": "2023-11-10T17:08:42.120Z"
   },
   {
    "duration": 1273,
    "start_time": "2023-11-10T17:08:56.093Z"
   },
   {
    "duration": 203,
    "start_time": "2023-11-10T17:08:57.368Z"
   },
   {
    "duration": 13,
    "start_time": "2023-11-10T17:08:57.573Z"
   },
   {
    "duration": 15,
    "start_time": "2023-11-10T17:08:57.589Z"
   },
   {
    "duration": 161,
    "start_time": "2023-11-10T17:08:57.606Z"
   },
   {
    "duration": 10,
    "start_time": "2023-11-10T17:08:57.771Z"
   },
   {
    "duration": 17,
    "start_time": "2023-11-10T17:08:57.783Z"
   },
   {
    "duration": 235,
    "start_time": "2023-11-10T17:08:57.808Z"
   },
   {
    "duration": 7,
    "start_time": "2023-11-10T17:08:58.044Z"
   },
   {
    "duration": 17,
    "start_time": "2023-11-10T17:08:58.053Z"
   },
   {
    "duration": 19,
    "start_time": "2023-11-10T17:08:58.071Z"
   },
   {
    "duration": 21,
    "start_time": "2023-11-10T17:08:58.091Z"
   },
   {
    "duration": 26,
    "start_time": "2023-11-10T17:08:58.114Z"
   },
   {
    "duration": 45,
    "start_time": "2023-11-10T17:08:58.141Z"
   },
   {
    "duration": 10,
    "start_time": "2023-11-10T17:08:58.188Z"
   },
   {
    "duration": 5,
    "start_time": "2023-11-10T17:08:58.206Z"
   },
   {
    "duration": 21,
    "start_time": "2023-11-10T17:08:58.212Z"
   },
   {
    "duration": 26,
    "start_time": "2023-11-10T17:08:58.235Z"
   },
   {
    "duration": 10,
    "start_time": "2023-11-10T17:08:58.262Z"
   },
   {
    "duration": 7,
    "start_time": "2023-11-10T17:08:58.273Z"
   },
   {
    "duration": 125,
    "start_time": "2023-11-10T17:08:58.282Z"
   },
   {
    "duration": 5,
    "start_time": "2023-11-10T17:08:58.408Z"
   },
   {
    "duration": 8,
    "start_time": "2023-11-10T17:08:58.415Z"
   },
   {
    "duration": 121,
    "start_time": "2023-11-10T17:08:58.424Z"
   },
   {
    "duration": 258,
    "start_time": "2023-11-10T17:08:58.546Z"
   },
   {
    "duration": 8,
    "start_time": "2023-11-10T17:08:58.806Z"
   },
   {
    "duration": 364,
    "start_time": "2023-11-10T17:08:58.816Z"
   },
   {
    "duration": 9,
    "start_time": "2023-11-10T17:08:59.183Z"
   },
   {
    "duration": 135,
    "start_time": "2023-11-10T17:08:59.193Z"
   },
   {
    "duration": 11,
    "start_time": "2023-11-10T17:08:59.330Z"
   },
   {
    "duration": 17,
    "start_time": "2023-11-10T17:08:59.343Z"
   },
   {
    "duration": 271,
    "start_time": "2023-11-10T17:08:59.361Z"
   },
   {
    "duration": 241,
    "start_time": "2023-11-10T17:08:59.633Z"
   },
   {
    "duration": 5,
    "start_time": "2023-11-10T17:08:59.876Z"
   },
   {
    "duration": 30,
    "start_time": "2023-11-10T17:08:59.882Z"
   },
   {
    "duration": 123,
    "start_time": "2023-11-10T17:08:59.914Z"
   },
   {
    "duration": 11,
    "start_time": "2023-11-10T17:09:00.038Z"
   },
   {
    "duration": 47,
    "start_time": "2023-11-10T17:09:00.050Z"
   },
   {
    "duration": 42,
    "start_time": "2023-11-10T17:09:00.099Z"
   },
   {
    "duration": 38,
    "start_time": "2023-11-10T17:09:00.143Z"
   },
   {
    "duration": 55,
    "start_time": "2023-11-10T17:09:00.183Z"
   },
   {
    "duration": 43,
    "start_time": "2023-11-10T17:09:00.240Z"
   },
   {
    "duration": 27,
    "start_time": "2023-11-10T17:09:00.285Z"
   },
   {
    "duration": 286,
    "start_time": "2023-11-10T17:09:00.313Z"
   },
   {
    "duration": 256,
    "start_time": "2023-11-10T17:09:00.600Z"
   },
   {
    "duration": 384,
    "start_time": "2023-11-10T17:09:00.858Z"
   },
   {
    "duration": 284,
    "start_time": "2023-11-10T17:09:01.243Z"
   },
   {
    "duration": 8,
    "start_time": "2023-11-10T17:09:01.529Z"
   },
   {
    "duration": 28,
    "start_time": "2023-11-10T17:09:01.539Z"
   },
   {
    "duration": 59,
    "start_time": "2023-11-10T17:09:01.569Z"
   },
   {
    "duration": 52,
    "start_time": "2023-11-10T17:09:01.630Z"
   },
   {
    "duration": 69,
    "start_time": "2023-11-10T17:09:01.683Z"
   },
   {
    "duration": 33,
    "start_time": "2023-11-10T17:09:01.754Z"
   },
   {
    "duration": 40,
    "start_time": "2023-11-10T17:09:01.788Z"
   },
   {
    "duration": 58,
    "start_time": "2023-11-10T17:09:01.829Z"
   },
   {
    "duration": 44,
    "start_time": "2023-11-10T17:09:01.889Z"
   },
   {
    "duration": 259,
    "start_time": "2023-11-10T17:09:01.935Z"
   },
   {
    "duration": 6,
    "start_time": "2023-11-10T17:09:02.195Z"
   },
   {
    "duration": 29,
    "start_time": "2023-11-10T17:09:02.207Z"
   },
   {
    "duration": 305,
    "start_time": "2023-11-10T17:09:02.238Z"
   },
   {
    "duration": 8,
    "start_time": "2023-11-10T17:09:02.544Z"
   },
   {
    "duration": 288,
    "start_time": "2023-11-10T17:09:02.553Z"
   },
   {
    "duration": 7,
    "start_time": "2023-11-10T17:09:02.842Z"
   },
   {
    "duration": 5,
    "start_time": "2023-11-10T17:09:02.851Z"
   },
   {
    "duration": 165,
    "start_time": "2023-11-10T17:09:02.857Z"
   },
   {
    "duration": 64,
    "start_time": "2023-11-10T17:09:03.024Z"
   },
   {
    "duration": 0,
    "start_time": "2023-11-10T17:09:03.089Z"
   },
   {
    "duration": 154,
    "start_time": "2023-11-10T17:11:07.983Z"
   },
   {
    "duration": 66,
    "start_time": "2023-11-10T17:11:21.786Z"
   },
   {
    "duration": 70,
    "start_time": "2023-11-10T17:12:04.495Z"
   },
   {
    "duration": 7,
    "start_time": "2023-11-10T17:16:37.334Z"
   },
   {
    "duration": 18,
    "start_time": "2023-11-10T17:21:00.103Z"
   },
   {
    "duration": 17,
    "start_time": "2023-11-10T17:22:09.909Z"
   },
   {
    "duration": 2,
    "start_time": "2023-11-10T17:22:38.198Z"
   },
   {
    "duration": 3,
    "start_time": "2023-11-10T17:23:35.544Z"
   },
   {
    "duration": 3,
    "start_time": "2023-11-10T17:24:02.096Z"
   },
   {
    "duration": 9,
    "start_time": "2023-11-10T17:26:39.037Z"
   },
   {
    "duration": 9,
    "start_time": "2023-11-10T17:30:09.149Z"
   },
   {
    "duration": 75,
    "start_time": "2023-11-10T17:38:24.374Z"
   },
   {
    "duration": 11,
    "start_time": "2023-11-10T17:39:19.232Z"
   },
   {
    "duration": 10,
    "start_time": "2023-11-10T17:40:44.701Z"
   },
   {
    "duration": 3,
    "start_time": "2023-11-10T17:41:34.694Z"
   },
   {
    "duration": 2,
    "start_time": "2023-11-10T17:41:37.110Z"
   },
   {
    "duration": 11,
    "start_time": "2023-11-10T17:41:47.905Z"
   },
   {
    "duration": 170,
    "start_time": "2023-11-10T17:42:03.189Z"
   },
   {
    "duration": 76,
    "start_time": "2023-11-10T17:46:53.245Z"
   },
   {
    "duration": 80,
    "start_time": "2023-11-10T17:58:33.614Z"
   },
   {
    "duration": 13,
    "start_time": "2023-11-10T18:06:26.142Z"
   },
   {
    "duration": 15,
    "start_time": "2023-11-10T18:12:15.637Z"
   },
   {
    "duration": 4,
    "start_time": "2023-11-10T18:12:21.358Z"
   },
   {
    "duration": 82,
    "start_time": "2023-11-10T18:12:21.365Z"
   },
   {
    "duration": 9,
    "start_time": "2023-11-10T18:12:21.448Z"
   },
   {
    "duration": 15,
    "start_time": "2023-11-10T18:12:21.458Z"
   },
   {
    "duration": 149,
    "start_time": "2023-11-10T18:12:21.475Z"
   },
   {
    "duration": 9,
    "start_time": "2023-11-10T18:12:21.625Z"
   },
   {
    "duration": 29,
    "start_time": "2023-11-10T18:12:21.635Z"
   },
   {
    "duration": 229,
    "start_time": "2023-11-10T18:12:21.666Z"
   },
   {
    "duration": 13,
    "start_time": "2023-11-10T18:12:21.897Z"
   },
   {
    "duration": 16,
    "start_time": "2023-11-10T18:12:21.911Z"
   },
   {
    "duration": 22,
    "start_time": "2023-11-10T18:12:21.929Z"
   },
   {
    "duration": 7,
    "start_time": "2023-11-10T18:12:21.952Z"
   },
   {
    "duration": 11,
    "start_time": "2023-11-10T18:12:21.961Z"
   },
   {
    "duration": 12,
    "start_time": "2023-11-10T18:12:21.974Z"
   },
   {
    "duration": 34,
    "start_time": "2023-11-10T18:12:21.987Z"
   },
   {
    "duration": 14,
    "start_time": "2023-11-10T18:12:22.022Z"
   },
   {
    "duration": 11,
    "start_time": "2023-11-10T18:12:22.038Z"
   },
   {
    "duration": 12,
    "start_time": "2023-11-10T18:12:22.050Z"
   },
   {
    "duration": 31,
    "start_time": "2023-11-10T18:12:22.064Z"
   },
   {
    "duration": 10,
    "start_time": "2023-11-10T18:12:22.096Z"
   },
   {
    "duration": 142,
    "start_time": "2023-11-10T18:12:22.107Z"
   },
   {
    "duration": 6,
    "start_time": "2023-11-10T18:12:22.251Z"
   },
   {
    "duration": 12,
    "start_time": "2023-11-10T18:12:22.258Z"
   },
   {
    "duration": 115,
    "start_time": "2023-11-10T18:12:22.272Z"
   },
   {
    "duration": 85,
    "start_time": "2023-11-10T18:12:22.389Z"
   },
   {
    "duration": 380,
    "start_time": "2023-11-10T18:12:22.476Z"
   },
   {
    "duration": 7,
    "start_time": "2023-11-10T18:12:22.858Z"
   },
   {
    "duration": 296,
    "start_time": "2023-11-10T18:12:22.866Z"
   },
   {
    "duration": 8,
    "start_time": "2023-11-10T18:12:23.165Z"
   },
   {
    "duration": 141,
    "start_time": "2023-11-10T18:12:23.175Z"
   },
   {
    "duration": 10,
    "start_time": "2023-11-10T18:12:23.317Z"
   },
   {
    "duration": 30,
    "start_time": "2023-11-10T18:12:23.328Z"
   },
   {
    "duration": 280,
    "start_time": "2023-11-10T18:12:23.359Z"
   },
   {
    "duration": 252,
    "start_time": "2023-11-10T18:12:23.641Z"
   },
   {
    "duration": 14,
    "start_time": "2023-11-10T18:12:23.894Z"
   },
   {
    "duration": 9,
    "start_time": "2023-11-10T18:12:23.910Z"
   },
   {
    "duration": 137,
    "start_time": "2023-11-10T18:12:23.921Z"
   },
   {
    "duration": 9,
    "start_time": "2023-11-10T18:12:24.060Z"
   },
   {
    "duration": 11,
    "start_time": "2023-11-10T18:12:24.071Z"
   },
   {
    "duration": 36,
    "start_time": "2023-11-10T18:12:24.083Z"
   },
   {
    "duration": 3,
    "start_time": "2023-11-10T18:12:24.120Z"
   },
   {
    "duration": 31,
    "start_time": "2023-11-10T18:12:24.124Z"
   },
   {
    "duration": 33,
    "start_time": "2023-11-10T18:12:24.156Z"
   },
   {
    "duration": 11,
    "start_time": "2023-11-10T18:12:24.191Z"
   },
   {
    "duration": 41,
    "start_time": "2023-11-10T18:12:24.204Z"
   },
   {
    "duration": 15,
    "start_time": "2023-11-10T18:12:24.247Z"
   },
   {
    "duration": 295,
    "start_time": "2023-11-10T18:12:24.264Z"
   },
   {
    "duration": 371,
    "start_time": "2023-11-10T18:12:24.561Z"
   },
   {
    "duration": 294,
    "start_time": "2023-11-10T18:12:24.933Z"
   },
   {
    "duration": 317,
    "start_time": "2023-11-10T18:12:25.229Z"
   },
   {
    "duration": 8,
    "start_time": "2023-11-10T18:12:25.548Z"
   },
   {
    "duration": 8,
    "start_time": "2023-11-10T18:12:25.557Z"
   },
   {
    "duration": 11,
    "start_time": "2023-11-10T18:12:25.566Z"
   },
   {
    "duration": 30,
    "start_time": "2023-11-10T18:12:25.579Z"
   },
   {
    "duration": 37,
    "start_time": "2023-11-10T18:12:25.611Z"
   },
   {
    "duration": 17,
    "start_time": "2023-11-10T18:12:25.650Z"
   },
   {
    "duration": 14,
    "start_time": "2023-11-10T18:12:25.669Z"
   },
   {
    "duration": 27,
    "start_time": "2023-11-10T18:12:25.684Z"
   },
   {
    "duration": 33,
    "start_time": "2023-11-10T18:12:25.713Z"
   },
   {
    "duration": 24,
    "start_time": "2023-11-10T18:12:25.747Z"
   },
   {
    "duration": 313,
    "start_time": "2023-11-10T18:12:25.773Z"
   },
   {
    "duration": 6,
    "start_time": "2023-11-10T18:12:26.088Z"
   },
   {
    "duration": 25,
    "start_time": "2023-11-10T18:12:26.095Z"
   },
   {
    "duration": 269,
    "start_time": "2023-11-10T18:12:26.121Z"
   },
   {
    "duration": 16,
    "start_time": "2023-11-10T18:12:26.392Z"
   },
   {
    "duration": 388,
    "start_time": "2023-11-10T18:12:26.410Z"
   },
   {
    "duration": 14,
    "start_time": "2023-11-10T18:12:26.800Z"
   },
   {
    "duration": 48,
    "start_time": "2023-11-10T18:12:26.815Z"
   },
   {
    "duration": 190,
    "start_time": "2023-11-10T18:12:26.865Z"
   },
   {
    "duration": 180,
    "start_time": "2023-11-10T18:12:27.057Z"
   },
   {
    "duration": 4,
    "start_time": "2023-11-10T18:12:27.239Z"
   },
   {
    "duration": 12,
    "start_time": "2023-11-10T18:14:06.134Z"
   },
   {
    "duration": 14,
    "start_time": "2023-11-10T18:14:10.285Z"
   },
   {
    "duration": 273,
    "start_time": "2023-11-10T18:24:32.341Z"
   },
   {
    "duration": 243,
    "start_time": "2023-11-10T18:24:33.164Z"
   },
   {
    "duration": 250,
    "start_time": "2023-11-10T18:24:35.244Z"
   },
   {
    "duration": 591,
    "start_time": "2023-11-10T18:25:12.668Z"
   },
   {
    "duration": 480,
    "start_time": "2023-11-10T18:25:46.811Z"
   },
   {
    "duration": 469,
    "start_time": "2023-11-10T18:26:58.748Z"
   },
   {
    "duration": 495,
    "start_time": "2023-11-10T18:28:53.060Z"
   },
   {
    "duration": 627,
    "start_time": "2023-11-10T18:29:02.604Z"
   },
   {
    "duration": 518,
    "start_time": "2023-11-10T18:30:30.100Z"
   },
   {
    "duration": 501,
    "start_time": "2023-11-10T18:30:37.500Z"
   },
   {
    "duration": 637,
    "start_time": "2023-11-10T18:30:48.035Z"
   },
   {
    "duration": 488,
    "start_time": "2023-11-10T18:31:27.980Z"
   },
   {
    "duration": 534,
    "start_time": "2023-11-10T18:32:10.956Z"
   },
   {
    "duration": 610,
    "start_time": "2023-11-10T18:32:21.412Z"
   },
   {
    "duration": 502,
    "start_time": "2023-11-10T18:32:52.915Z"
   },
   {
    "duration": 587,
    "start_time": "2023-11-10T18:33:03.592Z"
   },
   {
    "duration": 592,
    "start_time": "2023-11-10T18:38:24.230Z"
   },
   {
    "duration": 515,
    "start_time": "2023-11-10T18:39:11.828Z"
   },
   {
    "duration": 505,
    "start_time": "2023-11-10T18:39:30.148Z"
   },
   {
    "duration": 622,
    "start_time": "2023-11-10T18:40:05.315Z"
   },
   {
    "duration": 157,
    "start_time": "2023-11-10T18:41:13.820Z"
   },
   {
    "duration": 134,
    "start_time": "2023-11-10T18:47:03.589Z"
   },
   {
    "duration": 134,
    "start_time": "2023-11-10T18:54:31.885Z"
   },
   {
    "duration": 144,
    "start_time": "2023-11-10T18:55:33.158Z"
   },
   {
    "duration": 140,
    "start_time": "2023-11-10T18:57:25.571Z"
   },
   {
    "duration": 141,
    "start_time": "2023-11-10T19:01:23.852Z"
   },
   {
    "duration": 146,
    "start_time": "2023-11-10T19:03:05.051Z"
   },
   {
    "duration": 1398,
    "start_time": "2023-11-10T19:49:01.854Z"
   },
   {
    "duration": 193,
    "start_time": "2023-11-10T19:49:03.255Z"
   },
   {
    "duration": 16,
    "start_time": "2023-11-10T19:49:03.450Z"
   },
   {
    "duration": 13,
    "start_time": "2023-11-10T19:49:03.468Z"
   },
   {
    "duration": 174,
    "start_time": "2023-11-10T19:49:03.483Z"
   },
   {
    "duration": 13,
    "start_time": "2023-11-10T19:49:03.659Z"
   },
   {
    "duration": 14,
    "start_time": "2023-11-10T19:49:03.674Z"
   },
   {
    "duration": 350,
    "start_time": "2023-11-10T19:49:03.690Z"
   },
   {
    "duration": 17,
    "start_time": "2023-11-10T19:49:04.046Z"
   },
   {
    "duration": 11,
    "start_time": "2023-11-10T19:49:04.067Z"
   },
   {
    "duration": 15,
    "start_time": "2023-11-10T19:49:04.080Z"
   },
   {
    "duration": 27,
    "start_time": "2023-11-10T19:49:04.097Z"
   },
   {
    "duration": 12,
    "start_time": "2023-11-10T19:49:04.126Z"
   },
   {
    "duration": 86,
    "start_time": "2023-11-10T19:49:04.140Z"
   },
   {
    "duration": 11,
    "start_time": "2023-11-10T19:49:04.228Z"
   },
   {
    "duration": 15,
    "start_time": "2023-11-10T19:49:04.241Z"
   },
   {
    "duration": 5,
    "start_time": "2023-11-10T19:49:04.258Z"
   },
   {
    "duration": 6,
    "start_time": "2023-11-10T19:49:04.266Z"
   },
   {
    "duration": 10,
    "start_time": "2023-11-10T19:49:04.274Z"
   },
   {
    "duration": 36,
    "start_time": "2023-11-10T19:49:04.287Z"
   },
   {
    "duration": 199,
    "start_time": "2023-11-10T19:49:04.325Z"
   },
   {
    "duration": 6,
    "start_time": "2023-11-10T19:49:04.525Z"
   },
   {
    "duration": 7,
    "start_time": "2023-11-10T19:49:04.533Z"
   },
   {
    "duration": 134,
    "start_time": "2023-11-10T19:49:04.542Z"
   },
   {
    "duration": 113,
    "start_time": "2023-11-10T19:49:04.678Z"
   },
   {
    "duration": 324,
    "start_time": "2023-11-10T19:49:04.793Z"
   },
   {
    "duration": 9,
    "start_time": "2023-11-10T19:49:05.121Z"
   },
   {
    "duration": 376,
    "start_time": "2023-11-10T19:49:05.134Z"
   },
   {
    "duration": 15,
    "start_time": "2023-11-10T19:49:05.511Z"
   },
   {
    "duration": 144,
    "start_time": "2023-11-10T19:49:05.528Z"
   },
   {
    "duration": 11,
    "start_time": "2023-11-10T19:49:05.674Z"
   },
   {
    "duration": 9,
    "start_time": "2023-11-10T19:49:05.686Z"
   },
   {
    "duration": 330,
    "start_time": "2023-11-10T19:49:05.697Z"
   },
   {
    "duration": 293,
    "start_time": "2023-11-10T19:49:06.029Z"
   },
   {
    "duration": 6,
    "start_time": "2023-11-10T19:49:06.323Z"
   },
   {
    "duration": 27,
    "start_time": "2023-11-10T19:49:06.331Z"
   },
   {
    "duration": 128,
    "start_time": "2023-11-10T19:49:06.361Z"
   },
   {
    "duration": 10,
    "start_time": "2023-11-10T19:49:06.490Z"
   },
   {
    "duration": 22,
    "start_time": "2023-11-10T19:49:06.501Z"
   },
   {
    "duration": 18,
    "start_time": "2023-11-10T19:49:06.525Z"
   },
   {
    "duration": 3,
    "start_time": "2023-11-10T19:49:06.545Z"
   },
   {
    "duration": 10,
    "start_time": "2023-11-10T19:49:06.550Z"
   },
   {
    "duration": 24,
    "start_time": "2023-11-10T19:49:06.562Z"
   },
   {
    "duration": 45,
    "start_time": "2023-11-10T19:49:06.587Z"
   },
   {
    "duration": 22,
    "start_time": "2023-11-10T19:49:06.634Z"
   },
   {
    "duration": 19,
    "start_time": "2023-11-10T19:49:06.658Z"
   },
   {
    "duration": 613,
    "start_time": "2023-11-10T19:49:06.678Z"
   },
   {
    "duration": 661,
    "start_time": "2023-11-10T19:49:07.293Z"
   },
   {
    "duration": 8,
    "start_time": "2023-11-10T19:49:07.957Z"
   },
   {
    "duration": 7,
    "start_time": "2023-11-10T19:49:07.967Z"
   },
   {
    "duration": 7,
    "start_time": "2023-11-10T19:49:07.976Z"
   },
   {
    "duration": 8,
    "start_time": "2023-11-10T19:49:07.984Z"
   },
   {
    "duration": 35,
    "start_time": "2023-11-10T19:49:08.022Z"
   },
   {
    "duration": 19,
    "start_time": "2023-11-10T19:49:08.059Z"
   },
   {
    "duration": 12,
    "start_time": "2023-11-10T19:49:08.079Z"
   },
   {
    "duration": 34,
    "start_time": "2023-11-10T19:49:08.093Z"
   },
   {
    "duration": 14,
    "start_time": "2023-11-10T19:49:08.129Z"
   },
   {
    "duration": 24,
    "start_time": "2023-11-10T19:49:08.144Z"
   },
   {
    "duration": 337,
    "start_time": "2023-11-10T19:49:08.170Z"
   },
   {
    "duration": 15,
    "start_time": "2023-11-10T19:49:08.509Z"
   },
   {
    "duration": 7,
    "start_time": "2023-11-10T19:49:08.525Z"
   },
   {
    "duration": 333,
    "start_time": "2023-11-10T19:49:08.534Z"
   },
   {
    "duration": 21,
    "start_time": "2023-11-10T19:49:08.869Z"
   },
   {
    "duration": 371,
    "start_time": "2023-11-10T19:49:08.900Z"
   },
   {
    "duration": 11,
    "start_time": "2023-11-10T19:49:09.273Z"
   },
   {
    "duration": 19,
    "start_time": "2023-11-10T19:49:09.286Z"
   },
   {
    "duration": 168,
    "start_time": "2023-11-10T19:49:09.306Z"
   },
   {
    "duration": 275,
    "start_time": "2023-11-10T19:49:09.476Z"
   },
   {
    "duration": 4,
    "start_time": "2023-11-10T19:49:09.752Z"
   },
   {
    "duration": 171,
    "start_time": "2023-11-10T19:52:26.858Z"
   },
   {
    "duration": 151,
    "start_time": "2023-11-10T19:52:54.361Z"
   },
   {
    "duration": 144,
    "start_time": "2023-11-10T19:53:42.498Z"
   },
   {
    "duration": 146,
    "start_time": "2023-11-10T19:54:11.976Z"
   },
   {
    "duration": 152,
    "start_time": "2023-11-10T19:56:52.742Z"
   },
   {
    "duration": 97,
    "start_time": "2023-11-10T20:03:51.774Z"
   },
   {
    "duration": 2,
    "start_time": "2023-11-10T20:04:10.775Z"
   },
   {
    "duration": 4,
    "start_time": "2023-11-10T20:04:29.351Z"
   },
   {
    "duration": 66,
    "start_time": "2023-11-10T20:04:29.357Z"
   },
   {
    "duration": 8,
    "start_time": "2023-11-10T20:04:29.425Z"
   },
   {
    "duration": 12,
    "start_time": "2023-11-10T20:04:29.434Z"
   },
   {
    "duration": 157,
    "start_time": "2023-11-10T20:04:29.448Z"
   },
   {
    "duration": 9,
    "start_time": "2023-11-10T20:04:29.622Z"
   },
   {
    "duration": 16,
    "start_time": "2023-11-10T20:04:29.632Z"
   },
   {
    "duration": 251,
    "start_time": "2023-11-10T20:04:29.650Z"
   },
   {
    "duration": 8,
    "start_time": "2023-11-10T20:04:29.903Z"
   },
   {
    "duration": 10,
    "start_time": "2023-11-10T20:04:29.922Z"
   },
   {
    "duration": 13,
    "start_time": "2023-11-10T20:04:29.936Z"
   },
   {
    "duration": 8,
    "start_time": "2023-11-10T20:04:29.951Z"
   },
   {
    "duration": 11,
    "start_time": "2023-11-10T20:04:29.961Z"
   },
   {
    "duration": 13,
    "start_time": "2023-11-10T20:04:29.973Z"
   },
   {
    "duration": 11,
    "start_time": "2023-11-10T20:04:30.023Z"
   },
   {
    "duration": 34,
    "start_time": "2023-11-10T20:04:30.035Z"
   },
   {
    "duration": 25,
    "start_time": "2023-11-10T20:04:30.071Z"
   },
   {
    "duration": 15,
    "start_time": "2023-11-10T20:04:30.098Z"
   },
   {
    "duration": 8,
    "start_time": "2023-11-10T20:04:30.114Z"
   },
   {
    "duration": 6,
    "start_time": "2023-11-10T20:04:30.124Z"
   },
   {
    "duration": 139,
    "start_time": "2023-11-10T20:04:30.131Z"
   },
   {
    "duration": 5,
    "start_time": "2023-11-10T20:04:30.272Z"
   },
   {
    "duration": 30,
    "start_time": "2023-11-10T20:04:30.279Z"
   },
   {
    "duration": 118,
    "start_time": "2023-11-10T20:04:30.310Z"
   },
   {
    "duration": 157,
    "start_time": "2023-11-10T20:04:30.430Z"
   },
   {
    "duration": 255,
    "start_time": "2023-11-10T20:04:30.589Z"
   },
   {
    "duration": 7,
    "start_time": "2023-11-10T20:04:30.846Z"
   },
   {
    "duration": 288,
    "start_time": "2023-11-10T20:04:30.855Z"
   },
   {
    "duration": 8,
    "start_time": "2023-11-10T20:04:31.147Z"
   },
   {
    "duration": 141,
    "start_time": "2023-11-10T20:04:31.156Z"
   },
   {
    "duration": 9,
    "start_time": "2023-11-10T20:04:31.299Z"
   },
   {
    "duration": 19,
    "start_time": "2023-11-10T20:04:31.309Z"
   },
   {
    "duration": 282,
    "start_time": "2023-11-10T20:04:31.329Z"
   },
   {
    "duration": 244,
    "start_time": "2023-11-10T20:04:31.612Z"
   },
   {
    "duration": 6,
    "start_time": "2023-11-10T20:04:31.857Z"
   },
   {
    "duration": 16,
    "start_time": "2023-11-10T20:04:31.864Z"
   },
   {
    "duration": 138,
    "start_time": "2023-11-10T20:04:31.881Z"
   },
   {
    "duration": 9,
    "start_time": "2023-11-10T20:04:32.020Z"
   },
   {
    "duration": 9,
    "start_time": "2023-11-10T20:04:32.030Z"
   },
   {
    "duration": 16,
    "start_time": "2023-11-10T20:04:32.041Z"
   },
   {
    "duration": 7,
    "start_time": "2023-11-10T20:04:32.059Z"
   },
   {
    "duration": 15,
    "start_time": "2023-11-10T20:04:32.067Z"
   },
   {
    "duration": 39,
    "start_time": "2023-11-10T20:04:32.084Z"
   },
   {
    "duration": 11,
    "start_time": "2023-11-10T20:04:32.125Z"
   },
   {
    "duration": 24,
    "start_time": "2023-11-10T20:04:32.137Z"
   },
   {
    "duration": 12,
    "start_time": "2023-11-10T20:04:32.163Z"
   },
   {
    "duration": 621,
    "start_time": "2023-11-10T20:04:32.177Z"
   },
   {
    "duration": 552,
    "start_time": "2023-11-10T20:04:32.800Z"
   },
   {
    "duration": 8,
    "start_time": "2023-11-10T20:04:33.353Z"
   },
   {
    "duration": 7,
    "start_time": "2023-11-10T20:04:33.362Z"
   },
   {
    "duration": 10,
    "start_time": "2023-11-10T20:04:33.370Z"
   },
   {
    "duration": 7,
    "start_time": "2023-11-10T20:04:33.381Z"
   },
   {
    "duration": 51,
    "start_time": "2023-11-10T20:04:33.389Z"
   },
   {
    "duration": 16,
    "start_time": "2023-11-10T20:04:33.441Z"
   },
   {
    "duration": 12,
    "start_time": "2023-11-10T20:04:33.459Z"
   },
   {
    "duration": 11,
    "start_time": "2023-11-10T20:04:33.472Z"
   },
   {
    "duration": 10,
    "start_time": "2023-11-10T20:04:33.484Z"
   },
   {
    "duration": 13,
    "start_time": "2023-11-10T20:04:33.522Z"
   },
   {
    "duration": 274,
    "start_time": "2023-11-10T20:04:33.536Z"
   },
   {
    "duration": 11,
    "start_time": "2023-11-10T20:04:33.811Z"
   },
   {
    "duration": 4,
    "start_time": "2023-11-10T20:04:33.824Z"
   },
   {
    "duration": 340,
    "start_time": "2023-11-10T20:04:33.829Z"
   },
   {
    "duration": 7,
    "start_time": "2023-11-10T20:04:34.171Z"
   },
   {
    "duration": 282,
    "start_time": "2023-11-10T20:04:34.179Z"
   },
   {
    "duration": 8,
    "start_time": "2023-11-10T20:04:34.463Z"
   },
   {
    "duration": 5,
    "start_time": "2023-11-10T20:04:34.473Z"
   },
   {
    "duration": 242,
    "start_time": "2023-11-10T20:04:34.480Z"
   },
   {
    "duration": 187,
    "start_time": "2023-11-10T20:04:34.723Z"
   },
   {
    "duration": 4,
    "start_time": "2023-11-10T20:04:34.921Z"
   },
   {
    "duration": 756,
    "start_time": "2023-11-10T20:06:10.798Z"
   },
   {
    "duration": 672,
    "start_time": "2023-11-10T20:06:28.742Z"
   },
   {
    "duration": 924,
    "start_time": "2023-11-10T20:07:12.056Z"
   },
   {
    "duration": 1280,
    "start_time": "2023-11-10T20:07:28.783Z"
   },
   {
    "duration": 225,
    "start_time": "2023-11-10T20:11:14.375Z"
   },
   {
    "duration": 220,
    "start_time": "2023-11-10T20:15:03.406Z"
   },
   {
    "duration": 336,
    "start_time": "2023-11-10T20:15:23.807Z"
   },
   {
    "duration": 1538,
    "start_time": "2023-11-10T20:18:13.743Z"
   },
   {
    "duration": 1823,
    "start_time": "2023-11-10T20:21:53.566Z"
   },
   {
    "duration": 1251,
    "start_time": "2023-11-10T20:23:54.905Z"
   },
   {
    "duration": 1330,
    "start_time": "2023-11-10T20:27:16.552Z"
   },
   {
    "duration": 1300,
    "start_time": "2023-11-10T20:28:37.325Z"
   },
   {
    "duration": 1331,
    "start_time": "2023-11-10T20:38:05.399Z"
   },
   {
    "duration": 1034,
    "start_time": "2023-11-10T20:38:27.153Z"
   },
   {
    "duration": 66,
    "start_time": "2023-11-10T20:38:28.189Z"
   },
   {
    "duration": 13,
    "start_time": "2023-11-10T20:38:28.257Z"
   },
   {
    "duration": 10,
    "start_time": "2023-11-10T20:38:28.272Z"
   },
   {
    "duration": 148,
    "start_time": "2023-11-10T20:38:28.284Z"
   },
   {
    "duration": 8,
    "start_time": "2023-11-10T20:38:28.434Z"
   },
   {
    "duration": 31,
    "start_time": "2023-11-10T20:38:28.443Z"
   },
   {
    "duration": 221,
    "start_time": "2023-11-10T20:38:28.475Z"
   },
   {
    "duration": 6,
    "start_time": "2023-11-10T20:38:28.698Z"
   },
   {
    "duration": 23,
    "start_time": "2023-11-10T20:38:28.706Z"
   },
   {
    "duration": 17,
    "start_time": "2023-11-10T20:38:28.731Z"
   },
   {
    "duration": 10,
    "start_time": "2023-11-10T20:38:28.749Z"
   },
   {
    "duration": 13,
    "start_time": "2023-11-10T20:38:28.760Z"
   },
   {
    "duration": 84,
    "start_time": "2023-11-10T20:38:28.774Z"
   },
   {
    "duration": 10,
    "start_time": "2023-11-10T20:38:28.859Z"
   },
   {
    "duration": 4,
    "start_time": "2023-11-10T20:38:28.871Z"
   },
   {
    "duration": 5,
    "start_time": "2023-11-10T20:38:28.877Z"
   },
   {
    "duration": 9,
    "start_time": "2023-11-10T20:38:28.883Z"
   },
   {
    "duration": 8,
    "start_time": "2023-11-10T20:38:28.921Z"
   },
   {
    "duration": 4,
    "start_time": "2023-11-10T20:38:28.930Z"
   },
   {
    "duration": 153,
    "start_time": "2023-11-10T20:38:28.935Z"
   },
   {
    "duration": 6,
    "start_time": "2023-11-10T20:38:29.089Z"
   },
   {
    "duration": 8,
    "start_time": "2023-11-10T20:38:29.096Z"
   },
   {
    "duration": 118,
    "start_time": "2023-11-10T20:38:29.122Z"
   },
   {
    "duration": 83,
    "start_time": "2023-11-10T20:38:29.242Z"
   },
   {
    "duration": 265,
    "start_time": "2023-11-10T20:38:29.327Z"
   },
   {
    "duration": 10,
    "start_time": "2023-11-10T20:38:29.594Z"
   },
   {
    "duration": 359,
    "start_time": "2023-11-10T20:38:29.621Z"
   },
   {
    "duration": 9,
    "start_time": "2023-11-10T20:38:29.981Z"
   },
   {
    "duration": 151,
    "start_time": "2023-11-10T20:38:29.991Z"
   },
   {
    "duration": 10,
    "start_time": "2023-11-10T20:38:30.143Z"
   },
   {
    "duration": 18,
    "start_time": "2023-11-10T20:38:30.154Z"
   },
   {
    "duration": 285,
    "start_time": "2023-11-10T20:38:30.173Z"
   },
   {
    "duration": 283,
    "start_time": "2023-11-10T20:38:30.459Z"
   },
   {
    "duration": 7,
    "start_time": "2023-11-10T20:38:30.744Z"
   },
   {
    "duration": 33,
    "start_time": "2023-11-10T20:38:30.752Z"
   },
   {
    "duration": 155,
    "start_time": "2023-11-10T20:38:30.786Z"
   },
   {
    "duration": 12,
    "start_time": "2023-11-10T20:38:30.943Z"
   },
   {
    "duration": 54,
    "start_time": "2023-11-10T20:38:30.957Z"
   },
   {
    "duration": 41,
    "start_time": "2023-11-10T20:38:31.013Z"
   },
   {
    "duration": 12,
    "start_time": "2023-11-10T20:38:31.056Z"
   },
   {
    "duration": 35,
    "start_time": "2023-11-10T20:38:31.069Z"
   },
   {
    "duration": 39,
    "start_time": "2023-11-10T20:38:31.106Z"
   },
   {
    "duration": 33,
    "start_time": "2023-11-10T20:38:31.147Z"
   },
   {
    "duration": 46,
    "start_time": "2023-11-10T20:38:31.182Z"
   },
   {
    "duration": 28,
    "start_time": "2023-11-10T20:38:31.229Z"
   },
   {
    "duration": 604,
    "start_time": "2023-11-10T20:38:31.259Z"
   },
   {
    "duration": 671,
    "start_time": "2023-11-10T20:38:31.864Z"
   },
   {
    "duration": 8,
    "start_time": "2023-11-10T20:38:32.536Z"
   },
   {
    "duration": 16,
    "start_time": "2023-11-10T20:38:32.545Z"
   },
   {
    "duration": 8,
    "start_time": "2023-11-10T20:38:32.562Z"
   },
   {
    "duration": 7,
    "start_time": "2023-11-10T20:38:32.571Z"
   },
   {
    "duration": 55,
    "start_time": "2023-11-10T20:38:32.579Z"
   },
   {
    "duration": 16,
    "start_time": "2023-11-10T20:38:32.636Z"
   },
   {
    "duration": 12,
    "start_time": "2023-11-10T20:38:32.653Z"
   },
   {
    "duration": 10,
    "start_time": "2023-11-10T20:38:32.666Z"
   },
   {
    "duration": 10,
    "start_time": "2023-11-10T20:38:32.678Z"
   },
   {
    "duration": 18,
    "start_time": "2023-11-10T20:38:32.721Z"
   },
   {
    "duration": 299,
    "start_time": "2023-11-10T20:38:32.741Z"
   },
   {
    "duration": 5,
    "start_time": "2023-11-10T20:38:33.042Z"
   },
   {
    "duration": 5,
    "start_time": "2023-11-10T20:38:33.048Z"
   },
   {
    "duration": 288,
    "start_time": "2023-11-10T20:38:33.055Z"
   },
   {
    "duration": 12,
    "start_time": "2023-11-10T20:38:33.344Z"
   },
   {
    "duration": 338,
    "start_time": "2023-11-10T20:38:33.357Z"
   },
   {
    "duration": 7,
    "start_time": "2023-11-10T20:38:33.697Z"
   },
   {
    "duration": 17,
    "start_time": "2023-11-10T20:38:33.706Z"
   },
   {
    "duration": 1268,
    "start_time": "2023-11-10T20:38:33.725Z"
   },
   {
    "duration": 197,
    "start_time": "2023-11-10T20:38:34.995Z"
   },
   {
    "duration": 5,
    "start_time": "2023-11-10T20:38:35.193Z"
   },
   {
    "duration": 1266,
    "start_time": "2023-11-10T20:39:09.804Z"
   }
  ],
  "kernelspec": {
   "display_name": "Python 3 (ipykernel)",
   "language": "python",
   "name": "python3"
  },
  "language_info": {
   "codemirror_mode": {
    "name": "ipython",
    "version": 3
   },
   "file_extension": ".py",
   "mimetype": "text/x-python",
   "name": "python",
   "nbconvert_exporter": "python",
   "pygments_lexer": "ipython3",
   "version": "3.9.18"
  },
  "toc": {
   "base_numbering": 1,
   "nav_menu": {},
   "number_sections": true,
   "sideBar": true,
   "skip_h1_title": true,
   "title_cell": "Table of Contents",
   "title_sidebar": "Contents",
   "toc_cell": false,
   "toc_position": {
    "height": "calc(100% - 180px)",
    "left": "10px",
    "top": "150px",
    "width": "371px"
   },
   "toc_section_display": true,
   "toc_window_display": true
  }
 },
 "nbformat": 4,
 "nbformat_minor": 5
}
