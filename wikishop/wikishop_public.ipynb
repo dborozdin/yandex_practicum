{
 "cells": [
  {
   "cell_type": "markdown",
   "id": "1ff40563-459d-49cb-bb93-3314689cf66f",
   "metadata": {},
   "source": [
    "# Проект для \"Викишоп\""
   ]
  },
  {
   "cell_type": "markdown",
   "id": "e8e79311-a0ff-4441-8a72-4efb341f376b",
   "metadata": {},
   "source": [
    "Интернет-магазин «Викишоп» запускает новый сервис. Теперь пользователи могут редактировать и дополнять описания товаров, как в вики-сообществах. То есть клиенты предлагают свои правки и комментируют изменения других. Магазину нужен инструмент, который будет искать токсичные комментарии и отправлять их на модерацию. "
   ]
  },
  {
   "cell_type": "markdown",
   "id": "b9bd8816-e05e-4660-a2a2-8d5960aaaf8a",
   "metadata": {},
   "source": [
    "Цель: обучить модель классифицировать комментарии на позитивные и негативные на основе набора данных с разметкой о токсичности правок"
   ]
  },
  {
   "cell_type": "markdown",
   "id": "2ab8b89d-3bf5-4dfb-b733-6902c077c223",
   "metadata": {},
   "source": [
    "## Подключение необходимых библиотек"
   ]
  },
  {
   "cell_type": "code",
   "execution_count": 2,
   "id": "7d41a8ab-39e1-4047-be05-72e8c948f19e",
   "metadata": {},
   "outputs": [
    {
     "name": "stdout",
     "output_type": "stream",
     "text": [
      "Начало выполнения кода данного ноутбука :  23:40:55\n",
      "\u001b[38;5;2m[+] Download and installation successful\u001b[0m\n",
      "You can now load the package via spacy.load('en_core_web_sm')\n"
     ]
    }
   ],
   "source": [
    "import time\n",
    "print (\"Начало выполнения кода данного ноутбука : \", time.strftime('%X'))\n",
    "\n",
    "!pip install scikit-learn==1.4 -q\n",
    "!pip install pandas==1.5.0 -q\n",
    "!pip install nltk -q\n",
    "!pip install spacy -q\n",
    "!python -m spacy download en_core_web_sm -q\n",
    "!pip install tqdm -q\n",
    "!pip install catboost -q\n",
    "!pip install lightgbm -q\n",
    "\n",
    "import pandas as pd\n",
    "import os\n",
    "import platform\n",
    "import matplotlib.pyplot as plt\n",
    "from sklearn.model_selection import train_test_split\n",
    "import numpy as np\n",
    "\n",
    "# загружаем pipeline, нужные модели и метрики\n",
    "import nltk\n",
    "from sklearn.feature_extraction.text import TfidfVectorizer \n",
    "from sklearn.metrics import f1_score\n",
    "import spacy\n",
    "import re\n",
    "from tqdm import tqdm\n",
    "\n",
    "# загружаем классы для подготовки данных, нужные модели и метрики\n",
    "from numpy.random import RandomState\n",
    "from sklearn.pipeline import Pipeline\n",
    "from sklearn.model_selection import GridSearchCV\n",
    "from catboost import CatBoostClassifier\n",
    "from sklearn.linear_model import LogisticRegression\n",
    "from lightgbm import LGBMClassifier\n",
    "\n",
    "import warnings\n",
    "def warn(*args, **kwargs):\n",
    "    pass\n",
    "warnings.warn = warn\n",
    "\n",
    "RANDOM_STATE = 77"
   ]
  },
  {
   "cell_type": "markdown",
   "id": "af1a8e30-fb15-4a52-816d-309b75b104a1",
   "metadata": {},
   "source": [
    "## Загрузка данных из файла csv"
   ]
  },
  {
   "cell_type": "code",
   "execution_count": 3,
   "id": "68c197d2-5210-4c4c-b36a-49fd1b66d774",
   "metadata": {},
   "outputs": [
    {
     "data": {
      "text/html": [
       "<div>\n",
       "<style scoped>\n",
       "    .dataframe tbody tr th:only-of-type {\n",
       "        vertical-align: middle;\n",
       "    }\n",
       "\n",
       "    .dataframe tbody tr th {\n",
       "        vertical-align: top;\n",
       "    }\n",
       "\n",
       "    .dataframe thead th {\n",
       "        text-align: right;\n",
       "    }\n",
       "</style>\n",
       "<table border=\"1\" class=\"dataframe\">\n",
       "  <thead>\n",
       "    <tr style=\"text-align: right;\">\n",
       "      <th></th>\n",
       "      <th>&lt;built-in function id&gt;</th>\n",
       "      <th>name</th>\n",
       "    </tr>\n",
       "  </thead>\n",
       "  <tbody>\n",
       "    <tr>\n",
       "      <th>0</th>\n",
       "      <td>1</td>\n",
       "      <td>name</td>\n",
       "    </tr>\n",
       "  </tbody>\n",
       "</table>\n",
       "</div>"
      ],
      "text/plain": [
       "  <built-in function id>  name\n",
       "0                      1  name"
      ]
     },
     "execution_count": 3,
     "metadata": {},
     "output_type": "execute_result"
    }
   ],
   "source": [
    "data= [{id: \"1\", \"name\": \"name\"}]\n",
    "df= pd.DataFrame(data)\n",
    "df.head()"
   ]
  },
  {
   "cell_type": "code",
   "execution_count": 2,
   "id": "a52a92cd-e8a3-4ec5-82f5-e65cab4a2775",
   "metadata": {},
   "outputs": [
    {
     "name": "stdout",
     "output_type": "stream",
     "text": [
      "<class 'pandas.core.frame.DataFrame'>\n",
      "Int64Index: 159292 entries, 0 to 159450\n",
      "Data columns (total 2 columns):\n",
      " #   Column  Non-Null Count   Dtype \n",
      "---  ------  --------------   ----- \n",
      " 0   text    159292 non-null  object\n",
      " 1   toxic   159292 non-null  int64 \n",
      "dtypes: int64(1), object(1)\n",
      "memory usage: 3.6+ MB\n"
     ]
    },
    {
     "data": {
      "text/html": [
       "<div>\n",
       "<style scoped>\n",
       "    .dataframe tbody tr th:only-of-type {\n",
       "        vertical-align: middle;\n",
       "    }\n",
       "\n",
       "    .dataframe tbody tr th {\n",
       "        vertical-align: top;\n",
       "    }\n",
       "\n",
       "    .dataframe thead th {\n",
       "        text-align: right;\n",
       "    }\n",
       "</style>\n",
       "<table border=\"1\" class=\"dataframe\">\n",
       "  <thead>\n",
       "    <tr style=\"text-align: right;\">\n",
       "      <th></th>\n",
       "      <th>text</th>\n",
       "      <th>toxic</th>\n",
       "    </tr>\n",
       "  </thead>\n",
       "  <tbody>\n",
       "    <tr>\n",
       "      <th>0</th>\n",
       "      <td>Explanation\\nWhy the edits made under my usern...</td>\n",
       "      <td>0</td>\n",
       "    </tr>\n",
       "    <tr>\n",
       "      <th>1</th>\n",
       "      <td>D'aww! He matches this background colour I'm s...</td>\n",
       "      <td>0</td>\n",
       "    </tr>\n",
       "    <tr>\n",
       "      <th>2</th>\n",
       "      <td>Hey man, I'm really not trying to edit war. It...</td>\n",
       "      <td>0</td>\n",
       "    </tr>\n",
       "    <tr>\n",
       "      <th>3</th>\n",
       "      <td>\"\\nMore\\nI can't make any real suggestions on ...</td>\n",
       "      <td>0</td>\n",
       "    </tr>\n",
       "    <tr>\n",
       "      <th>4</th>\n",
       "      <td>You, sir, are my hero. Any chance you remember...</td>\n",
       "      <td>0</td>\n",
       "    </tr>\n",
       "  </tbody>\n",
       "</table>\n",
       "</div>"
      ],
      "text/plain": [
       "                                                text  toxic\n",
       "0  Explanation\\nWhy the edits made under my usern...      0\n",
       "1  D'aww! He matches this background colour I'm s...      0\n",
       "2  Hey man, I'm really not trying to edit war. It...      0\n",
       "3  \"\\nMore\\nI can't make any real suggestions on ...      0\n",
       "4  You, sir, are my hero. Any chance you remember...      0"
      ]
     },
     "execution_count": 2,
     "metadata": {},
     "output_type": "execute_result"
    }
   ],
   "source": [
    "datasets_path='/datasets/'\n",
    "if platform.system()=='Windows':\n",
    "    cwd = os.getcwd()\n",
    "    datasets_path= os.getcwd()+'\\\\datasets\\\\'\n",
    "data= pd.read_csv(datasets_path+'toxic_comments.csv', sep=',', index_col=[0])\n",
    "data.info()\n",
    "data.head()"
   ]
  },
  {
   "cell_type": "markdown",
   "id": "48a047db-3f18-48c4-88ce-836789117b00",
   "metadata": {},
   "source": [
    "## Подготовка данных"
   ]
  },
  {
   "cell_type": "code",
   "execution_count": 3,
   "id": "4f476b06-0df3-4c7d-b7a5-37d2e88a19a9",
   "metadata": {},
   "outputs": [
    {
     "name": "stdout",
     "output_type": "stream",
     "text": [
      "<class 'pandas.core.frame.DataFrame'>\n",
      "Int64Index: 159292 entries, 0 to 159450\n",
      "Data columns (total 2 columns):\n",
      " #   Column  Non-Null Count   Dtype \n",
      "---  ------  --------------   ----- \n",
      " 0   text    159292 non-null  object\n",
      " 1   toxic   159292 non-null  int64 \n",
      "dtypes: int64(1), object(1)\n",
      "memory usage: 3.6+ MB\n"
     ]
    }
   ],
   "source": [
    "data= data.drop_duplicates()\n",
    "data.info()"
   ]
  },
  {
   "cell_type": "markdown",
   "id": "7061591a-117c-441c-ad89-3e5f9fe7a491",
   "metadata": {},
   "source": [
    "### Очистка от спец.символов"
   ]
  },
  {
   "cell_type": "code",
   "execution_count": 4,
   "id": "63325b9e-cb73-4976-8a62-75958d6f8767",
   "metadata": {
    "scrolled": true
   },
   "outputs": [
    {
     "data": {
      "text/html": [
       "<div>\n",
       "<style scoped>\n",
       "    .dataframe tbody tr th:only-of-type {\n",
       "        vertical-align: middle;\n",
       "    }\n",
       "\n",
       "    .dataframe tbody tr th {\n",
       "        vertical-align: top;\n",
       "    }\n",
       "\n",
       "    .dataframe thead th {\n",
       "        text-align: right;\n",
       "    }\n",
       "</style>\n",
       "<table border=\"1\" class=\"dataframe\">\n",
       "  <thead>\n",
       "    <tr style=\"text-align: right;\">\n",
       "      <th></th>\n",
       "      <th>text</th>\n",
       "      <th>toxic</th>\n",
       "      <th>lemm_text</th>\n",
       "    </tr>\n",
       "  </thead>\n",
       "  <tbody>\n",
       "    <tr>\n",
       "      <th>0</th>\n",
       "      <td>Explanation\\nWhy the edits made under my usern...</td>\n",
       "      <td>0</td>\n",
       "      <td>explanation why the edits made under my userna...</td>\n",
       "    </tr>\n",
       "    <tr>\n",
       "      <th>1</th>\n",
       "      <td>D'aww! He matches this background colour I'm s...</td>\n",
       "      <td>0</td>\n",
       "      <td>d'aww! he matches this background colour i'm s...</td>\n",
       "    </tr>\n",
       "    <tr>\n",
       "      <th>2</th>\n",
       "      <td>Hey man, I'm really not trying to edit war. It...</td>\n",
       "      <td>0</td>\n",
       "      <td>hey man, i'm really not trying to edit war. it...</td>\n",
       "    </tr>\n",
       "    <tr>\n",
       "      <th>3</th>\n",
       "      <td>\"\\nMore\\nI can't make any real suggestions on ...</td>\n",
       "      <td>0</td>\n",
       "      <td>\" more i can't make any real suggestions on im...</td>\n",
       "    </tr>\n",
       "    <tr>\n",
       "      <th>4</th>\n",
       "      <td>You, sir, are my hero. Any chance you remember...</td>\n",
       "      <td>0</td>\n",
       "      <td>you, sir, are my hero. any chance you remember...</td>\n",
       "    </tr>\n",
       "  </tbody>\n",
       "</table>\n",
       "</div>"
      ],
      "text/plain": [
       "                                                text  toxic  \\\n",
       "0  Explanation\\nWhy the edits made under my usern...      0   \n",
       "1  D'aww! He matches this background colour I'm s...      0   \n",
       "2  Hey man, I'm really not trying to edit war. It...      0   \n",
       "3  \"\\nMore\\nI can't make any real suggestions on ...      0   \n",
       "4  You, sir, are my hero. Any chance you remember...      0   \n",
       "\n",
       "                                           lemm_text  \n",
       "0  explanation why the edits made under my userna...  \n",
       "1  d'aww! he matches this background colour i'm s...  \n",
       "2  hey man, i'm really not trying to edit war. it...  \n",
       "3  \" more i can't make any real suggestions on im...  \n",
       "4  you, sir, are my hero. any chance you remember...  "
      ]
     },
     "execution_count": 4,
     "metadata": {},
     "output_type": "execute_result"
    }
   ],
   "source": [
    "def clear_text(text):\n",
    "    no_clear_text = re.sub(r'[^a-zA-z]\\'', ' ', text)\n",
    "    clear_text = \" \".join(no_clear_text.split()).lower() \n",
    "    return clear_text\n",
    "data['lemm_text']=data['text'].apply(clear_text) \n",
    "data.head()"
   ]
  },
  {
   "cell_type": "markdown",
   "id": "cf34db6d-d015-4e5b-85cb-1711b8aee059",
   "metadata": {},
   "source": [
    "### Анализ сбалансированности классов целевого признака"
   ]
  },
  {
   "cell_type": "code",
   "execution_count": 5,
   "id": "1bf51b0e-982d-401a-a208-b94829a7d233",
   "metadata": {},
   "outputs": [
    {
     "data": {
      "image/png": "[encoded data removed]",
      "text/plain": [
       "<Figure size 500x500 with 1 Axes>"
      ]
     },
     "metadata": {},
     "output_type": "display_data"
    }
   ],
   "source": [
    "def plot_balance(df):\n",
    "    fig = plt.figure(figsize=(5, 5))     \n",
    "    ax= df['toxic'].value_counts().plot(\n",
    "    kind='pie',\n",
    "    autopct='%1.1f%%', \n",
    "    shadow=True,\n",
    "    ylabel='Доля, %',\n",
    "    title='Баланс токсичных (1) и нетоксичных (0) комментариев')\n",
    "    plt.show()\n",
    "plot_balance(data)"
   ]
  },
  {
   "cell_type": "markdown",
   "id": "2d2f6754-dba8-48cb-86cc-e256e4f2f25e",
   "metadata": {},
   "source": [
    "Вывод: классы не сбалансированы, при этом доля нетоксичных комментариев составляет почти 90%. Несбаланиросанность классов модели будем учитывать в модели."
   ]
  },
  {
   "cell_type": "markdown",
   "id": "c688480d-46b3-4ea6-9609-ff45027eef62",
   "metadata": {},
   "source": [
    "### Лемматизация  "
   ]
  },
  {
   "cell_type": "markdown",
   "id": "6c218f1c-6bd1-44ee-8a6d-0098db0e72f3",
   "metadata": {},
   "source": [
    "Используем библиотеки NLTK и spacy, тк исходный язык текста - английский "
   ]
  },
  {
   "cell_type": "code",
   "execution_count": 6,
   "id": "fae3e478-af9b-421c-bb59-a595a69af98b",
   "metadata": {},
   "outputs": [
    {
     "name": "stderr",
     "output_type": "stream",
     "text": [
      "100%|█████████████████████████████████████████████████████████████████████████| 159292/159292 [11:52<00:00, 223.72it/s]\n"
     ]
    },
    {
     "name": "stdout",
     "output_type": "stream",
     "text": [
      "<class 'pandas.core.frame.DataFrame'>\n",
      "Int64Index: 159292 entries, 0 to 159450\n",
      "Data columns (total 3 columns):\n",
      " #   Column     Non-Null Count   Dtype \n",
      "---  ------     --------------   ----- \n",
      " 0   text       159292 non-null  object\n",
      " 1   toxic      159292 non-null  int64 \n",
      " 2   lemm_text  159292 non-null  object\n",
      "dtypes: int64(1), object(2)\n",
      "memory usage: 4.9+ MB\n"
     ]
    },
    {
     "data": {
      "text/html": [
       "<div>\n",
       "<style scoped>\n",
       "    .dataframe tbody tr th:only-of-type {\n",
       "        vertical-align: middle;\n",
       "    }\n",
       "\n",
       "    .dataframe tbody tr th {\n",
       "        vertical-align: top;\n",
       "    }\n",
       "\n",
       "    .dataframe thead th {\n",
       "        text-align: right;\n",
       "    }\n",
       "</style>\n",
       "<table border=\"1\" class=\"dataframe\">\n",
       "  <thead>\n",
       "    <tr style=\"text-align: right;\">\n",
       "      <th></th>\n",
       "      <th>text</th>\n",
       "      <th>toxic</th>\n",
       "      <th>lemm_text</th>\n",
       "    </tr>\n",
       "  </thead>\n",
       "  <tbody>\n",
       "    <tr>\n",
       "      <th>0</th>\n",
       "      <td>Explanation\\nWhy the edits made under my usern...</td>\n",
       "      <td>0</td>\n",
       "      <td>explanation why the edit make under my usernam...</td>\n",
       "    </tr>\n",
       "    <tr>\n",
       "      <th>1</th>\n",
       "      <td>D'aww! He matches this background colour I'm s...</td>\n",
       "      <td>0</td>\n",
       "      <td>d'aww ! he match this background colour I be s...</td>\n",
       "    </tr>\n",
       "    <tr>\n",
       "      <th>2</th>\n",
       "      <td>Hey man, I'm really not trying to edit war. It...</td>\n",
       "      <td>0</td>\n",
       "      <td>hey man , I be really not try to edit war . it...</td>\n",
       "    </tr>\n",
       "    <tr>\n",
       "      <th>3</th>\n",
       "      <td>\"\\nMore\\nI can't make any real suggestions on ...</td>\n",
       "      <td>0</td>\n",
       "      <td>\" more I can not make any real suggestion on i...</td>\n",
       "    </tr>\n",
       "    <tr>\n",
       "      <th>4</th>\n",
       "      <td>You, sir, are my hero. Any chance you remember...</td>\n",
       "      <td>0</td>\n",
       "      <td>you , sir , be my hero . any chance you rememb...</td>\n",
       "    </tr>\n",
       "  </tbody>\n",
       "</table>\n",
       "</div>"
      ],
      "text/plain": [
       "                                                text  toxic  \\\n",
       "0  Explanation\\nWhy the edits made under my usern...      0   \n",
       "1  D'aww! He matches this background colour I'm s...      0   \n",
       "2  Hey man, I'm really not trying to edit war. It...      0   \n",
       "3  \"\\nMore\\nI can't make any real suggestions on ...      0   \n",
       "4  You, sir, are my hero. Any chance you remember...      0   \n",
       "\n",
       "                                           lemm_text  \n",
       "0  explanation why the edit make under my usernam...  \n",
       "1  d'aww ! he match this background colour I be s...  \n",
       "2  hey man , I be really not try to edit war . it...  \n",
       "3  \" more I can not make any real suggestion on i...  \n",
       "4  you , sir , be my hero . any chance you rememb...  "
      ]
     },
     "execution_count": 6,
     "metadata": {},
     "output_type": "execute_result"
    }
   ],
   "source": [
    "# загружаем модель английского языка spacy\n",
    "disabled_pipes = [ \"parser\",  \"ner\"]\n",
    "nlp = spacy.load('en_core_web_sm', disable=disabled_pipes)\n",
    "\n",
    "lemm_texts = []\n",
    "\n",
    "for doc in tqdm(nlp.pipe(data['lemm_text'].values, disable = ['ner', 'parser']), total=data.shape[0]):\n",
    "    lemm_text = \" \".join([i.lemma_ for i in doc])    \n",
    "    lemm_texts.append(lemm_text) \n",
    "\n",
    "data['lemm_text']= lemm_texts\n",
    "data=data.drop_duplicates()\n",
    "data.info()\n",
    "data.head()"
   ]
  },
  {
   "cell_type": "markdown",
   "id": "4b57cdb6-e8bb-4ac4-bdb7-a1d76a990879",
   "metadata": {},
   "source": [
    "### Подготовка тренировочной, валидационной и тестовой выборки"
   ]
  },
  {
   "cell_type": "code",
   "execution_count": 7,
   "id": "d61d72f7-3c56-47dd-a64f-cef6c6281638",
   "metadata": {},
   "outputs": [
    {
     "name": "stdout",
     "output_type": "stream",
     "text": [
      "Размер выборки признаков для обучения: 127433\n",
      "Размер выборки признаков для валидации: 15929\n",
      "Размер выборки признаков для тестов: 15930\n",
      "Размер выборки целевых признаков для обучения: 127433\n",
      "Размер выборки целевых признаков для валидации: 15929\n",
      "Размер выборки целевых признаков для тестов: 15930\n"
     ]
    }
   ],
   "source": [
    "features_train, features_valid_test, target_train, target_valid_test = train_test_split(data['lemm_text'], \n",
    "                                                                                        data.toxic, test_size=0.2, \n",
    "                                                                                        random_state=RANDOM_STATE)\n",
    "features_valid, features_test, target_valid, target_test = train_test_split(features_valid_test, \n",
    "                                                                            target_valid_test, \n",
    "                                                                            test_size=0.5, \n",
    "                                                                            random_state=RANDOM_STATE)\n",
    "print('Размер выборки признаков для обучения:', len(features_train))\n",
    "print('Размер выборки признаков для валидации:', len(features_valid))\n",
    "print('Размер выборки признаков для тестов:', len(features_test))\n",
    "print('Размер выборки целевых признаков для обучения:', len(target_train))\n",
    "print('Размер выборки целевых признаков для валидации:', len(target_valid))\n",
    "print('Размер выборки целевых признаков для тестов:', len(target_test))"
   ]
  },
  {
   "cell_type": "markdown",
   "id": "e7a0ff9e-415e-48e0-a2cd-e1401d9a8a4b",
   "metadata": {},
   "source": [
    "### Создание мешка слов для тренировочной выборки"
   ]
  },
  {
   "cell_type": "markdown",
   "id": "bd2ed543-7515-40f4-b9b9-c760c2cf43ea",
   "metadata": {},
   "source": [
    "Не будем удалять стоп-слова тк с ними метрика выше"
   ]
  },
  {
   "cell_type": "code",
   "execution_count": 8,
   "id": "7d0384b5",
   "metadata": {},
   "outputs": [],
   "source": [
    "count_tf_idf = TfidfVectorizer() "
   ]
  },
  {
   "cell_type": "code",
   "execution_count": 9,
   "id": "dcbbc1a7",
   "metadata": {},
   "outputs": [
    {
     "name": "stdout",
     "output_type": "stream",
     "text": [
      "Размер матрицы: (127433, 151348)\n"
     ]
    }
   ],
   "source": [
    "tf_idf_train = count_tf_idf.fit_transform(features_train) \n",
    "print(\"Размер матрицы:\", tf_idf_train.shape)"
   ]
  },
  {
   "cell_type": "code",
   "execution_count": 10,
   "id": "b6afd54f-0472-4f58-889a-710a060257c7",
   "metadata": {},
   "outputs": [
    {
     "name": "stdout",
     "output_type": "stream",
     "text": [
      "Используем для обучения объекты типа: <class 'scipy.sparse._csr.csr_matrix'>\n"
     ]
    }
   ],
   "source": [
    "features_train= tf_idf_train\n",
    "print('Используем для обучения объекты типа:', type(features_train))"
   ]
  },
  {
   "cell_type": "markdown",
   "id": "74a1c3c0-4db8-4d48-8f1e-3ae6553ab539",
   "metadata": {},
   "source": [
    "### Обучение моделей, расчет метрик"
   ]
  },
  {
   "cell_type": "markdown",
   "id": "1c2789d9-8623-4b97-be83-64a4d779afc3",
   "metadata": {},
   "source": [
    "### Создание мешка слов на валидационной выборке"
   ]
  },
  {
   "cell_type": "code",
   "execution_count": 11,
   "id": "3946e67a-7339-4aef-80dd-e4b4f7ee3a0e",
   "metadata": {
    "scrolled": true
   },
   "outputs": [
    {
     "name": "stdout",
     "output_type": "stream",
     "text": [
      "Размер матрицы: (15929, 151348)\n"
     ]
    }
   ],
   "source": [
    "features_valid = count_tf_idf.transform(features_valid) \n",
    "print(\"Размер матрицы:\", features_valid.shape)"
   ]
  },
  {
   "cell_type": "markdown",
   "id": "01d88f7f-0888-49cd-8ad6-18e2ef4e1369",
   "metadata": {},
   "source": [
    "#### Обучение модели логистической регрессии"
   ]
  },
  {
   "cell_type": "code",
   "execution_count": 12,
   "id": "e35d6502-a3fc-48da-a65a-e3c16cbae0bd",
   "metadata": {},
   "outputs": [
    {
     "name": "stdout",
     "output_type": "stream",
     "text": [
      "Метрика f1 модели логистической регрессии на кросс-валидации равна 0.77\n",
      "Параметры лучшей модели: {'C': 8}\n",
      "Метрика f1 модели логистической регрессии на валидационной выборке: 0.77\n"
     ]
    }
   ],
   "source": [
    "model1= LogisticRegression(class_weight='balanced', penalty='l2', solver='saga')\n",
    "param_search = {\n",
    "    'C': range(1, 15)\n",
    "} \n",
    "gsearch = GridSearchCV(estimator=model1, \n",
    "                       cv=5, \n",
    "                       param_grid=param_search,  \n",
    "                       scoring='f1')\n",
    "\n",
    "gsearch.fit(features_train, target_train)\n",
    "print(f'Метрика f1 модели логистической регрессии на кросс-валидации равна {round(gsearch.best_score_,2)}')\n",
    "print(f'Параметры лучшей модели: {gsearch.best_params_}')\n",
    "model1_pred= gsearch.best_estimator_.predict(features_valid)\n",
    "score_1 = f1_score(target_valid.tolist(), model1_pred) \n",
    "print(f'Метрика f1 модели логистической регрессии на валидационной выборке: {round(score_1,2)}')"
   ]
  },
  {
   "cell_type": "markdown",
   "id": "df7f7c09-fbaa-455a-af29-73d5356279bc",
   "metadata": {},
   "source": [
    "#### Обучение модели catboost"
   ]
  },
  {
   "cell_type": "code",
   "execution_count": 13,
   "id": "6e46e891-66ee-4d65-ba4f-d91dcfdc340f",
   "metadata": {},
   "outputs": [
    {
     "name": "stdout",
     "output_type": "stream",
     "text": [
      "Learning rate set to 0.081637\n",
      "0:\tlearn: 0.6499472\ttotal: 894ms\tremaining: 14m 53s\n",
      "100:\tlearn: 0.3390197\ttotal: 1m 8s\tremaining: 10m 8s\n",
      "200:\tlearn: 0.2861327\ttotal: 2m 14s\tremaining: 8m 53s\n",
      "300:\tlearn: 0.2545731\ttotal: 3m 19s\tremaining: 7m 43s\n",
      "400:\tlearn: 0.2336136\ttotal: 4m 24s\tremaining: 6m 35s\n",
      "500:\tlearn: 0.2180140\ttotal: 5m 29s\tremaining: 5m 28s\n",
      "600:\tlearn: 0.2056379\ttotal: 6m 35s\tremaining: 4m 22s\n",
      "700:\tlearn: 0.1949109\ttotal: 7m 39s\tremaining: 3m 15s\n",
      "800:\tlearn: 0.1860684\ttotal: 8m 43s\tremaining: 2m 10s\n",
      "900:\tlearn: 0.1779897\ttotal: 9m 47s\tremaining: 1m 4s\n",
      "999:\tlearn: 0.1707780\ttotal: 10m 51s\tremaining: 0us\n",
      "Метрика f1 модели CatBoostClassifier на валидационной выборке: 0.75\n"
     ]
    }
   ],
   "source": [
    "model2= CatBoostClassifier(random_state=RANDOM_STATE, auto_class_weights = 'Balanced', thread_count=-1)\n",
    "model2.fit(features_train, target_train, verbose=100)\n",
    "model2_pred= model2.predict(features_valid)\n",
    "score_2 = f1_score(target_valid.tolist(), model2_pred) \n",
    "print(f'Метрика f1 модели CatBoostClassifier на валидационной выборке: {round(score_2,2)}')"
   ]
  },
  {
   "cell_type": "markdown",
   "id": "5c4bae89-562b-42dc-872e-c366bdf5b10d",
   "metadata": {},
   "source": [
    "#### Обучение модели LGBMClassifier"
   ]
  },
  {
   "cell_type": "code",
   "execution_count": 14,
   "id": "5cff38d3-3fe0-47af-931c-79a43adcc5ce",
   "metadata": {},
   "outputs": [
    {
     "name": "stdout",
     "output_type": "stream",
     "text": [
      "Метрика f1 модели LGBMClassifier на валидационной выборке: 0.71\n"
     ]
    }
   ],
   "source": [
    "model3= LGBMClassifier(random_state= RANDOM_STATE, class_weight= 'balanced', n_jobs= -1, verbosity = -1)\n",
    "model3.fit(features_train, target_train)\n",
    "model3_pred= model3.predict(features_valid)\n",
    "score_3= f1_score(target_valid.tolist(), model3_pred) \n",
    "print(f'Метрика f1 модели LGBMClassifier на валидационной выборке: {round(score_3,2)}')"
   ]
  },
  {
   "cell_type": "markdown",
   "id": "fb26c396-9fab-430f-ae6d-459e3709a6b3",
   "metadata": {},
   "source": [
    "### Создание мешка слов на тестовой выборке "
   ]
  },
  {
   "cell_type": "code",
   "execution_count": 15,
   "id": "7a66a18a-65ec-43d7-993d-bdc4e36b2c63",
   "metadata": {},
   "outputs": [
    {
     "name": "stdout",
     "output_type": "stream",
     "text": [
      "Размер матрицы: (15930, 151348)\n"
     ]
    }
   ],
   "source": [
    "features_test = count_tf_idf.transform(features_test) \n",
    "print(\"Размер матрицы:\", features_test.shape)"
   ]
  },
  {
   "cell_type": "markdown",
   "id": "b0081fdb-7ebe-4dd8-a30d-1d19b134b2f3",
   "metadata": {},
   "source": [
    "### Предсказание с использованием лучшей модели и расчет метрики на тестовой выборке"
   ]
  },
  {
   "cell_type": "markdown",
   "id": "ff203a5e-3224-400a-a0a3-b0dd9bd13929",
   "metadata": {},
   "source": [
    "Выберем лучшую модель по показателям метрики"
   ]
  },
  {
   "cell_type": "code",
   "execution_count": 16,
   "id": "1ccd7ad9-a8e4-4293-975e-4a73a806d0dd",
   "metadata": {},
   "outputs": [],
   "source": [
    "best_score=score_1\n",
    "best_model= gsearch.best_estimator_\n",
    "best_model_name='Модель логистической регрессии'\n",
    "if score_2> best_score:\n",
    "    best_score= score_2\n",
    "    best_model= model2\n",
    "    best_model_name= 'CatBoostClassifier'\n",
    "if score_3> best_score:\n",
    "    best_score= score_3\n",
    "    best_model= model3\n",
    "    best_model_name= 'LGBMClassifier'"
   ]
  },
  {
   "cell_type": "markdown",
   "id": "a35f0f76-14b8-4122-b664-7df23047b00c",
   "metadata": {},
   "source": [
    "Расчет метрики на тестовой выборке"
   ]
  },
  {
   "cell_type": "code",
   "execution_count": 17,
   "id": "e77e278e-1f2d-40e5-99db-6697c03d8821",
   "metadata": {},
   "outputs": [
    {
     "name": "stdout",
     "output_type": "stream",
     "text": [
      "Метрика f1 лучшей модели на тестовой выборке (Модель логистической регрессии): 0.78\n"
     ]
    }
   ],
   "source": [
    "test_pred=best_model.predict(features_test)\n",
    "score_test = f1_score(target_test.tolist(), test_pred) \n",
    "print(f'Метрика f1 лучшей модели на тестовой выборке ({best_model_name}): {round(score_test, 2)}')"
   ]
  },
  {
   "cell_type": "code",
   "execution_count": 18,
   "id": "30638fa6-fbd2-4a88-bf22-0c505893ca04",
   "metadata": {},
   "outputs": [
    {
     "name": "stdout",
     "output_type": "stream",
     "text": [
      "Окончание выполнения кода данного ноутбука :  14:18:56\n"
     ]
    }
   ],
   "source": [
    "print (\"Окончание выполнения кода данного ноутбука : \", time.strftime('%X'))"
   ]
  },
  {
   "cell_type": "markdown",
   "id": "429a56f0",
   "metadata": {},
   "source": [
    "### Выводы"
   ]
  },
  {
   "cell_type": "markdown",
   "id": "eb4988dd",
   "metadata": {},
   "source": [
    "**По результатам моделирования выбрана модель логистической регресиии. Метрика f1 модели на тестовой выборке составляет 0.78, что соответствует заданному в проекте критерию качества**"
   ]
  }
 ],
 "metadata": {
  "ExecuteTimeLog": [
   {
    "duration": 2258,
    "start_time": "2023-12-14T17:45:21.554Z"
   },
   {
    "duration": 172,
    "start_time": "2023-12-14T17:45:23.814Z"
   },
   {
    "duration": 22,
    "start_time": "2023-12-14T17:45:23.987Z"
   },
   {
    "duration": 4,
    "start_time": "2023-12-14T17:45:24.010Z"
   },
   {
    "duration": 35,
    "start_time": "2023-12-14T17:45:24.015Z"
   },
   {
    "duration": 18,
    "start_time": "2023-12-14T17:45:24.051Z"
   },
   {
    "duration": 40,
    "start_time": "2023-12-14T17:45:24.070Z"
   },
   {
    "duration": 23,
    "start_time": "2023-12-14T17:45:24.112Z"
   },
   {
    "duration": 28,
    "start_time": "2023-12-14T17:45:24.137Z"
   },
   {
    "duration": 16,
    "start_time": "2023-12-14T17:45:24.169Z"
   },
   {
    "duration": 26,
    "start_time": "2023-12-14T17:45:24.187Z"
   },
   {
    "duration": 31,
    "start_time": "2023-12-14T17:45:24.215Z"
   },
   {
    "duration": 31,
    "start_time": "2023-12-14T17:45:24.248Z"
   },
   {
    "duration": 26,
    "start_time": "2023-12-14T17:45:24.280Z"
   },
   {
    "duration": 33,
    "start_time": "2023-12-14T17:45:24.307Z"
   },
   {
    "duration": 12,
    "start_time": "2023-12-14T17:45:24.341Z"
   },
   {
    "duration": 30,
    "start_time": "2023-12-14T17:45:24.355Z"
   },
   {
    "duration": 11,
    "start_time": "2023-12-14T17:45:24.387Z"
   },
   {
    "duration": 15,
    "start_time": "2023-12-14T17:45:24.400Z"
   },
   {
    "duration": 7,
    "start_time": "2023-12-14T17:45:24.417Z"
   },
   {
    "duration": 25,
    "start_time": "2023-12-14T17:45:24.426Z"
   },
   {
    "duration": 23,
    "start_time": "2023-12-14T17:45:24.452Z"
   },
   {
    "duration": 22,
    "start_time": "2023-12-14T17:45:24.477Z"
   },
   {
    "duration": 26,
    "start_time": "2023-12-14T17:45:24.500Z"
   },
   {
    "duration": 29,
    "start_time": "2023-12-14T17:45:24.528Z"
   },
   {
    "duration": 20,
    "start_time": "2023-12-14T17:45:24.558Z"
   },
   {
    "duration": 15,
    "start_time": "2023-12-14T17:45:24.580Z"
   },
   {
    "duration": 17,
    "start_time": "2023-12-14T17:45:24.599Z"
   },
   {
    "duration": 27,
    "start_time": "2023-12-14T17:45:24.617Z"
   },
   {
    "duration": 32,
    "start_time": "2023-12-14T17:45:24.646Z"
   },
   {
    "duration": 32,
    "start_time": "2023-12-14T17:45:24.679Z"
   },
   {
    "duration": 52,
    "start_time": "2023-12-14T17:45:24.713Z"
   },
   {
    "duration": 13,
    "start_time": "2023-12-14T17:45:24.766Z"
   },
   {
    "duration": 571,
    "start_time": "2023-12-14T17:45:24.780Z"
   },
   {
    "duration": 424,
    "start_time": "2023-12-14T17:45:25.352Z"
   },
   {
    "duration": 289,
    "start_time": "2023-12-14T17:45:25.778Z"
   },
   {
    "duration": 4,
    "start_time": "2023-12-14T17:45:26.069Z"
   },
   {
    "duration": 129,
    "start_time": "2023-12-14T17:45:26.074Z"
   },
   {
    "duration": 54,
    "start_time": "2023-12-14T17:45:26.205Z"
   },
   {
    "duration": 27,
    "start_time": "2023-12-14T17:45:26.260Z"
   },
   {
    "duration": 28,
    "start_time": "2023-12-14T17:45:26.289Z"
   },
   {
    "duration": 27,
    "start_time": "2023-12-14T17:45:26.319Z"
   },
   {
    "duration": 31,
    "start_time": "2023-12-14T17:45:26.348Z"
   },
   {
    "duration": 290,
    "start_time": "2023-12-14T17:45:26.380Z"
   },
   {
    "duration": 108,
    "start_time": "2023-12-14T17:45:26.672Z"
   },
   {
    "duration": 366,
    "start_time": "2023-12-14T17:45:26.782Z"
   },
   {
    "duration": 270,
    "start_time": "2023-12-14T17:45:27.149Z"
   },
   {
    "duration": 311,
    "start_time": "2023-12-14T17:45:27.421Z"
   },
   {
    "duration": 211,
    "start_time": "2023-12-14T17:45:27.733Z"
   },
   {
    "duration": 102,
    "start_time": "2023-12-14T17:45:27.946Z"
   },
   {
    "duration": 392,
    "start_time": "2023-12-14T17:45:28.049Z"
   },
   {
    "duration": 105,
    "start_time": "2023-12-14T17:45:28.443Z"
   },
   {
    "duration": 295,
    "start_time": "2023-12-14T17:45:28.550Z"
   },
   {
    "duration": 195,
    "start_time": "2023-12-14T17:45:28.847Z"
   },
   {
    "duration": 461,
    "start_time": "2023-12-14T17:45:29.045Z"
   },
   {
    "duration": 5723,
    "start_time": "2023-12-14T17:45:29.508Z"
   },
   {
    "duration": 4,
    "start_time": "2023-12-14T17:45:35.232Z"
   },
   {
    "duration": 26,
    "start_time": "2023-12-14T17:45:35.237Z"
   },
   {
    "duration": 149,
    "start_time": "2023-12-14T17:45:35.264Z"
   },
   {
    "duration": 328,
    "start_time": "2023-12-14T17:45:35.414Z"
   },
   {
    "duration": 9,
    "start_time": "2023-12-14T17:45:35.744Z"
   },
   {
    "duration": 227,
    "start_time": "2023-12-14T17:45:35.754Z"
   },
   {
    "duration": 17,
    "start_time": "2023-12-14T17:45:35.983Z"
   },
   {
    "duration": 25,
    "start_time": "2023-12-14T17:45:36.001Z"
   },
   {
    "duration": 6,
    "start_time": "2023-12-14T17:45:36.028Z"
   },
   {
    "duration": 24,
    "start_time": "2023-12-14T17:45:36.035Z"
   },
   {
    "duration": 38,
    "start_time": "2023-12-14T17:45:36.060Z"
   },
   {
    "duration": 284,
    "start_time": "2023-12-14T17:45:36.100Z"
   },
   {
    "duration": 8,
    "start_time": "2023-12-14T17:45:36.386Z"
   },
   {
    "duration": 236,
    "start_time": "2023-12-14T17:45:36.395Z"
   },
   {
    "duration": 19,
    "start_time": "2023-12-14T17:45:36.632Z"
   },
   {
    "duration": 8,
    "start_time": "2023-12-14T17:45:36.652Z"
   },
   {
    "duration": 5,
    "start_time": "2023-12-14T17:45:36.662Z"
   },
   {
    "duration": 27,
    "start_time": "2023-12-14T17:45:36.668Z"
   },
   {
    "duration": 60,
    "start_time": "2023-12-14T17:45:36.696Z"
   },
   {
    "duration": 271,
    "start_time": "2023-12-14T17:45:36.757Z"
   },
   {
    "duration": 8,
    "start_time": "2023-12-14T17:45:37.029Z"
   },
   {
    "duration": 248,
    "start_time": "2023-12-14T17:45:37.038Z"
   },
   {
    "duration": 728,
    "start_time": "2023-12-14T17:45:37.287Z"
   },
   {
    "duration": 23,
    "start_time": "2023-12-14T17:45:38.016Z"
   },
   {
    "duration": 14,
    "start_time": "2023-12-14T17:45:38.040Z"
   },
   {
    "duration": 17,
    "start_time": "2023-12-14T17:45:38.060Z"
   },
   {
    "duration": 14,
    "start_time": "2023-12-14T17:45:38.078Z"
   },
   {
    "duration": 29,
    "start_time": "2023-12-14T17:45:38.094Z"
   },
   {
    "duration": 26,
    "start_time": "2023-12-14T17:45:38.124Z"
   },
   {
    "duration": 21,
    "start_time": "2023-12-14T17:45:38.152Z"
   },
   {
    "duration": 22,
    "start_time": "2023-12-14T17:45:38.175Z"
   },
   {
    "duration": 7,
    "start_time": "2023-12-14T17:45:38.198Z"
   },
   {
    "duration": 191,
    "start_time": "2023-12-14T17:45:38.206Z"
   },
   {
    "duration": 16,
    "start_time": "2023-12-14T17:45:38.399Z"
   },
   {
    "duration": 8,
    "start_time": "2023-12-14T17:45:38.416Z"
   },
   {
    "duration": 26,
    "start_time": "2023-12-14T17:45:38.425Z"
   },
   {
    "duration": 36,
    "start_time": "2023-12-14T17:45:38.452Z"
   },
   {
    "duration": 375,
    "start_time": "2023-12-14T17:45:38.490Z"
   },
   {
    "duration": 290,
    "start_time": "2023-12-14T17:45:38.867Z"
   },
   {
    "duration": 10,
    "start_time": "2023-12-14T17:45:39.159Z"
   },
   {
    "duration": 52,
    "start_time": "2023-12-14T17:45:39.171Z"
   },
   {
    "duration": 104,
    "start_time": "2023-12-14T17:45:39.225Z"
   },
   {
    "duration": 14,
    "start_time": "2023-12-14T17:45:39.331Z"
   },
   {
    "duration": 56,
    "start_time": "2023-12-14T17:45:39.347Z"
   },
   {
    "duration": 22,
    "start_time": "2023-12-14T17:45:39.405Z"
   },
   {
    "duration": 7,
    "start_time": "2023-12-14T17:45:39.429Z"
   },
   {
    "duration": 22,
    "start_time": "2023-12-14T17:45:39.437Z"
   },
   {
    "duration": 28,
    "start_time": "2023-12-14T17:45:39.461Z"
   },
   {
    "duration": 41,
    "start_time": "2023-12-14T17:45:39.491Z"
   },
   {
    "duration": 106,
    "start_time": "2023-12-14T17:45:39.533Z"
   },
   {
    "duration": 17,
    "start_time": "2023-12-14T17:45:39.640Z"
   },
   {
    "duration": 28,
    "start_time": "2023-12-14T17:45:39.659Z"
   },
   {
    "duration": 9,
    "start_time": "2023-12-14T17:45:39.688Z"
   },
   {
    "duration": 6172,
    "start_time": "2024-01-06T19:51:42.054Z"
   },
   {
    "duration": 247,
    "start_time": "2024-01-06T19:51:48.227Z"
   },
   {
    "duration": 22,
    "start_time": "2024-01-06T19:51:48.476Z"
   },
   {
    "duration": 25,
    "start_time": "2024-01-06T19:51:48.499Z"
   },
   {
    "duration": 11,
    "start_time": "2024-01-06T19:51:48.525Z"
   },
   {
    "duration": 13,
    "start_time": "2024-01-06T19:51:48.538Z"
   },
   {
    "duration": 5,
    "start_time": "2024-01-06T19:51:48.552Z"
   },
   {
    "duration": 8,
    "start_time": "2024-01-06T19:51:48.559Z"
   },
   {
    "duration": 11,
    "start_time": "2024-01-06T19:51:48.568Z"
   },
   {
    "duration": 5,
    "start_time": "2024-01-06T19:51:48.581Z"
   },
   {
    "duration": 11,
    "start_time": "2024-01-06T19:51:48.587Z"
   },
   {
    "duration": 30,
    "start_time": "2024-01-06T19:51:48.600Z"
   },
   {
    "duration": 13,
    "start_time": "2024-01-06T19:51:48.631Z"
   },
   {
    "duration": 5,
    "start_time": "2024-01-06T19:51:48.645Z"
   },
   {
    "duration": 7,
    "start_time": "2024-01-06T19:51:48.651Z"
   },
   {
    "duration": 9,
    "start_time": "2024-01-06T19:51:48.659Z"
   },
   {
    "duration": 15,
    "start_time": "2024-01-06T19:51:48.669Z"
   },
   {
    "duration": 5,
    "start_time": "2024-01-06T19:51:48.685Z"
   },
   {
    "duration": 13,
    "start_time": "2024-01-06T19:51:48.691Z"
   },
   {
    "duration": 28,
    "start_time": "2024-01-06T19:51:48.705Z"
   },
   {
    "duration": 398,
    "start_time": "2024-01-06T19:51:48.735Z"
   },
   {
    "duration": 256,
    "start_time": "2024-01-06T19:51:49.134Z"
   },
   {
    "duration": 163,
    "start_time": "2024-01-06T19:51:49.391Z"
   },
   {
    "duration": 3,
    "start_time": "2024-01-06T19:51:49.556Z"
   },
   {
    "duration": 31,
    "start_time": "2024-01-06T19:51:49.560Z"
   },
   {
    "duration": 39,
    "start_time": "2024-01-06T19:51:49.592Z"
   },
   {
    "duration": 317,
    "start_time": "2024-01-06T19:51:49.632Z"
   },
   {
    "duration": 229,
    "start_time": "2024-01-06T19:51:49.952Z"
   },
   {
    "duration": 3,
    "start_time": "2024-01-06T19:51:50.183Z"
   },
   {
    "duration": 72,
    "start_time": "2024-01-06T19:51:50.187Z"
   },
   {
    "duration": 10,
    "start_time": "2024-01-06T19:51:50.260Z"
   },
   {
    "duration": 33,
    "start_time": "2024-01-06T19:51:50.271Z"
   },
   {
    "duration": 144,
    "start_time": "2024-01-06T19:51:50.306Z"
   },
   {
    "duration": 235,
    "start_time": "2024-01-06T19:51:50.452Z"
   },
   {
    "duration": 288,
    "start_time": "2024-01-06T19:51:50.688Z"
   },
   {
    "duration": 12,
    "start_time": "2024-01-06T19:51:50.978Z"
   },
   {
    "duration": 417,
    "start_time": "2024-01-06T19:51:50.991Z"
   },
   {
    "duration": 174,
    "start_time": "2024-01-06T19:51:51.410Z"
   },
   {
    "duration": 14,
    "start_time": "2024-01-06T19:51:51.585Z"
   },
   {
    "duration": 179,
    "start_time": "2024-01-06T19:51:51.600Z"
   },
   {
    "duration": 12,
    "start_time": "2024-01-06T19:51:51.781Z"
   },
   {
    "duration": 12,
    "start_time": "2024-01-06T19:51:51.795Z"
   },
   {
    "duration": 269,
    "start_time": "2024-01-06T19:51:51.808Z"
   },
   {
    "duration": 152,
    "start_time": "2024-01-06T19:51:52.078Z"
   },
   {
    "duration": 20,
    "start_time": "2024-01-06T19:51:52.231Z"
   },
   {
    "duration": 228,
    "start_time": "2024-01-06T19:51:52.252Z"
   },
   {
    "duration": 11,
    "start_time": "2024-01-06T19:51:52.481Z"
   },
   {
    "duration": 46,
    "start_time": "2024-01-06T19:51:52.493Z"
   },
   {
    "duration": 3,
    "start_time": "2024-01-06T19:51:52.541Z"
   },
   {
    "duration": 10,
    "start_time": "2024-01-06T19:51:52.545Z"
   },
   {
    "duration": 8,
    "start_time": "2024-01-06T19:51:52.556Z"
   },
   {
    "duration": 11,
    "start_time": "2024-01-06T19:51:52.565Z"
   },
   {
    "duration": 19,
    "start_time": "2024-01-06T19:51:52.578Z"
   },
   {
    "duration": 12,
    "start_time": "2024-01-06T19:51:52.598Z"
   },
   {
    "duration": 41,
    "start_time": "2024-01-06T19:51:52.611Z"
   },
   {
    "duration": 12,
    "start_time": "2024-01-06T19:51:52.653Z"
   },
   {
    "duration": 5,
    "start_time": "2024-01-06T19:51:52.666Z"
   },
   {
    "duration": 19,
    "start_time": "2024-01-06T19:51:52.672Z"
   },
   {
    "duration": 19,
    "start_time": "2024-01-06T19:51:52.692Z"
   },
   {
    "duration": 163,
    "start_time": "2024-01-06T19:51:52.712Z"
   },
   {
    "duration": 0,
    "start_time": "2024-01-06T19:51:52.876Z"
   },
   {
    "duration": 0,
    "start_time": "2024-01-06T19:51:52.877Z"
   },
   {
    "duration": 0,
    "start_time": "2024-01-06T19:51:52.878Z"
   },
   {
    "duration": 0,
    "start_time": "2024-01-06T19:51:52.879Z"
   },
   {
    "duration": 0,
    "start_time": "2024-01-06T19:51:52.880Z"
   },
   {
    "duration": 0,
    "start_time": "2024-01-06T19:51:52.881Z"
   },
   {
    "duration": 0,
    "start_time": "2024-01-06T19:51:52.882Z"
   },
   {
    "duration": 0,
    "start_time": "2024-01-06T19:51:52.883Z"
   },
   {
    "duration": 0,
    "start_time": "2024-01-06T19:51:52.884Z"
   },
   {
    "duration": 0,
    "start_time": "2024-01-06T19:51:52.885Z"
   },
   {
    "duration": 0,
    "start_time": "2024-01-06T19:51:52.886Z"
   },
   {
    "duration": 0,
    "start_time": "2024-01-06T19:51:52.887Z"
   },
   {
    "duration": 0,
    "start_time": "2024-01-06T19:51:52.888Z"
   },
   {
    "duration": 0,
    "start_time": "2024-01-06T19:51:52.889Z"
   },
   {
    "duration": 0,
    "start_time": "2024-01-06T19:51:52.890Z"
   },
   {
    "duration": 0,
    "start_time": "2024-01-06T19:51:52.891Z"
   },
   {
    "duration": 0,
    "start_time": "2024-01-06T19:51:52.892Z"
   },
   {
    "duration": 0,
    "start_time": "2024-01-06T19:51:52.893Z"
   },
   {
    "duration": 0,
    "start_time": "2024-01-06T19:51:52.894Z"
   },
   {
    "duration": 0,
    "start_time": "2024-01-06T19:51:52.895Z"
   },
   {
    "duration": 0,
    "start_time": "2024-01-06T19:51:52.896Z"
   },
   {
    "duration": 0,
    "start_time": "2024-01-06T19:51:52.897Z"
   },
   {
    "duration": 1301,
    "start_time": "2024-01-06T19:52:49.313Z"
   },
   {
    "duration": 2241,
    "start_time": "2024-01-06T19:53:01.066Z"
   },
   {
    "duration": 85,
    "start_time": "2024-01-06T19:53:03.309Z"
   },
   {
    "duration": 21,
    "start_time": "2024-01-06T19:53:03.395Z"
   },
   {
    "duration": 33,
    "start_time": "2024-01-06T19:53:03.418Z"
   },
   {
    "duration": 14,
    "start_time": "2024-01-06T19:53:03.452Z"
   },
   {
    "duration": 13,
    "start_time": "2024-01-06T19:53:03.468Z"
   },
   {
    "duration": 16,
    "start_time": "2024-01-06T19:53:03.483Z"
   },
   {
    "duration": 9,
    "start_time": "2024-01-06T19:53:03.500Z"
   },
   {
    "duration": 9,
    "start_time": "2024-01-06T19:53:03.511Z"
   },
   {
    "duration": 5,
    "start_time": "2024-01-06T19:53:03.523Z"
   },
   {
    "duration": 24,
    "start_time": "2024-01-06T19:53:03.529Z"
   },
   {
    "duration": 23,
    "start_time": "2024-01-06T19:53:03.554Z"
   },
   {
    "duration": 12,
    "start_time": "2024-01-06T19:53:03.578Z"
   },
   {
    "duration": 23,
    "start_time": "2024-01-06T19:53:03.591Z"
   },
   {
    "duration": 12,
    "start_time": "2024-01-06T19:53:03.616Z"
   },
   {
    "duration": 6,
    "start_time": "2024-01-06T19:53:03.629Z"
   },
   {
    "duration": 13,
    "start_time": "2024-01-06T19:53:03.637Z"
   },
   {
    "duration": 9,
    "start_time": "2024-01-06T19:53:03.652Z"
   },
   {
    "duration": 6,
    "start_time": "2024-01-06T19:53:03.663Z"
   },
   {
    "duration": 32,
    "start_time": "2024-01-06T19:53:03.670Z"
   },
   {
    "duration": 596,
    "start_time": "2024-01-06T19:53:03.703Z"
   },
   {
    "duration": 254,
    "start_time": "2024-01-06T19:53:04.301Z"
   },
   {
    "duration": 171,
    "start_time": "2024-01-06T19:53:04.556Z"
   },
   {
    "duration": 3,
    "start_time": "2024-01-06T19:53:04.729Z"
   },
   {
    "duration": 7,
    "start_time": "2024-01-06T19:53:04.744Z"
   },
   {
    "duration": 8,
    "start_time": "2024-01-06T19:53:04.752Z"
   },
   {
    "duration": 438,
    "start_time": "2024-01-06T19:53:04.761Z"
   },
   {
    "duration": 266,
    "start_time": "2024-01-06T19:53:05.202Z"
   },
   {
    "duration": 3,
    "start_time": "2024-01-06T19:53:05.469Z"
   },
   {
    "duration": 24,
    "start_time": "2024-01-06T19:53:05.474Z"
   },
   {
    "duration": 7,
    "start_time": "2024-01-06T19:53:05.500Z"
   },
   {
    "duration": 10,
    "start_time": "2024-01-06T19:53:05.509Z"
   },
   {
    "duration": 146,
    "start_time": "2024-01-06T19:53:05.521Z"
   },
   {
    "duration": 296,
    "start_time": "2024-01-06T19:53:05.669Z"
   },
   {
    "duration": 191,
    "start_time": "2024-01-06T19:53:05.967Z"
   },
   {
    "duration": 13,
    "start_time": "2024-01-06T19:53:06.159Z"
   },
   {
    "duration": 604,
    "start_time": "2024-01-06T19:53:06.173Z"
   },
   {
    "duration": 175,
    "start_time": "2024-01-06T19:53:06.779Z"
   },
   {
    "duration": 14,
    "start_time": "2024-01-06T19:53:06.956Z"
   },
   {
    "duration": 231,
    "start_time": "2024-01-06T19:53:06.971Z"
   },
   {
    "duration": 17,
    "start_time": "2024-01-06T19:53:07.203Z"
   },
   {
    "duration": 25,
    "start_time": "2024-01-06T19:53:07.221Z"
   },
   {
    "duration": 297,
    "start_time": "2024-01-06T19:53:07.248Z"
   },
   {
    "duration": 164,
    "start_time": "2024-01-06T19:53:07.546Z"
   },
   {
    "duration": 14,
    "start_time": "2024-01-06T19:53:07.711Z"
   },
   {
    "duration": 253,
    "start_time": "2024-01-06T19:53:07.726Z"
   },
   {
    "duration": 11,
    "start_time": "2024-01-06T19:53:07.980Z"
   },
   {
    "duration": 19,
    "start_time": "2024-01-06T19:53:07.992Z"
   },
   {
    "duration": 11,
    "start_time": "2024-01-06T19:53:08.012Z"
   },
   {
    "duration": 38,
    "start_time": "2024-01-06T19:53:08.024Z"
   },
   {
    "duration": 4,
    "start_time": "2024-01-06T19:53:08.063Z"
   },
   {
    "duration": 12,
    "start_time": "2024-01-06T19:53:08.069Z"
   },
   {
    "duration": 22,
    "start_time": "2024-01-06T19:53:08.082Z"
   },
   {
    "duration": 18,
    "start_time": "2024-01-06T19:53:08.106Z"
   },
   {
    "duration": 15,
    "start_time": "2024-01-06T19:53:08.126Z"
   },
   {
    "duration": 12,
    "start_time": "2024-01-06T19:53:08.142Z"
   },
   {
    "duration": 6,
    "start_time": "2024-01-06T19:53:08.155Z"
   },
   {
    "duration": 32,
    "start_time": "2024-01-06T19:53:08.162Z"
   },
   {
    "duration": 21,
    "start_time": "2024-01-06T19:53:08.195Z"
   },
   {
    "duration": 14,
    "start_time": "2024-01-06T19:53:08.218Z"
   },
   {
    "duration": 0,
    "start_time": "2024-01-06T19:53:08.233Z"
   },
   {
    "duration": 11,
    "start_time": "2024-01-06T19:53:19.839Z"
   },
   {
    "duration": 0,
    "start_time": "2024-01-06T19:53:19.851Z"
   },
   {
    "duration": 0,
    "start_time": "2024-01-06T19:53:19.852Z"
   },
   {
    "duration": 0,
    "start_time": "2024-01-06T19:53:19.853Z"
   },
   {
    "duration": 0,
    "start_time": "2024-01-06T19:53:19.854Z"
   },
   {
    "duration": 0,
    "start_time": "2024-01-06T19:53:19.855Z"
   },
   {
    "duration": 0,
    "start_time": "2024-01-06T19:53:19.856Z"
   },
   {
    "duration": 0,
    "start_time": "2024-01-06T19:53:19.858Z"
   },
   {
    "duration": 0,
    "start_time": "2024-01-06T19:53:19.859Z"
   },
   {
    "duration": 2,
    "start_time": "2024-01-06T19:53:19.861Z"
   },
   {
    "duration": 8,
    "start_time": "2024-01-06T19:53:19.864Z"
   },
   {
    "duration": 11,
    "start_time": "2024-01-06T19:53:19.873Z"
   },
   {
    "duration": 0,
    "start_time": "2024-01-06T19:53:19.885Z"
   },
   {
    "duration": 0,
    "start_time": "2024-01-06T19:53:19.886Z"
   },
   {
    "duration": 0,
    "start_time": "2024-01-06T19:53:19.888Z"
   },
   {
    "duration": 0,
    "start_time": "2024-01-06T19:53:19.889Z"
   },
   {
    "duration": 0,
    "start_time": "2024-01-06T19:53:19.889Z"
   },
   {
    "duration": 0,
    "start_time": "2024-01-06T19:53:19.890Z"
   },
   {
    "duration": 0,
    "start_time": "2024-01-06T19:53:19.891Z"
   },
   {
    "duration": 0,
    "start_time": "2024-01-06T19:53:19.892Z"
   },
   {
    "duration": 0,
    "start_time": "2024-01-06T19:53:19.893Z"
   },
   {
    "duration": 0,
    "start_time": "2024-01-06T19:53:19.945Z"
   },
   {
    "duration": 0,
    "start_time": "2024-01-06T19:53:19.946Z"
   },
   {
    "duration": 0,
    "start_time": "2024-01-06T19:53:19.947Z"
   },
   {
    "duration": 11,
    "start_time": "2024-01-06T19:53:41.075Z"
   },
   {
    "duration": 0,
    "start_time": "2024-01-06T19:53:41.088Z"
   },
   {
    "duration": 0,
    "start_time": "2024-01-06T19:53:41.089Z"
   },
   {
    "duration": 0,
    "start_time": "2024-01-06T19:53:41.090Z"
   },
   {
    "duration": 0,
    "start_time": "2024-01-06T19:53:41.091Z"
   },
   {
    "duration": 1,
    "start_time": "2024-01-06T19:53:41.091Z"
   },
   {
    "duration": 0,
    "start_time": "2024-01-06T19:53:41.092Z"
   },
   {
    "duration": 0,
    "start_time": "2024-01-06T19:53:41.094Z"
   },
   {
    "duration": 0,
    "start_time": "2024-01-06T19:53:41.095Z"
   },
   {
    "duration": 28,
    "start_time": "2024-01-06T19:53:41.097Z"
   },
   {
    "duration": 8,
    "start_time": "2024-01-06T19:53:41.126Z"
   },
   {
    "duration": 25,
    "start_time": "2024-01-06T19:53:41.136Z"
   },
   {
    "duration": 0,
    "start_time": "2024-01-06T19:53:41.162Z"
   },
   {
    "duration": 0,
    "start_time": "2024-01-06T19:53:41.163Z"
   },
   {
    "duration": 0,
    "start_time": "2024-01-06T19:53:41.164Z"
   },
   {
    "duration": 0,
    "start_time": "2024-01-06T19:53:41.165Z"
   },
   {
    "duration": 0,
    "start_time": "2024-01-06T19:53:41.166Z"
   },
   {
    "duration": 0,
    "start_time": "2024-01-06T19:53:41.167Z"
   },
   {
    "duration": 0,
    "start_time": "2024-01-06T19:53:41.168Z"
   },
   {
    "duration": 0,
    "start_time": "2024-01-06T19:53:41.168Z"
   },
   {
    "duration": 0,
    "start_time": "2024-01-06T19:53:41.169Z"
   },
   {
    "duration": 0,
    "start_time": "2024-01-06T19:53:41.170Z"
   },
   {
    "duration": 0,
    "start_time": "2024-01-06T19:53:41.172Z"
   },
   {
    "duration": 0,
    "start_time": "2024-01-06T19:53:41.173Z"
   },
   {
    "duration": 1201,
    "start_time": "2024-01-06T19:53:59.878Z"
   },
   {
    "duration": 1290,
    "start_time": "2024-01-06T19:54:05.446Z"
   },
   {
    "duration": 5,
    "start_time": "2024-01-06T19:54:06.745Z"
   },
   {
    "duration": 18,
    "start_time": "2024-01-06T19:54:06.752Z"
   },
   {
    "duration": 20,
    "start_time": "2024-01-06T19:54:06.771Z"
   },
   {
    "duration": 21,
    "start_time": "2024-01-06T19:54:06.793Z"
   },
   {
    "duration": 4,
    "start_time": "2024-01-06T19:54:06.815Z"
   },
   {
    "duration": 21,
    "start_time": "2024-01-06T19:54:06.820Z"
   },
   {
    "duration": 12,
    "start_time": "2024-01-06T19:54:06.843Z"
   },
   {
    "duration": 4,
    "start_time": "2024-01-06T19:54:06.857Z"
   },
   {
    "duration": 19,
    "start_time": "2024-01-06T19:54:06.863Z"
   },
   {
    "duration": 16,
    "start_time": "2024-01-06T19:54:06.884Z"
   },
   {
    "duration": 7,
    "start_time": "2024-01-06T19:54:06.901Z"
   },
   {
    "duration": 539,
    "start_time": "2024-01-06T19:54:06.909Z"
   },
   {
    "duration": 0,
    "start_time": "2024-01-06T19:54:07.450Z"
   },
   {
    "duration": 0,
    "start_time": "2024-01-06T19:54:07.452Z"
   },
   {
    "duration": 0,
    "start_time": "2024-01-06T19:54:07.453Z"
   },
   {
    "duration": 0,
    "start_time": "2024-01-06T19:54:07.455Z"
   },
   {
    "duration": 0,
    "start_time": "2024-01-06T19:54:07.456Z"
   },
   {
    "duration": 0,
    "start_time": "2024-01-06T19:54:07.457Z"
   },
   {
    "duration": 0,
    "start_time": "2024-01-06T19:54:07.459Z"
   },
   {
    "duration": 0,
    "start_time": "2024-01-06T19:54:07.460Z"
   },
   {
    "duration": 0,
    "start_time": "2024-01-06T19:54:07.461Z"
   },
   {
    "duration": 0,
    "start_time": "2024-01-06T19:54:07.462Z"
   },
   {
    "duration": 15966,
    "start_time": "2024-01-08T11:59:48.364Z"
   },
   {
    "duration": 237,
    "start_time": "2024-01-08T12:00:04.332Z"
   },
   {
    "duration": 22,
    "start_time": "2024-01-08T12:00:04.570Z"
   },
   {
    "duration": 32,
    "start_time": "2024-01-08T12:00:04.594Z"
   },
   {
    "duration": 11,
    "start_time": "2024-01-08T12:00:04.628Z"
   },
   {
    "duration": 20,
    "start_time": "2024-01-08T12:00:04.641Z"
   },
   {
    "duration": 9,
    "start_time": "2024-01-08T12:00:04.663Z"
   },
   {
    "duration": 26,
    "start_time": "2024-01-08T12:00:04.674Z"
   },
   {
    "duration": 27,
    "start_time": "2024-01-08T12:00:04.701Z"
   },
   {
    "duration": 5,
    "start_time": "2024-01-08T12:00:04.732Z"
   },
   {
    "duration": 11,
    "start_time": "2024-01-08T12:00:04.739Z"
   },
   {
    "duration": 9,
    "start_time": "2024-01-08T12:00:04.752Z"
   },
   {
    "duration": 10,
    "start_time": "2024-01-08T12:00:04.762Z"
   },
   {
    "duration": 7,
    "start_time": "2024-01-08T12:00:04.773Z"
   },
   {
    "duration": 7,
    "start_time": "2024-01-08T12:00:04.782Z"
   },
   {
    "duration": 28,
    "start_time": "2024-01-08T12:00:04.790Z"
   },
   {
    "duration": 22,
    "start_time": "2024-01-08T12:00:04.819Z"
   },
   {
    "duration": 7,
    "start_time": "2024-01-08T12:00:04.842Z"
   },
   {
    "duration": 29,
    "start_time": "2024-01-08T12:00:04.850Z"
   },
   {
    "duration": 48,
    "start_time": "2024-01-08T12:00:04.881Z"
   },
   {
    "duration": 448,
    "start_time": "2024-01-08T12:00:04.930Z"
   },
   {
    "duration": 313,
    "start_time": "2024-01-08T12:00:05.380Z"
   },
   {
    "duration": 187,
    "start_time": "2024-01-08T12:00:05.695Z"
   },
   {
    "duration": 4,
    "start_time": "2024-01-08T12:00:05.883Z"
   },
   {
    "duration": 37,
    "start_time": "2024-01-08T12:00:05.888Z"
   },
   {
    "duration": 9,
    "start_time": "2024-01-08T12:00:05.927Z"
   },
   {
    "duration": 380,
    "start_time": "2024-01-08T12:00:05.938Z"
   },
   {
    "duration": 405,
    "start_time": "2024-01-08T12:00:06.324Z"
   },
   {
    "duration": 4,
    "start_time": "2024-01-08T12:00:06.730Z"
   },
   {
    "duration": 13,
    "start_time": "2024-01-08T12:00:06.736Z"
   },
   {
    "duration": 22,
    "start_time": "2024-01-08T12:00:06.750Z"
   },
   {
    "duration": 12,
    "start_time": "2024-01-08T12:00:06.773Z"
   },
   {
    "duration": 166,
    "start_time": "2024-01-08T12:00:06.786Z"
   },
   {
    "duration": 269,
    "start_time": "2024-01-08T12:00:06.953Z"
   },
   {
    "duration": 203,
    "start_time": "2024-01-08T12:00:07.226Z"
   },
   {
    "duration": 13,
    "start_time": "2024-01-08T12:00:07.431Z"
   },
   {
    "duration": 501,
    "start_time": "2024-01-08T12:00:07.446Z"
   },
   {
    "duration": 206,
    "start_time": "2024-01-08T12:00:07.949Z"
   },
   {
    "duration": 14,
    "start_time": "2024-01-08T12:00:08.157Z"
   },
   {
    "duration": 209,
    "start_time": "2024-01-08T12:00:08.172Z"
   },
   {
    "duration": 40,
    "start_time": "2024-01-08T12:00:08.383Z"
   },
   {
    "duration": 14,
    "start_time": "2024-01-08T12:00:08.425Z"
   },
   {
    "duration": 299,
    "start_time": "2024-01-08T12:00:08.440Z"
   },
   {
    "duration": 186,
    "start_time": "2024-01-08T12:00:08.741Z"
   },
   {
    "duration": 14,
    "start_time": "2024-01-08T12:00:08.928Z"
   },
   {
    "duration": 297,
    "start_time": "2024-01-08T12:00:08.943Z"
   },
   {
    "duration": 12,
    "start_time": "2024-01-08T12:00:09.241Z"
   },
   {
    "duration": 17,
    "start_time": "2024-01-08T12:00:09.254Z"
   },
   {
    "duration": 4,
    "start_time": "2024-01-08T12:00:09.273Z"
   },
   {
    "duration": 36,
    "start_time": "2024-01-08T12:00:09.278Z"
   },
   {
    "duration": 6,
    "start_time": "2024-01-08T12:00:09.316Z"
   },
   {
    "duration": 13,
    "start_time": "2024-01-08T12:00:09.323Z"
   },
   {
    "duration": 18,
    "start_time": "2024-01-08T12:00:09.338Z"
   },
   {
    "duration": 16,
    "start_time": "2024-01-08T12:00:09.357Z"
   },
   {
    "duration": 24,
    "start_time": "2024-01-08T12:00:09.374Z"
   },
   {
    "duration": 16,
    "start_time": "2024-01-08T12:00:09.400Z"
   },
   {
    "duration": 13,
    "start_time": "2024-01-08T12:00:09.417Z"
   },
   {
    "duration": 22,
    "start_time": "2024-01-08T12:00:09.432Z"
   },
   {
    "duration": 18,
    "start_time": "2024-01-08T12:00:09.456Z"
   },
   {
    "duration": 1588,
    "start_time": "2024-01-08T12:00:09.476Z"
   },
   {
    "duration": 9,
    "start_time": "2024-01-08T12:00:11.066Z"
   },
   {
    "duration": 8,
    "start_time": "2024-01-08T12:00:11.077Z"
   },
   {
    "duration": 10,
    "start_time": "2024-01-08T12:00:11.086Z"
   },
   {
    "duration": 18,
    "start_time": "2024-01-08T12:00:11.097Z"
   },
   {
    "duration": 17,
    "start_time": "2024-01-08T12:00:11.116Z"
   },
   {
    "duration": 9,
    "start_time": "2024-01-08T12:00:11.135Z"
   },
   {
    "duration": 7,
    "start_time": "2024-01-08T12:00:11.145Z"
   },
   {
    "duration": 5,
    "start_time": "2024-01-08T12:00:11.154Z"
   },
   {
    "duration": 4,
    "start_time": "2024-01-08T12:00:11.160Z"
   },
   {
    "duration": 12,
    "start_time": "2024-01-08T12:00:11.166Z"
   },
   {
    "duration": 7,
    "start_time": "2024-01-08T12:00:11.179Z"
   },
   {
    "duration": 515,
    "start_time": "2024-01-08T12:00:11.188Z"
   },
   {
    "duration": 0,
    "start_time": "2024-01-08T12:00:11.704Z"
   },
   {
    "duration": 0,
    "start_time": "2024-01-08T12:00:11.714Z"
   },
   {
    "duration": 0,
    "start_time": "2024-01-08T12:00:11.715Z"
   },
   {
    "duration": 0,
    "start_time": "2024-01-08T12:00:11.716Z"
   },
   {
    "duration": 0,
    "start_time": "2024-01-08T12:00:11.717Z"
   },
   {
    "duration": 0,
    "start_time": "2024-01-08T12:00:11.718Z"
   },
   {
    "duration": 0,
    "start_time": "2024-01-08T12:00:11.719Z"
   },
   {
    "duration": 0,
    "start_time": "2024-01-08T12:00:11.719Z"
   },
   {
    "duration": 0,
    "start_time": "2024-01-08T12:00:11.720Z"
   },
   {
    "duration": 0,
    "start_time": "2024-01-08T12:00:11.726Z"
   },
   {
    "duration": 14737,
    "start_time": "2024-01-08T12:06:55.724Z"
   },
   {
    "duration": 89,
    "start_time": "2024-01-08T12:07:10.463Z"
   },
   {
    "duration": 23,
    "start_time": "2024-01-08T12:07:10.553Z"
   },
   {
    "duration": 15,
    "start_time": "2024-01-08T12:07:10.578Z"
   },
   {
    "duration": 14,
    "start_time": "2024-01-08T12:07:10.595Z"
   },
   {
    "duration": 25,
    "start_time": "2024-01-08T12:07:10.610Z"
   },
   {
    "duration": 25,
    "start_time": "2024-01-08T12:07:10.637Z"
   },
   {
    "duration": 16,
    "start_time": "2024-01-08T12:07:10.664Z"
   },
   {
    "duration": 45,
    "start_time": "2024-01-08T12:07:10.681Z"
   },
   {
    "duration": 6,
    "start_time": "2024-01-08T12:07:10.729Z"
   },
   {
    "duration": 13,
    "start_time": "2024-01-08T12:07:10.737Z"
   },
   {
    "duration": 5,
    "start_time": "2024-01-08T12:07:10.752Z"
   },
   {
    "duration": 18,
    "start_time": "2024-01-08T12:07:10.759Z"
   },
   {
    "duration": 47,
    "start_time": "2024-01-08T12:07:10.779Z"
   },
   {
    "duration": 5,
    "start_time": "2024-01-08T12:07:10.828Z"
   },
   {
    "duration": 9,
    "start_time": "2024-01-08T12:07:10.835Z"
   },
   {
    "duration": 7,
    "start_time": "2024-01-08T12:07:10.845Z"
   },
   {
    "duration": 10,
    "start_time": "2024-01-08T12:07:10.854Z"
   },
   {
    "duration": 8,
    "start_time": "2024-01-08T12:07:10.865Z"
   },
   {
    "duration": 53,
    "start_time": "2024-01-08T12:07:10.874Z"
   },
   {
    "duration": 431,
    "start_time": "2024-01-08T12:07:10.929Z"
   },
   {
    "duration": 294,
    "start_time": "2024-01-08T12:07:11.361Z"
   },
   {
    "duration": 215,
    "start_time": "2024-01-08T12:07:11.656Z"
   },
   {
    "duration": 4,
    "start_time": "2024-01-08T12:07:11.872Z"
   },
   {
    "duration": 12,
    "start_time": "2024-01-08T12:07:11.878Z"
   },
   {
    "duration": 32,
    "start_time": "2024-01-08T12:07:11.892Z"
   },
   {
    "duration": 410,
    "start_time": "2024-01-08T12:07:11.926Z"
   },
   {
    "duration": 270,
    "start_time": "2024-01-08T12:07:12.339Z"
   },
   {
    "duration": 7,
    "start_time": "2024-01-08T12:07:12.613Z"
   },
   {
    "duration": 11,
    "start_time": "2024-01-08T12:07:12.622Z"
   },
   {
    "duration": 9,
    "start_time": "2024-01-08T12:07:12.635Z"
   },
   {
    "duration": 15,
    "start_time": "2024-01-08T12:07:12.645Z"
   },
   {
    "duration": 165,
    "start_time": "2024-01-08T12:07:12.661Z"
   },
   {
    "duration": 415,
    "start_time": "2024-01-08T12:07:12.828Z"
   },
   {
    "duration": 210,
    "start_time": "2024-01-08T12:07:13.245Z"
   },
   {
    "duration": 16,
    "start_time": "2024-01-08T12:07:13.456Z"
   },
   {
    "duration": 474,
    "start_time": "2024-01-08T12:07:13.474Z"
   },
   {
    "duration": 182,
    "start_time": "2024-01-08T12:07:13.949Z"
   },
   {
    "duration": 14,
    "start_time": "2024-01-08T12:07:14.132Z"
   },
   {
    "duration": 221,
    "start_time": "2024-01-08T12:07:14.148Z"
   },
   {
    "duration": 13,
    "start_time": "2024-01-08T12:07:14.371Z"
   },
   {
    "duration": 40,
    "start_time": "2024-01-08T12:07:14.385Z"
   },
   {
    "duration": 280,
    "start_time": "2024-01-08T12:07:14.427Z"
   },
   {
    "duration": 185,
    "start_time": "2024-01-08T12:07:14.708Z"
   },
   {
    "duration": 32,
    "start_time": "2024-01-08T12:07:14.895Z"
   },
   {
    "duration": 248,
    "start_time": "2024-01-08T12:07:14.929Z"
   },
   {
    "duration": 12,
    "start_time": "2024-01-08T12:07:15.179Z"
   },
   {
    "duration": 43,
    "start_time": "2024-01-08T12:07:15.193Z"
   },
   {
    "duration": 7,
    "start_time": "2024-01-08T12:07:15.238Z"
   },
   {
    "duration": 15,
    "start_time": "2024-01-08T12:07:15.246Z"
   },
   {
    "duration": 5,
    "start_time": "2024-01-08T12:07:15.263Z"
   },
   {
    "duration": 13,
    "start_time": "2024-01-08T12:07:15.270Z"
   },
   {
    "duration": 15,
    "start_time": "2024-01-08T12:07:15.284Z"
   },
   {
    "duration": 19,
    "start_time": "2024-01-08T12:07:15.300Z"
   },
   {
    "duration": 36,
    "start_time": "2024-01-08T12:07:15.320Z"
   },
   {
    "duration": 12,
    "start_time": "2024-01-08T12:07:15.358Z"
   },
   {
    "duration": 6,
    "start_time": "2024-01-08T12:07:15.372Z"
   },
   {
    "duration": 19,
    "start_time": "2024-01-08T12:07:15.380Z"
   },
   {
    "duration": 33,
    "start_time": "2024-01-08T12:07:15.401Z"
   },
   {
    "duration": 1525,
    "start_time": "2024-01-08T12:07:15.435Z"
   },
   {
    "duration": 10,
    "start_time": "2024-01-08T12:07:16.962Z"
   },
   {
    "duration": 9,
    "start_time": "2024-01-08T12:07:16.974Z"
   },
   {
    "duration": 12,
    "start_time": "2024-01-08T12:07:16.985Z"
   },
   {
    "duration": 8,
    "start_time": "2024-01-08T12:07:16.999Z"
   },
   {
    "duration": 13,
    "start_time": "2024-01-08T12:07:17.008Z"
   },
   {
    "duration": 4,
    "start_time": "2024-01-08T12:07:17.023Z"
   },
   {
    "duration": 7,
    "start_time": "2024-01-08T12:07:17.028Z"
   },
   {
    "duration": 12,
    "start_time": "2024-01-08T12:07:17.036Z"
   },
   {
    "duration": 7,
    "start_time": "2024-01-08T12:07:17.049Z"
   },
   {
    "duration": 7,
    "start_time": "2024-01-08T12:07:17.057Z"
   },
   {
    "duration": 9,
    "start_time": "2024-01-08T12:07:17.065Z"
   },
   {
    "duration": 1530,
    "start_time": "2024-01-08T12:07:17.076Z"
   },
   {
    "duration": 904,
    "start_time": "2024-01-08T12:07:18.610Z"
   },
   {
    "duration": 1203,
    "start_time": "2024-01-08T12:07:19.528Z"
   },
   {
    "duration": 15,
    "start_time": "2024-01-08T12:07:20.733Z"
   },
   {
    "duration": 62,
    "start_time": "2024-01-08T12:07:20.749Z"
   },
   {
    "duration": 105,
    "start_time": "2024-01-08T12:07:20.814Z"
   },
   {
    "duration": 28,
    "start_time": "2024-01-08T12:07:20.923Z"
   },
   {
    "duration": 249,
    "start_time": "2024-01-08T12:07:20.952Z"
   },
   {
    "duration": 31,
    "start_time": "2024-01-08T12:07:21.210Z"
   },
   {
    "duration": 289,
    "start_time": "2024-01-08T12:07:21.243Z"
   },
   {
    "duration": 518,
    "start_time": "2024-01-08T12:07:21.539Z"
   },
   {
    "duration": 20342,
    "start_time": "2024-01-08T13:28:24.007Z"
   },
   {
    "duration": 84,
    "start_time": "2024-01-08T13:28:44.352Z"
   },
   {
    "duration": 25,
    "start_time": "2024-01-08T13:28:44.437Z"
   },
   {
    "duration": 13,
    "start_time": "2024-01-08T13:28:44.463Z"
   },
   {
    "duration": 15,
    "start_time": "2024-01-08T13:28:44.479Z"
   },
   {
    "duration": 13,
    "start_time": "2024-01-08T13:28:44.495Z"
   },
   {
    "duration": 7,
    "start_time": "2024-01-08T13:28:44.509Z"
   },
   {
    "duration": 6,
    "start_time": "2024-01-08T13:28:44.517Z"
   },
   {
    "duration": 5,
    "start_time": "2024-01-08T13:28:44.524Z"
   },
   {
    "duration": 4,
    "start_time": "2024-01-08T13:28:44.531Z"
   },
   {
    "duration": 5,
    "start_time": "2024-01-08T13:28:44.537Z"
   },
   {
    "duration": 39,
    "start_time": "2024-01-08T13:28:44.544Z"
   },
   {
    "duration": 5,
    "start_time": "2024-01-08T13:28:44.585Z"
   },
   {
    "duration": 4,
    "start_time": "2024-01-08T13:28:44.593Z"
   },
   {
    "duration": 4,
    "start_time": "2024-01-08T13:28:44.599Z"
   },
   {
    "duration": 4,
    "start_time": "2024-01-08T13:28:44.605Z"
   },
   {
    "duration": 5,
    "start_time": "2024-01-08T13:28:44.610Z"
   },
   {
    "duration": 5,
    "start_time": "2024-01-08T13:28:44.617Z"
   },
   {
    "duration": 8,
    "start_time": "2024-01-08T13:28:44.623Z"
   },
   {
    "duration": 77,
    "start_time": "2024-01-08T13:28:44.633Z"
   },
   {
    "duration": 488,
    "start_time": "2024-01-08T13:28:44.712Z"
   },
   {
    "duration": 278,
    "start_time": "2024-01-08T13:28:45.201Z"
   },
   {
    "duration": 182,
    "start_time": "2024-01-08T13:28:45.481Z"
   },
   {
    "duration": 3,
    "start_time": "2024-01-08T13:28:45.665Z"
   },
   {
    "duration": 18,
    "start_time": "2024-01-08T13:28:45.669Z"
   },
   {
    "duration": 7,
    "start_time": "2024-01-08T13:28:45.688Z"
   },
   {
    "duration": 382,
    "start_time": "2024-01-08T13:28:45.696Z"
   },
   {
    "duration": 257,
    "start_time": "2024-01-08T13:28:46.080Z"
   },
   {
    "duration": 4,
    "start_time": "2024-01-08T13:28:46.338Z"
   },
   {
    "duration": 12,
    "start_time": "2024-01-08T13:28:46.343Z"
   },
   {
    "duration": 26,
    "start_time": "2024-01-08T13:28:46.357Z"
   },
   {
    "duration": 8,
    "start_time": "2024-01-08T13:28:46.384Z"
   },
   {
    "duration": 182,
    "start_time": "2024-01-08T13:28:46.394Z"
   },
   {
    "duration": 407,
    "start_time": "2024-01-08T13:28:46.578Z"
   },
   {
    "duration": 225,
    "start_time": "2024-01-08T13:28:46.987Z"
   },
   {
    "duration": 13,
    "start_time": "2024-01-08T13:28:47.214Z"
   },
   {
    "duration": 478,
    "start_time": "2024-01-08T13:28:47.229Z"
   },
   {
    "duration": 203,
    "start_time": "2024-01-08T13:28:47.708Z"
   },
   {
    "duration": 15,
    "start_time": "2024-01-08T13:28:47.913Z"
   },
   {
    "duration": 211,
    "start_time": "2024-01-08T13:28:47.929Z"
   },
   {
    "duration": 14,
    "start_time": "2024-01-08T13:28:48.144Z"
   },
   {
    "duration": 27,
    "start_time": "2024-01-08T13:28:48.159Z"
   },
   {
    "duration": 297,
    "start_time": "2024-01-08T13:28:48.187Z"
   },
   {
    "duration": 187,
    "start_time": "2024-01-08T13:28:48.485Z"
   },
   {
    "duration": 19,
    "start_time": "2024-01-08T13:28:48.674Z"
   },
   {
    "duration": 257,
    "start_time": "2024-01-08T13:28:48.695Z"
   },
   {
    "duration": 13,
    "start_time": "2024-01-08T13:28:48.954Z"
   },
   {
    "duration": 12,
    "start_time": "2024-01-08T13:28:48.981Z"
   },
   {
    "duration": 4,
    "start_time": "2024-01-08T13:28:48.994Z"
   },
   {
    "duration": 4,
    "start_time": "2024-01-08T13:28:48.999Z"
   },
   {
    "duration": 5,
    "start_time": "2024-01-08T13:28:49.004Z"
   },
   {
    "duration": 5,
    "start_time": "2024-01-08T13:28:49.010Z"
   },
   {
    "duration": 11,
    "start_time": "2024-01-08T13:28:49.017Z"
   },
   {
    "duration": 8,
    "start_time": "2024-01-08T13:28:49.029Z"
   },
   {
    "duration": 58,
    "start_time": "2024-01-08T13:28:49.038Z"
   },
   {
    "duration": 13,
    "start_time": "2024-01-08T13:28:49.097Z"
   },
   {
    "duration": 6,
    "start_time": "2024-01-08T13:28:49.112Z"
   },
   {
    "duration": 14,
    "start_time": "2024-01-08T13:28:49.120Z"
   },
   {
    "duration": 47,
    "start_time": "2024-01-08T13:28:49.136Z"
   },
   {
    "duration": 1543,
    "start_time": "2024-01-08T13:28:49.185Z"
   },
   {
    "duration": 7,
    "start_time": "2024-01-08T13:28:50.730Z"
   },
   {
    "duration": 33,
    "start_time": "2024-01-08T13:28:50.739Z"
   },
   {
    "duration": 20,
    "start_time": "2024-01-08T13:28:50.774Z"
   },
   {
    "duration": 6,
    "start_time": "2024-01-08T13:28:50.796Z"
   },
   {
    "duration": 2,
    "start_time": "2024-01-08T13:28:50.804Z"
   },
   {
    "duration": 5,
    "start_time": "2024-01-08T13:28:50.808Z"
   },
   {
    "duration": 16,
    "start_time": "2024-01-08T13:28:50.814Z"
   },
   {
    "duration": 15,
    "start_time": "2024-01-08T13:28:50.831Z"
   },
   {
    "duration": 9,
    "start_time": "2024-01-08T13:28:50.847Z"
   },
   {
    "duration": 20,
    "start_time": "2024-01-08T13:28:50.857Z"
   },
   {
    "duration": 5,
    "start_time": "2024-01-08T13:28:50.878Z"
   },
   {
    "duration": 1446,
    "start_time": "2024-01-08T13:28:50.884Z"
   },
   {
    "duration": 916,
    "start_time": "2024-01-08T13:28:52.331Z"
   },
   {
    "duration": 1037,
    "start_time": "2024-01-08T13:28:53.249Z"
   },
   {
    "duration": 17,
    "start_time": "2024-01-08T13:28:54.287Z"
   },
   {
    "duration": 78,
    "start_time": "2024-01-08T13:28:54.306Z"
   },
   {
    "duration": 109,
    "start_time": "2024-01-08T13:28:54.386Z"
   },
   {
    "duration": 20,
    "start_time": "2024-01-08T13:28:54.496Z"
   },
   {
    "duration": 243,
    "start_time": "2024-01-08T13:28:54.518Z"
   },
   {
    "duration": 28,
    "start_time": "2024-01-08T13:28:54.763Z"
   },
   {
    "duration": 282,
    "start_time": "2024-01-08T13:28:54.792Z"
   },
   {
    "duration": 447,
    "start_time": "2024-01-08T13:28:55.081Z"
   },
   {
    "duration": 23204,
    "start_time": "2024-01-09T08:11:33.352Z"
   },
   {
    "duration": 7389,
    "start_time": "2024-01-09T10:30:18.910Z"
   },
   {
    "duration": 244,
    "start_time": "2024-01-09T10:30:26.302Z"
   },
   {
    "duration": 28,
    "start_time": "2024-01-09T10:30:26.548Z"
   },
   {
    "duration": 21,
    "start_time": "2024-01-09T10:30:26.578Z"
   },
   {
    "duration": 29,
    "start_time": "2024-01-09T10:30:26.601Z"
   },
   {
    "duration": 26,
    "start_time": "2024-01-09T10:30:26.632Z"
   },
   {
    "duration": 28,
    "start_time": "2024-01-09T10:30:26.659Z"
   },
   {
    "duration": 29,
    "start_time": "2024-01-09T10:30:26.689Z"
   },
   {
    "duration": 22,
    "start_time": "2024-01-09T10:30:26.719Z"
   },
   {
    "duration": 28,
    "start_time": "2024-01-09T10:30:26.743Z"
   },
   {
    "duration": 53,
    "start_time": "2024-01-09T10:30:26.772Z"
   },
   {
    "duration": 31,
    "start_time": "2024-01-09T10:30:26.827Z"
   },
   {
    "duration": 19,
    "start_time": "2024-01-09T10:30:26.860Z"
   },
   {
    "duration": 29,
    "start_time": "2024-01-09T10:30:26.880Z"
   },
   {
    "duration": 15,
    "start_time": "2024-01-09T10:30:26.911Z"
   },
   {
    "duration": 13,
    "start_time": "2024-01-09T10:30:26.928Z"
   },
   {
    "duration": 27,
    "start_time": "2024-01-09T10:30:26.943Z"
   },
   {
    "duration": 22,
    "start_time": "2024-01-09T10:30:26.972Z"
   },
   {
    "duration": 24,
    "start_time": "2024-01-09T10:30:26.996Z"
   },
   {
    "duration": 43,
    "start_time": "2024-01-09T10:30:27.022Z"
   },
   {
    "duration": 411,
    "start_time": "2024-01-09T10:30:27.067Z"
   },
   {
    "duration": 278,
    "start_time": "2024-01-09T10:30:27.479Z"
   },
   {
    "duration": 181,
    "start_time": "2024-01-09T10:30:27.758Z"
   },
   {
    "duration": 4,
    "start_time": "2024-01-09T10:30:27.942Z"
   },
   {
    "duration": 49,
    "start_time": "2024-01-09T10:30:27.947Z"
   },
   {
    "duration": 63,
    "start_time": "2024-01-09T10:30:27.998Z"
   },
   {
    "duration": 411,
    "start_time": "2024-01-09T10:30:28.062Z"
   },
   {
    "duration": 397,
    "start_time": "2024-01-09T10:30:28.477Z"
   },
   {
    "duration": 3,
    "start_time": "2024-01-09T10:30:28.876Z"
   },
   {
    "duration": 53,
    "start_time": "2024-01-09T10:30:28.881Z"
   },
   {
    "duration": 25,
    "start_time": "2024-01-09T10:30:28.936Z"
   },
   {
    "duration": 24,
    "start_time": "2024-01-09T10:30:28.962Z"
   },
   {
    "duration": 183,
    "start_time": "2024-01-09T10:30:28.987Z"
   },
   {
    "duration": 270,
    "start_time": "2024-01-09T10:30:29.172Z"
   },
   {
    "duration": 204,
    "start_time": "2024-01-09T10:30:29.444Z"
   },
   {
    "duration": 14,
    "start_time": "2024-01-09T10:30:29.649Z"
   },
   {
    "duration": 469,
    "start_time": "2024-01-09T10:30:29.665Z"
   },
   {
    "duration": 191,
    "start_time": "2024-01-09T10:30:30.136Z"
   },
   {
    "duration": 26,
    "start_time": "2024-01-09T10:30:30.328Z"
   },
   {
    "duration": 233,
    "start_time": "2024-01-09T10:30:30.356Z"
   },
   {
    "duration": 14,
    "start_time": "2024-01-09T10:30:30.591Z"
   },
   {
    "duration": 98,
    "start_time": "2024-01-09T10:30:30.607Z"
   },
   {
    "duration": 295,
    "start_time": "2024-01-09T10:30:30.707Z"
   },
   {
    "duration": 176,
    "start_time": "2024-01-09T10:30:31.003Z"
   },
   {
    "duration": 13,
    "start_time": "2024-01-09T10:30:31.181Z"
   },
   {
    "duration": 272,
    "start_time": "2024-01-09T10:30:31.196Z"
   },
   {
    "duration": 11,
    "start_time": "2024-01-09T10:30:31.469Z"
   },
   {
    "duration": 23,
    "start_time": "2024-01-09T10:30:31.482Z"
   },
   {
    "duration": 21,
    "start_time": "2024-01-09T10:30:31.506Z"
   },
   {
    "duration": 19,
    "start_time": "2024-01-09T10:30:31.528Z"
   },
   {
    "duration": 59,
    "start_time": "2024-01-09T10:30:31.548Z"
   },
   {
    "duration": 46,
    "start_time": "2024-01-09T10:30:31.609Z"
   },
   {
    "duration": 31,
    "start_time": "2024-01-09T10:30:31.657Z"
   },
   {
    "duration": 45,
    "start_time": "2024-01-09T10:30:31.690Z"
   },
   {
    "duration": 49,
    "start_time": "2024-01-09T10:30:31.736Z"
   },
   {
    "duration": 29,
    "start_time": "2024-01-09T10:30:31.787Z"
   },
   {
    "duration": 19,
    "start_time": "2024-01-09T10:30:31.817Z"
   },
   {
    "duration": 39,
    "start_time": "2024-01-09T10:30:31.838Z"
   },
   {
    "duration": 29,
    "start_time": "2024-01-09T10:30:31.878Z"
   },
   {
    "duration": 1603,
    "start_time": "2024-01-09T10:30:31.908Z"
   },
   {
    "duration": 7,
    "start_time": "2024-01-09T10:30:33.512Z"
   },
   {
    "duration": 31,
    "start_time": "2024-01-09T10:30:33.521Z"
   },
   {
    "duration": 15,
    "start_time": "2024-01-09T10:30:33.554Z"
   },
   {
    "duration": 9,
    "start_time": "2024-01-09T10:30:33.571Z"
   },
   {
    "duration": 4,
    "start_time": "2024-01-09T10:30:33.582Z"
   },
   {
    "duration": 7,
    "start_time": "2024-01-09T10:30:33.588Z"
   },
   {
    "duration": 4,
    "start_time": "2024-01-09T10:30:33.596Z"
   },
   {
    "duration": 6,
    "start_time": "2024-01-09T10:30:33.601Z"
   },
   {
    "duration": 8,
    "start_time": "2024-01-09T10:30:33.609Z"
   },
   {
    "duration": 8,
    "start_time": "2024-01-09T10:30:33.619Z"
   },
   {
    "duration": 15,
    "start_time": "2024-01-09T10:30:33.629Z"
   },
   {
    "duration": 1573,
    "start_time": "2024-01-09T10:30:33.646Z"
   },
   {
    "duration": 895,
    "start_time": "2024-01-09T10:30:35.221Z"
   },
   {
    "duration": 1124,
    "start_time": "2024-01-09T10:30:36.118Z"
   },
   {
    "duration": 19,
    "start_time": "2024-01-09T10:30:37.244Z"
   },
   {
    "duration": 79,
    "start_time": "2024-01-09T10:30:37.265Z"
   },
   {
    "duration": 107,
    "start_time": "2024-01-09T10:30:37.346Z"
   },
   {
    "duration": 21,
    "start_time": "2024-01-09T10:30:37.454Z"
   },
   {
    "duration": 250,
    "start_time": "2024-01-09T10:30:37.477Z"
   },
   {
    "duration": 29,
    "start_time": "2024-01-09T10:30:37.729Z"
   },
   {
    "duration": 291,
    "start_time": "2024-01-09T10:30:37.759Z"
   },
   {
    "duration": 491,
    "start_time": "2024-01-09T10:30:38.058Z"
   },
   {
    "duration": 1161,
    "start_time": "2024-01-09T10:36:39.431Z"
   },
   {
    "duration": 1144,
    "start_time": "2024-01-09T10:36:59.073Z"
   },
   {
    "duration": 1239,
    "start_time": "2024-01-09T10:40:10.452Z"
   },
   {
    "duration": 1226,
    "start_time": "2024-01-09T10:40:29.052Z"
   },
   {
    "duration": 5,
    "start_time": "2024-01-09T11:56:47.273Z"
   },
   {
    "duration": 7,
    "start_time": "2024-01-09T11:56:59.552Z"
   },
   {
    "duration": 7519,
    "start_time": "2024-01-09T11:57:42.962Z"
   },
   {
    "duration": 85,
    "start_time": "2024-01-09T11:57:50.484Z"
   },
   {
    "duration": 22,
    "start_time": "2024-01-09T11:57:50.571Z"
   },
   {
    "duration": 15,
    "start_time": "2024-01-09T11:57:50.596Z"
   },
   {
    "duration": 13,
    "start_time": "2024-01-09T11:57:50.613Z"
   },
   {
    "duration": 27,
    "start_time": "2024-01-09T11:57:50.628Z"
   },
   {
    "duration": 8,
    "start_time": "2024-01-09T11:57:50.657Z"
   },
   {
    "duration": 9,
    "start_time": "2024-01-09T11:57:50.667Z"
   },
   {
    "duration": 7,
    "start_time": "2024-01-09T11:57:50.678Z"
   },
   {
    "duration": 5,
    "start_time": "2024-01-09T11:57:50.688Z"
   },
   {
    "duration": 8,
    "start_time": "2024-01-09T11:57:50.695Z"
   },
   {
    "duration": 39,
    "start_time": "2024-01-09T11:57:50.704Z"
   },
   {
    "duration": 5,
    "start_time": "2024-01-09T11:57:50.745Z"
   },
   {
    "duration": 5,
    "start_time": "2024-01-09T11:57:50.751Z"
   },
   {
    "duration": 10,
    "start_time": "2024-01-09T11:57:50.757Z"
   },
   {
    "duration": 5,
    "start_time": "2024-01-09T11:57:50.768Z"
   },
   {
    "duration": 5,
    "start_time": "2024-01-09T11:57:50.774Z"
   },
   {
    "duration": 8,
    "start_time": "2024-01-09T11:57:50.780Z"
   },
   {
    "duration": 6,
    "start_time": "2024-01-09T11:57:50.789Z"
   },
   {
    "duration": 72,
    "start_time": "2024-01-09T11:57:50.797Z"
   },
   {
    "duration": 575,
    "start_time": "2024-01-09T11:57:50.871Z"
   },
   {
    "duration": 280,
    "start_time": "2024-01-09T11:57:51.448Z"
   },
   {
    "duration": 404,
    "start_time": "2024-01-09T11:57:51.730Z"
   },
   {
    "duration": 9,
    "start_time": "2024-01-09T11:57:52.135Z"
   },
   {
    "duration": 10,
    "start_time": "2024-01-09T11:57:52.146Z"
   },
   {
    "duration": 5,
    "start_time": "2024-01-09T11:57:52.157Z"
   },
   {
    "duration": 11,
    "start_time": "2024-01-09T11:57:52.163Z"
   },
   {
    "duration": 468,
    "start_time": "2024-01-09T11:57:52.179Z"
   },
   {
    "duration": 302,
    "start_time": "2024-01-09T11:57:52.648Z"
   },
   {
    "duration": 4,
    "start_time": "2024-01-09T11:57:52.951Z"
   },
   {
    "duration": 12,
    "start_time": "2024-01-09T11:57:52.957Z"
   },
   {
    "duration": 15,
    "start_time": "2024-01-09T11:57:52.970Z"
   },
   {
    "duration": 8,
    "start_time": "2024-01-09T11:57:52.987Z"
   },
   {
    "duration": 180,
    "start_time": "2024-01-09T11:57:52.996Z"
   },
   {
    "duration": 338,
    "start_time": "2024-01-09T11:57:53.178Z"
   },
   {
    "duration": 216,
    "start_time": "2024-01-09T11:57:53.517Z"
   },
   {
    "duration": 18,
    "start_time": "2024-01-09T11:57:53.735Z"
   },
   {
    "duration": 560,
    "start_time": "2024-01-09T11:57:53.754Z"
   },
   {
    "duration": 201,
    "start_time": "2024-01-09T11:57:54.316Z"
   },
   {
    "duration": 26,
    "start_time": "2024-01-09T11:57:54.518Z"
   },
   {
    "duration": 204,
    "start_time": "2024-01-09T11:57:54.545Z"
   },
   {
    "duration": 14,
    "start_time": "2024-01-09T11:57:54.750Z"
   },
   {
    "duration": 15,
    "start_time": "2024-01-09T11:57:54.766Z"
   },
   {
    "duration": 509,
    "start_time": "2024-01-09T11:57:54.783Z"
   },
   {
    "duration": 205,
    "start_time": "2024-01-09T11:57:55.294Z"
   },
   {
    "duration": 13,
    "start_time": "2024-01-09T11:57:55.501Z"
   },
   {
    "duration": 330,
    "start_time": "2024-01-09T11:57:55.515Z"
   },
   {
    "duration": 12,
    "start_time": "2024-01-09T11:57:55.846Z"
   },
   {
    "duration": 11,
    "start_time": "2024-01-09T11:57:55.859Z"
   },
   {
    "duration": 9,
    "start_time": "2024-01-09T11:57:55.872Z"
   },
   {
    "duration": 5,
    "start_time": "2024-01-09T11:57:55.882Z"
   },
   {
    "duration": 11,
    "start_time": "2024-01-09T11:57:55.888Z"
   },
   {
    "duration": 10,
    "start_time": "2024-01-09T11:57:55.900Z"
   },
   {
    "duration": 37,
    "start_time": "2024-01-09T11:57:55.911Z"
   },
   {
    "duration": 8,
    "start_time": "2024-01-09T11:57:55.949Z"
   },
   {
    "duration": 21,
    "start_time": "2024-01-09T11:57:55.958Z"
   },
   {
    "duration": 13,
    "start_time": "2024-01-09T11:57:55.981Z"
   },
   {
    "duration": 6,
    "start_time": "2024-01-09T11:57:55.996Z"
   },
   {
    "duration": 42,
    "start_time": "2024-01-09T11:57:56.004Z"
   },
   {
    "duration": 19,
    "start_time": "2024-01-09T11:57:56.048Z"
   },
   {
    "duration": 1456,
    "start_time": "2024-01-09T11:57:56.068Z"
   },
   {
    "duration": 7,
    "start_time": "2024-01-09T11:57:57.525Z"
   },
   {
    "duration": 23,
    "start_time": "2024-01-09T11:57:57.533Z"
   },
   {
    "duration": 9,
    "start_time": "2024-01-09T11:57:57.558Z"
   },
   {
    "duration": 28,
    "start_time": "2024-01-09T11:57:57.568Z"
   },
   {
    "duration": 22,
    "start_time": "2024-01-09T11:57:57.597Z"
   },
   {
    "duration": 3,
    "start_time": "2024-01-09T11:57:57.620Z"
   },
   {
    "duration": 10,
    "start_time": "2024-01-09T11:57:57.625Z"
   },
   {
    "duration": 10,
    "start_time": "2024-01-09T11:57:57.637Z"
   },
   {
    "duration": 8,
    "start_time": "2024-01-09T11:57:57.649Z"
   },
   {
    "duration": 11,
    "start_time": "2024-01-09T11:57:57.658Z"
   },
   {
    "duration": 23,
    "start_time": "2024-01-09T11:57:57.670Z"
   },
   {
    "duration": 1401,
    "start_time": "2024-01-09T11:57:57.695Z"
   },
   {
    "duration": 858,
    "start_time": "2024-01-09T11:57:59.097Z"
   },
   {
    "duration": 1123,
    "start_time": "2024-01-09T11:57:59.957Z"
   },
   {
    "duration": 16,
    "start_time": "2024-01-09T11:58:01.082Z"
   },
   {
    "duration": 242,
    "start_time": "2024-01-09T11:58:01.100Z"
   },
   {
    "duration": 215,
    "start_time": "2024-01-09T11:58:01.344Z"
   },
   {
    "duration": 19,
    "start_time": "2024-01-09T11:58:01.561Z"
   },
   {
    "duration": 254,
    "start_time": "2024-01-09T11:58:01.582Z"
   },
   {
    "duration": 22,
    "start_time": "2024-01-09T11:58:01.843Z"
   },
   {
    "duration": 302,
    "start_time": "2024-01-09T11:58:01.871Z"
   },
   {
    "duration": 585,
    "start_time": "2024-01-09T11:58:02.175Z"
   },
   {
    "duration": 7382,
    "start_time": "2024-01-09T13:55:24.093Z"
   },
   {
    "duration": 90,
    "start_time": "2024-01-09T13:55:31.477Z"
   },
   {
    "duration": 24,
    "start_time": "2024-01-09T13:55:31.569Z"
   },
   {
    "duration": 47,
    "start_time": "2024-01-09T13:55:31.595Z"
   },
   {
    "duration": 35,
    "start_time": "2024-01-09T13:55:31.644Z"
   },
   {
    "duration": 62,
    "start_time": "2024-01-09T13:55:31.680Z"
   },
   {
    "duration": 23,
    "start_time": "2024-01-09T13:55:31.744Z"
   },
   {
    "duration": 34,
    "start_time": "2024-01-09T13:55:31.769Z"
   },
   {
    "duration": 24,
    "start_time": "2024-01-09T13:55:31.805Z"
   },
   {
    "duration": 38,
    "start_time": "2024-01-09T13:55:31.833Z"
   },
   {
    "duration": 27,
    "start_time": "2024-01-09T13:55:31.873Z"
   },
   {
    "duration": 17,
    "start_time": "2024-01-09T13:55:31.902Z"
   },
   {
    "duration": 25,
    "start_time": "2024-01-09T13:55:31.921Z"
   },
   {
    "duration": 36,
    "start_time": "2024-01-09T13:55:31.948Z"
   },
   {
    "duration": 18,
    "start_time": "2024-01-09T13:55:31.986Z"
   },
   {
    "duration": 29,
    "start_time": "2024-01-09T13:55:32.006Z"
   },
   {
    "duration": 34,
    "start_time": "2024-01-09T13:55:32.037Z"
   },
   {
    "duration": 40,
    "start_time": "2024-01-09T13:55:32.073Z"
   },
   {
    "duration": 26,
    "start_time": "2024-01-09T13:55:32.115Z"
   },
   {
    "duration": 56,
    "start_time": "2024-01-09T13:55:32.143Z"
   },
   {
    "duration": 548,
    "start_time": "2024-01-09T13:55:32.202Z"
   },
   {
    "duration": 287,
    "start_time": "2024-01-09T13:55:32.753Z"
   },
   {
    "duration": 218,
    "start_time": "2024-01-09T13:55:33.043Z"
   },
   {
    "duration": 4,
    "start_time": "2024-01-09T13:55:33.262Z"
   },
   {
    "duration": 26,
    "start_time": "2024-01-09T13:55:33.267Z"
   },
   {
    "duration": 491,
    "start_time": "2024-01-09T13:55:33.295Z"
   },
   {
    "duration": 295,
    "start_time": "2024-01-09T13:55:33.788Z"
   },
   {
    "duration": 4,
    "start_time": "2024-01-09T13:55:34.087Z"
   },
   {
    "duration": 28,
    "start_time": "2024-01-09T13:55:34.092Z"
   },
   {
    "duration": 31,
    "start_time": "2024-01-09T13:55:34.122Z"
   },
   {
    "duration": 31,
    "start_time": "2024-01-09T13:55:34.155Z"
   },
   {
    "duration": 182,
    "start_time": "2024-01-09T13:55:34.188Z"
   },
   {
    "duration": 359,
    "start_time": "2024-01-09T13:55:34.372Z"
   },
   {
    "duration": 237,
    "start_time": "2024-01-09T13:55:34.733Z"
   },
   {
    "duration": 13,
    "start_time": "2024-01-09T13:55:34.971Z"
   },
   {
    "duration": 779,
    "start_time": "2024-01-09T13:55:34.986Z"
   },
   {
    "duration": 208,
    "start_time": "2024-01-09T13:55:35.767Z"
   },
   {
    "duration": 16,
    "start_time": "2024-01-09T13:55:35.977Z"
   },
   {
    "duration": 243,
    "start_time": "2024-01-09T13:55:35.995Z"
   },
   {
    "duration": 13,
    "start_time": "2024-01-09T13:55:36.239Z"
   },
   {
    "duration": 12,
    "start_time": "2024-01-09T13:55:36.253Z"
   },
   {
    "duration": 348,
    "start_time": "2024-01-09T13:55:36.267Z"
   },
   {
    "duration": 180,
    "start_time": "2024-01-09T13:55:36.617Z"
   },
   {
    "duration": 14,
    "start_time": "2024-01-09T13:55:36.799Z"
   },
   {
    "duration": 311,
    "start_time": "2024-01-09T13:55:36.815Z"
   },
   {
    "duration": 20,
    "start_time": "2024-01-09T13:55:37.128Z"
   },
   {
    "duration": 13,
    "start_time": "2024-01-09T13:55:37.150Z"
   },
   {
    "duration": 4,
    "start_time": "2024-01-09T13:55:37.165Z"
   },
   {
    "duration": 6,
    "start_time": "2024-01-09T13:55:37.170Z"
   },
   {
    "duration": 5,
    "start_time": "2024-01-09T13:55:37.178Z"
   },
   {
    "duration": 5,
    "start_time": "2024-01-09T13:55:37.185Z"
   },
   {
    "duration": 55,
    "start_time": "2024-01-09T13:55:37.192Z"
   },
   {
    "duration": 9,
    "start_time": "2024-01-09T13:55:37.249Z"
   },
   {
    "duration": 16,
    "start_time": "2024-01-09T13:55:37.260Z"
   },
   {
    "duration": 13,
    "start_time": "2024-01-09T13:55:37.278Z"
   },
   {
    "duration": 6,
    "start_time": "2024-01-09T13:55:37.293Z"
   },
   {
    "duration": 52,
    "start_time": "2024-01-09T13:55:37.301Z"
   },
   {
    "duration": 27,
    "start_time": "2024-01-09T13:55:37.355Z"
   },
   {
    "duration": 1485,
    "start_time": "2024-01-09T13:55:37.383Z"
   },
   {
    "duration": 8,
    "start_time": "2024-01-09T13:55:38.869Z"
   },
   {
    "duration": 18,
    "start_time": "2024-01-09T13:55:38.878Z"
   },
   {
    "duration": 22,
    "start_time": "2024-01-09T13:55:38.897Z"
   },
   {
    "duration": 26,
    "start_time": "2024-01-09T13:55:38.921Z"
   },
   {
    "duration": 11,
    "start_time": "2024-01-09T13:55:38.949Z"
   },
   {
    "duration": 22,
    "start_time": "2024-01-09T13:55:38.961Z"
   },
   {
    "duration": 13,
    "start_time": "2024-01-09T13:55:38.984Z"
   },
   {
    "duration": 18,
    "start_time": "2024-01-09T13:55:38.999Z"
   },
   {
    "duration": 33,
    "start_time": "2024-01-09T13:55:39.018Z"
   },
   {
    "duration": 39,
    "start_time": "2024-01-09T13:55:39.053Z"
   },
   {
    "duration": 28,
    "start_time": "2024-01-09T13:55:39.093Z"
   },
   {
    "duration": 1459,
    "start_time": "2024-01-09T13:55:39.123Z"
   },
   {
    "duration": 1251,
    "start_time": "2024-01-09T13:55:40.584Z"
   },
   {
    "duration": 858,
    "start_time": "2024-01-09T13:55:41.841Z"
   },
   {
    "duration": 1421,
    "start_time": "2024-01-09T13:55:42.701Z"
   },
   {
    "duration": 27,
    "start_time": "2024-01-09T13:55:44.123Z"
   },
   {
    "duration": 92,
    "start_time": "2024-01-09T13:55:44.152Z"
   },
   {
    "duration": 115,
    "start_time": "2024-01-09T13:55:44.247Z"
   },
   {
    "duration": 31,
    "start_time": "2024-01-09T13:55:44.364Z"
   },
   {
    "duration": 244,
    "start_time": "2024-01-09T13:55:44.396Z"
   },
   {
    "duration": 24,
    "start_time": "2024-01-09T13:55:44.643Z"
   },
   {
    "duration": 316,
    "start_time": "2024-01-09T13:55:44.669Z"
   },
   {
    "duration": 432,
    "start_time": "2024-01-09T13:55:44.990Z"
   },
   {
    "duration": 7878,
    "start_time": "2024-01-09T14:06:39.019Z"
   },
   {
    "duration": 85,
    "start_time": "2024-01-09T14:06:46.900Z"
   },
   {
    "duration": 21,
    "start_time": "2024-01-09T14:06:46.987Z"
   },
   {
    "duration": 14,
    "start_time": "2024-01-09T14:06:47.011Z"
   },
   {
    "duration": 12,
    "start_time": "2024-01-09T14:06:47.027Z"
   },
   {
    "duration": 15,
    "start_time": "2024-01-09T14:06:47.041Z"
   },
   {
    "duration": 6,
    "start_time": "2024-01-09T14:06:47.058Z"
   },
   {
    "duration": 24,
    "start_time": "2024-01-09T14:06:47.065Z"
   },
   {
    "duration": 6,
    "start_time": "2024-01-09T14:06:47.090Z"
   },
   {
    "duration": 12,
    "start_time": "2024-01-09T14:06:47.099Z"
   },
   {
    "duration": 10,
    "start_time": "2024-01-09T14:06:47.112Z"
   },
   {
    "duration": 21,
    "start_time": "2024-01-09T14:06:47.123Z"
   },
   {
    "duration": 6,
    "start_time": "2024-01-09T14:06:47.146Z"
   },
   {
    "duration": 13,
    "start_time": "2024-01-09T14:06:47.154Z"
   },
   {
    "duration": 6,
    "start_time": "2024-01-09T14:06:47.168Z"
   },
   {
    "duration": 10,
    "start_time": "2024-01-09T14:06:47.176Z"
   },
   {
    "duration": 4,
    "start_time": "2024-01-09T14:06:47.188Z"
   },
   {
    "duration": 10,
    "start_time": "2024-01-09T14:06:47.194Z"
   },
   {
    "duration": 36,
    "start_time": "2024-01-09T14:06:47.206Z"
   },
   {
    "duration": 32,
    "start_time": "2024-01-09T14:06:47.245Z"
   },
   {
    "duration": 564,
    "start_time": "2024-01-09T14:06:47.278Z"
   },
   {
    "duration": 302,
    "start_time": "2024-01-09T14:06:47.844Z"
   },
   {
    "duration": 211,
    "start_time": "2024-01-09T14:06:48.148Z"
   },
   {
    "duration": 4,
    "start_time": "2024-01-09T14:06:48.361Z"
   },
   {
    "duration": 27,
    "start_time": "2024-01-09T14:06:48.367Z"
   },
   {
    "duration": 481,
    "start_time": "2024-01-09T14:06:48.395Z"
   },
   {
    "duration": 523,
    "start_time": "2024-01-09T14:06:48.877Z"
   },
   {
    "duration": 4,
    "start_time": "2024-01-09T14:06:49.405Z"
   },
   {
    "duration": 201,
    "start_time": "2024-01-09T14:06:49.410Z"
   },
   {
    "duration": 18,
    "start_time": "2024-01-09T14:06:49.612Z"
   },
   {
    "duration": 13,
    "start_time": "2024-01-09T14:06:49.632Z"
   },
   {
    "duration": 158,
    "start_time": "2024-01-09T14:06:49.647Z"
   },
   {
    "duration": 325,
    "start_time": "2024-01-09T14:06:49.807Z"
   },
   {
    "duration": 239,
    "start_time": "2024-01-09T14:06:50.134Z"
   },
   {
    "duration": 14,
    "start_time": "2024-01-09T14:06:50.375Z"
   },
   {
    "duration": 580,
    "start_time": "2024-01-09T14:06:50.391Z"
   },
   {
    "duration": 197,
    "start_time": "2024-01-09T14:06:50.973Z"
   },
   {
    "duration": 19,
    "start_time": "2024-01-09T14:06:51.172Z"
   },
   {
    "duration": 220,
    "start_time": "2024-01-09T14:06:51.193Z"
   },
   {
    "duration": 13,
    "start_time": "2024-01-09T14:06:51.414Z"
   },
   {
    "duration": 24,
    "start_time": "2024-01-09T14:06:51.429Z"
   },
   {
    "duration": 367,
    "start_time": "2024-01-09T14:06:51.455Z"
   },
   {
    "duration": 190,
    "start_time": "2024-01-09T14:06:51.824Z"
   },
   {
    "duration": 12,
    "start_time": "2024-01-09T14:06:52.016Z"
   },
   {
    "duration": 285,
    "start_time": "2024-01-09T14:06:52.029Z"
   },
   {
    "duration": 12,
    "start_time": "2024-01-09T14:06:52.315Z"
   },
   {
    "duration": 41,
    "start_time": "2024-01-09T14:06:52.328Z"
   },
   {
    "duration": 17,
    "start_time": "2024-01-09T14:06:52.371Z"
   },
   {
    "duration": 15,
    "start_time": "2024-01-09T14:06:52.389Z"
   },
   {
    "duration": 19,
    "start_time": "2024-01-09T14:06:52.406Z"
   },
   {
    "duration": 22,
    "start_time": "2024-01-09T14:06:52.427Z"
   },
   {
    "duration": 14,
    "start_time": "2024-01-09T14:06:52.450Z"
   },
   {
    "duration": 24,
    "start_time": "2024-01-09T14:06:52.465Z"
   },
   {
    "duration": 35,
    "start_time": "2024-01-09T14:06:52.491Z"
   },
   {
    "duration": 20,
    "start_time": "2024-01-09T14:06:52.527Z"
   },
   {
    "duration": 7,
    "start_time": "2024-01-09T14:06:52.548Z"
   },
   {
    "duration": 32,
    "start_time": "2024-01-09T14:06:52.556Z"
   },
   {
    "duration": 30,
    "start_time": "2024-01-09T14:06:52.589Z"
   },
   {
    "duration": 1554,
    "start_time": "2024-01-09T14:06:52.620Z"
   },
   {
    "duration": 8,
    "start_time": "2024-01-09T14:06:54.175Z"
   },
   {
    "duration": 10,
    "start_time": "2024-01-09T14:06:54.184Z"
   },
   {
    "duration": 10,
    "start_time": "2024-01-09T14:06:54.196Z"
   },
   {
    "duration": 35,
    "start_time": "2024-01-09T14:06:54.208Z"
   },
   {
    "duration": 3,
    "start_time": "2024-01-09T14:06:54.244Z"
   },
   {
    "duration": 19,
    "start_time": "2024-01-09T14:06:54.248Z"
   },
   {
    "duration": 5,
    "start_time": "2024-01-09T14:06:54.269Z"
   },
   {
    "duration": 4,
    "start_time": "2024-01-09T14:06:54.276Z"
   },
   {
    "duration": 5,
    "start_time": "2024-01-09T14:06:54.282Z"
   },
   {
    "duration": 0,
    "start_time": "2024-01-09T14:06:54.288Z"
   },
   {
    "duration": 0,
    "start_time": "2024-01-09T14:06:54.290Z"
   },
   {
    "duration": 0,
    "start_time": "2024-01-09T14:06:54.291Z"
   },
   {
    "duration": 0,
    "start_time": "2024-01-09T14:06:54.292Z"
   },
   {
    "duration": 0,
    "start_time": "2024-01-09T14:06:54.293Z"
   },
   {
    "duration": 0,
    "start_time": "2024-01-09T14:06:54.294Z"
   },
   {
    "duration": 0,
    "start_time": "2024-01-09T14:06:54.295Z"
   },
   {
    "duration": 0,
    "start_time": "2024-01-09T14:06:54.296Z"
   },
   {
    "duration": 0,
    "start_time": "2024-01-09T14:06:54.298Z"
   },
   {
    "duration": 0,
    "start_time": "2024-01-09T14:06:54.299Z"
   },
   {
    "duration": 0,
    "start_time": "2024-01-09T14:06:54.300Z"
   },
   {
    "duration": 0,
    "start_time": "2024-01-09T14:06:54.301Z"
   },
   {
    "duration": 0,
    "start_time": "2024-01-09T14:06:54.303Z"
   },
   {
    "duration": 0,
    "start_time": "2024-01-09T14:06:54.304Z"
   },
   {
    "duration": 3,
    "start_time": "2024-01-09T14:08:44.136Z"
   },
   {
    "duration": 91,
    "start_time": "2024-01-09T14:37:53.405Z"
   },
   {
    "duration": 1405,
    "start_time": "2024-01-09T14:38:19.495Z"
   },
   {
    "duration": 1198,
    "start_time": "2024-01-09T14:38:38.394Z"
   },
   {
    "duration": 1246,
    "start_time": "2024-01-09T14:39:01.599Z"
   },
   {
    "duration": 1229,
    "start_time": "2024-01-09T14:39:22.256Z"
   },
   {
    "duration": 1224,
    "start_time": "2024-01-09T14:39:33.285Z"
   },
   {
    "duration": 1193,
    "start_time": "2024-01-09T14:40:45.210Z"
   },
   {
    "duration": 7455,
    "start_time": "2024-01-09T14:44:33.418Z"
   },
   {
    "duration": 87,
    "start_time": "2024-01-09T14:44:40.875Z"
   },
   {
    "duration": 20,
    "start_time": "2024-01-09T14:44:40.964Z"
   },
   {
    "duration": 15,
    "start_time": "2024-01-09T14:44:40.986Z"
   },
   {
    "duration": 37,
    "start_time": "2024-01-09T14:44:41.002Z"
   },
   {
    "duration": 15,
    "start_time": "2024-01-09T14:44:41.040Z"
   },
   {
    "duration": 8,
    "start_time": "2024-01-09T14:44:41.057Z"
   },
   {
    "duration": 7,
    "start_time": "2024-01-09T14:44:41.066Z"
   },
   {
    "duration": 9,
    "start_time": "2024-01-09T14:44:41.074Z"
   },
   {
    "duration": 33,
    "start_time": "2024-01-09T14:44:41.086Z"
   },
   {
    "duration": 18,
    "start_time": "2024-01-09T14:44:41.120Z"
   },
   {
    "duration": 7,
    "start_time": "2024-01-09T14:44:41.140Z"
   },
   {
    "duration": 14,
    "start_time": "2024-01-09T14:44:41.149Z"
   },
   {
    "duration": 9,
    "start_time": "2024-01-09T14:44:41.165Z"
   },
   {
    "duration": 18,
    "start_time": "2024-01-09T14:44:41.175Z"
   },
   {
    "duration": 6,
    "start_time": "2024-01-09T14:44:41.195Z"
   },
   {
    "duration": 5,
    "start_time": "2024-01-09T14:44:41.202Z"
   },
   {
    "duration": 7,
    "start_time": "2024-01-09T14:44:41.210Z"
   },
   {
    "duration": 26,
    "start_time": "2024-01-09T14:44:41.218Z"
   },
   {
    "duration": 43,
    "start_time": "2024-01-09T14:44:41.246Z"
   },
   {
    "duration": 527,
    "start_time": "2024-01-09T14:44:41.291Z"
   },
   {
    "duration": 316,
    "start_time": "2024-01-09T14:44:41.819Z"
   },
   {
    "duration": 191,
    "start_time": "2024-01-09T14:44:42.137Z"
   },
   {
    "duration": 4,
    "start_time": "2024-01-09T14:44:42.329Z"
   },
   {
    "duration": 9,
    "start_time": "2024-01-09T14:44:42.342Z"
   },
   {
    "duration": 484,
    "start_time": "2024-01-09T14:44:42.352Z"
   },
   {
    "duration": 317,
    "start_time": "2024-01-09T14:44:42.843Z"
   },
   {
    "duration": 3,
    "start_time": "2024-01-09T14:44:43.165Z"
   },
   {
    "duration": 10,
    "start_time": "2024-01-09T14:44:43.169Z"
   },
   {
    "duration": 11,
    "start_time": "2024-01-09T14:44:43.180Z"
   },
   {
    "duration": 7,
    "start_time": "2024-01-09T14:44:43.193Z"
   },
   {
    "duration": 151,
    "start_time": "2024-01-09T14:44:43.201Z"
   },
   {
    "duration": 502,
    "start_time": "2024-01-09T14:44:43.353Z"
   },
   {
    "duration": 221,
    "start_time": "2024-01-09T14:44:43.857Z"
   },
   {
    "duration": 13,
    "start_time": "2024-01-09T14:44:44.079Z"
   },
   {
    "duration": 747,
    "start_time": "2024-01-09T14:44:44.093Z"
   },
   {
    "duration": 206,
    "start_time": "2024-01-09T14:44:44.842Z"
   },
   {
    "duration": 16,
    "start_time": "2024-01-09T14:44:45.049Z"
   },
   {
    "duration": 229,
    "start_time": "2024-01-09T14:44:45.067Z"
   },
   {
    "duration": 13,
    "start_time": "2024-01-09T14:44:45.297Z"
   },
   {
    "duration": 12,
    "start_time": "2024-01-09T14:44:45.311Z"
   },
   {
    "duration": 372,
    "start_time": "2024-01-09T14:44:45.324Z"
   },
   {
    "duration": 189,
    "start_time": "2024-01-09T14:44:45.698Z"
   },
   {
    "duration": 12,
    "start_time": "2024-01-09T14:44:45.889Z"
   },
   {
    "duration": 291,
    "start_time": "2024-01-09T14:44:45.903Z"
   },
   {
    "duration": 12,
    "start_time": "2024-01-09T14:44:46.196Z"
   },
   {
    "duration": 12,
    "start_time": "2024-01-09T14:44:46.209Z"
   },
   {
    "duration": 3,
    "start_time": "2024-01-09T14:44:46.243Z"
   },
   {
    "duration": 4,
    "start_time": "2024-01-09T14:44:46.248Z"
   },
   {
    "duration": 4,
    "start_time": "2024-01-09T14:44:46.253Z"
   },
   {
    "duration": 4,
    "start_time": "2024-01-09T14:44:46.259Z"
   },
   {
    "duration": 10,
    "start_time": "2024-01-09T14:44:46.264Z"
   },
   {
    "duration": 6,
    "start_time": "2024-01-09T14:44:46.276Z"
   },
   {
    "duration": 14,
    "start_time": "2024-01-09T14:44:46.283Z"
   },
   {
    "duration": 52,
    "start_time": "2024-01-09T14:44:46.298Z"
   },
   {
    "duration": 6,
    "start_time": "2024-01-09T14:44:46.352Z"
   },
   {
    "duration": 19,
    "start_time": "2024-01-09T14:44:46.359Z"
   },
   {
    "duration": 18,
    "start_time": "2024-01-09T14:44:46.379Z"
   },
   {
    "duration": 1437,
    "start_time": "2024-01-09T14:44:46.398Z"
   },
   {
    "duration": 8,
    "start_time": "2024-01-09T14:44:47.837Z"
   },
   {
    "duration": 11,
    "start_time": "2024-01-09T14:44:47.846Z"
   },
   {
    "duration": 12,
    "start_time": "2024-01-09T14:44:47.859Z"
   },
   {
    "duration": 6,
    "start_time": "2024-01-09T14:44:47.873Z"
   },
   {
    "duration": 7,
    "start_time": "2024-01-09T14:44:47.880Z"
   },
   {
    "duration": 3,
    "start_time": "2024-01-09T14:44:47.888Z"
   },
   {
    "duration": 6,
    "start_time": "2024-01-09T14:44:47.892Z"
   },
   {
    "duration": 5,
    "start_time": "2024-01-09T14:44:47.899Z"
   },
   {
    "duration": 5,
    "start_time": "2024-01-09T14:44:47.905Z"
   },
   {
    "duration": 31,
    "start_time": "2024-01-09T14:44:47.911Z"
   },
   {
    "duration": 11,
    "start_time": "2024-01-09T14:44:47.944Z"
   },
   {
    "duration": 1069,
    "start_time": "2024-01-09T14:44:47.956Z"
   },
   {
    "duration": 859,
    "start_time": "2024-01-09T14:44:49.027Z"
   },
   {
    "duration": 829,
    "start_time": "2024-01-09T14:44:49.887Z"
   },
   {
    "duration": 1300,
    "start_time": "2024-01-09T14:44:50.718Z"
   },
   {
    "duration": 25,
    "start_time": "2024-01-09T14:44:52.020Z"
   },
   {
    "duration": 95,
    "start_time": "2024-01-09T14:44:52.047Z"
   },
   {
    "duration": 105,
    "start_time": "2024-01-09T14:44:52.145Z"
   },
   {
    "duration": 18,
    "start_time": "2024-01-09T14:44:52.251Z"
   },
   {
    "duration": 235,
    "start_time": "2024-01-09T14:44:52.271Z"
   },
   {
    "duration": 20,
    "start_time": "2024-01-09T14:44:52.507Z"
   },
   {
    "duration": 264,
    "start_time": "2024-01-09T14:44:52.543Z"
   },
   {
    "duration": 458,
    "start_time": "2024-01-09T14:44:52.812Z"
   },
   {
    "duration": 844,
    "start_time": "2024-01-09T14:47:16.529Z"
   },
   {
    "duration": 948,
    "start_time": "2024-01-09T14:47:39.162Z"
   },
   {
    "duration": 909,
    "start_time": "2024-01-09T14:47:43.426Z"
   },
   {
    "duration": 895,
    "start_time": "2024-01-09T14:48:37.459Z"
   },
   {
    "duration": 7514,
    "start_time": "2024-01-09T15:11:12.288Z"
   },
   {
    "duration": 88,
    "start_time": "2024-01-09T15:11:19.804Z"
   },
   {
    "duration": 21,
    "start_time": "2024-01-09T15:11:19.895Z"
   },
   {
    "duration": 21,
    "start_time": "2024-01-09T15:11:19.918Z"
   },
   {
    "duration": 14,
    "start_time": "2024-01-09T15:11:19.941Z"
   },
   {
    "duration": 15,
    "start_time": "2024-01-09T15:11:19.957Z"
   },
   {
    "duration": 7,
    "start_time": "2024-01-09T15:11:19.973Z"
   },
   {
    "duration": 16,
    "start_time": "2024-01-09T15:11:19.982Z"
   },
   {
    "duration": 28,
    "start_time": "2024-01-09T15:11:19.999Z"
   },
   {
    "duration": 12,
    "start_time": "2024-01-09T15:11:20.029Z"
   },
   {
    "duration": 12,
    "start_time": "2024-01-09T15:11:20.043Z"
   },
   {
    "duration": 21,
    "start_time": "2024-01-09T15:11:20.056Z"
   },
   {
    "duration": 21,
    "start_time": "2024-01-09T15:11:20.079Z"
   },
   {
    "duration": 5,
    "start_time": "2024-01-09T15:11:20.102Z"
   },
   {
    "duration": 5,
    "start_time": "2024-01-09T15:11:20.108Z"
   },
   {
    "duration": 5,
    "start_time": "2024-01-09T15:11:20.114Z"
   },
   {
    "duration": 5,
    "start_time": "2024-01-09T15:11:20.120Z"
   },
   {
    "duration": 21,
    "start_time": "2024-01-09T15:11:20.126Z"
   },
   {
    "duration": 7,
    "start_time": "2024-01-09T15:11:20.149Z"
   },
   {
    "duration": 29,
    "start_time": "2024-01-09T15:11:20.157Z"
   },
   {
    "duration": 539,
    "start_time": "2024-01-09T15:11:20.188Z"
   },
   {
    "duration": 310,
    "start_time": "2024-01-09T15:11:20.728Z"
   },
   {
    "duration": 233,
    "start_time": "2024-01-09T15:11:21.040Z"
   },
   {
    "duration": 4,
    "start_time": "2024-01-09T15:11:21.274Z"
   },
   {
    "duration": 10,
    "start_time": "2024-01-09T15:11:21.280Z"
   },
   {
    "duration": 492,
    "start_time": "2024-01-09T15:11:21.291Z"
   },
   {
    "duration": 483,
    "start_time": "2024-01-09T15:11:21.785Z"
   },
   {
    "duration": 4,
    "start_time": "2024-01-09T15:11:22.272Z"
   },
   {
    "duration": 9,
    "start_time": "2024-01-09T15:11:22.277Z"
   },
   {
    "duration": 7,
    "start_time": "2024-01-09T15:11:22.287Z"
   },
   {
    "duration": 8,
    "start_time": "2024-01-09T15:11:22.296Z"
   },
   {
    "duration": 180,
    "start_time": "2024-01-09T15:11:22.306Z"
   },
   {
    "duration": 329,
    "start_time": "2024-01-09T15:11:22.488Z"
   },
   {
    "duration": 224,
    "start_time": "2024-01-09T15:11:22.819Z"
   },
   {
    "duration": 13,
    "start_time": "2024-01-09T15:11:23.045Z"
   },
   {
    "duration": 554,
    "start_time": "2024-01-09T15:11:23.060Z"
   },
   {
    "duration": 210,
    "start_time": "2024-01-09T15:11:23.615Z"
   },
   {
    "duration": 21,
    "start_time": "2024-01-09T15:11:23.826Z"
   },
   {
    "duration": 218,
    "start_time": "2024-01-09T15:11:23.848Z"
   },
   {
    "duration": 12,
    "start_time": "2024-01-09T15:11:24.068Z"
   },
   {
    "duration": 12,
    "start_time": "2024-01-09T15:11:24.082Z"
   },
   {
    "duration": 367,
    "start_time": "2024-01-09T15:11:24.096Z"
   },
   {
    "duration": 209,
    "start_time": "2024-01-09T15:11:24.465Z"
   },
   {
    "duration": 12,
    "start_time": "2024-01-09T15:11:24.676Z"
   },
   {
    "duration": 282,
    "start_time": "2024-01-09T15:11:24.689Z"
   },
   {
    "duration": 12,
    "start_time": "2024-01-09T15:11:24.972Z"
   },
   {
    "duration": 36,
    "start_time": "2024-01-09T15:11:24.985Z"
   },
   {
    "duration": 13,
    "start_time": "2024-01-09T15:11:25.023Z"
   },
   {
    "duration": 19,
    "start_time": "2024-01-09T15:11:25.038Z"
   },
   {
    "duration": 23,
    "start_time": "2024-01-09T15:11:25.059Z"
   },
   {
    "duration": 8,
    "start_time": "2024-01-09T15:11:25.084Z"
   },
   {
    "duration": 20,
    "start_time": "2024-01-09T15:11:25.093Z"
   },
   {
    "duration": 11,
    "start_time": "2024-01-09T15:11:25.114Z"
   },
   {
    "duration": 28,
    "start_time": "2024-01-09T15:11:25.126Z"
   },
   {
    "duration": 166,
    "start_time": "2024-01-09T15:11:25.155Z"
   },
   {
    "duration": 7,
    "start_time": "2024-01-09T15:11:25.322Z"
   },
   {
    "duration": 32,
    "start_time": "2024-01-09T15:11:25.330Z"
   },
   {
    "duration": 22,
    "start_time": "2024-01-09T15:11:25.364Z"
   },
   {
    "duration": 1464,
    "start_time": "2024-01-09T15:11:25.388Z"
   },
   {
    "duration": 7,
    "start_time": "2024-01-09T15:11:26.853Z"
   },
   {
    "duration": 24,
    "start_time": "2024-01-09T15:11:26.862Z"
   },
   {
    "duration": 23,
    "start_time": "2024-01-09T15:11:26.887Z"
   },
   {
    "duration": 14,
    "start_time": "2024-01-09T15:11:26.912Z"
   },
   {
    "duration": 8,
    "start_time": "2024-01-09T15:11:26.928Z"
   },
   {
    "duration": 7,
    "start_time": "2024-01-09T15:11:26.937Z"
   },
   {
    "duration": 3,
    "start_time": "2024-01-09T15:11:26.946Z"
   },
   {
    "duration": 3,
    "start_time": "2024-01-09T15:11:26.951Z"
   },
   {
    "duration": 4,
    "start_time": "2024-01-09T15:11:26.956Z"
   },
   {
    "duration": 6,
    "start_time": "2024-01-09T15:11:26.961Z"
   },
   {
    "duration": 10,
    "start_time": "2024-01-09T15:11:26.968Z"
   },
   {
    "duration": 1044,
    "start_time": "2024-01-09T15:11:26.980Z"
   },
   {
    "duration": 861,
    "start_time": "2024-01-09T15:11:28.026Z"
   },
   {
    "duration": 1042,
    "start_time": "2024-01-09T15:11:28.888Z"
   },
   {
    "duration": 21,
    "start_time": "2024-01-09T15:11:29.932Z"
   },
   {
    "duration": 90,
    "start_time": "2024-01-09T15:11:29.954Z"
   },
   {
    "duration": 108,
    "start_time": "2024-01-09T15:11:30.046Z"
   },
   {
    "duration": 59,
    "start_time": "2024-01-09T15:11:30.156Z"
   },
   {
    "duration": 249,
    "start_time": "2024-01-09T15:11:30.217Z"
   },
   {
    "duration": 21,
    "start_time": "2024-01-09T15:11:30.468Z"
   },
   {
    "duration": 337,
    "start_time": "2024-01-09T15:11:30.491Z"
   },
   {
    "duration": 450,
    "start_time": "2024-01-09T15:11:30.830Z"
   },
   {
    "duration": 93,
    "start_time": "2024-01-09T15:16:34.181Z"
   },
   {
    "duration": 868,
    "start_time": "2024-01-09T15:18:33.813Z"
   },
   {
    "duration": 7451,
    "start_time": "2024-01-09T15:22:53.851Z"
   },
   {
    "duration": 88,
    "start_time": "2024-01-09T15:23:01.305Z"
   },
   {
    "duration": 25,
    "start_time": "2024-01-09T15:23:01.394Z"
   },
   {
    "duration": 34,
    "start_time": "2024-01-09T15:23:01.422Z"
   },
   {
    "duration": 57,
    "start_time": "2024-01-09T15:23:01.458Z"
   },
   {
    "duration": 36,
    "start_time": "2024-01-09T15:23:01.517Z"
   },
   {
    "duration": 41,
    "start_time": "2024-01-09T15:23:01.555Z"
   },
   {
    "duration": 26,
    "start_time": "2024-01-09T15:23:01.598Z"
   },
   {
    "duration": 38,
    "start_time": "2024-01-09T15:23:01.626Z"
   },
   {
    "duration": 22,
    "start_time": "2024-01-09T15:23:01.668Z"
   },
   {
    "duration": 32,
    "start_time": "2024-01-09T15:23:01.692Z"
   },
   {
    "duration": 33,
    "start_time": "2024-01-09T15:23:01.726Z"
   },
   {
    "duration": 15,
    "start_time": "2024-01-09T15:23:01.761Z"
   },
   {
    "duration": 25,
    "start_time": "2024-01-09T15:23:01.777Z"
   },
   {
    "duration": 9,
    "start_time": "2024-01-09T15:23:01.804Z"
   },
   {
    "duration": 9,
    "start_time": "2024-01-09T15:23:01.815Z"
   },
   {
    "duration": 12,
    "start_time": "2024-01-09T15:23:01.826Z"
   },
   {
    "duration": 16,
    "start_time": "2024-01-09T15:23:01.840Z"
   },
   {
    "duration": 31,
    "start_time": "2024-01-09T15:23:01.858Z"
   },
   {
    "duration": 47,
    "start_time": "2024-01-09T15:23:01.891Z"
   },
   {
    "duration": 592,
    "start_time": "2024-01-09T15:23:01.940Z"
   },
   {
    "duration": 515,
    "start_time": "2024-01-09T15:23:02.534Z"
   },
   {
    "duration": 236,
    "start_time": "2024-01-09T15:23:03.051Z"
   },
   {
    "duration": 3,
    "start_time": "2024-01-09T15:23:03.289Z"
   },
   {
    "duration": 35,
    "start_time": "2024-01-09T15:23:03.294Z"
   },
   {
    "duration": 540,
    "start_time": "2024-01-09T15:23:03.331Z"
   },
   {
    "duration": 318,
    "start_time": "2024-01-09T15:23:03.873Z"
   },
   {
    "duration": 4,
    "start_time": "2024-01-09T15:23:04.197Z"
   },
   {
    "duration": 10,
    "start_time": "2024-01-09T15:23:04.203Z"
   },
   {
    "duration": 27,
    "start_time": "2024-01-09T15:23:04.214Z"
   },
   {
    "duration": 10,
    "start_time": "2024-01-09T15:23:04.244Z"
   },
   {
    "duration": 178,
    "start_time": "2024-01-09T15:23:04.256Z"
   },
   {
    "duration": 362,
    "start_time": "2024-01-09T15:23:04.436Z"
   },
   {
    "duration": 280,
    "start_time": "2024-01-09T15:23:04.801Z"
   },
   {
    "duration": 22,
    "start_time": "2024-01-09T15:23:05.083Z"
   },
   {
    "duration": 566,
    "start_time": "2024-01-09T15:23:05.107Z"
   },
   {
    "duration": 207,
    "start_time": "2024-01-09T15:23:05.675Z"
   },
   {
    "duration": 17,
    "start_time": "2024-01-09T15:23:05.884Z"
   },
   {
    "duration": 365,
    "start_time": "2024-01-09T15:23:05.903Z"
   },
   {
    "duration": 15,
    "start_time": "2024-01-09T15:23:06.270Z"
   },
   {
    "duration": 12,
    "start_time": "2024-01-09T15:23:06.287Z"
   },
   {
    "duration": 356,
    "start_time": "2024-01-09T15:23:06.301Z"
   },
   {
    "duration": 182,
    "start_time": "2024-01-09T15:23:06.658Z"
   },
   {
    "duration": 12,
    "start_time": "2024-01-09T15:23:06.843Z"
   },
   {
    "duration": 282,
    "start_time": "2024-01-09T15:23:06.857Z"
   },
   {
    "duration": 14,
    "start_time": "2024-01-09T15:23:07.142Z"
   },
   {
    "duration": 12,
    "start_time": "2024-01-09T15:23:07.157Z"
   },
   {
    "duration": 6,
    "start_time": "2024-01-09T15:23:07.170Z"
   },
   {
    "duration": 8,
    "start_time": "2024-01-09T15:23:07.177Z"
   },
   {
    "duration": 20,
    "start_time": "2024-01-09T15:23:07.186Z"
   },
   {
    "duration": 10,
    "start_time": "2024-01-09T15:23:07.207Z"
   },
   {
    "duration": 28,
    "start_time": "2024-01-09T15:23:07.218Z"
   },
   {
    "duration": 7,
    "start_time": "2024-01-09T15:23:07.247Z"
   },
   {
    "duration": 19,
    "start_time": "2024-01-09T15:23:07.256Z"
   },
   {
    "duration": 12,
    "start_time": "2024-01-09T15:23:07.277Z"
   },
   {
    "duration": 6,
    "start_time": "2024-01-09T15:23:07.291Z"
   },
   {
    "duration": 52,
    "start_time": "2024-01-09T15:23:07.299Z"
   },
   {
    "duration": 20,
    "start_time": "2024-01-09T15:23:07.353Z"
   },
   {
    "duration": 1490,
    "start_time": "2024-01-09T15:23:07.374Z"
   },
   {
    "duration": 8,
    "start_time": "2024-01-09T15:23:08.866Z"
   },
   {
    "duration": 12,
    "start_time": "2024-01-09T15:23:08.875Z"
   },
   {
    "duration": 9,
    "start_time": "2024-01-09T15:23:08.888Z"
   },
   {
    "duration": 7,
    "start_time": "2024-01-09T15:23:08.900Z"
   },
   {
    "duration": 35,
    "start_time": "2024-01-09T15:23:08.909Z"
   },
   {
    "duration": 13,
    "start_time": "2024-01-09T15:23:08.945Z"
   },
   {
    "duration": 5,
    "start_time": "2024-01-09T15:23:08.960Z"
   },
   {
    "duration": 9,
    "start_time": "2024-01-09T15:23:08.966Z"
   },
   {
    "duration": 6,
    "start_time": "2024-01-09T15:23:08.976Z"
   },
   {
    "duration": 5,
    "start_time": "2024-01-09T15:23:08.984Z"
   },
   {
    "duration": 7,
    "start_time": "2024-01-09T15:23:08.990Z"
   },
   {
    "duration": 1039,
    "start_time": "2024-01-09T15:23:08.999Z"
   },
   {
    "duration": 859,
    "start_time": "2024-01-09T15:23:10.039Z"
   },
   {
    "duration": 1111,
    "start_time": "2024-01-09T15:23:10.899Z"
   },
   {
    "duration": 16,
    "start_time": "2024-01-09T15:23:12.011Z"
   },
   {
    "duration": 45,
    "start_time": "2024-01-09T15:23:12.029Z"
   },
   {
    "duration": 174,
    "start_time": "2024-01-09T15:23:12.076Z"
   },
   {
    "duration": 24,
    "start_time": "2024-01-09T15:23:12.252Z"
   },
   {
    "duration": 239,
    "start_time": "2024-01-09T15:23:12.278Z"
   },
   {
    "duration": 36,
    "start_time": "2024-01-09T15:23:12.519Z"
   },
   {
    "duration": 321,
    "start_time": "2024-01-09T15:23:12.556Z"
   },
   {
    "duration": 600,
    "start_time": "2024-01-09T15:23:12.879Z"
   },
   {
    "duration": 85,
    "start_time": "2024-01-09T15:24:29.685Z"
   },
   {
    "duration": 171,
    "start_time": "2024-01-09T15:25:09.721Z"
   },
   {
    "duration": 98,
    "start_time": "2024-01-09T15:25:50.264Z"
   },
   {
    "duration": 3,
    "start_time": "2024-01-09T15:28:35.707Z"
   },
   {
    "duration": 3,
    "start_time": "2024-01-09T15:28:48.330Z"
   },
   {
    "duration": 10471,
    "start_time": "2024-01-09T15:29:00.311Z"
   },
   {
    "duration": 89,
    "start_time": "2024-01-09T15:29:10.785Z"
   },
   {
    "duration": 23,
    "start_time": "2024-01-09T15:29:10.875Z"
   },
   {
    "duration": 14,
    "start_time": "2024-01-09T15:29:10.900Z"
   },
   {
    "duration": 47,
    "start_time": "2024-01-09T15:29:10.916Z"
   },
   {
    "duration": 39,
    "start_time": "2024-01-09T15:29:10.965Z"
   },
   {
    "duration": 26,
    "start_time": "2024-01-09T15:29:11.006Z"
   },
   {
    "duration": 34,
    "start_time": "2024-01-09T15:29:11.034Z"
   },
   {
    "duration": 33,
    "start_time": "2024-01-09T15:29:11.070Z"
   },
   {
    "duration": 65,
    "start_time": "2024-01-09T15:29:11.107Z"
   },
   {
    "duration": 27,
    "start_time": "2024-01-09T15:29:11.173Z"
   },
   {
    "duration": 49,
    "start_time": "2024-01-09T15:29:11.203Z"
   },
   {
    "duration": 26,
    "start_time": "2024-01-09T15:29:11.254Z"
   },
   {
    "duration": 31,
    "start_time": "2024-01-09T15:29:11.281Z"
   },
   {
    "duration": 29,
    "start_time": "2024-01-09T15:29:11.313Z"
   },
   {
    "duration": 57,
    "start_time": "2024-01-09T15:29:11.344Z"
   },
   {
    "duration": 39,
    "start_time": "2024-01-09T15:29:11.403Z"
   },
   {
    "duration": 24,
    "start_time": "2024-01-09T15:29:11.444Z"
   },
   {
    "duration": 43,
    "start_time": "2024-01-09T15:29:11.470Z"
   },
   {
    "duration": 63,
    "start_time": "2024-01-09T15:29:11.515Z"
   },
   {
    "duration": 588,
    "start_time": "2024-01-09T15:29:11.580Z"
   },
   {
    "duration": 289,
    "start_time": "2024-01-09T15:29:12.170Z"
   },
   {
    "duration": 213,
    "start_time": "2024-01-09T15:29:12.460Z"
   },
   {
    "duration": 4,
    "start_time": "2024-01-09T15:29:12.675Z"
   },
   {
    "duration": 41,
    "start_time": "2024-01-09T15:29:12.680Z"
   },
   {
    "duration": 559,
    "start_time": "2024-01-09T15:29:12.722Z"
   },
   {
    "duration": 299,
    "start_time": "2024-01-09T15:29:13.283Z"
   },
   {
    "duration": 4,
    "start_time": "2024-01-09T15:29:13.586Z"
   },
   {
    "duration": 33,
    "start_time": "2024-01-09T15:29:13.591Z"
   },
   {
    "duration": 84,
    "start_time": "2024-01-09T15:29:13.626Z"
   },
   {
    "duration": 39,
    "start_time": "2024-01-09T15:29:13.712Z"
   },
   {
    "duration": 173,
    "start_time": "2024-01-09T15:29:13.753Z"
   },
   {
    "duration": 336,
    "start_time": "2024-01-09T15:29:13.928Z"
   },
   {
    "duration": 230,
    "start_time": "2024-01-09T15:29:14.266Z"
   },
   {
    "duration": 13,
    "start_time": "2024-01-09T15:29:14.498Z"
   },
   {
    "duration": 727,
    "start_time": "2024-01-09T15:29:14.512Z"
   },
   {
    "duration": 194,
    "start_time": "2024-01-09T15:29:15.242Z"
   },
   {
    "duration": 14,
    "start_time": "2024-01-09T15:29:15.442Z"
   },
   {
    "duration": 217,
    "start_time": "2024-01-09T15:29:15.457Z"
   },
   {
    "duration": 18,
    "start_time": "2024-01-09T15:29:15.676Z"
   },
   {
    "duration": 45,
    "start_time": "2024-01-09T15:29:15.696Z"
   },
   {
    "duration": 378,
    "start_time": "2024-01-09T15:29:15.744Z"
   },
   {
    "duration": 183,
    "start_time": "2024-01-09T15:29:16.123Z"
   },
   {
    "duration": 14,
    "start_time": "2024-01-09T15:29:16.308Z"
   },
   {
    "duration": 301,
    "start_time": "2024-01-09T15:29:16.324Z"
   },
   {
    "duration": 24,
    "start_time": "2024-01-09T15:29:16.627Z"
   },
   {
    "duration": 85,
    "start_time": "2024-01-09T15:29:16.652Z"
   },
   {
    "duration": 73,
    "start_time": "2024-01-09T15:29:16.739Z"
   },
   {
    "duration": 36,
    "start_time": "2024-01-09T15:29:16.815Z"
   },
   {
    "duration": 36,
    "start_time": "2024-01-09T15:29:16.853Z"
   },
   {
    "duration": 55,
    "start_time": "2024-01-09T15:29:16.890Z"
   },
   {
    "duration": 50,
    "start_time": "2024-01-09T15:29:16.947Z"
   },
   {
    "duration": 20,
    "start_time": "2024-01-09T15:29:16.999Z"
   },
   {
    "duration": 56,
    "start_time": "2024-01-09T15:29:17.020Z"
   },
   {
    "duration": 32,
    "start_time": "2024-01-09T15:29:17.078Z"
   },
   {
    "duration": 35,
    "start_time": "2024-01-09T15:29:17.112Z"
   },
   {
    "duration": 31,
    "start_time": "2024-01-09T15:29:17.149Z"
   },
   {
    "duration": 75,
    "start_time": "2024-01-09T15:29:17.181Z"
   },
   {
    "duration": 1435,
    "start_time": "2024-01-09T15:29:17.257Z"
   },
   {
    "duration": 10,
    "start_time": "2024-01-09T15:29:18.694Z"
   },
   {
    "duration": 34,
    "start_time": "2024-01-09T15:29:18.706Z"
   },
   {
    "duration": 30,
    "start_time": "2024-01-09T15:29:18.742Z"
   },
   {
    "duration": 52,
    "start_time": "2024-01-09T15:29:18.774Z"
   },
   {
    "duration": 21,
    "start_time": "2024-01-09T15:29:18.828Z"
   },
   {
    "duration": 34,
    "start_time": "2024-01-09T15:29:18.851Z"
   },
   {
    "duration": 13,
    "start_time": "2024-01-09T15:29:18.887Z"
   },
   {
    "duration": 25,
    "start_time": "2024-01-09T15:29:18.902Z"
   },
   {
    "duration": 35,
    "start_time": "2024-01-09T15:29:18.929Z"
   },
   {
    "duration": 23,
    "start_time": "2024-01-09T15:29:18.965Z"
   },
   {
    "duration": 34,
    "start_time": "2024-01-09T15:29:18.990Z"
   },
   {
    "duration": 1102,
    "start_time": "2024-01-09T15:29:19.026Z"
   },
   {
    "duration": 907,
    "start_time": "2024-01-09T15:29:20.130Z"
   },
   {
    "duration": 1282,
    "start_time": "2024-01-09T15:29:21.038Z"
   },
   {
    "duration": 26,
    "start_time": "2024-01-09T15:29:22.322Z"
   },
   {
    "duration": 20,
    "start_time": "2024-01-09T15:29:22.350Z"
   },
   {
    "duration": 110,
    "start_time": "2024-01-09T15:29:22.442Z"
   },
   {
    "duration": 19,
    "start_time": "2024-01-09T15:29:22.554Z"
   },
   {
    "duration": 240,
    "start_time": "2024-01-09T15:29:22.575Z"
   },
   {
    "duration": 35,
    "start_time": "2024-01-09T15:29:22.817Z"
   },
   {
    "duration": 288,
    "start_time": "2024-01-09T15:29:22.854Z"
   },
   {
    "duration": 473,
    "start_time": "2024-01-09T15:29:23.144Z"
   },
   {
    "duration": 106,
    "start_time": "2024-01-09T15:54:49.986Z"
   },
   {
    "duration": 38854,
    "start_time": "2024-01-10T10:13:11.486Z"
   },
   {
    "duration": 5497,
    "start_time": "2024-01-10T10:15:07.160Z"
   },
   {
    "duration": 4,
    "start_time": "2024-01-10T10:15:53.389Z"
   },
   {
    "duration": 5,
    "start_time": "2024-01-10T10:16:25.363Z"
   },
   {
    "duration": 5446,
    "start_time": "2024-01-10T10:18:32.441Z"
   },
   {
    "duration": 396,
    "start_time": "2024-01-10T10:19:53.762Z"
   },
   {
    "duration": 146,
    "start_time": "2024-01-10T10:20:22.311Z"
   },
   {
    "duration": 525,
    "start_time": "2024-01-10T10:20:44.316Z"
   },
   {
    "duration": 500,
    "start_time": "2024-01-10T10:42:35.033Z"
   },
   {
    "duration": 528,
    "start_time": "2024-01-10T10:46:48.865Z"
   },
   {
    "duration": 535,
    "start_time": "2024-01-10T10:47:40.359Z"
   },
   {
    "duration": 580,
    "start_time": "2024-01-10T10:50:39.578Z"
   },
   {
    "duration": 544,
    "start_time": "2024-01-10T10:53:20.621Z"
   },
   {
    "duration": 470,
    "start_time": "2024-01-10T10:56:57.021Z"
   },
   {
    "duration": 4,
    "start_time": "2024-01-10T11:00:23.456Z"
   },
   {
    "duration": 9,
    "start_time": "2024-01-10T11:00:35.456Z"
   },
   {
    "duration": 521,
    "start_time": "2024-01-10T11:08:46.866Z"
   },
   {
    "duration": 676,
    "start_time": "2024-01-10T11:10:50.593Z"
   },
   {
    "duration": 20746,
    "start_time": "2024-01-10T11:11:02.345Z"
   },
   {
    "duration": 456,
    "start_time": "2024-01-10T11:12:22.942Z"
   },
   {
    "duration": 3,
    "start_time": "2024-01-10T11:15:16.503Z"
   },
   {
    "duration": 4,
    "start_time": "2024-01-10T11:15:30.660Z"
   },
   {
    "duration": 8,
    "start_time": "2024-01-10T11:15:35.223Z"
   },
   {
    "duration": 387,
    "start_time": "2024-01-10T11:21:39.863Z"
   },
   {
    "duration": 247,
    "start_time": "2024-01-10T11:23:05.685Z"
   },
   {
    "duration": 230,
    "start_time": "2024-01-10T11:23:32.079Z"
   },
   {
    "duration": 480,
    "start_time": "2024-01-10T11:28:34.974Z"
   },
   {
    "duration": 7202,
    "start_time": "2024-01-10T11:29:04.855Z"
   },
   {
    "duration": 87,
    "start_time": "2024-01-10T11:29:12.060Z"
   },
   {
    "duration": 21,
    "start_time": "2024-01-10T11:29:12.149Z"
   },
   {
    "duration": 33,
    "start_time": "2024-01-10T11:29:12.172Z"
   },
   {
    "duration": 24,
    "start_time": "2024-01-10T11:29:12.206Z"
   },
   {
    "duration": 25,
    "start_time": "2024-01-10T11:29:12.232Z"
   },
   {
    "duration": 24,
    "start_time": "2024-01-10T11:29:12.259Z"
   },
   {
    "duration": 18,
    "start_time": "2024-01-10T11:29:12.285Z"
   },
   {
    "duration": 23,
    "start_time": "2024-01-10T11:29:12.305Z"
   },
   {
    "duration": 20,
    "start_time": "2024-01-10T11:29:12.332Z"
   },
   {
    "duration": 21,
    "start_time": "2024-01-10T11:29:12.354Z"
   },
   {
    "duration": 28,
    "start_time": "2024-01-10T11:29:12.377Z"
   },
   {
    "duration": 25,
    "start_time": "2024-01-10T11:29:12.408Z"
   },
   {
    "duration": 23,
    "start_time": "2024-01-10T11:29:12.435Z"
   },
   {
    "duration": 40,
    "start_time": "2024-01-10T11:29:12.460Z"
   },
   {
    "duration": 48,
    "start_time": "2024-01-10T11:29:12.503Z"
   },
   {
    "duration": 528,
    "start_time": "2024-01-10T11:29:12.553Z"
   },
   {
    "duration": 274,
    "start_time": "2024-01-10T11:29:13.083Z"
   },
   {
    "duration": 190,
    "start_time": "2024-01-10T11:29:13.358Z"
   },
   {
    "duration": 3,
    "start_time": "2024-01-10T11:29:13.550Z"
   },
   {
    "duration": 17,
    "start_time": "2024-01-10T11:29:13.555Z"
   },
   {
    "duration": 489,
    "start_time": "2024-01-10T11:29:13.573Z"
   },
   {
    "duration": 283,
    "start_time": "2024-01-10T11:29:14.064Z"
   },
   {
    "duration": 4,
    "start_time": "2024-01-10T11:29:14.348Z"
   },
   {
    "duration": 24,
    "start_time": "2024-01-10T11:29:14.353Z"
   },
   {
    "duration": 24,
    "start_time": "2024-01-10T11:29:14.379Z"
   },
   {
    "duration": 46,
    "start_time": "2024-01-10T11:29:14.404Z"
   },
   {
    "duration": 157,
    "start_time": "2024-01-10T11:29:14.454Z"
   },
   {
    "duration": 386,
    "start_time": "2024-01-10T11:29:14.612Z"
   },
   {
    "duration": 223,
    "start_time": "2024-01-10T11:29:15.000Z"
   },
   {
    "duration": 19,
    "start_time": "2024-01-10T11:29:15.224Z"
   },
   {
    "duration": 553,
    "start_time": "2024-01-10T11:29:15.245Z"
   },
   {
    "duration": 190,
    "start_time": "2024-01-10T11:29:15.799Z"
   },
   {
    "duration": 14,
    "start_time": "2024-01-10T11:29:15.991Z"
   },
   {
    "duration": 208,
    "start_time": "2024-01-10T11:29:16.006Z"
   },
   {
    "duration": 13,
    "start_time": "2024-01-10T11:29:16.215Z"
   },
   {
    "duration": 12,
    "start_time": "2024-01-10T11:29:16.242Z"
   },
   {
    "duration": 318,
    "start_time": "2024-01-10T11:29:16.255Z"
   },
   {
    "duration": 195,
    "start_time": "2024-01-10T11:29:16.574Z"
   },
   {
    "duration": 12,
    "start_time": "2024-01-10T11:29:16.771Z"
   },
   {
    "duration": 282,
    "start_time": "2024-01-10T11:29:16.784Z"
   },
   {
    "duration": 11,
    "start_time": "2024-01-10T11:29:17.067Z"
   },
   {
    "duration": 24,
    "start_time": "2024-01-10T11:29:17.079Z"
   },
   {
    "duration": 9,
    "start_time": "2024-01-10T11:29:17.105Z"
   },
   {
    "duration": 8,
    "start_time": "2024-01-10T11:29:17.116Z"
   },
   {
    "duration": 34,
    "start_time": "2024-01-10T11:29:17.125Z"
   },
   {
    "duration": 17,
    "start_time": "2024-01-10T11:29:17.161Z"
   },
   {
    "duration": 22,
    "start_time": "2024-01-10T11:29:17.180Z"
   },
   {
    "duration": 22,
    "start_time": "2024-01-10T11:29:17.204Z"
   },
   {
    "duration": 53,
    "start_time": "2024-01-10T11:29:17.228Z"
   },
   {
    "duration": 28,
    "start_time": "2024-01-10T11:29:17.283Z"
   },
   {
    "duration": 63,
    "start_time": "2024-01-10T11:29:17.312Z"
   },
   {
    "duration": 47,
    "start_time": "2024-01-10T11:29:17.377Z"
   },
   {
    "duration": 55,
    "start_time": "2024-01-10T11:29:17.426Z"
   },
   {
    "duration": 1421,
    "start_time": "2024-01-10T11:29:17.482Z"
   },
   {
    "duration": 7,
    "start_time": "2024-01-10T11:29:18.905Z"
   },
   {
    "duration": 21,
    "start_time": "2024-01-10T11:29:18.914Z"
   },
   {
    "duration": 13,
    "start_time": "2024-01-10T11:29:18.936Z"
   },
   {
    "duration": 12,
    "start_time": "2024-01-10T11:29:18.950Z"
   },
   {
    "duration": 13,
    "start_time": "2024-01-10T11:29:18.964Z"
   },
   {
    "duration": 7,
    "start_time": "2024-01-10T11:29:18.979Z"
   },
   {
    "duration": 8,
    "start_time": "2024-01-10T11:29:18.988Z"
   },
   {
    "duration": 9,
    "start_time": "2024-01-10T11:29:18.997Z"
   },
   {
    "duration": 12,
    "start_time": "2024-01-10T11:29:19.007Z"
   },
   {
    "duration": 22,
    "start_time": "2024-01-10T11:29:19.020Z"
   },
   {
    "duration": 9,
    "start_time": "2024-01-10T11:29:19.044Z"
   },
   {
    "duration": 1078,
    "start_time": "2024-01-10T11:29:19.054Z"
   },
   {
    "duration": 812,
    "start_time": "2024-01-10T11:29:20.133Z"
   },
   {
    "duration": 1058,
    "start_time": "2024-01-10T11:29:20.946Z"
   },
   {
    "duration": 16,
    "start_time": "2024-01-10T11:29:22.005Z"
   },
   {
    "duration": 29,
    "start_time": "2024-01-10T11:29:22.023Z"
   },
   {
    "duration": 200,
    "start_time": "2024-01-10T11:29:22.054Z"
   },
   {
    "duration": 21,
    "start_time": "2024-01-10T11:29:22.255Z"
   },
   {
    "duration": 226,
    "start_time": "2024-01-10T11:29:22.277Z"
   },
   {
    "duration": 20,
    "start_time": "2024-01-10T11:29:22.505Z"
   },
   {
    "duration": 269,
    "start_time": "2024-01-10T11:29:22.543Z"
   },
   {
    "duration": 448,
    "start_time": "2024-01-10T11:29:22.814Z"
   },
   {
    "duration": 230,
    "start_time": "2024-01-10T11:33:15.214Z"
   },
   {
    "duration": 240,
    "start_time": "2024-01-10T11:33:24.557Z"
   },
   {
    "duration": 323,
    "start_time": "2024-01-10T11:37:00.814Z"
   },
   {
    "duration": 381,
    "start_time": "2024-01-10T11:37:13.805Z"
   },
   {
    "duration": 390,
    "start_time": "2024-01-10T11:38:53.029Z"
   },
   {
    "duration": 465,
    "start_time": "2024-01-10T11:47:49.338Z"
   },
   {
    "duration": 519,
    "start_time": "2024-01-10T11:48:57.145Z"
   },
   {
    "duration": 7369,
    "start_time": "2024-01-10T11:49:10.935Z"
   },
   {
    "duration": 85,
    "start_time": "2024-01-10T11:49:18.306Z"
   },
   {
    "duration": 32,
    "start_time": "2024-01-10T11:49:18.393Z"
   },
   {
    "duration": 13,
    "start_time": "2024-01-10T11:49:18.428Z"
   },
   {
    "duration": 18,
    "start_time": "2024-01-10T11:49:18.443Z"
   },
   {
    "duration": 12,
    "start_time": "2024-01-10T11:49:18.462Z"
   },
   {
    "duration": 9,
    "start_time": "2024-01-10T11:49:18.475Z"
   },
   {
    "duration": 4,
    "start_time": "2024-01-10T11:49:18.486Z"
   },
   {
    "duration": 4,
    "start_time": "2024-01-10T11:49:18.492Z"
   },
   {
    "duration": 54,
    "start_time": "2024-01-10T11:49:18.499Z"
   },
   {
    "duration": 5,
    "start_time": "2024-01-10T11:49:18.556Z"
   },
   {
    "duration": 6,
    "start_time": "2024-01-10T11:49:18.563Z"
   },
   {
    "duration": 4,
    "start_time": "2024-01-10T11:49:18.571Z"
   },
   {
    "duration": 7,
    "start_time": "2024-01-10T11:49:18.577Z"
   },
   {
    "duration": 6,
    "start_time": "2024-01-10T11:49:18.586Z"
   },
   {
    "duration": 68,
    "start_time": "2024-01-10T11:49:18.593Z"
   },
   {
    "duration": 510,
    "start_time": "2024-01-10T11:49:18.663Z"
   },
   {
    "duration": 301,
    "start_time": "2024-01-10T11:49:19.174Z"
   },
   {
    "duration": 1296,
    "start_time": "2024-01-10T11:49:19.476Z"
   },
   {
    "duration": 3,
    "start_time": "2024-01-10T11:49:20.774Z"
   },
   {
    "duration": 33,
    "start_time": "2024-01-10T11:49:20.778Z"
   },
   {
    "duration": 552,
    "start_time": "2024-01-10T11:49:20.812Z"
   },
   {
    "duration": 301,
    "start_time": "2024-01-10T11:49:21.366Z"
   },
   {
    "duration": 3,
    "start_time": "2024-01-10T11:49:21.669Z"
   },
   {
    "duration": 22,
    "start_time": "2024-01-10T11:49:21.674Z"
   },
   {
    "duration": 24,
    "start_time": "2024-01-10T11:49:21.697Z"
   },
   {
    "duration": 28,
    "start_time": "2024-01-10T11:49:21.723Z"
   },
   {
    "duration": 414,
    "start_time": "2024-01-10T11:49:21.755Z"
   },
   {
    "duration": 469,
    "start_time": "2024-01-10T11:49:22.172Z"
   },
   {
    "duration": 250,
    "start_time": "2024-01-10T11:49:22.644Z"
   },
   {
    "duration": 14,
    "start_time": "2024-01-10T11:49:22.895Z"
   },
   {
    "duration": 7693,
    "start_time": "2024-01-10T11:49:42.508Z"
   },
   {
    "duration": 90,
    "start_time": "2024-01-10T11:49:50.204Z"
   },
   {
    "duration": 20,
    "start_time": "2024-01-10T11:49:50.296Z"
   },
   {
    "duration": 18,
    "start_time": "2024-01-10T11:49:50.318Z"
   },
   {
    "duration": 29,
    "start_time": "2024-01-10T11:49:50.338Z"
   },
   {
    "duration": 18,
    "start_time": "2024-01-10T11:49:50.369Z"
   },
   {
    "duration": 27,
    "start_time": "2024-01-10T11:49:50.388Z"
   },
   {
    "duration": 21,
    "start_time": "2024-01-10T11:49:50.416Z"
   },
   {
    "duration": 19,
    "start_time": "2024-01-10T11:49:50.438Z"
   },
   {
    "duration": 18,
    "start_time": "2024-01-10T11:49:50.468Z"
   },
   {
    "duration": 27,
    "start_time": "2024-01-10T11:49:50.487Z"
   },
   {
    "duration": 11,
    "start_time": "2024-01-10T11:49:50.515Z"
   },
   {
    "duration": 23,
    "start_time": "2024-01-10T11:49:50.527Z"
   },
   {
    "duration": 16,
    "start_time": "2024-01-10T11:49:50.553Z"
   },
   {
    "duration": 29,
    "start_time": "2024-01-10T11:49:50.571Z"
   },
   {
    "duration": 53,
    "start_time": "2024-01-10T11:49:50.602Z"
   },
   {
    "duration": 493,
    "start_time": "2024-01-10T11:49:50.657Z"
   },
   {
    "duration": 306,
    "start_time": "2024-01-10T11:49:51.152Z"
   },
   {
    "duration": 226,
    "start_time": "2024-01-10T11:49:51.460Z"
   },
   {
    "duration": 3,
    "start_time": "2024-01-10T11:49:51.688Z"
   },
   {
    "duration": 26,
    "start_time": "2024-01-10T11:49:51.692Z"
   },
   {
    "duration": 502,
    "start_time": "2024-01-10T11:49:51.719Z"
   },
   {
    "duration": 302,
    "start_time": "2024-01-10T11:49:52.222Z"
   },
   {
    "duration": 3,
    "start_time": "2024-01-10T11:49:52.526Z"
   },
   {
    "duration": 30,
    "start_time": "2024-01-10T11:49:52.531Z"
   },
   {
    "duration": 23,
    "start_time": "2024-01-10T11:49:52.562Z"
   },
   {
    "duration": 37,
    "start_time": "2024-01-10T11:49:52.587Z"
   },
   {
    "duration": 424,
    "start_time": "2024-01-10T11:49:52.628Z"
   },
   {
    "duration": 476,
    "start_time": "2024-01-10T11:49:53.055Z"
   },
   {
    "duration": 271,
    "start_time": "2024-01-10T11:49:53.533Z"
   },
   {
    "duration": 13,
    "start_time": "2024-01-10T11:49:53.806Z"
   },
   {
    "duration": 691,
    "start_time": "2024-01-10T11:49:53.821Z"
   },
   {
    "duration": 223,
    "start_time": "2024-01-10T11:49:54.514Z"
   },
   {
    "duration": 24,
    "start_time": "2024-01-10T11:49:54.741Z"
   },
   {
    "duration": 230,
    "start_time": "2024-01-10T11:49:54.767Z"
   },
   {
    "duration": 13,
    "start_time": "2024-01-10T11:49:55.000Z"
   },
   {
    "duration": 32,
    "start_time": "2024-01-10T11:49:55.015Z"
   },
   {
    "duration": 346,
    "start_time": "2024-01-10T11:49:55.049Z"
   },
   {
    "duration": 187,
    "start_time": "2024-01-10T11:49:55.397Z"
   },
   {
    "duration": 16,
    "start_time": "2024-01-10T11:49:55.587Z"
   },
   {
    "duration": 328,
    "start_time": "2024-01-10T11:49:55.605Z"
   },
   {
    "duration": 19,
    "start_time": "2024-01-10T11:49:55.935Z"
   },
   {
    "duration": 12,
    "start_time": "2024-01-10T11:49:55.956Z"
   },
   {
    "duration": 4,
    "start_time": "2024-01-10T11:49:55.969Z"
   },
   {
    "duration": 12,
    "start_time": "2024-01-10T11:49:55.974Z"
   },
   {
    "duration": 4,
    "start_time": "2024-01-10T11:49:55.988Z"
   },
   {
    "duration": 6,
    "start_time": "2024-01-10T11:49:55.993Z"
   },
   {
    "duration": 12,
    "start_time": "2024-01-10T11:49:56.000Z"
   },
   {
    "duration": 11,
    "start_time": "2024-01-10T11:49:56.044Z"
   },
   {
    "duration": 15,
    "start_time": "2024-01-10T11:49:56.057Z"
   },
   {
    "duration": 17,
    "start_time": "2024-01-10T11:49:56.073Z"
   },
   {
    "duration": 7,
    "start_time": "2024-01-10T11:49:56.092Z"
   },
   {
    "duration": 46,
    "start_time": "2024-01-10T11:49:56.101Z"
   },
   {
    "duration": 23,
    "start_time": "2024-01-10T11:49:56.149Z"
   },
   {
    "duration": 1547,
    "start_time": "2024-01-10T11:49:56.173Z"
   },
   {
    "duration": 9,
    "start_time": "2024-01-10T11:49:57.722Z"
   },
   {
    "duration": 20,
    "start_time": "2024-01-10T11:49:57.732Z"
   },
   {
    "duration": 12,
    "start_time": "2024-01-10T11:49:57.754Z"
   },
   {
    "duration": 25,
    "start_time": "2024-01-10T11:49:57.767Z"
   },
   {
    "duration": 5,
    "start_time": "2024-01-10T11:49:57.794Z"
   },
   {
    "duration": 4,
    "start_time": "2024-01-10T11:49:57.801Z"
   },
   {
    "duration": 7,
    "start_time": "2024-01-10T11:49:57.807Z"
   },
   {
    "duration": 9,
    "start_time": "2024-01-10T11:49:57.816Z"
   },
   {
    "duration": 19,
    "start_time": "2024-01-10T11:49:57.827Z"
   },
   {
    "duration": 12,
    "start_time": "2024-01-10T11:49:57.847Z"
   },
   {
    "duration": 10,
    "start_time": "2024-01-10T11:49:57.861Z"
   },
   {
    "duration": 1188,
    "start_time": "2024-01-10T11:49:57.873Z"
   },
   {
    "duration": 874,
    "start_time": "2024-01-10T11:49:59.062Z"
   },
   {
    "duration": 1175,
    "start_time": "2024-01-10T11:49:59.937Z"
   },
   {
    "duration": 35,
    "start_time": "2024-01-10T11:50:01.114Z"
   },
   {
    "duration": 25,
    "start_time": "2024-01-10T11:50:01.162Z"
   },
   {
    "duration": 180,
    "start_time": "2024-01-10T11:50:01.189Z"
   },
   {
    "duration": 20,
    "start_time": "2024-01-10T11:50:01.371Z"
   },
   {
    "duration": 282,
    "start_time": "2024-01-10T11:50:01.392Z"
   },
   {
    "duration": 21,
    "start_time": "2024-01-10T11:50:01.676Z"
   },
   {
    "duration": 343,
    "start_time": "2024-01-10T11:50:01.699Z"
   },
   {
    "duration": 536,
    "start_time": "2024-01-10T11:50:02.044Z"
   },
   {
    "duration": 5,
    "start_time": "2024-01-10T11:54:51.863Z"
   },
   {
    "duration": 338,
    "start_time": "2024-01-10T11:57:13.662Z"
   },
   {
    "duration": 205,
    "start_time": "2024-01-10T12:07:42.391Z"
   },
   {
    "duration": 196,
    "start_time": "2024-01-10T12:08:01.078Z"
   },
   {
    "duration": 7530,
    "start_time": "2024-01-10T12:09:57.545Z"
   },
   {
    "duration": 211,
    "start_time": "2024-01-10T12:12:03.957Z"
   },
   {
    "duration": 218,
    "start_time": "2024-01-10T12:12:15.336Z"
   },
   {
    "duration": 8745,
    "start_time": "2024-01-10T12:14:49.150Z"
   },
   {
    "duration": 0,
    "start_time": "2024-01-10T12:14:57.900Z"
   },
   {
    "duration": 0,
    "start_time": "2024-01-10T12:14:57.901Z"
   },
   {
    "duration": 0,
    "start_time": "2024-01-10T12:14:57.902Z"
   },
   {
    "duration": 0,
    "start_time": "2024-01-10T12:14:57.903Z"
   },
   {
    "duration": 0,
    "start_time": "2024-01-10T12:14:57.904Z"
   },
   {
    "duration": 0,
    "start_time": "2024-01-10T12:14:57.905Z"
   },
   {
    "duration": 0,
    "start_time": "2024-01-10T12:14:57.906Z"
   },
   {
    "duration": 0,
    "start_time": "2024-01-10T12:14:57.907Z"
   },
   {
    "duration": 0,
    "start_time": "2024-01-10T12:14:57.908Z"
   },
   {
    "duration": 0,
    "start_time": "2024-01-10T12:14:57.909Z"
   },
   {
    "duration": 0,
    "start_time": "2024-01-10T12:14:57.910Z"
   },
   {
    "duration": 0,
    "start_time": "2024-01-10T12:14:57.911Z"
   },
   {
    "duration": 0,
    "start_time": "2024-01-10T12:14:57.912Z"
   },
   {
    "duration": 0,
    "start_time": "2024-01-10T12:14:57.913Z"
   },
   {
    "duration": 0,
    "start_time": "2024-01-10T12:14:57.914Z"
   },
   {
    "duration": 0,
    "start_time": "2024-01-10T12:14:57.915Z"
   },
   {
    "duration": 0,
    "start_time": "2024-01-10T12:14:57.916Z"
   },
   {
    "duration": 0,
    "start_time": "2024-01-10T12:14:57.917Z"
   },
   {
    "duration": 0,
    "start_time": "2024-01-10T12:14:57.918Z"
   },
   {
    "duration": 0,
    "start_time": "2024-01-10T12:14:57.919Z"
   },
   {
    "duration": 0,
    "start_time": "2024-01-10T12:14:57.920Z"
   },
   {
    "duration": 0,
    "start_time": "2024-01-10T12:14:57.921Z"
   },
   {
    "duration": 0,
    "start_time": "2024-01-10T12:14:57.922Z"
   },
   {
    "duration": 0,
    "start_time": "2024-01-10T12:14:57.923Z"
   },
   {
    "duration": 0,
    "start_time": "2024-01-10T12:14:57.925Z"
   },
   {
    "duration": 0,
    "start_time": "2024-01-10T12:14:57.926Z"
   },
   {
    "duration": 0,
    "start_time": "2024-01-10T12:14:57.927Z"
   },
   {
    "duration": 0,
    "start_time": "2024-01-10T12:14:57.928Z"
   },
   {
    "duration": 0,
    "start_time": "2024-01-10T12:14:57.930Z"
   },
   {
    "duration": 0,
    "start_time": "2024-01-10T12:14:57.931Z"
   },
   {
    "duration": 0,
    "start_time": "2024-01-10T12:14:57.932Z"
   },
   {
    "duration": 0,
    "start_time": "2024-01-10T12:14:57.943Z"
   },
   {
    "duration": 0,
    "start_time": "2024-01-10T12:14:57.944Z"
   },
   {
    "duration": 0,
    "start_time": "2024-01-10T12:14:57.945Z"
   },
   {
    "duration": 0,
    "start_time": "2024-01-10T12:14:57.950Z"
   },
   {
    "duration": 0,
    "start_time": "2024-01-10T12:14:57.952Z"
   },
   {
    "duration": 0,
    "start_time": "2024-01-10T12:14:57.955Z"
   },
   {
    "duration": 0,
    "start_time": "2024-01-10T12:14:57.957Z"
   },
   {
    "duration": 0,
    "start_time": "2024-01-10T12:14:57.958Z"
   },
   {
    "duration": 0,
    "start_time": "2024-01-10T12:14:57.960Z"
   },
   {
    "duration": 0,
    "start_time": "2024-01-10T12:14:57.962Z"
   },
   {
    "duration": 0,
    "start_time": "2024-01-10T12:14:57.963Z"
   },
   {
    "duration": 0,
    "start_time": "2024-01-10T12:14:57.965Z"
   },
   {
    "duration": 0,
    "start_time": "2024-01-10T12:14:57.966Z"
   },
   {
    "duration": 0,
    "start_time": "2024-01-10T12:14:57.968Z"
   },
   {
    "duration": 0,
    "start_time": "2024-01-10T12:14:57.969Z"
   },
   {
    "duration": 0,
    "start_time": "2024-01-10T12:14:57.970Z"
   },
   {
    "duration": 0,
    "start_time": "2024-01-10T12:14:57.972Z"
   },
   {
    "duration": 0,
    "start_time": "2024-01-10T12:14:57.974Z"
   },
   {
    "duration": 0,
    "start_time": "2024-01-10T12:14:57.975Z"
   },
   {
    "duration": 0,
    "start_time": "2024-01-10T12:14:57.976Z"
   },
   {
    "duration": 0,
    "start_time": "2024-01-10T12:14:57.978Z"
   },
   {
    "duration": 0,
    "start_time": "2024-01-10T12:14:57.979Z"
   },
   {
    "duration": 0,
    "start_time": "2024-01-10T12:14:57.980Z"
   },
   {
    "duration": 0,
    "start_time": "2024-01-10T12:14:57.982Z"
   },
   {
    "duration": 0,
    "start_time": "2024-01-10T12:14:57.983Z"
   },
   {
    "duration": 0,
    "start_time": "2024-01-10T12:14:57.985Z"
   },
   {
    "duration": 0,
    "start_time": "2024-01-10T12:14:58.043Z"
   },
   {
    "duration": 0,
    "start_time": "2024-01-10T12:14:58.045Z"
   },
   {
    "duration": 0,
    "start_time": "2024-01-10T12:14:58.047Z"
   },
   {
    "duration": 0,
    "start_time": "2024-01-10T12:14:58.049Z"
   },
   {
    "duration": 0,
    "start_time": "2024-01-10T12:14:58.050Z"
   },
   {
    "duration": 0,
    "start_time": "2024-01-10T12:14:58.051Z"
   },
   {
    "duration": 0,
    "start_time": "2024-01-10T12:14:58.052Z"
   },
   {
    "duration": 0,
    "start_time": "2024-01-10T12:14:58.057Z"
   },
   {
    "duration": 0,
    "start_time": "2024-01-10T12:14:58.059Z"
   },
   {
    "duration": 0,
    "start_time": "2024-01-10T12:14:58.060Z"
   },
   {
    "duration": 0,
    "start_time": "2024-01-10T12:14:58.062Z"
   },
   {
    "duration": 0,
    "start_time": "2024-01-10T12:14:58.063Z"
   },
   {
    "duration": 0,
    "start_time": "2024-01-10T12:14:58.065Z"
   },
   {
    "duration": 0,
    "start_time": "2024-01-10T12:14:58.066Z"
   },
   {
    "duration": 0,
    "start_time": "2024-01-10T12:14:58.067Z"
   },
   {
    "duration": 0,
    "start_time": "2024-01-10T12:14:58.068Z"
   },
   {
    "duration": 0,
    "start_time": "2024-01-10T12:14:58.069Z"
   },
   {
    "duration": 0,
    "start_time": "2024-01-10T12:14:58.069Z"
   },
   {
    "duration": 0,
    "start_time": "2024-01-10T12:14:58.070Z"
   },
   {
    "duration": 0,
    "start_time": "2024-01-10T12:14:58.081Z"
   },
   {
    "duration": 11125,
    "start_time": "2024-01-10T12:18:08.487Z"
   },
   {
    "duration": 94,
    "start_time": "2024-01-10T12:18:19.614Z"
   },
   {
    "duration": 21,
    "start_time": "2024-01-10T12:18:19.710Z"
   },
   {
    "duration": 30,
    "start_time": "2024-01-10T12:18:19.733Z"
   },
   {
    "duration": 16,
    "start_time": "2024-01-10T12:18:19.765Z"
   },
   {
    "duration": 35,
    "start_time": "2024-01-10T12:18:19.782Z"
   },
   {
    "duration": 15,
    "start_time": "2024-01-10T12:18:19.819Z"
   },
   {
    "duration": 27,
    "start_time": "2024-01-10T12:18:19.835Z"
   },
   {
    "duration": 30,
    "start_time": "2024-01-10T12:18:19.864Z"
   },
   {
    "duration": 18,
    "start_time": "2024-01-10T12:18:19.897Z"
   },
   {
    "duration": 32,
    "start_time": "2024-01-10T12:18:19.917Z"
   },
   {
    "duration": 30,
    "start_time": "2024-01-10T12:18:19.951Z"
   },
   {
    "duration": 27,
    "start_time": "2024-01-10T12:18:19.982Z"
   },
   {
    "duration": 26,
    "start_time": "2024-01-10T12:18:20.011Z"
   },
   {
    "duration": 19,
    "start_time": "2024-01-10T12:18:20.039Z"
   },
   {
    "duration": 45,
    "start_time": "2024-01-10T12:18:20.059Z"
   },
   {
    "duration": 507,
    "start_time": "2024-01-10T12:18:20.105Z"
   },
   {
    "duration": 279,
    "start_time": "2024-01-10T12:18:20.614Z"
   },
   {
    "duration": 236,
    "start_time": "2024-01-10T12:18:20.895Z"
   },
   {
    "duration": 3,
    "start_time": "2024-01-10T12:18:21.133Z"
   },
   {
    "duration": 38,
    "start_time": "2024-01-10T12:18:21.137Z"
   },
   {
    "duration": 518,
    "start_time": "2024-01-10T12:18:21.177Z"
   },
   {
    "duration": 312,
    "start_time": "2024-01-10T12:18:21.697Z"
   },
   {
    "duration": 4,
    "start_time": "2024-01-10T12:18:22.011Z"
   },
   {
    "duration": 13,
    "start_time": "2024-01-10T12:18:22.016Z"
   },
   {
    "duration": 10,
    "start_time": "2024-01-10T12:18:22.043Z"
   },
   {
    "duration": 13,
    "start_time": "2024-01-10T12:18:22.055Z"
   },
   {
    "duration": 368,
    "start_time": "2024-01-10T12:18:22.072Z"
   },
   {
    "duration": 454,
    "start_time": "2024-01-10T12:18:22.441Z"
   },
   {
    "duration": 249,
    "start_time": "2024-01-10T12:18:22.897Z"
   },
   {
    "duration": 15,
    "start_time": "2024-01-10T12:18:23.148Z"
   },
   {
    "duration": 570,
    "start_time": "2024-01-10T12:18:23.164Z"
   },
   {
    "duration": 212,
    "start_time": "2024-01-10T12:18:23.736Z"
   },
   {
    "duration": 18,
    "start_time": "2024-01-10T12:18:23.950Z"
   },
   {
    "duration": 239,
    "start_time": "2024-01-10T12:18:23.969Z"
   },
   {
    "duration": 13,
    "start_time": "2024-01-10T12:18:24.210Z"
   },
   {
    "duration": 28,
    "start_time": "2024-01-10T12:18:24.225Z"
   },
   {
    "duration": 360,
    "start_time": "2024-01-10T12:18:24.255Z"
   },
   {
    "duration": 199,
    "start_time": "2024-01-10T12:18:24.616Z"
   },
   {
    "duration": 14,
    "start_time": "2024-01-10T12:18:24.816Z"
   },
   {
    "duration": 317,
    "start_time": "2024-01-10T12:18:24.843Z"
   },
   {
    "duration": 11,
    "start_time": "2024-01-10T12:18:25.162Z"
   },
   {
    "duration": 28,
    "start_time": "2024-01-10T12:18:25.174Z"
   },
   {
    "duration": 4,
    "start_time": "2024-01-10T12:18:25.204Z"
   },
   {
    "duration": 20,
    "start_time": "2024-01-10T12:18:25.209Z"
   },
   {
    "duration": 29,
    "start_time": "2024-01-10T12:18:25.230Z"
   },
   {
    "duration": 15,
    "start_time": "2024-01-10T12:18:25.261Z"
   },
   {
    "duration": 15,
    "start_time": "2024-01-10T12:18:25.277Z"
   },
   {
    "duration": 7,
    "start_time": "2024-01-10T12:18:25.294Z"
   },
   {
    "duration": 16,
    "start_time": "2024-01-10T12:18:25.303Z"
   },
   {
    "duration": 997,
    "start_time": "2024-01-10T12:18:25.321Z"
   },
   {
    "duration": 5,
    "start_time": "2024-01-10T12:18:26.320Z"
   },
   {
    "duration": 27,
    "start_time": "2024-01-10T12:18:26.334Z"
   },
   {
    "duration": 29,
    "start_time": "2024-01-10T12:18:26.363Z"
   },
   {
    "duration": 1441,
    "start_time": "2024-01-10T12:18:26.394Z"
   },
   {
    "duration": 2821,
    "start_time": "2024-01-10T12:18:27.837Z"
   },
   {
    "duration": 9,
    "start_time": "2024-01-10T12:18:30.659Z"
   },
   {
    "duration": 63,
    "start_time": "2024-01-10T12:18:30.670Z"
   },
   {
    "duration": 51,
    "start_time": "2024-01-10T12:18:30.735Z"
   },
   {
    "duration": 51,
    "start_time": "2024-01-10T12:18:30.788Z"
   },
   {
    "duration": 40,
    "start_time": "2024-01-10T12:18:30.841Z"
   },
   {
    "duration": 27,
    "start_time": "2024-01-10T12:18:30.882Z"
   },
   {
    "duration": 25,
    "start_time": "2024-01-10T12:18:30.910Z"
   },
   {
    "duration": 25,
    "start_time": "2024-01-10T12:18:30.937Z"
   },
   {
    "duration": 34,
    "start_time": "2024-01-10T12:18:30.964Z"
   },
   {
    "duration": 40,
    "start_time": "2024-01-10T12:18:31.000Z"
   },
   {
    "duration": 22,
    "start_time": "2024-01-10T12:18:31.042Z"
   },
   {
    "duration": 1170,
    "start_time": "2024-01-10T12:18:31.065Z"
   },
   {
    "duration": 882,
    "start_time": "2024-01-10T12:18:32.237Z"
   },
   {
    "duration": 1140,
    "start_time": "2024-01-10T12:18:33.120Z"
   },
   {
    "duration": 17,
    "start_time": "2024-01-10T12:18:34.262Z"
   },
   {
    "duration": 63,
    "start_time": "2024-01-10T12:18:34.281Z"
   },
   {
    "duration": 114,
    "start_time": "2024-01-10T12:18:34.346Z"
   },
   {
    "duration": 20,
    "start_time": "2024-01-10T12:18:34.462Z"
   },
   {
    "duration": 259,
    "start_time": "2024-01-10T12:18:34.484Z"
   },
   {
    "duration": 27,
    "start_time": "2024-01-10T12:18:34.746Z"
   },
   {
    "duration": 318,
    "start_time": "2024-01-10T12:18:34.775Z"
   },
   {
    "duration": 500,
    "start_time": "2024-01-10T12:18:35.094Z"
   },
   {
    "duration": 3458,
    "start_time": "2024-01-10T12:20:17.070Z"
   },
   {
    "duration": 11017,
    "start_time": "2024-01-10T12:32:22.064Z"
   },
   {
    "duration": 90,
    "start_time": "2024-01-10T12:32:33.083Z"
   },
   {
    "duration": 22,
    "start_time": "2024-01-10T12:32:33.175Z"
   },
   {
    "duration": 14,
    "start_time": "2024-01-10T12:32:33.199Z"
   },
   {
    "duration": 31,
    "start_time": "2024-01-10T12:32:33.215Z"
   },
   {
    "duration": 55,
    "start_time": "2024-01-10T12:32:33.248Z"
   },
   {
    "duration": 19,
    "start_time": "2024-01-10T12:32:33.305Z"
   },
   {
    "duration": 32,
    "start_time": "2024-01-10T12:32:33.326Z"
   },
   {
    "duration": 36,
    "start_time": "2024-01-10T12:32:33.360Z"
   },
   {
    "duration": 11,
    "start_time": "2024-01-10T12:32:33.399Z"
   },
   {
    "duration": 25,
    "start_time": "2024-01-10T12:32:33.412Z"
   },
   {
    "duration": 27,
    "start_time": "2024-01-10T12:32:33.439Z"
   },
   {
    "duration": 25,
    "start_time": "2024-01-10T12:32:33.468Z"
   },
   {
    "duration": 19,
    "start_time": "2024-01-10T12:32:33.494Z"
   },
   {
    "duration": 11,
    "start_time": "2024-01-10T12:32:33.515Z"
   },
   {
    "duration": 52,
    "start_time": "2024-01-10T12:32:33.528Z"
   },
   {
    "duration": 566,
    "start_time": "2024-01-10T12:32:33.582Z"
   },
   {
    "duration": 311,
    "start_time": "2024-01-10T12:32:34.151Z"
   },
   {
    "duration": 240,
    "start_time": "2024-01-10T12:32:34.464Z"
   },
   {
    "duration": 3,
    "start_time": "2024-01-10T12:32:34.706Z"
   },
   {
    "duration": 21,
    "start_time": "2024-01-10T12:32:34.711Z"
   },
   {
    "duration": 569,
    "start_time": "2024-01-10T12:32:34.734Z"
   },
   {
    "duration": 317,
    "start_time": "2024-01-10T12:32:35.305Z"
   },
   {
    "duration": 3,
    "start_time": "2024-01-10T12:32:35.624Z"
   },
   {
    "duration": 21,
    "start_time": "2024-01-10T12:32:35.629Z"
   },
   {
    "duration": 13,
    "start_time": "2024-01-10T12:32:35.652Z"
   },
   {
    "duration": 13,
    "start_time": "2024-01-10T12:32:35.666Z"
   },
   {
    "duration": 411,
    "start_time": "2024-01-10T12:32:35.683Z"
   },
   {
    "duration": 501,
    "start_time": "2024-01-10T12:32:36.096Z"
   },
   {
    "duration": 272,
    "start_time": "2024-01-10T12:32:36.598Z"
   },
   {
    "duration": 14,
    "start_time": "2024-01-10T12:32:36.872Z"
   },
   {
    "duration": 585,
    "start_time": "2024-01-10T12:32:36.888Z"
   },
   {
    "duration": 226,
    "start_time": "2024-01-10T12:32:37.474Z"
   },
   {
    "duration": 16,
    "start_time": "2024-01-10T12:32:37.702Z"
   },
   {
    "duration": 261,
    "start_time": "2024-01-10T12:32:37.720Z"
   },
   {
    "duration": 14,
    "start_time": "2024-01-10T12:32:37.983Z"
   },
   {
    "duration": 13,
    "start_time": "2024-01-10T12:32:37.998Z"
   },
   {
    "duration": 401,
    "start_time": "2024-01-10T12:32:38.012Z"
   },
   {
    "duration": 214,
    "start_time": "2024-01-10T12:32:38.415Z"
   },
   {
    "duration": 28,
    "start_time": "2024-01-10T12:32:38.632Z"
   },
   {
    "duration": 358,
    "start_time": "2024-01-10T12:32:38.662Z"
   },
   {
    "duration": 29,
    "start_time": "2024-01-10T12:32:39.022Z"
   },
   {
    "duration": 24,
    "start_time": "2024-01-10T12:32:39.053Z"
   },
   {
    "duration": 5,
    "start_time": "2024-01-10T12:32:39.079Z"
   },
   {
    "duration": 48,
    "start_time": "2024-01-10T12:32:39.085Z"
   },
   {
    "duration": 21,
    "start_time": "2024-01-10T12:32:39.134Z"
   },
   {
    "duration": 30,
    "start_time": "2024-01-10T12:32:39.157Z"
   },
   {
    "duration": 38,
    "start_time": "2024-01-10T12:32:39.188Z"
   },
   {
    "duration": 16,
    "start_time": "2024-01-10T12:32:39.228Z"
   },
   {
    "duration": 40,
    "start_time": "2024-01-10T12:32:39.246Z"
   },
   {
    "duration": 36,
    "start_time": "2024-01-10T12:32:39.287Z"
   },
   {
    "duration": 48,
    "start_time": "2024-01-10T12:32:39.324Z"
   },
   {
    "duration": 52,
    "start_time": "2024-01-10T12:32:39.373Z"
   },
   {
    "duration": 43,
    "start_time": "2024-01-10T12:32:39.427Z"
   },
   {
    "duration": 1526,
    "start_time": "2024-01-10T12:32:39.472Z"
   },
   {
    "duration": 85,
    "start_time": "2024-01-10T12:32:41.000Z"
   },
   {
    "duration": 0,
    "start_time": "2024-01-10T12:32:41.086Z"
   },
   {
    "duration": 0,
    "start_time": "2024-01-10T12:32:41.089Z"
   },
   {
    "duration": 0,
    "start_time": "2024-01-10T12:32:41.090Z"
   },
   {
    "duration": 0,
    "start_time": "2024-01-10T12:32:41.091Z"
   },
   {
    "duration": 0,
    "start_time": "2024-01-10T12:32:41.092Z"
   },
   {
    "duration": 0,
    "start_time": "2024-01-10T12:32:41.093Z"
   },
   {
    "duration": 0,
    "start_time": "2024-01-10T12:32:41.094Z"
   },
   {
    "duration": 1,
    "start_time": "2024-01-10T12:32:41.094Z"
   },
   {
    "duration": 1,
    "start_time": "2024-01-10T12:32:41.095Z"
   },
   {
    "duration": 0,
    "start_time": "2024-01-10T12:32:41.096Z"
   },
   {
    "duration": 0,
    "start_time": "2024-01-10T12:32:41.097Z"
   },
   {
    "duration": 0,
    "start_time": "2024-01-10T12:32:41.099Z"
   },
   {
    "duration": 0,
    "start_time": "2024-01-10T12:32:41.100Z"
   },
   {
    "duration": 0,
    "start_time": "2024-01-10T12:32:41.101Z"
   },
   {
    "duration": 0,
    "start_time": "2024-01-10T12:32:41.103Z"
   },
   {
    "duration": 0,
    "start_time": "2024-01-10T12:32:41.104Z"
   },
   {
    "duration": 0,
    "start_time": "2024-01-10T12:32:41.106Z"
   },
   {
    "duration": 0,
    "start_time": "2024-01-10T12:32:41.107Z"
   },
   {
    "duration": 1,
    "start_time": "2024-01-10T12:32:41.108Z"
   },
   {
    "duration": 0,
    "start_time": "2024-01-10T12:32:41.110Z"
   },
   {
    "duration": 0,
    "start_time": "2024-01-10T12:32:41.113Z"
   },
   {
    "duration": 0,
    "start_time": "2024-01-10T12:32:41.114Z"
   },
   {
    "duration": 320,
    "start_time": "2024-01-10T12:33:42.603Z"
   },
   {
    "duration": 3159,
    "start_time": "2024-01-10T12:34:10.130Z"
   },
   {
    "duration": 3611,
    "start_time": "2024-01-10T12:35:10.127Z"
   },
   {
    "duration": 10842,
    "start_time": "2024-01-10T12:48:45.342Z"
   },
   {
    "duration": 15956,
    "start_time": "2024-01-10T12:49:37.550Z"
   },
   {
    "duration": 101,
    "start_time": "2024-01-10T12:49:53.508Z"
   },
   {
    "duration": 69,
    "start_time": "2024-01-10T12:49:53.611Z"
   },
   {
    "duration": 44,
    "start_time": "2024-01-10T12:49:53.682Z"
   },
   {
    "duration": 42,
    "start_time": "2024-01-10T12:49:53.743Z"
   },
   {
    "duration": 45,
    "start_time": "2024-01-10T12:49:53.787Z"
   },
   {
    "duration": 24,
    "start_time": "2024-01-10T12:49:53.833Z"
   },
   {
    "duration": 15,
    "start_time": "2024-01-10T12:49:53.859Z"
   },
   {
    "duration": 29,
    "start_time": "2024-01-10T12:49:53.876Z"
   },
   {
    "duration": 4,
    "start_time": "2024-01-10T12:49:53.908Z"
   },
   {
    "duration": 5,
    "start_time": "2024-01-10T12:49:53.914Z"
   },
   {
    "duration": 5,
    "start_time": "2024-01-10T12:49:53.921Z"
   },
   {
    "duration": 4,
    "start_time": "2024-01-10T12:49:53.928Z"
   },
   {
    "duration": 9,
    "start_time": "2024-01-10T12:49:53.933Z"
   },
   {
    "duration": 9,
    "start_time": "2024-01-10T12:49:53.944Z"
   },
   {
    "duration": 64,
    "start_time": "2024-01-10T12:49:53.955Z"
   },
   {
    "duration": 641,
    "start_time": "2024-01-10T12:49:54.021Z"
   },
   {
    "duration": 327,
    "start_time": "2024-01-10T12:49:54.668Z"
   },
   {
    "duration": 256,
    "start_time": "2024-01-10T12:49:54.997Z"
   },
   {
    "duration": 7,
    "start_time": "2024-01-10T12:49:55.260Z"
   },
   {
    "duration": 9,
    "start_time": "2024-01-10T12:49:55.272Z"
   },
   {
    "duration": 558,
    "start_time": "2024-01-10T12:49:55.282Z"
   },
   {
    "duration": 335,
    "start_time": "2024-01-10T12:49:55.842Z"
   },
   {
    "duration": 3,
    "start_time": "2024-01-10T12:49:56.179Z"
   },
   {
    "duration": 9,
    "start_time": "2024-01-10T12:49:56.184Z"
   },
   {
    "duration": 7,
    "start_time": "2024-01-10T12:49:56.195Z"
   },
   {
    "duration": 9,
    "start_time": "2024-01-10T12:49:56.204Z"
   },
   {
    "duration": 407,
    "start_time": "2024-01-10T12:49:56.218Z"
   },
   {
    "duration": 1755,
    "start_time": "2024-01-10T12:49:56.627Z"
   },
   {
    "duration": 270,
    "start_time": "2024-01-10T12:49:58.384Z"
   },
   {
    "duration": 46,
    "start_time": "2024-01-10T12:49:58.657Z"
   },
   {
    "duration": 670,
    "start_time": "2024-01-10T12:49:58.704Z"
   },
   {
    "duration": 235,
    "start_time": "2024-01-10T12:49:59.376Z"
   },
   {
    "duration": 24,
    "start_time": "2024-01-10T12:49:59.613Z"
   },
   {
    "duration": 243,
    "start_time": "2024-01-10T12:49:59.640Z"
   },
   {
    "duration": 14,
    "start_time": "2024-01-10T12:49:59.885Z"
   },
   {
    "duration": 74,
    "start_time": "2024-01-10T12:49:59.900Z"
   },
   {
    "duration": 389,
    "start_time": "2024-01-10T12:49:59.976Z"
   },
   {
    "duration": 216,
    "start_time": "2024-01-10T12:50:00.367Z"
   },
   {
    "duration": 41,
    "start_time": "2024-01-10T12:50:00.584Z"
   },
   {
    "duration": 388,
    "start_time": "2024-01-10T12:50:00.627Z"
   },
   {
    "duration": 13,
    "start_time": "2024-01-10T12:50:01.017Z"
   },
   {
    "duration": 38,
    "start_time": "2024-01-10T12:50:01.033Z"
   },
   {
    "duration": 27,
    "start_time": "2024-01-10T12:50:01.073Z"
   },
   {
    "duration": 51,
    "start_time": "2024-01-10T12:50:01.102Z"
   },
   {
    "duration": 16,
    "start_time": "2024-01-10T12:50:01.157Z"
   },
   {
    "duration": 38,
    "start_time": "2024-01-10T12:50:01.175Z"
   },
   {
    "duration": 74,
    "start_time": "2024-01-10T12:50:01.215Z"
   },
   {
    "duration": 33,
    "start_time": "2024-01-10T12:50:01.291Z"
   },
   {
    "duration": 70,
    "start_time": "2024-01-10T12:50:01.326Z"
   },
   {
    "duration": 55,
    "start_time": "2024-01-10T12:50:01.397Z"
   },
   {
    "duration": 12,
    "start_time": "2024-01-10T12:50:01.453Z"
   },
   {
    "duration": 54,
    "start_time": "2024-01-10T12:50:01.467Z"
   },
   {
    "duration": 58,
    "start_time": "2024-01-10T12:50:01.523Z"
   },
   {
    "duration": 1556,
    "start_time": "2024-01-10T12:50:01.583Z"
   },
   {
    "duration": 3256,
    "start_time": "2024-01-10T12:50:03.141Z"
   },
   {
    "duration": 8,
    "start_time": "2024-01-10T12:50:06.399Z"
   },
   {
    "duration": 12,
    "start_time": "2024-01-10T12:50:06.408Z"
   },
   {
    "duration": 31,
    "start_time": "2024-01-10T12:50:06.422Z"
   },
   {
    "duration": 9,
    "start_time": "2024-01-10T12:50:06.455Z"
   },
   {
    "duration": 14,
    "start_time": "2024-01-10T12:50:06.466Z"
   },
   {
    "duration": 22,
    "start_time": "2024-01-10T12:50:06.482Z"
   },
   {
    "duration": 20,
    "start_time": "2024-01-10T12:50:06.505Z"
   },
   {
    "duration": 13,
    "start_time": "2024-01-10T12:50:06.526Z"
   },
   {
    "duration": 27,
    "start_time": "2024-01-10T12:50:06.541Z"
   },
   {
    "duration": 11,
    "start_time": "2024-01-10T12:50:06.569Z"
   },
   {
    "duration": 26,
    "start_time": "2024-01-10T12:50:06.582Z"
   },
   {
    "duration": 1211,
    "start_time": "2024-01-10T12:50:06.610Z"
   },
   {
    "duration": 1016,
    "start_time": "2024-01-10T12:50:07.823Z"
   },
   {
    "duration": 1277,
    "start_time": "2024-01-10T12:50:08.841Z"
   },
   {
    "duration": 52,
    "start_time": "2024-01-10T12:50:10.119Z"
   },
   {
    "duration": 203,
    "start_time": "2024-01-10T12:50:10.173Z"
   },
   {
    "duration": 39,
    "start_time": "2024-01-10T12:50:10.377Z"
   },
   {
    "duration": 72,
    "start_time": "2024-01-10T12:50:10.417Z"
   },
   {
    "duration": 260,
    "start_time": "2024-01-10T12:50:10.491Z"
   },
   {
    "duration": 49,
    "start_time": "2024-01-10T12:50:10.754Z"
   },
   {
    "duration": 337,
    "start_time": "2024-01-10T12:50:10.805Z"
   },
   {
    "duration": 537,
    "start_time": "2024-01-10T12:50:11.143Z"
   },
   {
    "duration": 12639,
    "start_time": "2024-01-10T12:51:43.159Z"
   },
   {
    "duration": 116,
    "start_time": "2024-01-10T12:51:55.801Z"
   },
   {
    "duration": 20,
    "start_time": "2024-01-10T12:51:55.919Z"
   },
   {
    "duration": 21,
    "start_time": "2024-01-10T12:51:55.941Z"
   },
   {
    "duration": 19,
    "start_time": "2024-01-10T12:51:55.965Z"
   },
   {
    "duration": 12,
    "start_time": "2024-01-10T12:51:55.986Z"
   },
   {
    "duration": 9,
    "start_time": "2024-01-10T12:51:56.000Z"
   },
   {
    "duration": 5,
    "start_time": "2024-01-10T12:51:56.011Z"
   },
   {
    "duration": 33,
    "start_time": "2024-01-10T12:51:56.018Z"
   },
   {
    "duration": 13,
    "start_time": "2024-01-10T12:51:56.061Z"
   },
   {
    "duration": 21,
    "start_time": "2024-01-10T12:51:56.075Z"
   },
   {
    "duration": 5,
    "start_time": "2024-01-10T12:51:56.097Z"
   },
   {
    "duration": 17,
    "start_time": "2024-01-10T12:51:56.103Z"
   },
   {
    "duration": 14,
    "start_time": "2024-01-10T12:51:56.122Z"
   },
   {
    "duration": 6,
    "start_time": "2024-01-10T12:51:56.137Z"
   },
   {
    "duration": 42,
    "start_time": "2024-01-10T12:51:56.145Z"
   },
   {
    "duration": 570,
    "start_time": "2024-01-10T12:51:56.188Z"
   },
   {
    "duration": 316,
    "start_time": "2024-01-10T12:51:56.762Z"
   },
   {
    "duration": 238,
    "start_time": "2024-01-10T12:51:57.079Z"
   },
   {
    "duration": 5,
    "start_time": "2024-01-10T12:51:57.318Z"
   },
   {
    "duration": 26,
    "start_time": "2024-01-10T12:51:57.324Z"
   },
   {
    "duration": 570,
    "start_time": "2024-01-10T12:51:57.352Z"
   },
   {
    "duration": 334,
    "start_time": "2024-01-10T12:51:57.924Z"
   },
   {
    "duration": 4,
    "start_time": "2024-01-10T12:51:58.268Z"
   },
   {
    "duration": 22,
    "start_time": "2024-01-10T12:51:58.274Z"
   },
   {
    "duration": 21,
    "start_time": "2024-01-10T12:51:58.297Z"
   },
   {
    "duration": 49,
    "start_time": "2024-01-10T12:51:58.320Z"
   },
   {
    "duration": 415,
    "start_time": "2024-01-10T12:51:58.373Z"
   },
   {
    "duration": 489,
    "start_time": "2024-01-10T12:51:58.790Z"
   },
   {
    "duration": 288,
    "start_time": "2024-01-10T12:51:59.281Z"
   },
   {
    "duration": 13,
    "start_time": "2024-01-10T12:51:59.571Z"
   },
   {
    "duration": 700,
    "start_time": "2024-01-10T12:51:59.586Z"
   },
   {
    "duration": 251,
    "start_time": "2024-01-10T12:52:00.288Z"
   },
   {
    "duration": 24,
    "start_time": "2024-01-10T12:52:00.541Z"
   },
   {
    "duration": 329,
    "start_time": "2024-01-10T12:52:00.567Z"
   },
   {
    "duration": 15,
    "start_time": "2024-01-10T12:52:00.897Z"
   },
   {
    "duration": 59,
    "start_time": "2024-01-10T12:52:00.913Z"
   },
   {
    "duration": 404,
    "start_time": "2024-01-10T12:52:00.974Z"
   },
   {
    "duration": 218,
    "start_time": "2024-01-10T12:52:01.380Z"
   },
   {
    "duration": 15,
    "start_time": "2024-01-10T12:52:01.601Z"
   },
   {
    "duration": 526,
    "start_time": "2024-01-10T12:52:01.618Z"
   },
   {
    "duration": 16,
    "start_time": "2024-01-10T12:52:02.146Z"
   },
   {
    "duration": 57,
    "start_time": "2024-01-10T12:52:02.164Z"
   },
   {
    "duration": 10,
    "start_time": "2024-01-10T12:52:02.223Z"
   },
   {
    "duration": 27,
    "start_time": "2024-01-10T12:52:02.235Z"
   },
   {
    "duration": 38,
    "start_time": "2024-01-10T12:52:02.264Z"
   },
   {
    "duration": 21,
    "start_time": "2024-01-10T12:52:02.304Z"
   },
   {
    "duration": 42,
    "start_time": "2024-01-10T12:52:02.326Z"
   },
   {
    "duration": 83,
    "start_time": "2024-01-10T12:52:02.370Z"
   },
   {
    "duration": 86,
    "start_time": "2024-01-10T12:52:02.456Z"
   },
   {
    "duration": 40,
    "start_time": "2024-01-10T12:52:02.543Z"
   },
   {
    "duration": 45,
    "start_time": "2024-01-10T12:52:02.585Z"
   },
   {
    "duration": 73,
    "start_time": "2024-01-10T12:52:02.631Z"
   },
   {
    "duration": 35,
    "start_time": "2024-01-10T12:52:02.705Z"
   },
   {
    "duration": 1584,
    "start_time": "2024-01-10T12:52:02.743Z"
   },
   {
    "duration": 3171,
    "start_time": "2024-01-10T12:52:04.329Z"
   },
   {
    "duration": 7,
    "start_time": "2024-01-10T12:52:07.502Z"
   },
   {
    "duration": 9,
    "start_time": "2024-01-10T12:52:07.510Z"
   },
   {
    "duration": 36,
    "start_time": "2024-01-10T12:52:07.521Z"
   },
   {
    "duration": 10,
    "start_time": "2024-01-10T12:52:07.559Z"
   },
   {
    "duration": 9,
    "start_time": "2024-01-10T12:52:07.571Z"
   },
   {
    "duration": 11,
    "start_time": "2024-01-10T12:52:07.582Z"
   },
   {
    "duration": 30,
    "start_time": "2024-01-10T12:52:07.595Z"
   },
   {
    "duration": 4,
    "start_time": "2024-01-10T12:52:07.627Z"
   },
   {
    "duration": 7,
    "start_time": "2024-01-10T12:52:07.632Z"
   },
   {
    "duration": 17,
    "start_time": "2024-01-10T12:52:07.640Z"
   },
   {
    "duration": 8,
    "start_time": "2024-01-10T12:52:07.665Z"
   },
   {
    "duration": 1193,
    "start_time": "2024-01-10T12:52:07.675Z"
   },
   {
    "duration": 906,
    "start_time": "2024-01-10T12:52:08.871Z"
   },
   {
    "duration": 1382,
    "start_time": "2024-01-10T12:52:09.778Z"
   },
   {
    "duration": 27,
    "start_time": "2024-01-10T12:52:11.162Z"
   },
   {
    "duration": 154,
    "start_time": "2024-01-10T12:52:11.191Z"
   },
   {
    "duration": 24,
    "start_time": "2024-01-10T12:52:11.353Z"
   },
   {
    "duration": 19,
    "start_time": "2024-01-10T12:52:11.378Z"
   },
   {
    "duration": 294,
    "start_time": "2024-01-10T12:52:11.398Z"
   },
   {
    "duration": 20,
    "start_time": "2024-01-10T12:52:11.694Z"
   },
   {
    "duration": 335,
    "start_time": "2024-01-10T12:52:11.716Z"
   },
   {
    "duration": 550,
    "start_time": "2024-01-10T12:52:12.053Z"
   },
   {
    "duration": 15,
    "start_time": "2024-01-10T12:54:32.140Z"
   },
   {
    "duration": 10541,
    "start_time": "2024-01-10T12:58:18.064Z"
   },
   {
    "duration": 0,
    "start_time": "2024-01-10T12:58:28.607Z"
   },
   {
    "duration": 10624,
    "start_time": "2024-01-10T12:59:34.257Z"
   },
   {
    "duration": 3,
    "start_time": "2024-01-10T12:59:44.885Z"
   },
   {
    "duration": 4,
    "start_time": "2024-01-10T12:59:47.538Z"
   },
   {
    "duration": 12638,
    "start_time": "2024-01-10T12:59:49.522Z"
   },
   {
    "duration": 5,
    "start_time": "2024-01-10T13:00:02.163Z"
   },
   {
    "duration": 14022,
    "start_time": "2024-01-10T13:01:56.379Z"
   },
   {
    "duration": 95,
    "start_time": "2024-01-10T13:02:10.404Z"
   },
   {
    "duration": 21,
    "start_time": "2024-01-10T13:02:10.501Z"
   },
   {
    "duration": 19,
    "start_time": "2024-01-10T13:02:10.525Z"
   },
   {
    "duration": 20,
    "start_time": "2024-01-10T13:02:10.546Z"
   },
   {
    "duration": 19,
    "start_time": "2024-01-10T13:02:10.568Z"
   },
   {
    "duration": 32,
    "start_time": "2024-01-10T13:02:10.588Z"
   },
   {
    "duration": 19,
    "start_time": "2024-01-10T13:02:10.622Z"
   },
   {
    "duration": 23,
    "start_time": "2024-01-10T13:02:10.643Z"
   },
   {
    "duration": 6,
    "start_time": "2024-01-10T13:02:10.670Z"
   },
   {
    "duration": 11,
    "start_time": "2024-01-10T13:02:10.677Z"
   },
   {
    "duration": 16,
    "start_time": "2024-01-10T13:02:10.690Z"
   },
   {
    "duration": 24,
    "start_time": "2024-01-10T13:02:10.708Z"
   },
   {
    "duration": 24,
    "start_time": "2024-01-10T13:02:10.735Z"
   },
   {
    "duration": 35,
    "start_time": "2024-01-10T13:02:10.761Z"
   },
   {
    "duration": 48,
    "start_time": "2024-01-10T13:02:10.797Z"
   },
   {
    "duration": 588,
    "start_time": "2024-01-10T13:02:10.847Z"
   },
   {
    "duration": 302,
    "start_time": "2024-01-10T13:02:11.437Z"
   },
   {
    "duration": 1434,
    "start_time": "2024-01-10T13:02:11.741Z"
   },
   {
    "duration": 3,
    "start_time": "2024-01-10T13:02:13.177Z"
   },
   {
    "duration": 9,
    "start_time": "2024-01-10T13:02:13.182Z"
   },
   {
    "duration": 577,
    "start_time": "2024-01-10T13:02:13.193Z"
   },
   {
    "duration": 311,
    "start_time": "2024-01-10T13:02:13.772Z"
   },
   {
    "duration": 4,
    "start_time": "2024-01-10T13:02:14.084Z"
   },
   {
    "duration": 10,
    "start_time": "2024-01-10T13:02:14.089Z"
   },
   {
    "duration": 6,
    "start_time": "2024-01-10T13:02:14.101Z"
   },
   {
    "duration": 11,
    "start_time": "2024-01-10T13:02:14.109Z"
   },
   {
    "duration": 371,
    "start_time": "2024-01-10T13:02:14.141Z"
   },
   {
    "duration": 477,
    "start_time": "2024-01-10T13:02:14.514Z"
   },
   {
    "duration": 271,
    "start_time": "2024-01-10T13:02:14.993Z"
   },
   {
    "duration": 14,
    "start_time": "2024-01-10T13:02:15.265Z"
   },
   {
    "duration": 628,
    "start_time": "2024-01-10T13:02:15.280Z"
   },
   {
    "duration": 258,
    "start_time": "2024-01-10T13:02:15.911Z"
   },
   {
    "duration": 14,
    "start_time": "2024-01-10T13:02:16.171Z"
   },
   {
    "duration": 218,
    "start_time": "2024-01-10T13:02:16.187Z"
   },
   {
    "duration": 14,
    "start_time": "2024-01-10T13:02:16.407Z"
   },
   {
    "duration": 28,
    "start_time": "2024-01-10T13:02:16.423Z"
   },
   {
    "duration": 355,
    "start_time": "2024-01-10T13:02:16.453Z"
   },
   {
    "duration": 198,
    "start_time": "2024-01-10T13:02:16.809Z"
   },
   {
    "duration": 13,
    "start_time": "2024-01-10T13:02:17.009Z"
   },
   {
    "duration": 342,
    "start_time": "2024-01-10T13:02:17.023Z"
   },
   {
    "duration": 22,
    "start_time": "2024-01-10T13:02:17.367Z"
   },
   {
    "duration": 14,
    "start_time": "2024-01-10T13:02:17.391Z"
   },
   {
    "duration": 4,
    "start_time": "2024-01-10T13:02:17.406Z"
   },
   {
    "duration": 32,
    "start_time": "2024-01-10T13:02:17.412Z"
   },
   {
    "duration": 7,
    "start_time": "2024-01-10T13:02:17.446Z"
   },
   {
    "duration": 18,
    "start_time": "2024-01-10T13:02:17.455Z"
   },
   {
    "duration": 11,
    "start_time": "2024-01-10T13:02:17.475Z"
   },
   {
    "duration": 7,
    "start_time": "2024-01-10T13:02:17.488Z"
   },
   {
    "duration": 18,
    "start_time": "2024-01-10T13:02:17.497Z"
   },
   {
    "duration": 43,
    "start_time": "2024-01-10T13:02:17.517Z"
   },
   {
    "duration": 6,
    "start_time": "2024-01-10T13:02:17.562Z"
   },
   {
    "duration": 15,
    "start_time": "2024-01-10T13:02:17.570Z"
   },
   {
    "duration": 17,
    "start_time": "2024-01-10T13:02:17.586Z"
   },
   {
    "duration": 1475,
    "start_time": "2024-01-10T13:02:17.605Z"
   },
   {
    "duration": 2967,
    "start_time": "2024-01-10T13:02:19.082Z"
   },
   {
    "duration": 7,
    "start_time": "2024-01-10T13:02:22.051Z"
   },
   {
    "duration": 43,
    "start_time": "2024-01-10T13:02:22.060Z"
   },
   {
    "duration": 14,
    "start_time": "2024-01-10T13:02:22.105Z"
   },
   {
    "duration": 11,
    "start_time": "2024-01-10T13:02:22.121Z"
   },
   {
    "duration": 19,
    "start_time": "2024-01-10T13:02:22.134Z"
   },
   {
    "duration": 19,
    "start_time": "2024-01-10T13:02:22.155Z"
   },
   {
    "duration": 23,
    "start_time": "2024-01-10T13:02:22.175Z"
   },
   {
    "duration": 9,
    "start_time": "2024-01-10T13:02:22.200Z"
   },
   {
    "duration": 8,
    "start_time": "2024-01-10T13:02:22.211Z"
   },
   {
    "duration": 9,
    "start_time": "2024-01-10T13:02:22.221Z"
   },
   {
    "duration": 12,
    "start_time": "2024-01-10T13:02:22.231Z"
   },
   {
    "duration": 1219,
    "start_time": "2024-01-10T13:02:22.245Z"
   },
   {
    "duration": 894,
    "start_time": "2024-01-10T13:02:23.466Z"
   },
   {
    "duration": 1076,
    "start_time": "2024-01-10T13:02:24.361Z"
   },
   {
    "duration": 20,
    "start_time": "2024-01-10T13:02:25.443Z"
   },
   {
    "duration": 81,
    "start_time": "2024-01-10T13:02:25.464Z"
   },
   {
    "duration": 105,
    "start_time": "2024-01-10T13:02:25.547Z"
   },
   {
    "duration": 16,
    "start_time": "2024-01-10T13:02:25.654Z"
   },
   {
    "duration": 263,
    "start_time": "2024-01-10T13:02:25.672Z"
   },
   {
    "duration": 24,
    "start_time": "2024-01-10T13:02:25.937Z"
   },
   {
    "duration": 322,
    "start_time": "2024-01-10T13:02:25.963Z"
   },
   {
    "duration": 598,
    "start_time": "2024-01-10T13:02:26.287Z"
   },
   {
    "duration": 461,
    "start_time": "2024-01-10T13:03:45.928Z"
   },
   {
    "duration": 436,
    "start_time": "2024-01-10T13:03:55.991Z"
   },
   {
    "duration": 481,
    "start_time": "2024-01-10T13:05:24.041Z"
   },
   {
    "duration": 532,
    "start_time": "2024-01-10T13:06:20.475Z"
   },
   {
    "duration": 262,
    "start_time": "2024-01-10T13:07:02.067Z"
   },
   {
    "duration": 17,
    "start_time": "2024-01-10T13:08:20.020Z"
   },
   {
    "duration": 13108,
    "start_time": "2024-01-10T13:12:30.850Z"
   },
   {
    "duration": 85,
    "start_time": "2024-01-10T13:12:43.961Z"
   },
   {
    "duration": 21,
    "start_time": "2024-01-10T13:12:44.047Z"
   },
   {
    "duration": 15,
    "start_time": "2024-01-10T13:12:44.070Z"
   },
   {
    "duration": 13,
    "start_time": "2024-01-10T13:12:44.086Z"
   },
   {
    "duration": 27,
    "start_time": "2024-01-10T13:12:44.100Z"
   },
   {
    "duration": 42,
    "start_time": "2024-01-10T13:12:44.128Z"
   },
   {
    "duration": 6,
    "start_time": "2024-01-10T13:12:44.171Z"
   },
   {
    "duration": 19,
    "start_time": "2024-01-10T13:12:44.178Z"
   },
   {
    "duration": 4,
    "start_time": "2024-01-10T13:12:44.200Z"
   },
   {
    "duration": 4,
    "start_time": "2024-01-10T13:12:44.206Z"
   },
   {
    "duration": 4,
    "start_time": "2024-01-10T13:12:44.212Z"
   },
   {
    "duration": 4,
    "start_time": "2024-01-10T13:12:44.217Z"
   },
   {
    "duration": 9,
    "start_time": "2024-01-10T13:12:44.222Z"
   },
   {
    "duration": 8,
    "start_time": "2024-01-10T13:12:44.232Z"
   },
   {
    "duration": 28,
    "start_time": "2024-01-10T13:12:44.241Z"
   },
   {
    "duration": 505,
    "start_time": "2024-01-10T13:12:44.271Z"
   },
   {
    "duration": 279,
    "start_time": "2024-01-10T13:12:44.778Z"
   },
   {
    "duration": 217,
    "start_time": "2024-01-10T13:12:45.058Z"
   },
   {
    "duration": 4,
    "start_time": "2024-01-10T13:12:45.276Z"
   },
   {
    "duration": 58,
    "start_time": "2024-01-10T13:12:45.281Z"
   },
   {
    "duration": 523,
    "start_time": "2024-01-10T13:12:45.341Z"
   },
   {
    "duration": 293,
    "start_time": "2024-01-10T13:12:45.866Z"
   },
   {
    "duration": 3,
    "start_time": "2024-01-10T13:12:46.161Z"
   },
   {
    "duration": 37,
    "start_time": "2024-01-10T13:12:46.166Z"
   },
   {
    "duration": 7,
    "start_time": "2024-01-10T13:12:46.205Z"
   },
   {
    "duration": 9,
    "start_time": "2024-01-10T13:12:46.213Z"
   },
   {
    "duration": 335,
    "start_time": "2024-01-10T13:12:46.225Z"
   },
   {
    "duration": 418,
    "start_time": "2024-01-10T13:12:46.562Z"
   },
   {
    "duration": 245,
    "start_time": "2024-01-10T13:12:46.981Z"
   },
   {
    "duration": 17,
    "start_time": "2024-01-10T13:12:47.227Z"
   },
   {
    "duration": 538,
    "start_time": "2024-01-10T13:12:47.246Z"
   },
   {
    "duration": 199,
    "start_time": "2024-01-10T13:12:47.786Z"
   },
   {
    "duration": 16,
    "start_time": "2024-01-10T13:12:47.987Z"
   },
   {
    "duration": 232,
    "start_time": "2024-01-10T13:12:48.004Z"
   },
   {
    "duration": 15,
    "start_time": "2024-01-10T13:12:48.238Z"
   },
   {
    "duration": 13,
    "start_time": "2024-01-10T13:12:48.255Z"
   },
   {
    "duration": 388,
    "start_time": "2024-01-10T13:12:48.269Z"
   },
   {
    "duration": 179,
    "start_time": "2024-01-10T13:12:48.658Z"
   },
   {
    "duration": 13,
    "start_time": "2024-01-10T13:12:48.838Z"
   },
   {
    "duration": 289,
    "start_time": "2024-01-10T13:12:48.853Z"
   },
   {
    "duration": 13,
    "start_time": "2024-01-10T13:12:49.144Z"
   },
   {
    "duration": 14,
    "start_time": "2024-01-10T13:12:49.158Z"
   },
   {
    "duration": 5,
    "start_time": "2024-01-10T13:12:49.173Z"
   },
   {
    "duration": 5,
    "start_time": "2024-01-10T13:12:49.180Z"
   },
   {
    "duration": 9,
    "start_time": "2024-01-10T13:12:49.187Z"
   },
   {
    "duration": 12,
    "start_time": "2024-01-10T13:12:49.198Z"
   },
   {
    "duration": 46,
    "start_time": "2024-01-10T13:12:49.211Z"
   },
   {
    "duration": 7,
    "start_time": "2024-01-10T13:12:49.259Z"
   },
   {
    "duration": 14,
    "start_time": "2024-01-10T13:12:49.267Z"
   },
   {
    "duration": 11,
    "start_time": "2024-01-10T13:12:49.283Z"
   },
   {
    "duration": 6,
    "start_time": "2024-01-10T13:12:49.295Z"
   },
   {
    "duration": 40,
    "start_time": "2024-01-10T13:12:49.302Z"
   },
   {
    "duration": 16,
    "start_time": "2024-01-10T13:12:49.344Z"
   },
   {
    "duration": 1380,
    "start_time": "2024-01-10T13:12:49.362Z"
   },
   {
    "duration": 3818,
    "start_time": "2024-01-10T13:12:50.744Z"
   },
   {
    "duration": 7,
    "start_time": "2024-01-10T13:12:54.563Z"
   },
   {
    "duration": 11,
    "start_time": "2024-01-10T13:12:54.572Z"
   },
   {
    "duration": 10,
    "start_time": "2024-01-10T13:12:54.585Z"
   },
   {
    "duration": 6,
    "start_time": "2024-01-10T13:12:54.596Z"
   },
   {
    "duration": 5,
    "start_time": "2024-01-10T13:12:54.604Z"
   },
   {
    "duration": 7,
    "start_time": "2024-01-10T13:12:54.611Z"
   },
   {
    "duration": 3,
    "start_time": "2024-01-10T13:12:54.643Z"
   },
   {
    "duration": 5,
    "start_time": "2024-01-10T13:12:54.647Z"
   },
   {
    "duration": 20,
    "start_time": "2024-01-10T13:12:54.654Z"
   },
   {
    "duration": 5,
    "start_time": "2024-01-10T13:12:54.676Z"
   },
   {
    "duration": 8,
    "start_time": "2024-01-10T13:12:54.682Z"
   },
   {
    "duration": 1075,
    "start_time": "2024-01-10T13:12:54.691Z"
   },
   {
    "duration": 879,
    "start_time": "2024-01-10T13:12:55.767Z"
   },
   {
    "duration": 1125,
    "start_time": "2024-01-10T13:12:56.648Z"
   },
   {
    "duration": 16,
    "start_time": "2024-01-10T13:12:57.775Z"
   },
   {
    "duration": 151,
    "start_time": "2024-01-10T13:12:57.793Z"
   },
   {
    "duration": 24,
    "start_time": "2024-01-10T13:12:57.946Z"
   },
   {
    "duration": 21,
    "start_time": "2024-01-10T13:12:57.972Z"
   },
   {
    "duration": 254,
    "start_time": "2024-01-10T13:12:58.043Z"
   },
   {
    "duration": 20,
    "start_time": "2024-01-10T13:12:58.304Z"
   },
   {
    "duration": 301,
    "start_time": "2024-01-10T13:12:58.325Z"
   },
   {
    "duration": 440,
    "start_time": "2024-01-10T13:12:58.628Z"
   },
   {
    "duration": 13183,
    "start_time": "2024-01-10T13:19:04.072Z"
   },
   {
    "duration": 88,
    "start_time": "2024-01-10T13:19:17.258Z"
   },
   {
    "duration": 24,
    "start_time": "2024-01-10T13:19:17.347Z"
   },
   {
    "duration": 27,
    "start_time": "2024-01-10T13:19:17.372Z"
   },
   {
    "duration": 27,
    "start_time": "2024-01-10T13:19:17.402Z"
   },
   {
    "duration": 31,
    "start_time": "2024-01-10T13:19:17.430Z"
   },
   {
    "duration": 18,
    "start_time": "2024-01-10T13:19:17.462Z"
   },
   {
    "duration": 29,
    "start_time": "2024-01-10T13:19:17.481Z"
   },
   {
    "duration": 41,
    "start_time": "2024-01-10T13:19:17.511Z"
   },
   {
    "duration": 22,
    "start_time": "2024-01-10T13:19:17.554Z"
   },
   {
    "duration": 8,
    "start_time": "2024-01-10T13:19:17.578Z"
   },
   {
    "duration": 23,
    "start_time": "2024-01-10T13:19:17.588Z"
   },
   {
    "duration": 22,
    "start_time": "2024-01-10T13:19:17.613Z"
   },
   {
    "duration": 24,
    "start_time": "2024-01-10T13:19:17.638Z"
   },
   {
    "duration": 13,
    "start_time": "2024-01-10T13:19:17.664Z"
   },
   {
    "duration": 49,
    "start_time": "2024-01-10T13:19:17.678Z"
   },
   {
    "duration": 430,
    "start_time": "2024-01-10T13:19:17.728Z"
   },
   {
    "duration": 299,
    "start_time": "2024-01-10T13:19:18.159Z"
   },
   {
    "duration": 235,
    "start_time": "2024-01-10T13:19:18.460Z"
   },
   {
    "duration": 4,
    "start_time": "2024-01-10T13:19:18.697Z"
   },
   {
    "duration": 39,
    "start_time": "2024-01-10T13:19:18.702Z"
   },
   {
    "duration": 514,
    "start_time": "2024-01-10T13:19:18.743Z"
   },
   {
    "duration": 308,
    "start_time": "2024-01-10T13:19:19.259Z"
   },
   {
    "duration": 4,
    "start_time": "2024-01-10T13:19:19.570Z"
   },
   {
    "duration": 32,
    "start_time": "2024-01-10T13:19:19.576Z"
   },
   {
    "duration": 16,
    "start_time": "2024-01-10T13:19:19.610Z"
   },
   {
    "duration": 28,
    "start_time": "2024-01-10T13:19:19.628Z"
   },
   {
    "duration": 376,
    "start_time": "2024-01-10T13:19:19.658Z"
   },
   {
    "duration": 490,
    "start_time": "2024-01-10T13:19:20.035Z"
   },
   {
    "duration": 232,
    "start_time": "2024-01-10T13:19:20.526Z"
   },
   {
    "duration": 16,
    "start_time": "2024-01-10T13:19:20.760Z"
   },
   {
    "duration": 478,
    "start_time": "2024-01-10T13:19:20.778Z"
   },
   {
    "duration": 187,
    "start_time": "2024-01-10T13:19:21.258Z"
   },
   {
    "duration": 17,
    "start_time": "2024-01-10T13:19:21.447Z"
   },
   {
    "duration": 208,
    "start_time": "2024-01-10T13:19:21.465Z"
   },
   {
    "duration": 15,
    "start_time": "2024-01-10T13:19:21.676Z"
   },
   {
    "duration": 33,
    "start_time": "2024-01-10T13:19:21.692Z"
   },
   {
    "duration": 332,
    "start_time": "2024-01-10T13:19:21.727Z"
   },
   {
    "duration": 173,
    "start_time": "2024-01-10T13:19:22.062Z"
   },
   {
    "duration": 14,
    "start_time": "2024-01-10T13:19:22.237Z"
   },
   {
    "duration": 257,
    "start_time": "2024-01-10T13:19:22.255Z"
   },
   {
    "duration": 11,
    "start_time": "2024-01-10T13:19:22.514Z"
   },
   {
    "duration": 30,
    "start_time": "2024-01-10T13:19:22.526Z"
   },
   {
    "duration": 73,
    "start_time": "2024-01-10T13:19:22.557Z"
   },
   {
    "duration": 17,
    "start_time": "2024-01-10T13:19:22.631Z"
   },
   {
    "duration": 21,
    "start_time": "2024-01-10T13:19:22.649Z"
   },
   {
    "duration": 21,
    "start_time": "2024-01-10T13:19:22.671Z"
   },
   {
    "duration": 23,
    "start_time": "2024-01-10T13:19:22.694Z"
   },
   {
    "duration": 20,
    "start_time": "2024-01-10T13:19:22.718Z"
   },
   {
    "duration": 26,
    "start_time": "2024-01-10T13:19:22.739Z"
   },
   {
    "duration": 11,
    "start_time": "2024-01-10T13:19:22.767Z"
   },
   {
    "duration": 38,
    "start_time": "2024-01-10T13:19:22.780Z"
   },
   {
    "duration": 24,
    "start_time": "2024-01-10T13:19:22.819Z"
   },
   {
    "duration": 1486,
    "start_time": "2024-01-10T13:19:22.844Z"
   },
   {
    "duration": 2700,
    "start_time": "2024-01-10T13:19:24.332Z"
   },
   {
    "duration": 12,
    "start_time": "2024-01-10T13:19:27.034Z"
   },
   {
    "duration": 12,
    "start_time": "2024-01-10T13:19:27.047Z"
   },
   {
    "duration": 48,
    "start_time": "2024-01-10T13:19:27.061Z"
   },
   {
    "duration": 52,
    "start_time": "2024-01-10T13:19:27.111Z"
   },
   {
    "duration": 32,
    "start_time": "2024-01-10T13:19:27.164Z"
   },
   {
    "duration": 21,
    "start_time": "2024-01-10T13:19:27.198Z"
   },
   {
    "duration": 33,
    "start_time": "2024-01-10T13:19:27.221Z"
   },
   {
    "duration": 34,
    "start_time": "2024-01-10T13:19:27.255Z"
   },
   {
    "duration": 34,
    "start_time": "2024-01-10T13:19:27.291Z"
   },
   {
    "duration": 45,
    "start_time": "2024-01-10T13:19:27.326Z"
   },
   {
    "duration": 27,
    "start_time": "2024-01-10T13:19:27.373Z"
   },
   {
    "duration": 1235,
    "start_time": "2024-01-10T13:19:27.403Z"
   },
   {
    "duration": 858,
    "start_time": "2024-01-10T13:19:28.640Z"
   },
   {
    "duration": 1114,
    "start_time": "2024-01-10T13:19:29.500Z"
   },
   {
    "duration": 28,
    "start_time": "2024-01-10T13:19:30.615Z"
   },
   {
    "duration": 101,
    "start_time": "2024-01-10T13:19:30.645Z"
   },
   {
    "duration": 109,
    "start_time": "2024-01-10T13:19:30.749Z"
   },
   {
    "duration": 52,
    "start_time": "2024-01-10T13:19:30.860Z"
   },
   {
    "duration": 287,
    "start_time": "2024-01-10T13:19:30.914Z"
   },
   {
    "duration": 25,
    "start_time": "2024-01-10T13:19:31.203Z"
   },
   {
    "duration": 285,
    "start_time": "2024-01-10T13:19:31.230Z"
   },
   {
    "duration": 632,
    "start_time": "2024-01-10T13:19:31.517Z"
   },
   {
    "duration": 17742,
    "start_time": "2024-01-10T13:41:40.844Z"
   },
   {
    "duration": 85,
    "start_time": "2024-01-10T13:41:58.588Z"
   },
   {
    "duration": 21,
    "start_time": "2024-01-10T13:41:58.674Z"
   },
   {
    "duration": 12,
    "start_time": "2024-01-10T13:41:58.697Z"
   },
   {
    "duration": 13,
    "start_time": "2024-01-10T13:41:58.712Z"
   },
   {
    "duration": 12,
    "start_time": "2024-01-10T13:41:58.727Z"
   },
   {
    "duration": 6,
    "start_time": "2024-01-10T13:41:58.741Z"
   },
   {
    "duration": 15,
    "start_time": "2024-01-10T13:41:58.748Z"
   },
   {
    "duration": 5,
    "start_time": "2024-01-10T13:41:58.765Z"
   },
   {
    "duration": 7,
    "start_time": "2024-01-10T13:41:58.771Z"
   },
   {
    "duration": 15,
    "start_time": "2024-01-10T13:41:58.779Z"
   },
   {
    "duration": 8,
    "start_time": "2024-01-10T13:41:58.795Z"
   },
   {
    "duration": 15,
    "start_time": "2024-01-10T13:41:58.804Z"
   },
   {
    "duration": 8,
    "start_time": "2024-01-10T13:41:58.822Z"
   },
   {
    "duration": 12,
    "start_time": "2024-01-10T13:41:58.831Z"
   },
   {
    "duration": 28,
    "start_time": "2024-01-10T13:41:58.844Z"
   },
   {
    "duration": 431,
    "start_time": "2024-01-10T13:41:58.873Z"
   },
   {
    "duration": 292,
    "start_time": "2024-01-10T13:41:59.305Z"
   },
   {
    "duration": 207,
    "start_time": "2024-01-10T13:41:59.599Z"
   },
   {
    "duration": 4,
    "start_time": "2024-01-10T13:41:59.808Z"
   },
   {
    "duration": 19,
    "start_time": "2024-01-10T13:41:59.814Z"
   },
   {
    "duration": 413,
    "start_time": "2024-01-10T13:41:59.842Z"
   },
   {
    "duration": 285,
    "start_time": "2024-01-10T13:42:00.257Z"
   },
   {
    "duration": 4,
    "start_time": "2024-01-10T13:42:00.544Z"
   },
   {
    "duration": 45,
    "start_time": "2024-01-10T13:42:00.549Z"
   },
   {
    "duration": 52,
    "start_time": "2024-01-10T13:42:00.596Z"
   },
   {
    "duration": 120,
    "start_time": "2024-01-10T13:42:00.649Z"
   },
   {
    "duration": 439,
    "start_time": "2024-01-10T13:42:00.770Z"
   },
   {
    "duration": 485,
    "start_time": "2024-01-10T13:42:01.211Z"
   },
   {
    "duration": 246,
    "start_time": "2024-01-10T13:42:01.698Z"
   },
   {
    "duration": 14,
    "start_time": "2024-01-10T13:42:01.946Z"
   },
   {
    "duration": 523,
    "start_time": "2024-01-10T13:42:01.961Z"
   },
   {
    "duration": 194,
    "start_time": "2024-01-10T13:42:02.485Z"
   },
   {
    "duration": 15,
    "start_time": "2024-01-10T13:42:02.680Z"
   },
   {
    "duration": 208,
    "start_time": "2024-01-10T13:42:02.697Z"
   },
   {
    "duration": 14,
    "start_time": "2024-01-10T13:42:02.906Z"
   },
   {
    "duration": 29,
    "start_time": "2024-01-10T13:42:02.922Z"
   },
   {
    "duration": 305,
    "start_time": "2024-01-10T13:42:02.953Z"
   },
   {
    "duration": 186,
    "start_time": "2024-01-10T13:42:03.260Z"
   },
   {
    "duration": 14,
    "start_time": "2024-01-10T13:42:03.447Z"
   },
   {
    "duration": 320,
    "start_time": "2024-01-10T13:42:03.467Z"
   },
   {
    "duration": 16,
    "start_time": "2024-01-10T13:42:03.789Z"
   },
   {
    "duration": 36,
    "start_time": "2024-01-10T13:42:03.807Z"
   },
   {
    "duration": 8,
    "start_time": "2024-01-10T13:42:03.845Z"
   },
   {
    "duration": 10,
    "start_time": "2024-01-10T13:42:03.855Z"
   },
   {
    "duration": 5,
    "start_time": "2024-01-10T13:42:03.867Z"
   },
   {
    "duration": 13,
    "start_time": "2024-01-10T13:42:03.874Z"
   },
   {
    "duration": 9,
    "start_time": "2024-01-10T13:42:03.889Z"
   },
   {
    "duration": 47,
    "start_time": "2024-01-10T13:42:03.899Z"
   },
   {
    "duration": 13,
    "start_time": "2024-01-10T13:42:03.948Z"
   },
   {
    "duration": 9,
    "start_time": "2024-01-10T13:42:03.963Z"
   },
   {
    "duration": 38,
    "start_time": "2024-01-10T13:42:03.974Z"
   },
   {
    "duration": 23,
    "start_time": "2024-01-10T13:42:04.013Z"
   },
   {
    "duration": 1561,
    "start_time": "2024-01-10T13:42:04.042Z"
   },
   {
    "duration": 2814,
    "start_time": "2024-01-10T13:42:05.605Z"
   },
   {
    "duration": 8,
    "start_time": "2024-01-10T13:42:08.421Z"
   },
   {
    "duration": 8,
    "start_time": "2024-01-10T13:42:08.442Z"
   },
   {
    "duration": 10,
    "start_time": "2024-01-10T13:42:08.452Z"
   },
   {
    "duration": 6,
    "start_time": "2024-01-10T13:42:08.463Z"
   },
   {
    "duration": 2,
    "start_time": "2024-01-10T13:42:08.471Z"
   },
   {
    "duration": 9,
    "start_time": "2024-01-10T13:42:08.474Z"
   },
   {
    "duration": 14,
    "start_time": "2024-01-10T13:42:08.485Z"
   },
   {
    "duration": 29,
    "start_time": "2024-01-10T13:42:08.500Z"
   },
   {
    "duration": 5,
    "start_time": "2024-01-10T13:42:08.531Z"
   },
   {
    "duration": 7,
    "start_time": "2024-01-10T13:42:08.538Z"
   },
   {
    "duration": 7,
    "start_time": "2024-01-10T13:42:08.546Z"
   },
   {
    "duration": 1436,
    "start_time": "2024-01-10T13:42:08.554Z"
   },
   {
    "duration": 835,
    "start_time": "2024-01-10T13:42:09.992Z"
   },
   {
    "duration": 1193,
    "start_time": "2024-01-10T13:42:10.829Z"
   },
   {
    "duration": 32,
    "start_time": "2024-01-10T13:42:12.024Z"
   },
   {
    "duration": 89,
    "start_time": "2024-01-10T13:42:12.058Z"
   },
   {
    "duration": 114,
    "start_time": "2024-01-10T13:42:12.150Z"
   },
   {
    "duration": 21,
    "start_time": "2024-01-10T13:42:12.266Z"
   },
   {
    "duration": 237,
    "start_time": "2024-01-10T13:42:12.289Z"
   },
   {
    "duration": 29,
    "start_time": "2024-01-10T13:42:12.527Z"
   },
   {
    "duration": 305,
    "start_time": "2024-01-10T13:42:12.557Z"
   },
   {
    "duration": 649,
    "start_time": "2024-01-10T13:42:12.864Z"
   },
   {
    "duration": 239,
    "start_time": "2024-01-10T13:43:36.860Z"
   },
   {
    "duration": 13185,
    "start_time": "2024-01-10T13:48:18.431Z"
   },
   {
    "duration": 90,
    "start_time": "2024-01-10T13:48:31.618Z"
   },
   {
    "duration": 22,
    "start_time": "2024-01-10T13:48:31.709Z"
   },
   {
    "duration": 78,
    "start_time": "2024-01-10T13:48:31.733Z"
   },
   {
    "duration": 84,
    "start_time": "2024-01-10T13:48:31.812Z"
   },
   {
    "duration": 47,
    "start_time": "2024-01-10T13:48:31.898Z"
   },
   {
    "duration": 19,
    "start_time": "2024-01-10T13:48:31.947Z"
   },
   {
    "duration": 22,
    "start_time": "2024-01-10T13:48:31.968Z"
   },
   {
    "duration": 46,
    "start_time": "2024-01-10T13:48:31.992Z"
   },
   {
    "duration": 26,
    "start_time": "2024-01-10T13:48:32.041Z"
   },
   {
    "duration": 83,
    "start_time": "2024-01-10T13:48:32.069Z"
   },
   {
    "duration": 47,
    "start_time": "2024-01-10T13:48:32.157Z"
   },
   {
    "duration": 11,
    "start_time": "2024-01-10T13:48:32.206Z"
   },
   {
    "duration": 48,
    "start_time": "2024-01-10T13:48:32.218Z"
   },
   {
    "duration": 49,
    "start_time": "2024-01-10T13:48:32.268Z"
   },
   {
    "duration": 44,
    "start_time": "2024-01-10T13:48:32.319Z"
   },
   {
    "duration": 445,
    "start_time": "2024-01-10T13:48:32.365Z"
   },
   {
    "duration": 315,
    "start_time": "2024-01-10T13:48:32.811Z"
   },
   {
    "duration": 223,
    "start_time": "2024-01-10T13:48:33.128Z"
   },
   {
    "duration": 6,
    "start_time": "2024-01-10T13:48:33.355Z"
   },
   {
    "duration": 43,
    "start_time": "2024-01-10T13:48:33.362Z"
   },
   {
    "duration": 447,
    "start_time": "2024-01-10T13:48:33.406Z"
   },
   {
    "duration": 271,
    "start_time": "2024-01-10T13:48:33.855Z"
   },
   {
    "duration": 4,
    "start_time": "2024-01-10T13:48:34.127Z"
   },
   {
    "duration": 41,
    "start_time": "2024-01-10T13:48:34.133Z"
   },
   {
    "duration": 23,
    "start_time": "2024-01-10T13:48:34.176Z"
   },
   {
    "duration": 53,
    "start_time": "2024-01-10T13:48:34.200Z"
   },
   {
    "duration": 355,
    "start_time": "2024-01-10T13:48:34.257Z"
   },
   {
    "duration": 518,
    "start_time": "2024-01-10T13:48:34.614Z"
   },
   {
    "duration": 229,
    "start_time": "2024-01-10T13:48:35.134Z"
   },
   {
    "duration": 13,
    "start_time": "2024-01-10T13:48:35.364Z"
   },
   {
    "duration": 502,
    "start_time": "2024-01-10T13:48:35.379Z"
   },
   {
    "duration": 212,
    "start_time": "2024-01-10T13:48:35.882Z"
   },
   {
    "duration": 14,
    "start_time": "2024-01-10T13:48:36.096Z"
   },
   {
    "duration": 215,
    "start_time": "2024-01-10T13:48:36.112Z"
   },
   {
    "duration": 24,
    "start_time": "2024-01-10T13:48:36.328Z"
   },
   {
    "duration": 15,
    "start_time": "2024-01-10T13:48:36.354Z"
   },
   {
    "duration": 313,
    "start_time": "2024-01-10T13:48:36.370Z"
   },
   {
    "duration": 181,
    "start_time": "2024-01-10T13:48:36.685Z"
   },
   {
    "duration": 12,
    "start_time": "2024-01-10T13:48:36.867Z"
   },
   {
    "duration": 256,
    "start_time": "2024-01-10T13:48:36.880Z"
   },
   {
    "duration": 19,
    "start_time": "2024-01-10T13:48:37.142Z"
   },
   {
    "duration": 16,
    "start_time": "2024-01-10T13:48:37.162Z"
   },
   {
    "duration": 21,
    "start_time": "2024-01-10T13:48:37.179Z"
   },
   {
    "duration": 20,
    "start_time": "2024-01-10T13:48:37.201Z"
   },
   {
    "duration": 16,
    "start_time": "2024-01-10T13:48:37.223Z"
   },
   {
    "duration": 23,
    "start_time": "2024-01-10T13:48:37.241Z"
   },
   {
    "duration": 19,
    "start_time": "2024-01-10T13:48:37.265Z"
   },
   {
    "duration": 22,
    "start_time": "2024-01-10T13:48:37.285Z"
   },
   {
    "duration": 16,
    "start_time": "2024-01-10T13:48:37.309Z"
   },
   {
    "duration": 14,
    "start_time": "2024-01-10T13:48:37.327Z"
   },
   {
    "duration": 37,
    "start_time": "2024-01-10T13:48:37.342Z"
   },
   {
    "duration": 26,
    "start_time": "2024-01-10T13:48:37.381Z"
   },
   {
    "duration": 1653,
    "start_time": "2024-01-10T13:48:37.409Z"
   },
   {
    "duration": 2991,
    "start_time": "2024-01-10T13:48:39.064Z"
   },
   {
    "duration": 9,
    "start_time": "2024-01-10T13:48:42.057Z"
   },
   {
    "duration": 37,
    "start_time": "2024-01-10T13:48:42.067Z"
   },
   {
    "duration": 15,
    "start_time": "2024-01-10T13:48:42.105Z"
   },
   {
    "duration": 36,
    "start_time": "2024-01-10T13:48:42.122Z"
   },
   {
    "duration": 28,
    "start_time": "2024-01-10T13:48:42.162Z"
   },
   {
    "duration": 9,
    "start_time": "2024-01-10T13:48:42.192Z"
   },
   {
    "duration": 12,
    "start_time": "2024-01-10T13:48:42.202Z"
   },
   {
    "duration": 20,
    "start_time": "2024-01-10T13:48:42.215Z"
   },
   {
    "duration": 13,
    "start_time": "2024-01-10T13:48:42.237Z"
   },
   {
    "duration": 42,
    "start_time": "2024-01-10T13:48:42.253Z"
   },
   {
    "duration": 20,
    "start_time": "2024-01-10T13:48:42.298Z"
   },
   {
    "duration": 1257,
    "start_time": "2024-01-10T13:48:42.321Z"
   },
   {
    "duration": 886,
    "start_time": "2024-01-10T13:48:43.580Z"
   },
   {
    "duration": 1196,
    "start_time": "2024-01-10T13:48:44.468Z"
   },
   {
    "duration": 17,
    "start_time": "2024-01-10T13:48:45.666Z"
   },
   {
    "duration": 60,
    "start_time": "2024-01-10T13:48:45.684Z"
   },
   {
    "duration": 104,
    "start_time": "2024-01-10T13:48:45.749Z"
   },
   {
    "duration": 20,
    "start_time": "2024-01-10T13:48:45.856Z"
   },
   {
    "duration": 248,
    "start_time": "2024-01-10T13:48:45.878Z"
   },
   {
    "duration": 37,
    "start_time": "2024-01-10T13:48:46.128Z"
   },
   {
    "duration": 316,
    "start_time": "2024-01-10T13:48:46.167Z"
   },
   {
    "duration": 672,
    "start_time": "2024-01-10T13:48:46.484Z"
   },
   {
    "duration": 21613,
    "start_time": "2024-03-14T13:22:26.937Z"
   },
   {
    "duration": 144,
    "start_time": "2024-03-14T13:42:15.232Z"
   },
   {
    "duration": 17,
    "start_time": "2024-03-14T13:42:45.169Z"
   },
   {
    "duration": 4,
    "start_time": "2024-03-14T13:43:07.311Z"
   },
   {
    "duration": 11,
    "start_time": "2024-03-14T13:43:31.777Z"
   },
   {
    "duration": 397,
    "start_time": "2024-03-14T13:44:07.498Z"
   },
   {
    "duration": 773,
    "start_time": "2024-03-14T13:45:19.347Z"
   },
   {
    "duration": 880,
    "start_time": "2024-03-14T13:45:31.967Z"
   },
   {
    "duration": 27,
    "start_time": "2024-03-14T13:46:58.240Z"
   },
   {
    "duration": 9,
    "start_time": "2024-03-14T13:47:33.073Z"
   },
   {
    "duration": 6,
    "start_time": "2024-03-14T13:48:25.435Z"
   },
   {
    "duration": 4,
    "start_time": "2024-03-14T13:49:33.560Z"
   },
   {
    "duration": 4,
    "start_time": "2024-03-14T13:49:37.060Z"
   },
   {
    "duration": 5,
    "start_time": "2024-03-14T13:52:20.981Z"
   },
   {
    "duration": 48595,
    "start_time": "2024-03-14T13:52:26.117Z"
   },
   {
    "duration": 39772,
    "start_time": "2024-04-02T16:41:18.826Z"
   },
   {
    "duration": 2364,
    "start_time": "2024-04-02T16:41:58.600Z"
   },
   {
    "duration": 4222,
    "start_time": "2024-04-02T16:42:00.966Z"
   },
   {
    "duration": 146,
    "start_time": "2024-04-02T16:42:05.190Z"
   },
   {
    "duration": 167,
    "start_time": "2024-04-02T16:42:05.337Z"
   },
   {
    "duration": 582994,
    "start_time": "2024-04-02T16:42:05.505Z"
   },
   {
    "duration": 24,
    "start_time": "2024-04-02T16:51:48.501Z"
   },
   {
    "duration": 28786,
    "start_time": "2024-04-02T16:55:52.650Z"
   },
   {
    "duration": 2330,
    "start_time": "2024-04-02T16:56:21.437Z"
   },
   {
    "duration": 4306,
    "start_time": "2024-04-02T16:56:23.768Z"
   },
   {
    "duration": 154,
    "start_time": "2024-04-02T16:56:28.076Z"
   },
   {
    "duration": 164,
    "start_time": "2024-04-02T16:56:28.231Z"
   },
   {
    "duration": 430879,
    "start_time": "2024-04-02T16:56:28.396Z"
   },
   {
    "duration": 12,
    "start_time": "2024-04-02T17:03:39.277Z"
   },
   {
    "duration": 4175,
    "start_time": "2024-04-02T17:03:39.290Z"
   },
   {
    "duration": 3,
    "start_time": "2024-04-02T17:03:43.466Z"
   },
   {
    "duration": 17,
    "start_time": "2024-04-02T17:03:43.471Z"
   },
   {
    "duration": 27858,
    "start_time": "2024-04-02T20:18:58.947Z"
   },
   {
    "duration": 2272,
    "start_time": "2024-04-02T20:19:26.807Z"
   },
   {
    "duration": 3933,
    "start_time": "2024-04-02T20:19:29.081Z"
   },
   {
    "duration": 130,
    "start_time": "2024-04-02T20:19:33.016Z"
   },
   {
    "duration": 141,
    "start_time": "2024-04-02T20:19:33.148Z"
   },
   {
    "duration": 140373,
    "start_time": "2024-04-02T20:19:33.291Z"
   },
   {
    "duration": 8,
    "start_time": "2024-04-02T20:21:53.666Z"
   },
   {
    "duration": 1466,
    "start_time": "2024-04-02T20:21:53.675Z"
   },
   {
    "duration": 3,
    "start_time": "2024-04-02T20:21:55.142Z"
   },
   {
    "duration": 5,
    "start_time": "2024-04-02T20:21:55.147Z"
   },
   {
    "duration": 27616,
    "start_time": "2024-04-02T20:26:14.021Z"
   },
   {
    "duration": 2208,
    "start_time": "2024-04-02T20:26:41.638Z"
   },
   {
    "duration": 3868,
    "start_time": "2024-04-02T20:26:43.848Z"
   },
   {
    "duration": 134,
    "start_time": "2024-04-02T20:26:47.719Z"
   },
   {
    "duration": 148,
    "start_time": "2024-04-02T20:26:47.855Z"
   },
   {
    "duration": 140587,
    "start_time": "2024-04-02T20:26:48.004Z"
   },
   {
    "duration": 8,
    "start_time": "2024-04-02T20:29:08.592Z"
   },
   {
    "duration": 1424,
    "start_time": "2024-04-02T20:29:08.615Z"
   },
   {
    "duration": 3,
    "start_time": "2024-04-02T20:29:10.041Z"
   },
   {
    "duration": 7,
    "start_time": "2024-04-02T20:29:10.046Z"
   },
   {
    "duration": 29154,
    "start_time": "2024-04-03T07:26:01.925Z"
   },
   {
    "duration": 2288,
    "start_time": "2024-04-03T07:26:31.080Z"
   },
   {
    "duration": 4056,
    "start_time": "2024-04-03T07:26:33.370Z"
   },
   {
    "duration": 133,
    "start_time": "2024-04-03T07:26:37.427Z"
   },
   {
    "duration": 150,
    "start_time": "2024-04-03T07:26:37.563Z"
   },
   {
    "duration": 15856,
    "start_time": "2024-04-03T07:26:37.715Z"
   },
   {
    "duration": 9,
    "start_time": "2024-04-03T07:26:53.573Z"
   },
   {
    "duration": 292,
    "start_time": "2024-04-03T07:26:53.583Z"
   },
   {
    "duration": 4,
    "start_time": "2024-04-03T07:26:53.876Z"
   },
   {
    "duration": 19,
    "start_time": "2024-04-03T07:26:53.882Z"
   },
   {
    "duration": 115962,
    "start_time": "2024-04-03T07:26:53.903Z"
   },
   {
    "duration": 29,
    "start_time": "2024-04-03T07:28:49.866Z"
   },
   {
    "duration": 371,
    "start_time": "2024-04-03T07:28:49.896Z"
   },
   {
    "duration": 27234,
    "start_time": "2024-04-03T07:32:05.050Z"
   },
   {
    "duration": 710,
    "start_time": "2024-04-03T07:32:32.286Z"
   },
   {
    "duration": 4213,
    "start_time": "2024-04-03T07:32:32.997Z"
   },
   {
    "duration": 146,
    "start_time": "2024-04-03T07:32:37.212Z"
   },
   {
    "duration": 174,
    "start_time": "2024-04-03T07:32:37.360Z"
   },
   {
    "duration": 215038,
    "start_time": "2024-04-03T07:32:37.535Z"
   },
   {
    "duration": 0,
    "start_time": "2024-04-03T07:36:12.576Z"
   },
   {
    "duration": 0,
    "start_time": "2024-04-03T07:36:12.577Z"
   },
   {
    "duration": 0,
    "start_time": "2024-04-03T07:36:12.579Z"
   },
   {
    "duration": 0,
    "start_time": "2024-04-03T07:36:12.580Z"
   },
   {
    "duration": 0,
    "start_time": "2024-04-03T07:36:12.582Z"
   },
   {
    "duration": 0,
    "start_time": "2024-04-03T07:36:12.583Z"
   },
   {
    "duration": 0,
    "start_time": "2024-04-03T07:36:12.585Z"
   },
   {
    "duration": 27339,
    "start_time": "2024-04-03T07:36:49.980Z"
   },
   {
    "duration": 737,
    "start_time": "2024-04-03T07:37:17.321Z"
   },
   {
    "duration": 4038,
    "start_time": "2024-04-03T07:37:18.059Z"
   },
   {
    "duration": 125,
    "start_time": "2024-04-03T07:37:22.098Z"
   },
   {
    "duration": 170,
    "start_time": "2024-04-03T07:37:22.225Z"
   },
   {
    "duration": 713168,
    "start_time": "2024-04-03T07:37:22.396Z"
   },
   {
    "duration": 13,
    "start_time": "2024-04-03T07:49:15.566Z"
   },
   {
    "duration": 6052,
    "start_time": "2024-04-03T07:49:15.580Z"
   },
   {
    "duration": 4,
    "start_time": "2024-04-03T07:49:21.633Z"
   },
   {
    "duration": 11,
    "start_time": "2024-04-03T07:49:21.639Z"
   },
   {
    "duration": 28884,
    "start_time": "2024-04-03T07:58:23.004Z"
   },
   {
    "duration": 2281,
    "start_time": "2024-04-03T07:58:51.891Z"
   },
   {
    "duration": 4154,
    "start_time": "2024-04-03T07:58:54.173Z"
   },
   {
    "duration": 129,
    "start_time": "2024-04-03T07:58:58.329Z"
   },
   {
    "duration": 163,
    "start_time": "2024-04-03T07:58:58.460Z"
   },
   {
    "duration": 443952,
    "start_time": "2024-04-03T07:58:58.625Z"
   },
   {
    "duration": 10,
    "start_time": "2024-04-03T08:06:22.579Z"
   },
   {
    "duration": 3541,
    "start_time": "2024-04-03T08:06:22.590Z"
   },
   {
    "duration": 3,
    "start_time": "2024-04-03T08:06:26.133Z"
   },
   {
    "duration": 8,
    "start_time": "2024-04-03T08:06:26.138Z"
   },
   {
    "duration": 59,
    "start_time": "2024-04-03T08:53:00.721Z"
   },
   {
    "duration": 30380,
    "start_time": "2024-04-03T08:53:22.524Z"
   },
   {
    "duration": 27659,
    "start_time": "2024-04-03T08:54:53.263Z"
   },
   {
    "duration": 2239,
    "start_time": "2024-04-03T08:55:20.924Z"
   },
   {
    "duration": 4224,
    "start_time": "2024-04-03T08:55:23.165Z"
   },
   {
    "duration": 144,
    "start_time": "2024-04-03T08:55:27.391Z"
   },
   {
    "duration": 155,
    "start_time": "2024-04-03T08:55:27.537Z"
   },
   {
    "duration": 47622,
    "start_time": "2024-04-03T08:55:27.694Z"
   },
   {
    "duration": 8,
    "start_time": "2024-04-03T08:56:15.317Z"
   },
   {
    "duration": 364,
    "start_time": "2024-04-03T08:56:15.327Z"
   },
   {
    "duration": 0,
    "start_time": "2024-04-03T08:56:15.692Z"
   },
   {
    "duration": 0,
    "start_time": "2024-04-03T08:56:15.694Z"
   },
   {
    "duration": 0,
    "start_time": "2024-04-03T08:56:15.696Z"
   },
   {
    "duration": 0,
    "start_time": "2024-04-03T08:56:15.698Z"
   },
   {
    "duration": 0,
    "start_time": "2024-04-03T08:56:15.699Z"
   },
   {
    "duration": 23,
    "start_time": "2024-04-03T08:59:13.536Z"
   },
   {
    "duration": 150,
    "start_time": "2024-04-03T09:02:28.983Z"
   },
   {
    "duration": 29,
    "start_time": "2024-04-03T09:02:48.998Z"
   },
   {
    "duration": 4,
    "start_time": "2024-04-03T09:05:20.959Z"
   },
   {
    "duration": 159,
    "start_time": "2024-04-03T09:06:51.662Z"
   },
   {
    "duration": 28180,
    "start_time": "2024-04-03T09:07:52.832Z"
   },
   {
    "duration": 786,
    "start_time": "2024-04-03T09:08:21.017Z"
   },
   {
    "duration": 4168,
    "start_time": "2024-04-03T09:08:21.806Z"
   },
   {
    "duration": 133,
    "start_time": "2024-04-03T09:08:25.975Z"
   },
   {
    "duration": 166,
    "start_time": "2024-04-03T09:08:26.114Z"
   },
   {
    "duration": 428759,
    "start_time": "2024-04-03T09:08:26.282Z"
   },
   {
    "duration": 10,
    "start_time": "2024-04-03T09:15:35.043Z"
   },
   {
    "duration": 228,
    "start_time": "2024-04-03T09:15:35.054Z"
   },
   {
    "duration": 976,
    "start_time": "2024-04-03T09:15:35.284Z"
   },
   {
    "duration": 2374,
    "start_time": "2024-04-03T09:15:36.261Z"
   },
   {
    "duration": 4,
    "start_time": "2024-04-03T09:15:38.636Z"
   },
   {
    "duration": 15,
    "start_time": "2024-04-03T09:15:38.641Z"
   },
   {
    "duration": 47,
    "start_time": "2024-04-03T09:33:42.344Z"
   },
   {
    "duration": 29956,
    "start_time": "2024-04-03T09:36:36.127Z"
   },
   {
    "duration": 2272,
    "start_time": "2024-04-03T09:37:06.085Z"
   },
   {
    "duration": 4122,
    "start_time": "2024-04-03T09:37:08.359Z"
   },
   {
    "duration": 134,
    "start_time": "2024-04-03T09:37:12.482Z"
   },
   {
    "duration": 143,
    "start_time": "2024-04-03T09:37:12.618Z"
   },
   {
    "duration": 2700,
    "start_time": "2024-04-03T09:37:12.762Z"
   },
   {
    "duration": 6,
    "start_time": "2024-04-03T09:37:15.464Z"
   },
   {
    "duration": 223,
    "start_time": "2024-04-03T09:37:15.472Z"
   },
   {
    "duration": 363,
    "start_time": "2024-04-03T09:37:15.697Z"
   },
   {
    "duration": 0,
    "start_time": "2024-04-03T09:37:16.062Z"
   },
   {
    "duration": 0,
    "start_time": "2024-04-03T09:37:16.063Z"
   },
   {
    "duration": 0,
    "start_time": "2024-04-03T09:37:16.064Z"
   },
   {
    "duration": 0,
    "start_time": "2024-04-03T09:37:16.065Z"
   },
   {
    "duration": 0,
    "start_time": "2024-04-03T09:37:16.066Z"
   },
   {
    "duration": 0,
    "start_time": "2024-04-03T09:37:16.067Z"
   },
   {
    "duration": 23059,
    "start_time": "2024-04-03T09:40:49.874Z"
   },
   {
    "duration": 765,
    "start_time": "2024-04-03T09:41:12.936Z"
   },
   {
    "duration": 4071,
    "start_time": "2024-04-03T09:41:13.702Z"
   },
   {
    "duration": 123,
    "start_time": "2024-04-03T09:41:17.775Z"
   },
   {
    "duration": 145,
    "start_time": "2024-04-03T09:41:17.900Z"
   },
   {
    "duration": 2382,
    "start_time": "2024-04-03T09:41:18.047Z"
   },
   {
    "duration": 7,
    "start_time": "2024-04-03T09:41:20.430Z"
   },
   {
    "duration": 22,
    "start_time": "2024-04-03T09:41:20.439Z"
   },
   {
    "duration": 18,
    "start_time": "2024-04-03T09:41:20.463Z"
   },
   {
    "duration": 15,
    "start_time": "2024-04-03T09:41:20.483Z"
   },
   {
    "duration": 15,
    "start_time": "2024-04-03T09:41:20.499Z"
   },
   {
    "duration": 4,
    "start_time": "2024-04-03T09:41:20.516Z"
   },
   {
    "duration": 27058,
    "start_time": "2024-04-03T09:41:20.522Z"
   },
   {
    "duration": 42,
    "start_time": "2024-04-03T09:41:47.584Z"
   },
   {
    "duration": 0,
    "start_time": "2024-04-03T09:41:47.627Z"
   },
   {
    "duration": 22726,
    "start_time": "2024-04-03T09:41:59.266Z"
   },
   {
    "duration": 708,
    "start_time": "2024-04-03T09:42:21.995Z"
   },
   {
    "duration": 4081,
    "start_time": "2024-04-03T09:42:22.705Z"
   },
   {
    "duration": 142,
    "start_time": "2024-04-03T09:42:26.787Z"
   },
   {
    "duration": 158,
    "start_time": "2024-04-03T09:42:26.931Z"
   },
   {
    "duration": 2361,
    "start_time": "2024-04-03T09:42:27.090Z"
   },
   {
    "duration": 7,
    "start_time": "2024-04-03T09:42:29.453Z"
   },
   {
    "duration": 12,
    "start_time": "2024-04-03T09:42:29.462Z"
   },
   {
    "duration": 17,
    "start_time": "2024-04-03T09:42:29.476Z"
   },
   {
    "duration": 27,
    "start_time": "2024-04-03T09:42:29.495Z"
   },
   {
    "duration": 5,
    "start_time": "2024-04-03T09:42:29.524Z"
   },
   {
    "duration": 6,
    "start_time": "2024-04-03T09:42:29.531Z"
   },
   {
    "duration": 25353,
    "start_time": "2024-04-03T09:42:29.538Z"
   },
   {
    "duration": 40,
    "start_time": "2024-04-03T09:42:54.894Z"
   },
   {
    "duration": 0,
    "start_time": "2024-04-03T09:42:54.936Z"
   },
   {
    "duration": 13,
    "start_time": "2024-04-03T09:43:05.137Z"
   },
   {
    "duration": 22863,
    "start_time": "2024-04-03T09:43:35.250Z"
   },
   {
    "duration": 716,
    "start_time": "2024-04-03T09:43:58.116Z"
   },
   {
    "duration": 4030,
    "start_time": "2024-04-03T09:43:58.834Z"
   },
   {
    "duration": 131,
    "start_time": "2024-04-03T09:44:02.866Z"
   },
   {
    "duration": 183,
    "start_time": "2024-04-03T09:44:02.999Z"
   },
   {
    "duration": 427850,
    "start_time": "2024-04-03T09:44:03.184Z"
   },
   {
    "duration": 9,
    "start_time": "2024-04-03T09:51:11.036Z"
   },
   {
    "duration": 7,
    "start_time": "2024-04-03T09:51:11.046Z"
   },
   {
    "duration": 1097,
    "start_time": "2024-04-03T09:51:11.055Z"
   },
   {
    "duration": 2327,
    "start_time": "2024-04-03T09:51:12.154Z"
   },
   {
    "duration": 3,
    "start_time": "2024-04-03T09:51:14.483Z"
   },
   {
    "duration": 16,
    "start_time": "2024-04-03T09:51:14.488Z"
   },
   {
    "duration": 28629,
    "start_time": "2024-04-03T09:55:07.218Z"
   },
   {
    "duration": 2217,
    "start_time": "2024-04-03T09:55:35.849Z"
   },
   {
    "duration": 3966,
    "start_time": "2024-04-03T09:55:38.067Z"
   },
   {
    "duration": 139,
    "start_time": "2024-04-03T09:55:42.036Z"
   },
   {
    "duration": 133,
    "start_time": "2024-04-03T09:55:42.176Z"
   },
   {
    "duration": 2560,
    "start_time": "2024-04-03T09:55:42.314Z"
   },
   {
    "duration": 6,
    "start_time": "2024-04-03T09:55:44.876Z"
   },
   {
    "duration": 225,
    "start_time": "2024-04-03T09:55:44.884Z"
   },
   {
    "duration": 19,
    "start_time": "2024-04-03T09:55:45.110Z"
   },
   {
    "duration": 349,
    "start_time": "2024-04-03T09:55:45.131Z"
   },
   {
    "duration": 0,
    "start_time": "2024-04-03T09:55:45.482Z"
   },
   {
    "duration": 0,
    "start_time": "2024-04-03T09:55:45.483Z"
   },
   {
    "duration": 0,
    "start_time": "2024-04-03T09:55:45.485Z"
   },
   {
    "duration": 0,
    "start_time": "2024-04-03T09:55:45.487Z"
   },
   {
    "duration": 0,
    "start_time": "2024-04-03T09:55:45.488Z"
   },
   {
    "duration": 4,
    "start_time": "2024-04-03T09:58:47.588Z"
   },
   {
    "duration": 19,
    "start_time": "2024-04-03T09:59:15.181Z"
   },
   {
    "duration": 4,
    "start_time": "2024-04-03T10:22:30.133Z"
   },
   {
    "duration": 25,
    "start_time": "2024-04-03T10:22:30.139Z"
   },
   {
    "duration": 43,
    "start_time": "2024-04-03T10:22:30.166Z"
   },
   {
    "duration": 146,
    "start_time": "2024-04-03T10:22:30.211Z"
   },
   {
    "duration": 0,
    "start_time": "2024-04-03T10:22:30.359Z"
   },
   {
    "duration": 0,
    "start_time": "2024-04-03T10:22:30.360Z"
   },
   {
    "duration": 3,
    "start_time": "2024-04-03T10:23:33.223Z"
   },
   {
    "duration": 8,
    "start_time": "2024-04-03T10:23:33.228Z"
   },
   {
    "duration": 33,
    "start_time": "2024-04-03T10:23:33.238Z"
   },
   {
    "duration": 0,
    "start_time": "2024-04-03T10:23:33.273Z"
   },
   {
    "duration": 0,
    "start_time": "2024-04-03T10:23:33.274Z"
   },
   {
    "duration": 3,
    "start_time": "2024-04-03T10:25:02.305Z"
   },
   {
    "duration": 27,
    "start_time": "2024-04-03T10:25:02.310Z"
   },
   {
    "duration": 49,
    "start_time": "2024-04-03T10:25:02.339Z"
   },
   {
    "duration": 0,
    "start_time": "2024-04-03T10:25:02.389Z"
   },
   {
    "duration": 0,
    "start_time": "2024-04-03T10:25:02.391Z"
   },
   {
    "duration": 22957,
    "start_time": "2024-04-03T10:28:12.460Z"
   },
   {
    "duration": 725,
    "start_time": "2024-04-03T10:28:35.419Z"
   },
   {
    "duration": 4085,
    "start_time": "2024-04-03T10:28:36.146Z"
   },
   {
    "duration": 133,
    "start_time": "2024-04-03T10:28:40.233Z"
   },
   {
    "duration": 145,
    "start_time": "2024-04-03T10:28:40.369Z"
   },
   {
    "duration": 2315,
    "start_time": "2024-04-03T10:28:40.516Z"
   },
   {
    "duration": 8,
    "start_time": "2024-04-03T10:28:42.833Z"
   },
   {
    "duration": 12,
    "start_time": "2024-04-03T10:28:42.843Z"
   },
   {
    "duration": 16,
    "start_time": "2024-04-03T10:28:42.857Z"
   },
   {
    "duration": 3,
    "start_time": "2024-04-03T10:28:42.875Z"
   },
   {
    "duration": 6,
    "start_time": "2024-04-03T10:28:42.880Z"
   },
   {
    "duration": 29,
    "start_time": "2024-04-03T10:28:42.887Z"
   },
   {
    "duration": 19642,
    "start_time": "2024-04-03T10:28:42.917Z"
   },
   {
    "duration": 39,
    "start_time": "2024-04-03T10:29:02.561Z"
   },
   {
    "duration": 0,
    "start_time": "2024-04-03T10:29:02.602Z"
   },
   {
    "duration": 18,
    "start_time": "2024-04-03T10:30:07.885Z"
   },
   {
    "duration": 12,
    "start_time": "2024-04-03T10:30:07.905Z"
   },
   {
    "duration": 5,
    "start_time": "2024-04-03T10:31:09.860Z"
   },
   {
    "duration": 10,
    "start_time": "2024-04-03T10:32:49.110Z"
   },
   {
    "duration": 33,
    "start_time": "2024-04-03T10:33:06.523Z"
   },
   {
    "duration": 20,
    "start_time": "2024-04-03T10:36:01.090Z"
   },
   {
    "duration": 27,
    "start_time": "2024-04-03T10:36:38.554Z"
   },
   {
    "duration": 19,
    "start_time": "2024-04-03T10:41:42.983Z"
   },
   {
    "duration": 33,
    "start_time": "2024-04-03T10:42:00.807Z"
   },
   {
    "duration": 30,
    "start_time": "2024-04-03T10:42:36.545Z"
   },
   {
    "duration": 22620,
    "start_time": "2024-04-03T10:43:40.222Z"
   },
   {
    "duration": 717,
    "start_time": "2024-04-03T10:44:02.845Z"
   },
   {
    "duration": 4141,
    "start_time": "2024-04-03T10:44:03.563Z"
   },
   {
    "duration": 130,
    "start_time": "2024-04-03T10:44:07.705Z"
   },
   {
    "duration": 142,
    "start_time": "2024-04-03T10:44:07.837Z"
   },
   {
    "duration": 2349,
    "start_time": "2024-04-03T10:44:07.980Z"
   },
   {
    "duration": 7,
    "start_time": "2024-04-03T10:44:10.330Z"
   },
   {
    "duration": 31,
    "start_time": "2024-04-03T10:44:10.338Z"
   },
   {
    "duration": 13,
    "start_time": "2024-04-03T10:44:10.373Z"
   },
   {
    "duration": 4,
    "start_time": "2024-04-03T10:44:10.388Z"
   },
   {
    "duration": 6,
    "start_time": "2024-04-03T10:44:10.394Z"
   },
   {
    "duration": 13,
    "start_time": "2024-04-03T10:44:10.402Z"
   },
   {
    "duration": 19388,
    "start_time": "2024-04-03T10:44:10.416Z"
   },
   {
    "duration": 9,
    "start_time": "2024-04-03T10:44:29.807Z"
   },
   {
    "duration": 20,
    "start_time": "2024-04-03T10:44:29.817Z"
   },
   {
    "duration": 26965,
    "start_time": "2024-04-03T10:46:23.814Z"
   },
   {
    "duration": 692,
    "start_time": "2024-04-03T10:46:50.781Z"
   },
   {
    "duration": 3947,
    "start_time": "2024-04-03T10:46:51.474Z"
   },
   {
    "duration": 126,
    "start_time": "2024-04-03T10:46:55.423Z"
   },
   {
    "duration": 149,
    "start_time": "2024-04-03T10:46:55.551Z"
   },
   {
    "duration": 45260,
    "start_time": "2024-04-03T10:46:55.702Z"
   },
   {
    "duration": 7,
    "start_time": "2024-04-03T10:47:40.963Z"
   },
   {
    "duration": 204,
    "start_time": "2024-04-03T10:47:40.972Z"
   },
   {
    "duration": 113,
    "start_time": "2024-04-03T10:47:41.178Z"
   },
   {
    "duration": 5,
    "start_time": "2024-04-03T10:47:41.293Z"
   },
   {
    "duration": 9,
    "start_time": "2024-04-03T10:47:41.299Z"
   },
   {
    "duration": 6,
    "start_time": "2024-04-03T10:47:41.310Z"
   },
   {
    "duration": 203947,
    "start_time": "2024-04-03T10:47:41.317Z"
   },
   {
    "duration": 34,
    "start_time": "2024-04-03T10:51:05.267Z"
   },
   {
    "duration": 23,
    "start_time": "2024-04-03T10:51:05.303Z"
   },
   {
    "duration": 26791,
    "start_time": "2024-04-03T10:55:26.676Z"
   },
   {
    "duration": 752,
    "start_time": "2024-04-03T10:55:53.469Z"
   },
   {
    "duration": 4126,
    "start_time": "2024-04-03T10:55:54.223Z"
   },
   {
    "duration": 129,
    "start_time": "2024-04-03T10:55:58.351Z"
   },
   {
    "duration": 172,
    "start_time": "2024-04-03T10:55:58.482Z"
   },
   {
    "duration": 709366,
    "start_time": "2024-04-03T10:55:58.655Z"
   },
   {
    "duration": 13,
    "start_time": "2024-04-03T11:07:48.022Z"
   },
   {
    "duration": 209,
    "start_time": "2024-04-03T11:07:48.037Z"
   },
   {
    "duration": 1640,
    "start_time": "2024-04-03T11:07:48.248Z"
   },
   {
    "duration": 5,
    "start_time": "2024-04-03T11:07:49.889Z"
   },
   {
    "duration": 6,
    "start_time": "2024-04-03T11:07:49.896Z"
   },
   {
    "duration": 13,
    "start_time": "2024-04-03T11:07:49.904Z"
   },
   {
    "duration": 2851270,
    "start_time": "2024-04-03T11:07:49.919Z"
   },
   {
    "duration": 610,
    "start_time": "2024-04-03T11:55:21.191Z"
   },
   {
    "duration": 175,
    "start_time": "2024-04-03T11:55:21.803Z"
   },
   {
    "duration": 23646,
    "start_time": "2024-04-03T12:04:55.635Z"
   },
   {
    "duration": 71,
    "start_time": "2024-04-03T12:05:59.968Z"
   },
   {
    "duration": 22455,
    "start_time": "2024-04-03T12:06:07.568Z"
   },
   {
    "duration": 22984,
    "start_time": "2024-04-03T12:07:08.036Z"
   },
   {
    "duration": 824,
    "start_time": "2024-04-03T12:07:31.023Z"
   },
   {
    "duration": 4087,
    "start_time": "2024-04-03T12:07:31.849Z"
   },
   {
    "duration": 122,
    "start_time": "2024-04-03T12:07:35.938Z"
   },
   {
    "duration": 141,
    "start_time": "2024-04-03T12:07:36.063Z"
   },
   {
    "duration": 2343,
    "start_time": "2024-04-03T12:07:36.206Z"
   },
   {
    "duration": 8,
    "start_time": "2024-04-03T12:07:38.550Z"
   },
   {
    "duration": 22,
    "start_time": "2024-04-03T12:07:38.559Z"
   },
   {
    "duration": 12,
    "start_time": "2024-04-03T12:07:38.583Z"
   },
   {
    "duration": 18,
    "start_time": "2024-04-03T12:07:38.597Z"
   },
   {
    "duration": 5,
    "start_time": "2024-04-03T12:07:38.616Z"
   },
   {
    "duration": 5,
    "start_time": "2024-04-03T12:07:38.622Z"
   },
   {
    "duration": 1449,
    "start_time": "2024-04-03T12:07:38.628Z"
   },
   {
    "duration": 7,
    "start_time": "2024-04-03T12:07:40.080Z"
   },
   {
    "duration": 8,
    "start_time": "2024-04-03T12:07:40.088Z"
   },
   {
    "duration": 23296,
    "start_time": "2024-04-03T12:09:19.303Z"
   },
   {
    "duration": 729,
    "start_time": "2024-04-03T12:09:42.602Z"
   },
   {
    "duration": 4141,
    "start_time": "2024-04-03T12:09:43.332Z"
   },
   {
    "duration": 119,
    "start_time": "2024-04-03T12:09:47.475Z"
   },
   {
    "duration": 149,
    "start_time": "2024-04-03T12:09:47.596Z"
   },
   {
    "duration": 2372,
    "start_time": "2024-04-03T12:09:47.746Z"
   },
   {
    "duration": 8,
    "start_time": "2024-04-03T12:09:50.119Z"
   },
   {
    "duration": 223,
    "start_time": "2024-04-03T12:09:50.128Z"
   },
   {
    "duration": 13,
    "start_time": "2024-04-03T12:09:50.352Z"
   },
   {
    "duration": 19,
    "start_time": "2024-04-03T12:09:50.366Z"
   },
   {
    "duration": 6,
    "start_time": "2024-04-03T12:09:50.387Z"
   },
   {
    "duration": 9,
    "start_time": "2024-04-03T12:09:50.394Z"
   },
   {
    "duration": 3412,
    "start_time": "2024-04-03T12:09:50.404Z"
   },
   {
    "duration": 8,
    "start_time": "2024-04-03T12:09:53.818Z"
   },
   {
    "duration": 25,
    "start_time": "2024-04-03T12:09:53.827Z"
   },
   {
    "duration": 22953,
    "start_time": "2024-04-03T12:14:55.465Z"
   },
   {
    "duration": 22879,
    "start_time": "2024-04-03T12:15:44.694Z"
   },
   {
    "duration": 22997,
    "start_time": "2024-04-03T12:17:30.487Z"
   },
   {
    "duration": 23383,
    "start_time": "2024-04-03T12:18:54.845Z"
   },
   {
    "duration": 4,
    "start_time": "2024-04-03T12:19:41.228Z"
   },
   {
    "duration": 3,
    "start_time": "2024-04-03T12:25:20.316Z"
   },
   {
    "duration": 5,
    "start_time": "2024-04-03T12:25:26.677Z"
   },
   {
    "duration": 36,
    "start_time": "2024-04-03T12:26:02.349Z"
   },
   {
    "duration": 5,
    "start_time": "2024-04-03T12:26:21.300Z"
   },
   {
    "duration": 3,
    "start_time": "2024-04-03T12:27:32.978Z"
   },
   {
    "duration": 4,
    "start_time": "2024-04-03T12:27:39.154Z"
   },
   {
    "duration": 5,
    "start_time": "2024-04-03T12:27:58.643Z"
   },
   {
    "duration": 26895,
    "start_time": "2024-04-03T12:29:35.207Z"
   },
   {
    "duration": 735,
    "start_time": "2024-04-03T12:30:02.104Z"
   },
   {
    "duration": 4078,
    "start_time": "2024-04-03T12:30:02.841Z"
   },
   {
    "duration": 127,
    "start_time": "2024-04-03T12:30:06.921Z"
   },
   {
    "duration": 187,
    "start_time": "2024-04-03T12:30:07.049Z"
   },
   {
    "duration": 910523,
    "start_time": "2024-04-03T12:30:07.238Z"
   },
   {
    "duration": 14,
    "start_time": "2024-04-03T12:45:17.763Z"
   },
   {
    "duration": 130,
    "start_time": "2024-04-03T12:45:17.779Z"
   },
   {
    "duration": 2167,
    "start_time": "2024-04-03T12:45:17.910Z"
   },
   {
    "duration": 5,
    "start_time": "2024-04-03T12:45:20.079Z"
   },
   {
    "duration": 12,
    "start_time": "2024-04-03T12:45:20.085Z"
   },
   {
    "duration": 24,
    "start_time": "2024-04-03T12:45:20.099Z"
   },
   {
    "duration": 182601,
    "start_time": "2024-04-03T12:45:20.127Z"
   },
   {
    "duration": 699,
    "start_time": "2024-04-03T12:48:22.731Z"
   },
   {
    "duration": 24,
    "start_time": "2024-04-03T12:48:23.432Z"
   },
   {
    "duration": 5,
    "start_time": "2024-04-03T12:48:23.458Z"
   },
   {
    "duration": 7,
    "start_time": "2024-04-03T12:48:23.465Z"
   },
   {
    "duration": 5,
    "start_time": "2024-04-03T12:48:23.474Z"
   },
   {
    "duration": 115393,
    "start_time": "2024-04-03T12:53:30.568Z"
   },
   {
    "duration": 10,
    "start_time": "2024-04-03T12:55:30.832Z"
   },
   {
    "duration": 143412,
    "start_time": "2024-04-03T12:55:32.080Z"
   },
   {
    "duration": 27807,
    "start_time": "2024-04-03T13:01:35.986Z"
   }
  ],
  "kernelspec": {
   "display_name": "Python 3 (ipykernel)",
   "language": "python",
   "name": "python3"
  },
  "language_info": {
   "codemirror_mode": {
    "name": "ipython",
    "version": 3
   },
   "file_extension": ".py",
   "mimetype": "text/x-python",
   "name": "python",
   "nbconvert_exporter": "python",
   "pygments_lexer": "ipython3",
   "version": "3.9.18"
  },
  "toc": {
   "base_numbering": 1,
   "nav_menu": {},
   "number_sections": false,
   "sideBar": true,
   "skip_h1_title": false,
   "title_cell": "Table of Contents",
   "title_sidebar": "Contents",
   "toc_cell": false,
   "toc_position": {},
   "toc_section_display": true,
   "toc_window_display": false
  },
  "varInspector": {
   "cols": {
    "lenName": 16,
    "lenType": 16,
    "lenVar": 40
   },
   "kernels_config": {
    "python": {
     "delete_cmd_postfix": "",
     "delete_cmd_prefix": "del ",
     "library": "var_list.py",
     "varRefreshCmd": "print(var_dic_list())"
    },
    "r": {
     "delete_cmd_postfix": ") ",
     "delete_cmd_prefix": "rm(",
     "library": "var_list.r",
     "varRefreshCmd": "cat(var_dic_list()) "
    }
   },
   "types_to_exclude": [
    "module",
    "function",
    "builtin_function_or_method",
    "instance",
    "_Feature"
   ],
   "window_display": false
  }
 },
 "nbformat": 4,
 "nbformat_minor": 5
}
